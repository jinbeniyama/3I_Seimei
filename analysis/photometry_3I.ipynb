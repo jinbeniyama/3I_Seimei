{
 "cells": [
  {
   "cell_type": "markdown",
   "id": "83de0846",
   "metadata": {},
   "source": [
    "# Do photometry of 3I and (22281) Popescu\n",
    "\n",
    "- Results are saved as `photres_3I_mean_600s_20250715.txt` and `photres_ref_mean_600s_20250715.txt` (for 3I)\n",
    "- Results are saved as `photres_P_mean_120s_20250715.txt` and `photres_ref_mean_120s_20250715.txt` (for Popescu)"
   ]
  },
  {
   "cell_type": "code",
   "execution_count": 7,
   "id": "4005bc6f",
   "metadata": {},
   "outputs": [],
   "source": [
    "import os \n",
    "from argparse import ArgumentParser as ap\n",
    "import numpy as np\n",
    "import pandas as pd\n",
    "import matplotlib.pyplot as plt  \n",
    "%matplotlib inline\n",
    "from astropy.io import fits as fits\n",
    "import sep\n",
    "from matplotlib.patches import Circle\n",
    "from astroquery.jplhorizons import Horizons\n",
    "from scipy.ndimage import gaussian_filter\n",
    "from astropy.wcs import WCS as wcs\n",
    "from astropy.coordinates import SkyCoord\n",
    "from astropy import units as u\n",
    "from astroquery.mast import Catalogs\n",
    "\n",
    "\n",
    "# Aperture radii in pix\n",
    "# Note: seeing ~ 2.2–2.6 arcsec (6-8 pix)\n",
    "rad_list = [5, 6, 7, 8, 9, 10, 11, 12]\n",
    "\n",
    "# Size of FoV\n",
    "fov_arcsec = 30\n",
    "\n",
    "# Stacking \n",
    "stack = \"mean\"\n",
    "\n",
    "# Dynamic range of the figures\n",
    "sig_min = -0.5\n",
    "sig_max = 5\n",
    "\n",
    "# Output directory\n",
    "outdir = \"../data/\""
   ]
  },
  {
   "cell_type": "code",
   "execution_count": 8,
   "id": "9e3d2968",
   "metadata": {},
   "outputs": [],
   "source": [
    "def query_ps(ra, dec, radius, magmin, magmax):\n",
    "  \"\"\"\n",
    "  Query Pan-STARES catalog and output pandas.Data.\n",
    "  Extract bright and high quality objects.\n",
    "\n",
    "  Parameters\n",
    "  ----------\n",
    "  ra, dec : float\n",
    "    right ascension, declination of field in unit of degree.\n",
    "  radius : int\n",
    "    radius of filed of view in unit of degree\n",
    "  magmin, magmax : float\n",
    "    the brightest/faintest magnitude to be considered (g-band)\n",
    "\n",
    "  Return\n",
    "  ------\n",
    "  df : pandas.DataFrame\n",
    "    result DataFrame\n",
    "  \"\"\"\n",
    "  radec = SkyCoord(ra=ra, dec=dec, unit=(u.degree, u.degree))\n",
    "  #print(radec)\n",
    "  # 2023-09-15\n",
    "  #   Suddenly, objinfoFlag became objInfoFlag !!!\n",
    "  #   It took several months to notice the fact.\n",
    "  #   The keyword in the private sql database is still objinfoflag!\n",
    "  columns= [\"objID\", \"objInfoFlag\", \"qualityFlag\", \n",
    "           \"raMean\", \"decMean\", \"raMeanErr\", \"decMeanErr\",\n",
    "           \"nStackDetections\", \"nDetections\",\n",
    "           \"gQfPerfect\", \"gMeanPSFMag\", \"gMeanPSFMagErr\", \"gFlags\",\n",
    "           \"rQfPerfect\", \"rMeanPSFMag\", \"rMeanPSFMagErr\", \"rFlags\",\n",
    "           \"iQfPerfect\", \"iMeanPSFMag\", \"iMeanPSFMagErr\", \"iFlags\",\n",
    "           \"zQfPerfect\", \"zMeanPSFMag\", \"zMeanPSFMagErr\", \"zFlags\",\n",
    "           \"yQfPerfect\", \"yMeanPSFMag\", \"yMeanPSFMagErr\", \"yFlags\"]\n",
    "  dr = \"dr2\"\n",
    "  tabletype = \"mean\"\n",
    "\n",
    "  res = Catalogs.query_criteria(\n",
    "      coordinates=radec, radius=radius, catalog=\"PANSTARRS\", \n",
    "      gMeanPSFMag=[(\"lte\", magmax),(\"gte\", magmin)], \n",
    "      rMeanPSFMag=[(\"lte\", magmax),(\"gte\", magmin)],\n",
    "      iMeanPSFMag=[(\"lte\", magmax),(\"gte\", magmin)],\n",
    "      table=tabletype, data_release=dr) \n",
    "  res = res[columns]\n",
    "  \n",
    "  # Avoid int64 error for objID\n",
    "  ID_str = [str(res[i][\"objID\"]) for i in range(len(res))]\n",
    "  res[\"objID\"] = ID_str\n",
    "\n",
    "  df = res.to_pandas()\n",
    "  df = df.fillna(999)\n",
    "  return df"
   ]
  },
  {
   "cell_type": "code",
   "execution_count": 9,
   "id": "91740de8",
   "metadata": {},
   "outputs": [],
   "source": [
    "def log10err(val, err):\n",
    "  \"\"\"Calculate log10 error.\n",
    "\n",
    "  Parameter\n",
    "  ---------\n",
    "  val : float\n",
    "    value of the parameter\n",
    "  err : float\n",
    "    error of the parameter\n",
    "\n",
    "  Return\n",
    "  ------\n",
    "  errlog10 : float \n",
    "    calculated log10 error\n",
    "  \"\"\"\n",
    "  errlog10 = err/val/np.log(10)\n",
    "  return errlog10\n",
    "\n",
    "\n",
    "def check_objinfo(flag, n_checked=[2, 4, 6, 7, 8, 23, 24], verbose=False):\n",
    "    \"\"\"\n",
    "    Check object info. with objinfoFlag.\n",
    "    Return False if at least one content is flagged.\n",
    "    \n",
    "    \n",
    "    Parameters\n",
    "    ----------\n",
    "    flag : int\n",
    "        objinfoFlag\n",
    "    n_flag : array-like\n",
    "        flag value in decimal forms (from 0 to 31)\n",
    "        By default, these flags are used.\n",
    "            2 : CRF quasar,\n",
    "            4 : possible  QSO\n",
    "            6 : Possible RR Lyra\n",
    "            7 : variable based on ChiSq\n",
    "            8 : transient\n",
    "            23 : Extended in PS\n",
    "            24 : Extended in external data\n",
    "    verbose : bool\n",
    "        output messages\n",
    "\n",
    "    Return\n",
    "    ------\n",
    "    True or False\n",
    "    \"\"\"\n",
    "    # 31 ! not 32 (see header)\n",
    "    N_bit = 31\n",
    "    # Remove \"0b\"\n",
    "    b_flag =  bin(int(flag))[2:]\n",
    "    #print(f\"flag : {flag}\")\n",
    "    #print(f\"original length = {len(b_flag)}\")\n",
    "    #print(b_flag)\n",
    "    # 0 padding\n",
    "    b_flag = format(int(b_flag), f\"031\")\n",
    "    #print(f\"0 padded length = {len(b_flag)}\")\n",
    "    #print(b_flag)\n",
    "\n",
    "    # PS_checked = [2,4,6,7,8,23,24]\n",
    "    for n in range(N_bit):\n",
    "        # From the last number\n",
    "        # ex) n==0 (whether the last character==1 or not)\n",
    "        #     \n",
    "        if (b_flag[N_bit-(n+1)] == \"1\") & (n in n_checked):\n",
    "            if verbose:\n",
    "                print(f\"    {n:02d} : {_info_flag['disc'][n]}\")\n",
    "            # Return False at least one content is flagged\n",
    "            return False\n",
    "    return True\n",
    "\n",
    "\n",
    "def check_objfilter(flag, n_checked=[24], verbose=False):\n",
    "    \"\"\"\n",
    "    Check object filter flag with e.g., gFlag.\n",
    "    Return False if at least one content is flagged.\n",
    "    \n",
    "    Parameters\n",
    "    ----------\n",
    "    flag : int\n",
    "        objinfoFlag\n",
    "    n_flag : array-like\n",
    "        flag value in decimal forms (from 0 to 24)\n",
    "        By default, 24 is used.\n",
    "            24 : Extended in this band\n",
    "    verbose : bool\n",
    "        output messages\n",
    "\n",
    "    Return\n",
    "    ------\n",
    "    True or False\n",
    "    \"\"\"\n",
    "    # 25 ! not 26 (see header)\n",
    "    N_bit = 25\n",
    "    # Remove \"0b\"\n",
    "    b_flag =  bin(int(flag))[2:]\n",
    "    #print(f\"flag : {flag}\")\n",
    "    #print(f\"original length = {len(b_flag)}\")\n",
    "    #print(b_flag)\n",
    "    # 0 padding\n",
    "    b_flag = format(int(b_flag), f\"025\")\n",
    "    #print(f\"0 padded length = {len(b_flag)}\")\n",
    "    #print(b_flag)\n",
    "\n",
    "    for n in range(N_bit):\n",
    "        # From the last number\n",
    "        # ex) n==0 (whether the last character==1 or not)\n",
    "        #     \n",
    "        if (b_flag[N_bit-(n+1)] == \"1\") & (n in n_checked):\n",
    "            if verbose:\n",
    "                print(f\"    {n:02d} : {_filter_flag['disc'][n]}\")\n",
    "            # Return False at least one content is flagged\n",
    "            return False\n",
    "    return True\n",
    "\n"
   ]
  },
  {
   "cell_type": "code",
   "execution_count": 10,
   "id": "2cc27e96",
   "metadata": {},
   "outputs": [],
   "source": [
    "# For asteroids\n",
    "def make_cutout_sssb(target, fi_lists, center_lists, bands, rad_list=[8], key_jd=\"JD_MED\", fov_arcsec=60, sig_min=0.5, sig_max=5, out=\"image.png\"):\n",
    "    \"\"\"Make cutout of SSSBs.\n",
    "\n",
    "    Parameters\n",
    "    ----------\n",
    "    target : str\n",
    "        target name\n",
    "    fi_lists : array-like   \n",
    "        array of fits files \n",
    "    center_lists : array-like\n",
    "        array of center coordinate in pix\n",
    "    bands : array-like\n",
    "        g, r, i or g, r, z\n",
    "    rad_list : array-like\n",
    "        list of aperture radius\n",
    "    key_jd : str\n",
    "        keyword for julian day\n",
    "    cutout_arcsec : float\n",
    "        size of cutout in arcsec\n",
    "    sig_min : float\n",
    "        minimum sigma of dynamic range\n",
    "    sig_max : float\n",
    "        maximum sigma of dynamic range\n",
    "    out : str\n",
    "        output filename\n",
    "    \"\"\"\n",
    "    num_sets = len(fi_lists)\n",
    "    num_bands = len(bands)\n",
    "\n",
    "\n",
    "    fig, axes = plt.subplots(num_sets, num_bands, figsize=(4*num_bands, 4*num_sets))\n",
    "    df_list = []\n",
    "\n",
    "    for i in range(num_sets):\n",
    "        print(f\"Set {i+1}\")\n",
    "        f_list = fi_lists[i]\n",
    "        center_list = center_lists[i]\n",
    "\n",
    "        # Frame id (to remove data later)\n",
    "        if bands == [\"g\", \"r\", \"i\"]:\n",
    "            frameid = f\"gri{i+1}\"\n",
    "        elif bands == [\"g\", \"r\", \"z\"]:\n",
    "            frameid = f\"grz{i+1}\"\n",
    "\n",
    "        for j, (band, fi, center) in enumerate(zip(bands, f_list, center_list)):\n",
    "            ax = axes[i, j] if num_sets > 1 else axes[j]\n",
    "            ax.axis(\"off\")\n",
    "\n",
    "            if band == \"g\":\n",
    "                plt.rcParams[\"image.cmap\"] = \"Greens_r\"\n",
    "            elif band == \"r\":\n",
    "                plt.rcParams[\"image.cmap\"] = \"Reds_r\"\n",
    "            elif band == \"i\":\n",
    "                plt.rcParams[\"image.cmap\"] = \"PuRd_r\"\n",
    "            elif band == \"z\":\n",
    "                plt.rcParams[\"image.cmap\"] = \"Purples_r\"\n",
    "\n",
    "            hdu = fits.open(fi)\n",
    "            data = hdu[0].data\n",
    "            hdr = hdu[0].header\n",
    "            jd = hdr[key_jd]\n",
    "\n",
    "            # Obtain gain value.\n",
    "            gain = hdr[\"GAIN\"]\n",
    "\n",
    "            assert len(data.shape)==2, \"Input 2-d fits!\"\n",
    "            ny, nx = data.shape\n",
    "        \n",
    "            # Background ===================================================\n",
    "            data = data.byteswap().newbyteorder()\n",
    "\n",
    "            bg_engine = sep.Background(data)\n",
    "            bg_global = bg_engine.globalback\n",
    "            # Used to estimate flux error\n",
    "            bg_rms = bg_engine.globalrms\n",
    "\n",
    "            # Just remove typical background\n",
    "            data -= bg_global\n",
    "            # Background ===================================================\n",
    "\n",
    "            # Centroid =====================================================\n",
    "            x0, y0 = center\n",
    "            print(f\"  {band}-band\")\n",
    "            print(f\"    Original center (x0, y0) = ({x0:.1f}, {y0:.1f})\")\n",
    "            # Centroid \n",
    "            sigma = 2\n",
    "            x1, y1, wflag = sep.winpos(data, x0, y0, sigma)\n",
    "            print(f\"    Winpos center (x1, y1) = ({x1:.1f}, {y1:.1f})\")\n",
    "            # Centroid =====================================================\n",
    "\n",
    "\n",
    "            # Cut the data ========================================================\n",
    "            # 2. by xcenter, ycenter, and width\n",
    "            # When (xc, yc) = (51, 51) and width = 50,\n",
    "            # cut region is in 1 <= x <= 101 and 1 <= y <= 101 in pixel.\n",
    "            # Cut region is in 0 <= x <= 100 and 0 <= y <= 100 in python.\n",
    "            # width should be even\n",
    "\n",
    "            # Harf width in pixel (0.35 arcsec/pix)\n",
    "            wi = int(fov_arcsec/0.35/2.)\n",
    "            #xc, yc = center\n",
    "            xmin, xmax = x1 - wi - 1, x1 + wi\n",
    "            ymin, ymax = y1 - wi - 1, y1 + wi\n",
    "            xmin, xmax = int(xmin), int(xmax)\n",
    "            ymin, ymax = int(ymin), int(ymax)\n",
    "            # Used to estimate local background\n",
    "            data_cut = data[ymin:ymax, xmin:xmax]\n",
    "            ny, nx = data_cut.shape\n",
    "            print(f\"Data length (Nx, Ny)=({nx}, {ny})\")\n",
    "            # Cut the data ========================================================\n",
    "\n",
    "            data = np.ascontiguousarray(data)\n",
    "            # Remove local background again\n",
    "            bg_global_local = np.median(data_cut)\n",
    "            data -= bg_global_local\n",
    "            \n",
    "            vmin, vmax = sig_min*bg_rms, sig_max*bg_rms\n",
    "            # Plot \n",
    "            ax.imshow(data, vmin=vmin, vmax=vmax)\n",
    "\n",
    "            # North is up, east is left\n",
    "            ax.set_xlim([xmin, xmax])\n",
    "            ax.set_ylim([ymin, ymax])\n",
    "\n",
    "\n",
    "            # Do photometry \n",
    "            for rad in rad_list:\n",
    "                flux, fluxerr, eflag = sep.sum_circle(data, [x1], [y1], r=rad, err=bg_rms, gain=gain)\n",
    "                flux = flux[0]\n",
    "                fluxerr = fluxerr[0]\n",
    "                if j == 0:\n",
    "                    flux_list = []\n",
    "                    fluxerr_list = []\n",
    "                flux_list.append(flux)\n",
    "                fluxerr_list.append(fluxerr)\n",
    "        \n",
    "                # Draw circle\n",
    "                ax.add_patch(Circle((x1, y1), rad, edgecolor='black', facecolor='none', linewidth=1, ls='solid'))\n",
    "\n",
    "                # Make a dataframe\n",
    "                df = pd.DataFrame({\"target\": [target], \"objtype\": [\"ref\"], \"jd\": [jd], \"band\": [band], \"frameid\": [frameid], \"radius\": [rad], \"flux\":[flux], \"fluxerr\": [fluxerr]})\n",
    "                df_list.append(df)\n",
    "\n",
    "            if j == 0:\n",
    "                ax.text(0.05, 0.05, f\"Set {i+1}\", transform=ax.transAxes, color=\"white\", size=16)\n",
    "        \n",
    "    \n",
    "    plt.tight_layout()\n",
    "    plt.savefig(out, dpi=300)\n",
    "    plt.close()\n",
    "\n",
    "    df = pd.concat(df_list)\n",
    "    return df\n"
   ]
  },
  {
   "cell_type": "code",
   "execution_count": 11,
   "id": "aad30a95",
   "metadata": {},
   "outputs": [],
   "source": [
    "# For stars\n",
    "def make_cutout_star(target, fi_lists, ra, dec, bands, rad_list=[8], key_jd=\"JD_MED\", fov_arcsec=60, sig_min=0.5, sig_max=5, out=\"image.png\"):\n",
    "    \"\"\"Make cutout of stars.\n",
    "\n",
    "    Parameters\n",
    "    ----------\n",
    "    target : str\n",
    "        target name\n",
    "    fi_lists : array-like   \n",
    "        array of fits files \n",
    "    center_lists : array-like\n",
    "        array of center coordinate in pix\n",
    "    bands : array-like\n",
    "        g, r, i or g, r, z\n",
    "    rad_list : array-like\n",
    "        list of aperture radius\n",
    "    key_jd : str\n",
    "        keyword for julian day\n",
    "    cutout_arcsec : float\n",
    "        size of cutout in arcsec\n",
    "    sig_min : float\n",
    "        minimum sigma of dynamic range\n",
    "    sig_max : float\n",
    "        maximum sigma of dynamic range\n",
    "    out : str\n",
    "        output filename\n",
    "    \"\"\"\n",
    "    num_sets = len(fi_lists)\n",
    "    num_bands = len(bands)\n",
    "\n",
    "    fig, axes = plt.subplots(num_sets, num_bands, figsize=(4*num_bands, 4*num_sets))\n",
    "    df_list = []\n",
    "\n",
    "    for i in range(num_sets):\n",
    "        f_list = fi_lists[i]\n",
    "\n",
    "        # Frame id (to remove data later)\n",
    "        if bands == [\"g\", \"r\", \"i\"]:\n",
    "            frameid = f\"gri{i+1}\"\n",
    "        elif bands == [\"g\", \"r\", \"z\"]:\n",
    "            frameid = f\"grz{i+1}\"\n",
    "\n",
    "        for j, (band, fi) in enumerate(zip(bands, f_list)):\n",
    "            ax = axes[i, j] if num_sets > 1 else axes[j]\n",
    "            ax.axis(\"off\")\n",
    "\n",
    "            if band == \"g\":\n",
    "                plt.rcParams[\"image.cmap\"] = \"Greens_r\"\n",
    "            elif band == \"r\":\n",
    "                plt.rcParams[\"image.cmap\"] = \"Reds_r\"\n",
    "            elif band == \"i\":\n",
    "                plt.rcParams[\"image.cmap\"] = \"PuRd_r\"\n",
    "            elif band == \"z\":\n",
    "                plt.rcParams[\"image.cmap\"] = \"Purples_r\"\n",
    "\n",
    "            hdu = fits.open(fi)\n",
    "            data = hdu[0].data\n",
    "            hdr = hdu[0].header\n",
    "            w = wcs(header=hdr)\n",
    "            jd = hdr[key_jd]\n",
    "    \n",
    "            # Obtain gain value.\n",
    "            gain = hdr[\"GAIN\"]\n",
    "\n",
    "            assert len(data.shape)==2, \"Input 2-d fits!\"\n",
    "            ny, nx = data.shape\n",
    "\n",
    "            # Background ===================================================\n",
    "            data = data.byteswap().newbyteorder()\n",
    "\n",
    "            bg_engine = sep.Background(data)\n",
    "            bg_global = bg_engine.globalback\n",
    "            # Used to estimate flux error\n",
    "            bg_rms = bg_engine.globalrms\n",
    "\n",
    "            # Just remove typical background\n",
    "            data -= bg_global\n",
    "            # Background ===================================================\n",
    "\n",
    "\n",
    "            # Centroid =====================================================\n",
    "            # Get center coordinate from RA and Dec\n",
    "            cra, cdec  = w.all_pix2world(1000, 500, 0)\n",
    "            x_star, y_star  = w.all_world2pix(ra, dec, 0)\n",
    "            print(f\"  Original center (x, y) = ({x_star:.1f}, {y_star:.1f})\")\n",
    "    \n",
    "            # Centroid \n",
    "            sigma = 5\n",
    "            data = data.astype(data.dtype.newbyteorder('='))\n",
    "            xwin, ywin, wflag = sep.winpos(data, x_star, y_star, sigma)\n",
    "            center = [xwin, ywin]\n",
    "            print(f\"  Winpos center (x, y) = ({xwin:.1f}, {ywin:.1f})\")\n",
    "            # Centroid =====================================================\n",
    "\n",
    "\n",
    "           # Cut the data ========================================================\n",
    "            # 2. by xcenter, ycenter, and width\n",
    "            # When (xc, yc) = (51, 51) and width = 50,\n",
    "            # cut region is in 1 <= x <= 101 and 1 <= y <= 101 in pixel.\n",
    "            # Cut region is in 0 <= x <= 100 and 0 <= y <= 100 in python.\n",
    "            # width should be even\n",
    "\n",
    "            # Harf width in pixel (0.35 arcsec/pix)\n",
    "            wi = int(fov_arcsec/0.35/2.)\n",
    "        \n",
    "            xmin, xmax = xwin - wi - 1, xwin + wi\n",
    "            ymin, ymax = ywin - wi - 1, ywin + wi\n",
    "            xmin, xmax = int(xmin), int(xmax)\n",
    "            ymin, ymax = int(ymin), int(ymax)\n",
    "            data_cut = data[ymin:ymax, xmin:xmax]\n",
    "            ny, nx = data_cut.shape\n",
    "            print(f\"Data length (Nx, Ny)=({nx}, {ny})\")\n",
    "            # Cut the data ========================================================\n",
    "\n",
    "            # Remove local background again\n",
    "            bg_global_local = np.median(data_cut)\n",
    "            data -= bg_global_local\n",
    "\n",
    "            vmin, vmax = sig_min*bg_rms, sig_max*bg_rms\n",
    "            # Plot \n",
    "            ax.imshow(data, vmin=vmin, vmax=vmax)\n",
    "\n",
    "            # North is up, east is left\n",
    "            ax.set_xlim([xmin, xmax])\n",
    "            ax.set_ylim([ymin, ymax])\n",
    "\n",
    "            # Do photometry \n",
    "            for rad in rad_list:\n",
    "\n",
    "                flux, fluxerr, eflag = sep.sum_circle(data, [xwin], [ywin], r=rad, err=bg_rms, gain=gain)\n",
    "                flux = flux[0]\n",
    "                fluxerr = fluxerr[0]\n",
    "                if j == 0:\n",
    "                    flux_list = []\n",
    "                    fluxerr_list = []\n",
    "                flux_list.append(flux)\n",
    "                fluxerr_list.append(fluxerr)\n",
    "\n",
    "                # Draw circle\n",
    "                ax.add_patch(Circle((xwin, ywin), rad, edgecolor='black', facecolor='none', linewidth=1, ls='solid'))\n",
    "\n",
    "                # Make a dataframe\n",
    "                df = pd.DataFrame({\"target\": [target], \"objtype\": [\"ref\"], \"jd\": [jd], \"band\": [band], \"frameid\": [frameid], \"radius\": [rad], \"flux\":[flux], \"fluxerr\": [fluxerr]})\n",
    "                df_list.append(df)\n",
    "            \n",
    "\n",
    "            # Plot band and flux\n",
    "            boxdic = {\n",
    "                \"facecolor\" : \"black\",\n",
    "                \"edgecolor\" : \"white\",\n",
    "                \"boxstyle\" : \"Round\",\n",
    "                \"linewidth\" : 2\n",
    "                }\n",
    "            ax.text(0.05, 0.8, f\"{band}: {flux:.1f}\", transform=ax.transAxes, color=\"white\", size=20, bbox=boxdic)\n",
    "        \n",
    "            if j == 0:\n",
    "                ax.text(0.05, 0.05, f\"Set {i+1}\", transform=ax.transAxes, color=\"white\", size=16)\n",
    "\n",
    "    \n",
    "    plt.tight_layout()\n",
    "    plt.savefig(out, dpi=300)\n",
    "    plt.close()\n",
    "\n",
    "    df = pd.concat(df_list)\n",
    "    return df\n"
   ]
  },
  {
   "cell_type": "code",
   "execution_count": 12,
   "id": "af178a58",
   "metadata": {},
   "outputs": [],
   "source": [
    "def make_ds9_region(ra_list, dec_list, out_region):\n",
    "    \"\"\"Make a region file for ds9\n",
    "\n",
    "    Parameters\n",
    "    ----------\n",
    "    ra_list : array-like\n",
    "        list of ra in deg\n",
    "    dec_list : array-like\n",
    "        list of dec in deg\n",
    "    out_region : str\n",
    "        output filename\n",
    "    \"\"\"\n",
    "    header = [\n",
    "        '# Region file format: DS9 version 4.1',\n",
    "        'global color=green dashlist=8 3 width=1 font=\"helvetica 10 normal roman\" '\n",
    "        'select=1 highlite=1 dash=0 fixed=0 edit=1 move=1 delete=1 include=1 source=1',\n",
    "        'fk5'\n",
    "    ]\n",
    "    \n",
    "    with open(out_region, 'w') as f:\n",
    "        for line in header:\n",
    "            f.write(line + '\\n')\n",
    "        \n",
    "        for i, (ra, dec) in enumerate(zip(ra_list, dec_list), start=1):\n",
    "\n",
    "            radius = '4.000\"' \n",
    "            f.write(f'circle({ra},{dec},{radius}) # text={{star{i}}}\\n')\n",
    "\n",
    "\n",
    "def phot_PSstars(ra0_list, dec0_list, radec_rad, PSmagmin, PSmagmax, bands, out_region):\n",
    "    \"\"\"Select PS stars for photometry.\n",
    "\n",
    "    Parameters\n",
    "    ----------\n",
    "    ra0_list : array-like\n",
    "        original ra in deg\n",
    "    dec0_list : array-like\n",
    "        original dec in deg\n",
    "    radec_rad : float\n",
    "        search region in deg\n",
    "    PSmagmin : float\n",
    "        minimum magnitude to be considered\n",
    "    PSmagmax : float\n",
    "        maximum magnitude to be considered\n",
    "    bands : array-like\n",
    "        list of filters\n",
    "    out_region : str\n",
    "        output filename for ds9\n",
    "    \"\"\"\n",
    "    ## Color threhold\n",
    "    g_r_max = 1.1\n",
    "    g_r_min = 0.0\n",
    "    r_i_max = 0.8\n",
    "    r_i_min = 0.0\n",
    "\n",
    "    # Select stars by colors\n",
    "    ra1_list, dec1_list = [], []\n",
    "    for idx, (ra_star, dec_star) in enumerate(zip(ra0_list, dec0_list)):\n",
    "        print(f\"{idx+1}-th, (ra, dec) = ({ra_star}, {dec_star})\")\n",
    "\n",
    "        df_PS = query_ps(ra_star, dec_star, radius=radec_rad, magmin=PSmagmin, magmax=PSmagmax)\n",
    "\n",
    "        if len(df_PS) == 0:\n",
    "            print(f\"  No stars found. (maybe ghost image)\")\n",
    "            print(f\"  Do not use {idx+1}-th star\\n\")\n",
    "            continue\n",
    "\n",
    "\n",
    "        if len(df_PS) > 1:\n",
    "            print(f\"  More than 1 stars found. (could be contamination)\")\n",
    "            print(f\"  Do not use {idx+1}-th star\\n\")\n",
    "            continue\n",
    "            \n",
    "        # Check colors \n",
    "        g_PS, r_PS, i_PS = df_PS[\"gMeanPSFMag\"][0], df_PS[\"rMeanPSFMag\"][0], df_PS[\"iMeanPSFMag\"][0]\n",
    "        if g_PS - r_PS > g_r_max:\n",
    "            print(f\"  g-r is too red ({g_PS - r_PS:.1f})\")\n",
    "            print(f\"  Do not use {idx+1}-th star\\n\")\n",
    "            continue\n",
    "        if g_PS - r_PS < g_r_min:\n",
    "            print(f\"  g-r is too blue ({g_PS - r_PS:.1f})\")\n",
    "            print(f\"  Do not use {idx+1}-th star\\n\")\n",
    "            continue\n",
    "        if r_PS - i_PS > r_i_max:\n",
    "            print(f\"  r-i is too red ({r_PS - i_PS:.1f})\")\n",
    "            print(f\"  Do not use {idx+1}-th star\\n\")\n",
    "            continue\n",
    "        if r_PS - i_PS < r_i_min:\n",
    "            print(f\"  r-i is too blue ({r_PS - i_PS:.1f})\")\n",
    "            print(f\"  Do not use {idx+1}-th star\\n\")\n",
    "            continue\n",
    "        ra_cat, dec_cat = df_PS[\"raMean\"][0], df_PS[\"decMean\"][0]\n",
    "\n",
    "       \n",
    "        # Remove stars by PS objfilterflag (24. extended source)\n",
    "        objflag_list = []\n",
    "        for b in bands:\n",
    "            # g.e., gFlags\n",
    "            objflag = df_PS[f\"{b}Flags\"][0]\n",
    "            objflag_list.append(objflag)\n",
    "        if not check_objfilter(objflag_list[0]):\n",
    "            print(f\"  gFlags is {objflag}\")\n",
    "            print(f\"  Do not use {idx+1}-th star\\n\")\n",
    "            continue\n",
    "        if not check_objfilter(objflag_list[1]):\n",
    "            print(f\"  rFlags is {objflag}\")\n",
    "            print(f\"  Do not use {idx+1}-th star\\n\")\n",
    "        if not check_objfilter(objflag_list[2]):\n",
    "            print(f\"  i/zFlags is {objflag}\")\n",
    "            print(f\"  Do not use {idx+1}-th star\\n\")\n",
    "        \n",
    "        # Remove stars by PS objinfoFlag (many outliers......)\n",
    "        objinfoflag = df_PS[\"objInfoFlag\"][0]\n",
    "        if not check_objinfo(objinfoflag):\n",
    "            print(f\"  objInfoFlag is {objinfoflag}\")\n",
    "            print(f\"  Do not use {idx+1}-th star\\n\")\n",
    "            continue\n",
    "\n",
    "        print(f\"  Use {idx+1}-th star\\n\")\n",
    "        ra1_list.append(ra_cat)\n",
    "        dec1_list.append(dec_cat)\n",
    "\n",
    "    print()\n",
    "    print(f\"-> Selected N={len(ra1_list)}\")\n",
    "    ra_str  = ' '.join(str(num) for num in ra1_list)\n",
    "    dec_str  = ' '.join(str(num) for num in dec1_list)\n",
    "    print(f\"--ra {ra_str} --dec {dec_str}\")\n",
    "\n",
    "    # Make region file\n",
    "    make_ds9_region(ra1_list, dec1_list, out_region)\n",
    "    return ra1_list, dec1_list\n",
    "\n",
    "    \n"
   ]
  },
  {
   "cell_type": "markdown",
   "id": "e0605da1",
   "metadata": {},
   "source": [
    "## 3I"
   ]
  },
  {
   "cell_type": "code",
   "execution_count": 13,
   "id": "7a1191a5",
   "metadata": {},
   "outputs": [
    {
     "name": "stdout",
     "output_type": "stream",
     "text": [
      "Set 1\n",
      "  g-band\n",
      "    Original center (x0, y0) = (1080.0, 643.0)\n",
      "    Winpos center (x1, y1) = (1079.8, 639.8)\n",
      "Data length (Nx, Ny)=(85, 85)\n",
      "  r-band\n",
      "    Original center (x0, y0) = (1066.0, 653.0)\n",
      "    Winpos center (x1, y1) = (1064.1, 649.6)\n",
      "Data length (Nx, Ny)=(85, 85)\n",
      "  i-band\n",
      "    Original center (x0, y0) = (1078.0, 633.0)\n",
      "    Winpos center (x1, y1) = (1075.0, 630.0)\n",
      "Data length (Nx, Ny)=(85, 85)\n",
      "Set 2\n",
      "  g-band\n",
      "    Original center (x0, y0) = (1082.0, 635.0)\n",
      "    Winpos center (x1, y1) = (1082.4, 633.0)\n",
      "Data length (Nx, Ny)=(85, 85)\n",
      "  r-band\n",
      "    Original center (x0, y0) = (1068.0, 645.0)\n",
      "    Winpos center (x1, y1) = (1066.9, 642.4)\n",
      "Data length (Nx, Ny)=(85, 85)\n",
      "  i-band\n",
      "    Original center (x0, y0) = (1079.0, 625.0)\n",
      "    Winpos center (x1, y1) = (1078.2, 623.0)\n",
      "Data length (Nx, Ny)=(85, 85)\n",
      "Set 3\n",
      "  g-band\n",
      "    Original center (x0, y0) = (1081.0, 635.0)\n",
      "    Winpos center (x1, y1) = (1079.7, 632.5)\n",
      "Data length (Nx, Ny)=(85, 85)\n",
      "  r-band\n",
      "    Original center (x0, y0) = (1067.0, 645.0)\n",
      "    Winpos center (x1, y1) = (1064.8, 641.9)\n",
      "Data length (Nx, Ny)=(85, 85)\n",
      "  i-band\n",
      "    Original center (x0, y0) = (1077.0, 625.0)\n",
      "    Winpos center (x1, y1) = (1075.8, 621.7)\n",
      "Data length (Nx, Ny)=(85, 85)\n",
      "Set 4\n",
      "  g-band\n",
      "    Original center (x0, y0) = (1078.0, 630.0)\n",
      "    Winpos center (x1, y1) = (1076.1, 628.6)\n",
      "Data length (Nx, Ny)=(85, 85)\n",
      "  r-band\n",
      "    Original center (x0, y0) = (1064.0, 640.0)\n",
      "    Winpos center (x1, y1) = (1062.3, 638.2)\n",
      "Data length (Nx, Ny)=(85, 85)\n",
      "  i-band\n",
      "    Original center (x0, y0) = (1075.0, 620.0)\n",
      "    Winpos center (x1, y1) = (1073.6, 619.0)\n",
      "Data length (Nx, Ny)=(85, 85)\n",
      "Set 5\n",
      "  g-band\n",
      "    Original center (x0, y0) = (1078.0, 637.0)\n",
      "    Winpos center (x1, y1) = (1078.0, 634.9)\n",
      "Data length (Nx, Ny)=(85, 85)\n",
      "  r-band\n",
      "    Original center (x0, y0) = (1064.0, 647.0)\n",
      "    Winpos center (x1, y1) = (1064.2, 644.1)\n",
      "Data length (Nx, Ny)=(85, 85)\n",
      "  i-band\n",
      "    Original center (x0, y0) = (1075.0, 627.0)\n",
      "    Winpos center (x1, y1) = (1075.4, 624.8)\n",
      "Data length (Nx, Ny)=(85, 85)\n",
      "Set 6\n",
      "  g-band\n",
      "    Original center (x0, y0) = (1082.0, 640.0)\n",
      "    Winpos center (x1, y1) = (1080.8, 637.3)\n",
      "Data length (Nx, Ny)=(85, 85)\n",
      "  r-band\n",
      "    Original center (x0, y0) = (1068.0, 648.0)\n",
      "    Winpos center (x1, y1) = (1067.1, 646.4)\n",
      "Data length (Nx, Ny)=(85, 85)\n",
      "  i-band\n",
      "    Original center (x0, y0) = (1079.0, 629.0)\n",
      "    Winpos center (x1, y1) = (1078.3, 627.2)\n",
      "Data length (Nx, Ny)=(85, 85)\n",
      "Set 7\n",
      "  g-band\n",
      "    Original center (x0, y0) = (1085.0, 630.0)\n",
      "    Winpos center (x1, y1) = (1084.8, 627.6)\n",
      "Data length (Nx, Ny)=(85, 85)\n",
      "  r-band\n",
      "    Original center (x0, y0) = (1070.0, 640.0)\n",
      "    Winpos center (x1, y1) = (1070.0, 637.3)\n",
      "Data length (Nx, Ny)=(85, 85)\n",
      "  i-band\n",
      "    Original center (x0, y0) = (1085.0, 620.0)\n",
      "    Winpos center (x1, y1) = (1082.7, 618.0)\n",
      "Data length (Nx, Ny)=(85, 85)\n",
      "Set 1\n",
      "  g-band\n",
      "    Original center (x0, y0) = (1080.0, 643.0)\n",
      "    Winpos center (x1, y1) = (1085.4, 641.2)\n",
      "Data length (Nx, Ny)=(85, 85)\n",
      "  r-band\n",
      "    Original center (x0, y0) = (1066.0, 653.0)\n",
      "    Winpos center (x1, y1) = (1070.1, 650.5)\n",
      "Data length (Nx, Ny)=(85, 85)\n",
      "  z-band\n",
      "    Original center (x0, y0) = (1078.0, 633.0)\n",
      "    Winpos center (x1, y1) = (1081.2, 630.9)\n",
      "Data length (Nx, Ny)=(85, 85)\n",
      "Set 2\n",
      "  g-band\n",
      "    Original center (x0, y0) = (1088.0, 643.0)\n",
      "    Winpos center (x1, y1) = (1088.7, 640.3)\n",
      "Data length (Nx, Ny)=(85, 85)\n",
      "  r-band\n",
      "    Original center (x0, y0) = (1074.0, 652.0)\n",
      "    Winpos center (x1, y1) = (1073.3, 650.1)\n",
      "Data length (Nx, Ny)=(85, 85)\n",
      "  z-band\n",
      "    Original center (x0, y0) = (1086.0, 632.0)\n",
      "    Winpos center (x1, y1) = (1084.5, 630.1)\n",
      "Data length (Nx, Ny)=(85, 85)\n",
      "Set 3\n",
      "  g-band\n",
      "    Original center (x0, y0) = (1085.0, 642.0)\n",
      "    Winpos center (x1, y1) = (1084.2, 641.3)\n",
      "Data length (Nx, Ny)=(85, 85)\n",
      "  r-band\n",
      "    Original center (x0, y0) = (1070.0, 652.0)\n",
      "    Winpos center (x1, y1) = (1068.9, 650.8)\n",
      "Data length (Nx, Ny)=(85, 85)\n",
      "  z-band\n",
      "    Original center (x0, y0) = (1082.0, 635.0)\n",
      "    Winpos center (x1, y1) = (1080.0, 631.3)\n",
      "Data length (Nx, Ny)=(85, 85)\n",
      "Set 4\n",
      "  g-band\n",
      "    Original center (x0, y0) = (1076.0, 633.0)\n",
      "    Winpos center (x1, y1) = (1074.0, 631.6)\n",
      "Data length (Nx, Ny)=(85, 85)\n",
      "  r-band\n",
      "    Original center (x0, y0) = (1062.0, 643.0)\n",
      "    Winpos center (x1, y1) = (1059.4, 641.0)\n",
      "Data length (Nx, Ny)=(85, 85)\n",
      "  z-band\n",
      "    Original center (x0, y0) = (1073.0, 623.0)\n",
      "    Winpos center (x1, y1) = (1070.8, 621.2)\n",
      "Data length (Nx, Ny)=(85, 85)\n",
      "Set 5\n",
      "  g-band\n",
      "    Original center (x0, y0) = (1076.0, 638.0)\n",
      "    Winpos center (x1, y1) = (1074.0, 636.1)\n",
      "Data length (Nx, Ny)=(85, 85)\n",
      "  r-band\n",
      "    Original center (x0, y0) = (1062.0, 647.0)\n",
      "    Winpos center (x1, y1) = (1059.9, 645.4)\n",
      "Data length (Nx, Ny)=(85, 85)\n",
      "  z-band\n",
      "    Original center (x0, y0) = (1073.0, 627.0)\n",
      "    Winpos center (x1, y1) = (1071.0, 625.6)\n",
      "Data length (Nx, Ny)=(85, 85)\n"
     ]
    }
   ],
   "source": [
    "# 2025-07-15 gri 7 sets\n",
    "bands = [\"g\", \"r\", \"i\"]\n",
    "center_lists = [\n",
    "    [(1080, 643), (1066, 653), (1078, 633)],\n",
    "    [(1082, 635), (1068, 645), (1079, 625)],\n",
    "    [(1081, 635), (1067, 645), (1077, 625)],\n",
    "    [(1078, 630), (1064, 640), (1075, 620)],\n",
    "    [(1078, 637), (1064, 647), (1075, 627)],\n",
    "    [(1082, 640), (1068, 648), (1079, 629)],\n",
    "    [(1085, 630), (1070, 640), (1085, 620)],\n",
    "]\n",
    "fi_lists = []\n",
    "for i in range(len(center_lists)):\n",
    "    f_g = f\"/Users/beniyama/research/Seimei_3I/Seimei202507_3I/20250715/3I_gri/shift_600s_{stack}/nonsid_3I_gri_600s_0_00{i+1}.fits\"\n",
    "    f_r = f\"/Users/beniyama/research/Seimei_3I/Seimei202507_3I/20250715/3I_gri/shift_600s_{stack}/nonsid_3I_gri_600s_1_00{i+1}.fits\"\n",
    "    f_i = f\"/Users/beniyama/research/Seimei_3I/Seimei202507_3I/20250715/3I_gri/shift_600s_{stack}/nonsid_3I_gri_600s_2_00{i+1}.fits\"\n",
    "    fi_lists.append([f_g, f_r, f_i])\n",
    "\n",
    "out = f\"fig/3I_20250715_gri_{stack}_600s_7sets.jpg\"\n",
    "df_3I_gri = make_cutout_sssb(\"3I\", fi_lists, center_lists, bands, rad_list=rad_list, fov_arcsec=fov_arcsec, sig_min=sig_min, sig_max=sig_max, out=out)\n",
    "\n",
    "\n",
    "# 2025-07-15 g, r, z, 600 s, 5 set\n",
    "bands = [\"g\", \"r\", \"z\"]\n",
    "center_lists = [\n",
    "    [(1080, 643), (1066, 653), (1078, 633)],\n",
    "    [(1088, 643), (1074, 652), (1086, 632)],\n",
    "    [(1085, 642), (1070, 652), (1082, 635)],\n",
    "    [(1076, 633), (1062, 643), (1073, 623)],\n",
    "    [(1076, 638), (1062, 647), (1073, 627)],\n",
    "    ]\n",
    "\n",
    "fi_lists = []\n",
    "for i in range(len(center_lists)):\n",
    "    f_g = f\"/Users/beniyama/research/Seimei_3I/Seimei202507_3I/20250715/3I_grz/shift_600s_{stack}/nonsid_3I_grz_600s_0_00{i+1}.fits\"\n",
    "    f_r = f\"/Users/beniyama/research/Seimei_3I/Seimei202507_3I/20250715/3I_grz/shift_600s_{stack}/nonsid_3I_grz_600s_1_00{i+1}.fits\"\n",
    "    f_z = f\"/Users/beniyama/research/Seimei_3I/Seimei202507_3I/20250715/3I_grz/shift_600s_{stack}/nonsid_3I_grz_600s_2_00{i+1}.fits\"\n",
    "    fi_lists.append([f_g, f_r, f_z])\n",
    "\n",
    "out = f\"fig/3I_20250715_grz_{stack}_600s_5sets.jpg\"\n",
    "df_3I_grz = make_cutout_sssb(\"3I\", fi_lists, center_lists, bands, rad_list=rad_list, fov_arcsec=fov_arcsec, sig_min=sig_min, sig_max=sig_max, out=out)\n",
    "\n",
    "\n",
    "df_3I = pd.concat([df_3I_gri, df_3I_grz])\n",
    "df_3I = df_3I.reset_index(drop=True)\n",
    "\n",
    "jd_min = np.min(df_3I[\"jd\"])\n",
    "df_3I[\"instmag\"] = -2.5*np.log10(df_3I[\"flux\"])\n",
    "df_3I[\"instmagerr\"] = 2.5*log10err(df_3I[\"flux\"], df_3I[\"fluxerr\"])\n",
    "df_3I[\"elapsed_min\"] = (df_3I[\"jd\"] - jd_min)*24.*60.\n",
    "\n",
    "df_3I.to_csv(f\"{outdir}/photres_3I_{stack}_600s_20250715.txt\", sep=\" \")"
   ]
  },
  {
   "cell_type": "markdown",
   "id": "bf94d686",
   "metadata": {},
   "source": [
    "## Stars in 3I field"
   ]
  },
  {
   "cell_type": "code",
   "execution_count": 14,
   "id": "f2fe48b7",
   "metadata": {},
   "outputs": [
    {
     "name": "stdout",
     "output_type": "stream",
     "text": [
      "1-th, (ra, dec) = (263.7083, -18.3705)\n",
      "  Use 1-th star\n",
      "\n",
      "2-th, (ra, dec) = (263.729, -18.377)\n",
      "  Use 2-th star\n",
      "\n",
      "3-th, (ra, dec) = (263.7549, -18.3819)\n",
      "  g-r is too red (1.1)\n",
      "  Do not use 3-th star\n",
      "\n",
      "4-th, (ra, dec) = (263.7072, -18.3776)\n",
      "  Use 4-th star\n",
      "\n",
      "5-th, (ra, dec) = (263.689, -18.386)\n",
      "  g-r is too red (1.3)\n",
      "  Do not use 5-th star\n",
      "\n",
      "6-th, (ra, dec) = (263.7025, -18.361)\n",
      "  gFlags is 17023288\n",
      "  Do not use 6-th star\n",
      "\n",
      "7-th, (ra, dec) = (263.706, -18.3601)\n",
      "  Use 7-th star\n",
      "\n",
      "8-th, (ra, dec) = (263.67, -18.348)\n",
      "  Use 8-th star\n",
      "\n",
      "9-th, (ra, dec) = (263.6784, -18.336)\n",
      "  No stars found. (maybe ghost image)\n",
      "  Do not use 9-th star\n",
      "\n",
      "10-th, (ra, dec) = (263.68, -18.3499)\n"
     ]
    },
    {
     "name": "stderr",
     "output_type": "stream",
     "text": [
      "WARNING: NoResultsWarning: Query returned no results. [astroquery.mast.services]\n"
     ]
    },
    {
     "name": "stdout",
     "output_type": "stream",
     "text": [
      "  Use 10-th star\n",
      "\n",
      "11-th, (ra, dec) = (263.6909, -18.3731)\n",
      "  Use 11-th star\n",
      "\n",
      "12-th, (ra, dec) = (263.7285, -18.3905)\n",
      "  Use 12-th star\n",
      "\n",
      "13-th, (ra, dec) = (263.7315, -18.3995)\n",
      "  Use 13-th star\n",
      "\n",
      "14-th, (ra, dec) = (263.75, -18.378)\n",
      "  Use 14-th star\n",
      "\n",
      "15-th, (ra, dec) = (263.74, -18.367)\n",
      "  Use 15-th star\n",
      "\n",
      "16-th, (ra, dec) = (263.76, -18.3717)\n",
      "  Use 16-th star\n",
      "\n",
      "17-th, (ra, dec) = (263.7676, -18.3762)\n",
      "  Use 17-th star\n",
      "\n",
      "18-th, (ra, dec) = (263.7239, -18.3593)\n",
      "  Use 18-th star\n",
      "\n",
      "19-th, (ra, dec) = (263.7131, -18.3547)\n",
      "  Use 19-th star\n",
      "\n",
      "20-th, (ra, dec) = (263.7234, -18.3901)\n",
      "  No stars found. (maybe ghost image)\n",
      "  Do not use 20-th star\n",
      "\n",
      "\n",
      "-> Selected N=15\n",
      "--ra 263.7084515434115 263.7292535952521 263.70714324033054 263.7061392955667 263.6709135688206 263.6805755702292 263.6907522318014 263.72853377271775 263.7315546056891 263.750965871465 263.7404981353641 263.7601747169622 263.76774573509977 263.7240048690235 263.7131604299183 --dec -18.37060139682166 -18.377117659731585 -18.377640380248177 -18.360259663439436 -18.34859655792409 -18.350007722077585 -18.373133873611284 -18.390599870850235 -18.399821365746 -18.378089245472044 -18.367676350660805 -18.371834012418258 -18.376324315334514 -18.35943013979417 -18.354810471598764\n"
     ]
    },
    {
     "name": "stderr",
     "output_type": "stream",
     "text": [
      "WARNING: NoResultsWarning: Query returned no results. [astroquery.mast.services]\n"
     ]
    }
   ],
   "source": [
    "# Stars\n",
    "bands = [\"g\", \"r\", \"i\"]\n",
    "# RA and Dec in deg\n",
    "ra1, dec1 = 263.7083, -18.3705\n",
    "ra2, dec2 = 263.729, -18.377\n",
    "ra3, dec3 = 263.7549, -18.3819\n",
    "ra4, dec4 = 263.7072, -18.3776\n",
    "ra5, dec5 = 263.689, -18.386\n",
    "ra6, dec6 = 263.7025, -18.361\n",
    "ra7, dec7 = 263.706, -18.3601\n",
    "ra8, dec8 = 263.670, -18.348\n",
    "ra9, dec9 = 263.6784, -18.336\n",
    "ra10, dec10 = 263.680, -18.3499\n",
    "ra11, dec11 = 263.6909, -18.3731\n",
    "ra12, dec12 = 263.7285, -18.3905\n",
    "ra13, dec13 = 263.7315, -18.3995\n",
    "ra14, dec14 = 263.750, -18.378\n",
    "ra15, dec15 = 263.740, -18.367\n",
    "ra16, dec16 = 263.760, -18.3717\n",
    "ra17, dec17 = 263.7676, -18.3762\n",
    "ra18, dec18 = 263.7239, -18.3593\n",
    "ra19, dec19 = 263.7131, -18.3547\n",
    "ra20, dec20 = 263.7234, -18.3901\n",
    "\n",
    "ra0_list =[\n",
    "    ra1, ra2, ra3, ra4, ra5, \n",
    "    ra6, ra7, ra8, ra9, ra10, \n",
    "    ra11, ra12, ra13, ra14, ra15,\n",
    "    ra16, ra17, ra18, ra19, ra20, \n",
    "    ]\n",
    "dec0_list =[\n",
    "    dec1, dec2, dec3, dec4, dec5, \n",
    "    dec6, dec7, dec8, dec9, dec10,\n",
    "    dec11, dec12, dec13, dec14, dec15,\n",
    "    dec16, dec17, dec18, dec19, dec20,\n",
    "    ]\n",
    "\n",
    "# 30 arcsec = 0.0083 deg\n",
    "# 10 arcsec = 0.0027 deg\n",
    "#  5 arcsec = 0.0014 deg\n",
    "radec_rad = 0.0014\n",
    "PSmagmin, PSmagmax = 11, 18\n",
    "\n",
    "# Selection of stars\n",
    "ds9_region = f\"/Users/beniyama/research/Seimei_3I/Seimei202507_3I/20250715/3I_gri/shift_600s_{stack}/ds9_PSstars.reg\"\n",
    "ra1_list, dec1_list = phot_PSstars(ra0_list, dec0_list, radec_rad, PSmagmin, PSmagmax, bands, ds9_region)\n"
   ]
  },
  {
   "cell_type": "code",
   "execution_count": 15,
   "id": "8b2be0ab",
   "metadata": {},
   "outputs": [
    {
     "name": "stderr",
     "output_type": "stream",
     "text": [
      "WARNING: FITSFixedWarning: 'datfix' made the change 'Set MJD-OBS to 60871.000000 from DATE-OBS.\n",
      "Set DATE-END to '2025-07-15T12:42:50.901' from MJD-END'. [astropy.wcs.wcs]\n",
      "WARNING: FITSFixedWarning: 'datfix' made the change 'Set MJD-OBS to 60871.000000 from DATE-OBS.\n",
      "Set DATE-END to '2025-07-15T12:42:50.599' from MJD-END'. [astropy.wcs.wcs]\n"
     ]
    },
    {
     "name": "stdout",
     "output_type": "stream",
     "text": [
      "  Original center (x, y) = (1423.0, 740.3)\n",
      "  Winpos center (x, y) = (1422.1, 741.0)\n",
      "Data length (Nx, Ny)=(85, 85)\n",
      "  Original center (x, y) = (1407.1, 751.6)\n",
      "  Winpos center (x, y) = (1406.1, 752.4)\n",
      "Data length (Nx, Ny)=(85, 85)\n",
      "  Original center (x, y) = (1418.4, 731.9)\n",
      "  Winpos center (x, y) = (1417.7, 731.9)\n",
      "Data length (Nx, Ny)=(85, 85)\n"
     ]
    },
    {
     "name": "stderr",
     "output_type": "stream",
     "text": [
      "WARNING: FITSFixedWarning: 'datfix' made the change 'Set MJD-OBS to 60871.000000 from DATE-OBS.\n",
      "Set DATE-END to '2025-07-15T13:15:06.097' from MJD-END'. [astropy.wcs.wcs]\n",
      "WARNING: FITSFixedWarning: 'datfix' made the change 'Set MJD-OBS to 60871.000000 from DATE-OBS.\n",
      "Set DATE-END to '2025-07-15T13:15:05.700' from MJD-END'. [astropy.wcs.wcs]\n",
      "WARNING: FITSFixedWarning: 'datfix' made the change 'Set MJD-OBS to 60871.000000 from DATE-OBS.\n",
      "Set DATE-END to '2025-07-15T13:15:05.898' from MJD-END'. [astropy.wcs.wcs]\n",
      "WARNING: FITSFixedWarning: 'datfix' made the change 'Set MJD-OBS to 60871.000000 from DATE-OBS.\n",
      "Set DATE-END to '2025-07-15T13:47:58.704' from MJD-END'. [astropy.wcs.wcs]\n"
     ]
    },
    {
     "name": "stdout",
     "output_type": "stream",
     "text": [
      "  Original center (x, y) = (1289.0, 727.0)\n",
      "  Winpos center (x, y) = (1289.4, 727.5)\n",
      "Data length (Nx, Ny)=(85, 85)\n",
      "  Original center (x, y) = (1273.4, 737.8)\n",
      "  Winpos center (x, y) = (1273.7, 738.2)\n",
      "Data length (Nx, Ny)=(85, 85)\n",
      "  Original center (x, y) = (1284.8, 717.7)\n",
      "  Winpos center (x, y) = (1285.2, 718.2)\n",
      "Data length (Nx, Ny)=(85, 85)\n",
      "  Original center (x, y) = (1151.2, 717.2)\n",
      "  Winpos center (x, y) = (1148.9, 720.2)\n",
      "Data length (Nx, Ny)=(85, 85)\n"
     ]
    },
    {
     "name": "stderr",
     "output_type": "stream",
     "text": [
      "WARNING: FITSFixedWarning: 'datfix' made the change 'Set MJD-OBS to 60871.000000 from DATE-OBS.\n",
      "Set DATE-END to '2025-07-15T13:47:58.298' from MJD-END'. [astropy.wcs.wcs]\n",
      "WARNING: FITSFixedWarning: 'datfix' made the change 'Set MJD-OBS to 60871.000000 from DATE-OBS.\n",
      "Set DATE-END to '2025-07-15T13:47:58.497' from MJD-END'. [astropy.wcs.wcs]\n",
      "WARNING: FITSFixedWarning: 'datfix' made the change 'Set MJD-OBS to 60871.000000 from DATE-OBS.\n",
      "Set DATE-END to '2025-07-15T14:38:19.196' from MJD-END'. [astropy.wcs.wcs]\n"
     ]
    },
    {
     "name": "stdout",
     "output_type": "stream",
     "text": [
      "  Original center (x, y) = (1135.6, 727.3)\n",
      "  Winpos center (x, y) = (1133.3, 730.1)\n",
      "Data length (Nx, Ny)=(85, 85)\n",
      "  Original center (x, y) = (1145.2, 709.6)\n",
      "  Winpos center (x, y) = (1144.7, 709.7)\n",
      "Data length (Nx, Ny)=(85, 85)\n",
      "  Original center (x, y) = (935.5, 704.8)\n",
      "  Winpos center (x, y) = (934.6, 705.7)\n",
      "Data length (Nx, Ny)=(85, 85)\n"
     ]
    },
    {
     "name": "stderr",
     "output_type": "stream",
     "text": [
      "WARNING: FITSFixedWarning: 'datfix' made the change 'Set MJD-OBS to 60871.000000 from DATE-OBS.\n",
      "Set DATE-END to '2025-07-15T14:38:18.799' from MJD-END'. [astropy.wcs.wcs]\n",
      "WARNING: FITSFixedWarning: 'datfix' made the change 'Set MJD-OBS to 60871.000000 from DATE-OBS.\n",
      "Set DATE-END to '2025-07-15T14:38:18.997' from MJD-END'. [astropy.wcs.wcs]\n",
      "WARNING: FITSFixedWarning: 'datfix' made the change 'Set MJD-OBS to 60871.000000 from DATE-OBS.\n",
      "Set DATE-END to '2025-07-15T14:48:22.199' from MJD-END'. [astropy.wcs.wcs]\n",
      "WARNING: FITSFixedWarning: 'datfix' made the change 'Set MJD-OBS to 60871.000000 from DATE-OBS.\n",
      "Set DATE-END to '2025-07-15T14:48:21.802' from MJD-END'. [astropy.wcs.wcs]\n"
     ]
    },
    {
     "name": "stdout",
     "output_type": "stream",
     "text": [
      "  Original center (x, y) = (921.0, 713.6)\n",
      "  Winpos center (x, y) = (920.2, 714.3)\n",
      "Data length (Nx, Ny)=(85, 85)\n",
      "  Original center (x, y) = (932.4, 694.7)\n",
      "  Winpos center (x, y) = (931.7, 695.6)\n",
      "Data length (Nx, Ny)=(85, 85)\n",
      "  Original center (x, y) = (894.8, 709.3)\n",
      "  Winpos center (x, y) = (893.9, 709.3)\n",
      "Data length (Nx, Ny)=(85, 85)\n",
      "  Original center (x, y) = (880.3, 717.9)\n",
      "  Winpos center (x, y) = (879.6, 717.7)\n",
      "Data length (Nx, Ny)=(85, 85)\n"
     ]
    },
    {
     "name": "stderr",
     "output_type": "stream",
     "text": [
      "WARNING: FITSFixedWarning: 'datfix' made the change 'Set MJD-OBS to 60871.000000 from DATE-OBS.\n",
      "Set DATE-END to '2025-07-15T14:48:22' from MJD-END'. [astropy.wcs.wcs]\n",
      "WARNING: FITSFixedWarning: 'datfix' made the change 'Set MJD-OBS to 60871.000000 from DATE-OBS.\n",
      "Set DATE-END to '2025-07-15T14:58:25.003' from MJD-END'. [astropy.wcs.wcs]\n",
      "WARNING: FITSFixedWarning: 'datfix' made the change 'Set MJD-OBS to 60871.000000 from DATE-OBS.\n",
      "Set DATE-END to '2025-07-15T14:58:24.597' from MJD-END'. [astropy.wcs.wcs]\n",
      "WARNING: FITSFixedWarning: 'datfix' made the change 'Set MJD-OBS to 60871.000000 from DATE-OBS.\n",
      "Set DATE-END to '2025-07-15T14:58:24.796' from MJD-END'. [astropy.wcs.wcs]\n"
     ]
    },
    {
     "name": "stdout",
     "output_type": "stream",
     "text": [
      "  Original center (x, y) = (891.2, 699.0)\n",
      "  Winpos center (x, y) = (891.0, 698.9)\n",
      "Data length (Nx, Ny)=(85, 85)\n",
      "  Original center (x, y) = (855.8, 709.1)\n",
      "  Winpos center (x, y) = (855.3, 709.8)\n",
      "Data length (Nx, Ny)=(85, 85)\n",
      "  Original center (x, y) = (841.5, 717.3)\n",
      "  Winpos center (x, y) = (841.1, 718.0)\n",
      "Data length (Nx, Ny)=(85, 85)\n",
      "  Original center (x, y) = (852.5, 698.6)\n",
      "  Winpos center (x, y) = (852.3, 699.5)\n",
      "Data length (Nx, Ny)=(85, 85)\n"
     ]
    },
    {
     "name": "stderr",
     "output_type": "stream",
     "text": [
      "WARNING: FITSFixedWarning: 'datfix' made the change 'Set MJD-OBS to 60871.000000 from DATE-OBS.\n",
      "Set DATE-END to '2025-07-15T15:11:28.098' from MJD-END'. [astropy.wcs.wcs]\n",
      "WARNING: FITSFixedWarning: 'datfix' made the change 'Set MJD-OBS to 60871.000000 from DATE-OBS.\n",
      "Set DATE-END to '2025-07-15T15:11:27.701' from MJD-END'. [astropy.wcs.wcs]\n",
      "WARNING: FITSFixedWarning: 'datfix' made the change 'Set MJD-OBS to 60871.000000 from DATE-OBS.\n",
      "Set DATE-END to '2025-07-15T15:11:27.900' from MJD-END'. [astropy.wcs.wcs]\n"
     ]
    },
    {
     "name": "stdout",
     "output_type": "stream",
     "text": [
      "  Original center (x, y) = (804.9, 698.6)\n",
      "  Winpos center (x, y) = (804.5, 698.9)\n",
      "Data length (Nx, Ny)=(85, 85)\n",
      "  Original center (x, y) = (789.3, 706.5)\n",
      "  Winpos center (x, y) = (789.1, 706.9)\n",
      "Data length (Nx, Ny)=(85, 85)\n",
      "  Original center (x, y) = (801.7, 687.8)\n",
      "  Winpos center (x, y) = (801.7, 688.3)\n",
      "Data length (Nx, Ny)=(85, 85)\n"
     ]
    },
    {
     "name": "stderr",
     "output_type": "stream",
     "text": [
      "/var/folders/xv/z4qp4sf50z10cwc8tgxysssw0000gn/T/ipykernel_99592/108843714.py:32: FutureWarning: Setting an item of incompatible dtype is deprecated and will raise an error in a future version of pandas. Value '16.81920051574707' has dtype incompatible with int64, please explicitly cast to a compatible dtype first.\n",
      "  df_star.loc[df_star[\"band\"] == band, \"PSmag\"] = PSmag_band\n",
      "WARNING: FITSFixedWarning: 'datfix' made the change 'Set MJD-OBS to 60871.000000 from DATE-OBS.\n",
      "Set DATE-END to '2025-07-15T12:55:27.204' from MJD-END'. [astropy.wcs.wcs]\n",
      "WARNING: FITSFixedWarning: 'datfix' made the change 'Set MJD-OBS to 60871.000000 from DATE-OBS.\n",
      "Set DATE-END to '2025-07-15T12:55:26.797' from MJD-END'. [astropy.wcs.wcs]\n",
      "WARNING: FITSFixedWarning: 'datfix' made the change 'Set MJD-OBS to 60871.000000 from DATE-OBS.\n",
      "Set DATE-END to '2025-07-15T12:55:26.996' from MJD-END'. [astropy.wcs.wcs]\n"
     ]
    },
    {
     "name": "stdout",
     "output_type": "stream",
     "text": [
      "  Original center (x, y) = (1376.2, 738.7)\n",
      "  Winpos center (x, y) = (1375.3, 739.9)\n",
      "Data length (Nx, Ny)=(85, 85)\n",
      "  Original center (x, y) = (1362.8, 750.5)\n",
      "  Winpos center (x, y) = (1359.9, 751.0)\n",
      "Data length (Nx, Ny)=(85, 85)\n",
      "  Original center (x, y) = (1371.9, 729.8)\n",
      "  Winpos center (x, y) = (1371.6, 730.3)\n",
      "Data length (Nx, Ny)=(85, 85)\n"
     ]
    },
    {
     "name": "stderr",
     "output_type": "stream",
     "text": [
      "WARNING: FITSFixedWarning: 'datfix' made the change 'Set MJD-OBS to 60871.000000 from DATE-OBS.\n",
      "Set DATE-END to '2025-07-15T13:27:32.602' from MJD-END'. [astropy.wcs.wcs]\n",
      "WARNING: FITSFixedWarning: 'datfix' made the change 'Set MJD-OBS to 60871.000000 from DATE-OBS.\n",
      "Set DATE-END to '2025-07-15T13:27:32.196' from MJD-END'. [astropy.wcs.wcs]\n",
      "WARNING: FITSFixedWarning: 'datfix' made the change 'Set MJD-OBS to 60871.000000 from DATE-OBS.\n",
      "Set DATE-END to '2025-07-15T13:27:32.403' from MJD-END'. [astropy.wcs.wcs]\n"
     ]
    },
    {
     "name": "stdout",
     "output_type": "stream",
     "text": [
      "  Original center (x, y) = (1245.9, 731.8)\n",
      "  Winpos center (x, y) = (1243.7, 732.0)\n",
      "Data length (Nx, Ny)=(85, 85)\n",
      "  Original center (x, y) = (1229.8, 740.9)\n",
      "  Winpos center (x, y) = (1228.3, 742.8)\n",
      "Data length (Nx, Ny)=(85, 85)\n",
      "  Original center (x, y) = (1240.3, 722.0)\n",
      "  Winpos center (x, y) = (1239.8, 722.5)\n",
      "Data length (Nx, Ny)=(85, 85)\n"
     ]
    },
    {
     "name": "stderr",
     "output_type": "stream",
     "text": [
      "WARNING: FITSFixedWarning: 'datfix' made the change 'Set MJD-OBS to 60871.000000 from DATE-OBS.\n",
      "Set DATE-END to '2025-07-15T14:00:17.899' from MJD-END'. [astropy.wcs.wcs]\n",
      "WARNING: FITSFixedWarning: 'datfix' made the change 'Set MJD-OBS to 60871.000000 from DATE-OBS.\n",
      "Set DATE-END to '2025-07-15T14:00:17.502' from MJD-END'. [astropy.wcs.wcs]\n",
      "WARNING: FITSFixedWarning: 'datfix' made the change 'Set MJD-OBS to 60871.000000 from DATE-OBS.\n",
      "Set DATE-END to '2025-07-15T14:00:17.700' from MJD-END'. [astropy.wcs.wcs]\n"
     ]
    },
    {
     "name": "stdout",
     "output_type": "stream",
     "text": [
      "  Original center (x, y) = (1102.5, 726.0)\n",
      "  Winpos center (x, y) = (1101.2, 726.0)\n",
      "Data length (Nx, Ny)=(85, 85)\n",
      "  Original center (x, y) = (1087.0, 735.8)\n",
      "  Winpos center (x, y) = (1085.8, 736.1)\n",
      "Data length (Nx, Ny)=(85, 85)\n",
      "  Original center (x, y) = (1097.7, 716.2)\n",
      "  Winpos center (x, y) = (1097.4, 716.3)\n",
      "Data length (Nx, Ny)=(85, 85)\n"
     ]
    },
    {
     "name": "stderr",
     "output_type": "stream",
     "text": [
      "WARNING: FITSFixedWarning: 'datfix' made the change 'Set MJD-OBS to 60871.000000 from DATE-OBS.\n",
      "Set DATE-END to '2025-07-15T14:14:10.596' from MJD-END'. [astropy.wcs.wcs]\n",
      "WARNING: FITSFixedWarning: 'datfix' made the change 'Set MJD-OBS to 60871.000000 from DATE-OBS.\n",
      "Set DATE-END to '2025-07-15T14:14:10.199' from MJD-END'. [astropy.wcs.wcs]\n",
      "WARNING: FITSFixedWarning: 'datfix' made the change 'Set MJD-OBS to 60871.000000 from DATE-OBS.\n",
      "Set DATE-END to '2025-07-15T14:14:10.398' from MJD-END'. [astropy.wcs.wcs]\n"
     ]
    },
    {
     "name": "stdout",
     "output_type": "stream",
     "text": [
      "  Original center (x, y) = (1035.4, 712.7)\n",
      "  Winpos center (x, y) = (1033.8, 713.7)\n",
      "Data length (Nx, Ny)=(85, 85)\n",
      "  Original center (x, y) = (1019.4, 721.9)\n",
      "  Winpos center (x, y) = (1018.9, 723.3)\n",
      "Data length (Nx, Ny)=(85, 85)\n",
      "  Original center (x, y) = (1030.9, 702.4)\n",
      "  Winpos center (x, y) = (1030.5, 703.6)\n",
      "Data length (Nx, Ny)=(85, 85)\n"
     ]
    },
    {
     "name": "stderr",
     "output_type": "stream",
     "text": [
      "WARNING: FITSFixedWarning: 'datfix' made the change 'Set MJD-OBS to 60871.000000 from DATE-OBS.\n",
      "Set DATE-END to '2025-07-15T14:24:13.504' from MJD-END'. [astropy.wcs.wcs]\n",
      "WARNING: FITSFixedWarning: 'datfix' made the change 'Set MJD-OBS to 60871.000000 from DATE-OBS.\n",
      "Set DATE-END to '2025-07-15T14:24:13.098' from MJD-END'. [astropy.wcs.wcs]\n",
      "WARNING: FITSFixedWarning: 'datfix' made the change 'Set MJD-OBS to 60871.000000 from DATE-OBS.\n",
      "Set DATE-END to '2025-07-15T14:24:13.297' from MJD-END'. [astropy.wcs.wcs]\n"
     ]
    },
    {
     "name": "stdout",
     "output_type": "stream",
     "text": [
      "  Original center (x, y) = (992.6, 714.8)\n",
      "  Winpos center (x, y) = (991.4, 715.8)\n",
      "Data length (Nx, Ny)=(85, 85)\n",
      "  Original center (x, y) = (977.7, 724.0)\n",
      "  Winpos center (x, y) = (976.8, 724.9)\n",
      "Data length (Nx, Ny)=(85, 85)\n",
      "  Original center (x, y) = (988.3, 704.4)\n",
      "  Winpos center (x, y) = (988.1, 705.6)\n",
      "Data length (Nx, Ny)=(85, 85)\n"
     ]
    },
    {
     "name": "stderr",
     "output_type": "stream",
     "text": [
      "/var/folders/xv/z4qp4sf50z10cwc8tgxysssw0000gn/T/ipykernel_99592/108843714.py:52: FutureWarning: Setting an item of incompatible dtype is deprecated and will raise an error in a future version of pandas. Value '16.81920051574707' has dtype incompatible with int64, please explicitly cast to a compatible dtype first.\n",
      "  df_star.loc[df_star[\"band\"] == band, \"PSmag\"] = PSmag_band\n",
      "WARNING: FITSFixedWarning: 'datfix' made the change 'Set MJD-OBS to 60871.000000 from DATE-OBS.\n",
      "Set DATE-END to '2025-07-15T12:42:50.901' from MJD-END'. [astropy.wcs.wcs]\n",
      "WARNING: FITSFixedWarning: 'datfix' made the change 'Set MJD-OBS to 60871.000000 from DATE-OBS.\n",
      "Set DATE-END to '2025-07-15T12:42:50.599' from MJD-END'. [astropy.wcs.wcs]\n",
      "WARNING: FITSFixedWarning: 'datfix' made the change 'Set MJD-OBS to 60871.000000 from DATE-OBS.\n",
      "Set DATE-END to '2025-07-15T13:15:06.097' from MJD-END'. [astropy.wcs.wcs]\n"
     ]
    },
    {
     "name": "stdout",
     "output_type": "stream",
     "text": [
      "  Original center (x, y) = (1220.3, 675.2)\n",
      "  Winpos center (x, y) = (1220.0, 675.9)\n",
      "Data length (Nx, Ny)=(85, 85)\n",
      "  Original center (x, y) = (1204.6, 685.7)\n",
      "  Winpos center (x, y) = (1204.2, 686.2)\n",
      "Data length (Nx, Ny)=(85, 85)\n",
      "  Original center (x, y) = (1215.5, 666.4)\n",
      "  Winpos center (x, y) = (1215.5, 666.3)\n",
      "Data length (Nx, Ny)=(85, 85)\n",
      "  Original center (x, y) = (1085.9, 662.0)\n",
      "  Winpos center (x, y) = (1087.5, 662.5)\n",
      "Data length (Nx, Ny)=(85, 85)\n"
     ]
    },
    {
     "name": "stderr",
     "output_type": "stream",
     "text": [
      "WARNING: FITSFixedWarning: 'datfix' made the change 'Set MJD-OBS to 60871.000000 from DATE-OBS.\n",
      "Set DATE-END to '2025-07-15T13:15:05.700' from MJD-END'. [astropy.wcs.wcs]\n",
      "WARNING: FITSFixedWarning: 'datfix' made the change 'Set MJD-OBS to 60871.000000 from DATE-OBS.\n",
      "Set DATE-END to '2025-07-15T13:15:05.898' from MJD-END'. [astropy.wcs.wcs]\n",
      "WARNING: FITSFixedWarning: 'datfix' made the change 'Set MJD-OBS to 60871.000000 from DATE-OBS.\n",
      "Set DATE-END to '2025-07-15T13:47:58.704' from MJD-END'. [astropy.wcs.wcs]\n",
      "WARNING: FITSFixedWarning: 'datfix' made the change 'Set MJD-OBS to 60871.000000 from DATE-OBS.\n",
      "Set DATE-END to '2025-07-15T13:47:58.298' from MJD-END'. [astropy.wcs.wcs]\n"
     ]
    },
    {
     "name": "stdout",
     "output_type": "stream",
     "text": [
      "  Original center (x, y) = (1070.5, 671.7)\n",
      "  Winpos center (x, y) = (1072.0, 672.0)\n",
      "Data length (Nx, Ny)=(85, 85)\n",
      "  Original center (x, y) = (1081.6, 652.2)\n",
      "  Winpos center (x, y) = (1083.1, 652.6)\n",
      "Data length (Nx, Ny)=(85, 85)\n",
      "  Original center (x, y) = (946.9, 652.4)\n",
      "  Winpos center (x, y) = (947.1, 655.2)\n",
      "Data length (Nx, Ny)=(85, 85)\n",
      "  Original center (x, y) = (931.6, 661.4)\n",
      "  Winpos center (x, y) = (931.7, 664.0)\n",
      "Data length (Nx, Ny)=(85, 85)\n"
     ]
    },
    {
     "name": "stderr",
     "output_type": "stream",
     "text": [
      "WARNING: FITSFixedWarning: 'datfix' made the change 'Set MJD-OBS to 60871.000000 from DATE-OBS.\n",
      "Set DATE-END to '2025-07-15T13:47:58.497' from MJD-END'. [astropy.wcs.wcs]\n",
      "WARNING: FITSFixedWarning: 'datfix' made the change 'Set MJD-OBS to 60871.000000 from DATE-OBS.\n",
      "Set DATE-END to '2025-07-15T14:38:19.196' from MJD-END'. [astropy.wcs.wcs]\n",
      "WARNING: FITSFixedWarning: 'datfix' made the change 'Set MJD-OBS to 60871.000000 from DATE-OBS.\n",
      "Set DATE-END to '2025-07-15T14:38:18.799' from MJD-END'. [astropy.wcs.wcs]\n",
      "WARNING: FITSFixedWarning: 'datfix' made the change 'Set MJD-OBS to 60871.000000 from DATE-OBS.\n",
      "Set DATE-END to '2025-07-15T14:38:18.997' from MJD-END'. [astropy.wcs.wcs]\n"
     ]
    },
    {
     "name": "stdout",
     "output_type": "stream",
     "text": [
      "  Original center (x, y) = (941.8, 644.0)\n",
      "  Winpos center (x, y) = (942.6, 644.1)\n",
      "Data length (Nx, Ny)=(85, 85)\n",
      "  Original center (x, y) = (732.5, 639.6)\n",
      "  Winpos center (x, y) = (732.5, 640.7)\n",
      "Data length (Nx, Ny)=(85, 85)\n",
      "  Original center (x, y) = (718.5, 647.3)\n",
      "  Winpos center (x, y) = (718.4, 648.1)\n",
      "Data length (Nx, Ny)=(85, 85)\n",
      "  Original center (x, y) = (729.5, 629.0)\n",
      "  Winpos center (x, y) = (729.5, 629.9)\n",
      "Data length (Nx, Ny)=(85, 85)\n"
     ]
    },
    {
     "name": "stderr",
     "output_type": "stream",
     "text": [
      "WARNING: FITSFixedWarning: 'datfix' made the change 'Set MJD-OBS to 60871.000000 from DATE-OBS.\n",
      "Set DATE-END to '2025-07-15T14:48:22.199' from MJD-END'. [astropy.wcs.wcs]\n",
      "WARNING: FITSFixedWarning: 'datfix' made the change 'Set MJD-OBS to 60871.000000 from DATE-OBS.\n",
      "Set DATE-END to '2025-07-15T14:48:21.802' from MJD-END'. [astropy.wcs.wcs]\n",
      "WARNING: FITSFixedWarning: 'datfix' made the change 'Set MJD-OBS to 60871.000000 from DATE-OBS.\n",
      "Set DATE-END to '2025-07-15T14:48:22' from MJD-END'. [astropy.wcs.wcs]\n",
      "WARNING: FITSFixedWarning: 'datfix' made the change 'Set MJD-OBS to 60871.000000 from DATE-OBS.\n",
      "Set DATE-END to '2025-07-15T14:58:25.003' from MJD-END'. [astropy.wcs.wcs]\n"
     ]
    },
    {
     "name": "stdout",
     "output_type": "stream",
     "text": [
      "  Original center (x, y) = (692.0, 644.2)\n",
      "  Winpos center (x, y) = (691.8, 644.2)\n",
      "Data length (Nx, Ny)=(85, 85)\n",
      "  Original center (x, y) = (677.8, 651.6)\n",
      "  Winpos center (x, y) = (677.7, 651.5)\n",
      "Data length (Nx, Ny)=(85, 85)\n",
      "  Original center (x, y) = (688.3, 633.2)\n",
      "  Winpos center (x, y) = (688.7, 633.3)\n",
      "Data length (Nx, Ny)=(85, 85)\n",
      "  Original center (x, y) = (653.1, 643.9)\n",
      "  Winpos center (x, y) = (653.1, 644.7)\n",
      "Data length (Nx, Ny)=(85, 85)\n"
     ]
    },
    {
     "name": "stderr",
     "output_type": "stream",
     "text": [
      "WARNING: FITSFixedWarning: 'datfix' made the change 'Set MJD-OBS to 60871.000000 from DATE-OBS.\n",
      "Set DATE-END to '2025-07-15T14:58:24.597' from MJD-END'. [astropy.wcs.wcs]\n",
      "WARNING: FITSFixedWarning: 'datfix' made the change 'Set MJD-OBS to 60871.000000 from DATE-OBS.\n",
      "Set DATE-END to '2025-07-15T14:58:24.796' from MJD-END'. [astropy.wcs.wcs]\n",
      "WARNING: FITSFixedWarning: 'datfix' made the change 'Set MJD-OBS to 60871.000000 from DATE-OBS.\n",
      "Set DATE-END to '2025-07-15T15:11:28.098' from MJD-END'. [astropy.wcs.wcs]\n",
      "WARNING: FITSFixedWarning: 'datfix' made the change 'Set MJD-OBS to 60871.000000 from DATE-OBS.\n",
      "Set DATE-END to '2025-07-15T15:11:27.701' from MJD-END'. [astropy.wcs.wcs]\n"
     ]
    },
    {
     "name": "stdout",
     "output_type": "stream",
     "text": [
      "  Original center (x, y) = (639.1, 651.1)\n",
      "  Winpos center (x, y) = (639.1, 651.8)\n",
      "Data length (Nx, Ny)=(85, 85)\n",
      "  Original center (x, y) = (649.8, 632.9)\n",
      "  Winpos center (x, y) = (649.9, 633.8)\n",
      "Data length (Nx, Ny)=(85, 85)\n",
      "  Original center (x, y) = (602.2, 633.5)\n",
      "  Winpos center (x, y) = (602.1, 633.8)\n",
      "Data length (Nx, Ny)=(85, 85)\n",
      "  Original center (x, y) = (587.0, 640.3)\n",
      "  Winpos center (x, y) = (586.9, 640.7)\n",
      "Data length (Nx, Ny)=(85, 85)\n"
     ]
    },
    {
     "name": "stderr",
     "output_type": "stream",
     "text": [
      "WARNING: FITSFixedWarning: 'datfix' made the change 'Set MJD-OBS to 60871.000000 from DATE-OBS.\n",
      "Set DATE-END to '2025-07-15T15:11:27.900' from MJD-END'. [astropy.wcs.wcs]\n"
     ]
    },
    {
     "name": "stdout",
     "output_type": "stream",
     "text": [
      "  Original center (x, y) = (598.9, 622.1)\n",
      "  Winpos center (x, y) = (599.1, 622.6)\n",
      "Data length (Nx, Ny)=(85, 85)\n"
     ]
    },
    {
     "name": "stderr",
     "output_type": "stream",
     "text": [
      "/var/folders/xv/z4qp4sf50z10cwc8tgxysssw0000gn/T/ipykernel_99592/108843714.py:32: FutureWarning: Setting an item of incompatible dtype is deprecated and will raise an error in a future version of pandas. Value '16.161300659179688' has dtype incompatible with int64, please explicitly cast to a compatible dtype first.\n",
      "  df_star.loc[df_star[\"band\"] == band, \"PSmag\"] = PSmag_band\n",
      "WARNING: FITSFixedWarning: 'datfix' made the change 'Set MJD-OBS to 60871.000000 from DATE-OBS.\n",
      "Set DATE-END to '2025-07-15T12:55:27.204' from MJD-END'. [astropy.wcs.wcs]\n",
      "WARNING: FITSFixedWarning: 'datfix' made the change 'Set MJD-OBS to 60871.000000 from DATE-OBS.\n",
      "Set DATE-END to '2025-07-15T12:55:26.797' from MJD-END'. [astropy.wcs.wcs]\n",
      "WARNING: FITSFixedWarning: 'datfix' made the change 'Set MJD-OBS to 60871.000000 from DATE-OBS.\n",
      "Set DATE-END to '2025-07-15T12:55:26.996' from MJD-END'. [astropy.wcs.wcs]\n"
     ]
    },
    {
     "name": "stdout",
     "output_type": "stream",
     "text": [
      "  Original center (x, y) = (1173.5, 673.7)\n",
      "  Winpos center (x, y) = (1173.4, 674.9)\n",
      "Data length (Nx, Ny)=(85, 85)\n",
      "  Original center (x, y) = (1159.3, 683.9)\n",
      "  Winpos center (x, y) = (1158.0, 684.8)\n",
      "Data length (Nx, Ny)=(85, 85)\n",
      "  Original center (x, y) = (1168.8, 664.3)\n",
      "  Winpos center (x, y) = (1169.4, 664.6)\n",
      "Data length (Nx, Ny)=(85, 85)\n",
      "  Original center (x, y) = (1042.7, 666.5)\n",
      "  Winpos center (x, y) = (1041.8, 667.0)\n",
      "Data length (Nx, Ny)=(85, 85)\n"
     ]
    },
    {
     "name": "stderr",
     "output_type": "stream",
     "text": [
      "WARNING: FITSFixedWarning: 'datfix' made the change 'Set MJD-OBS to 60871.000000 from DATE-OBS.\n",
      "Set DATE-END to '2025-07-15T13:27:32.602' from MJD-END'. [astropy.wcs.wcs]\n",
      "WARNING: FITSFixedWarning: 'datfix' made the change 'Set MJD-OBS to 60871.000000 from DATE-OBS.\n",
      "Set DATE-END to '2025-07-15T13:27:32.196' from MJD-END'. [astropy.wcs.wcs]\n",
      "WARNING: FITSFixedWarning: 'datfix' made the change 'Set MJD-OBS to 60871.000000 from DATE-OBS.\n",
      "Set DATE-END to '2025-07-15T13:27:32.403' from MJD-END'. [astropy.wcs.wcs]\n",
      "WARNING: FITSFixedWarning: 'datfix' made the change 'Set MJD-OBS to 60871.000000 from DATE-OBS.\n",
      "Set DATE-END to '2025-07-15T14:00:17.899' from MJD-END'. [astropy.wcs.wcs]\n"
     ]
    },
    {
     "name": "stdout",
     "output_type": "stream",
     "text": [
      "  Original center (x, y) = (1026.5, 674.9)\n",
      "  Winpos center (x, y) = (1026.6, 676.6)\n",
      "Data length (Nx, Ny)=(85, 85)\n",
      "  Original center (x, y) = (1037.2, 656.4)\n",
      "  Winpos center (x, y) = (1037.6, 656.9)\n",
      "Data length (Nx, Ny)=(85, 85)\n",
      "  Original center (x, y) = (899.8, 660.9)\n",
      "  Winpos center (x, y) = (899.4, 661.0)\n",
      "Data length (Nx, Ny)=(85, 85)\n",
      "  Original center (x, y) = (884.6, 669.6)\n",
      "  Winpos center (x, y) = (884.1, 670.0)\n",
      "Data length (Nx, Ny)=(85, 85)\n"
     ]
    },
    {
     "name": "stderr",
     "output_type": "stream",
     "text": [
      "WARNING: FITSFixedWarning: 'datfix' made the change 'Set MJD-OBS to 60871.000000 from DATE-OBS.\n",
      "Set DATE-END to '2025-07-15T14:00:17.502' from MJD-END'. [astropy.wcs.wcs]\n",
      "WARNING: FITSFixedWarning: 'datfix' made the change 'Set MJD-OBS to 60871.000000 from DATE-OBS.\n",
      "Set DATE-END to '2025-07-15T14:00:17.700' from MJD-END'. [astropy.wcs.wcs]\n",
      "WARNING: FITSFixedWarning: 'datfix' made the change 'Set MJD-OBS to 60871.000000 from DATE-OBS.\n",
      "Set DATE-END to '2025-07-15T14:14:10.596' from MJD-END'. [astropy.wcs.wcs]\n",
      "WARNING: FITSFixedWarning: 'datfix' made the change 'Set MJD-OBS to 60871.000000 from DATE-OBS.\n",
      "Set DATE-END to '2025-07-15T14:14:10.199' from MJD-END'. [astropy.wcs.wcs]\n"
     ]
    },
    {
     "name": "stdout",
     "output_type": "stream",
     "text": [
      "  Original center (x, y) = (895.2, 650.8)\n",
      "  Winpos center (x, y) = (895.3, 650.7)\n",
      "Data length (Nx, Ny)=(85, 85)\n",
      "  Original center (x, y) = (832.2, 647.4)\n",
      "  Winpos center (x, y) = (831.9, 648.7)\n",
      "Data length (Nx, Ny)=(85, 85)\n",
      "  Original center (x, y) = (816.3, 655.2)\n",
      "  Winpos center (x, y) = (817.2, 657.2)\n",
      "Data length (Nx, Ny)=(85, 85)\n",
      "  Original center (x, y) = (827.4, 636.3)\n",
      "  Winpos center (x, y) = (828.3, 638.0)\n",
      "Data length (Nx, Ny)=(85, 85)\n"
     ]
    },
    {
     "name": "stderr",
     "output_type": "stream",
     "text": [
      "WARNING: FITSFixedWarning: 'datfix' made the change 'Set MJD-OBS to 60871.000000 from DATE-OBS.\n",
      "Set DATE-END to '2025-07-15T14:14:10.398' from MJD-END'. [astropy.wcs.wcs]\n",
      "WARNING: FITSFixedWarning: 'datfix' made the change 'Set MJD-OBS to 60871.000000 from DATE-OBS.\n",
      "Set DATE-END to '2025-07-15T14:24:13.504' from MJD-END'. [astropy.wcs.wcs]\n",
      "WARNING: FITSFixedWarning: 'datfix' made the change 'Set MJD-OBS to 60871.000000 from DATE-OBS.\n",
      "Set DATE-END to '2025-07-15T14:24:13.098' from MJD-END'. [astropy.wcs.wcs]\n",
      "WARNING: FITSFixedWarning: 'datfix' made the change 'Set MJD-OBS to 60871.000000 from DATE-OBS.\n",
      "Set DATE-END to '2025-07-15T14:24:13.297' from MJD-END'. [astropy.wcs.wcs]\n"
     ]
    },
    {
     "name": "stdout",
     "output_type": "stream",
     "text": [
      "  Original center (x, y) = (789.5, 649.5)\n",
      "  Winpos center (x, y) = (789.5, 650.9)\n",
      "Data length (Nx, Ny)=(85, 85)\n",
      "  Original center (x, y) = (775.0, 657.6)\n",
      "  Winpos center (x, y) = (775.1, 658.8)\n",
      "Data length (Nx, Ny)=(85, 85)\n",
      "  Original center (x, y) = (785.0, 638.4)\n",
      "  Winpos center (x, y) = (785.8, 640.0)\n",
      "Data length (Nx, Ny)=(85, 85)\n"
     ]
    },
    {
     "name": "stderr",
     "output_type": "stream",
     "text": [
      "/var/folders/xv/z4qp4sf50z10cwc8tgxysssw0000gn/T/ipykernel_99592/108843714.py:52: FutureWarning: Setting an item of incompatible dtype is deprecated and will raise an error in a future version of pandas. Value '16.161300659179688' has dtype incompatible with int64, please explicitly cast to a compatible dtype first.\n",
      "  df_star.loc[df_star[\"band\"] == band, \"PSmag\"] = PSmag_band\n",
      "WARNING: FITSFixedWarning: 'datfix' made the change 'Set MJD-OBS to 60871.000000 from DATE-OBS.\n",
      "Set DATE-END to '2025-07-15T12:42:50.901' from MJD-END'. [astropy.wcs.wcs]\n",
      "WARNING: FITSFixedWarning: 'datfix' made the change 'Set MJD-OBS to 60871.000000 from DATE-OBS.\n",
      "Set DATE-END to '2025-07-15T12:42:50.599' from MJD-END'. [astropy.wcs.wcs]\n",
      "WARNING: FITSFixedWarning: 'datfix' made the change 'Set MJD-OBS to 60871.000000 from DATE-OBS.\n",
      "Set DATE-END to '2025-07-15T13:15:06.097' from MJD-END'. [astropy.wcs.wcs]\n"
     ]
    },
    {
     "name": "stdout",
     "output_type": "stream",
     "text": [
      "  Original center (x, y) = (1435.1, 668.1)\n",
      "  Winpos center (x, y) = (1434.4, 668.8)\n",
      "Data length (Nx, Ny)=(85, 85)\n",
      "  Original center (x, y) = (1419.6, 679.4)\n",
      "  Winpos center (x, y) = (1418.7, 680.2)\n",
      "Data length (Nx, Ny)=(85, 85)\n",
      "  Original center (x, y) = (1430.6, 659.6)\n",
      "  Winpos center (x, y) = (1430.1, 659.7)\n",
      "Data length (Nx, Ny)=(85, 85)\n",
      "  Original center (x, y) = (1301.1, 654.7)\n",
      "  Winpos center (x, y) = (1301.6, 655.4)\n",
      "Data length (Nx, Ny)=(85, 85)\n"
     ]
    },
    {
     "name": "stderr",
     "output_type": "stream",
     "text": [
      "WARNING: FITSFixedWarning: 'datfix' made the change 'Set MJD-OBS to 60871.000000 from DATE-OBS.\n",
      "Set DATE-END to '2025-07-15T13:15:05.700' from MJD-END'. [astropy.wcs.wcs]\n",
      "WARNING: FITSFixedWarning: 'datfix' made the change 'Set MJD-OBS to 60871.000000 from DATE-OBS.\n",
      "Set DATE-END to '2025-07-15T13:15:05.898' from MJD-END'. [astropy.wcs.wcs]\n",
      "WARNING: FITSFixedWarning: 'datfix' made the change 'Set MJD-OBS to 60871.000000 from DATE-OBS.\n",
      "Set DATE-END to '2025-07-15T13:47:58.704' from MJD-END'. [astropy.wcs.wcs]\n",
      "WARNING: FITSFixedWarning: 'datfix' made the change 'Set MJD-OBS to 60871.000000 from DATE-OBS.\n",
      "Set DATE-END to '2025-07-15T13:47:58.298' from MJD-END'. [astropy.wcs.wcs]\n"
     ]
    },
    {
     "name": "stdout",
     "output_type": "stream",
     "text": [
      "  Original center (x, y) = (1285.8, 665.5)\n",
      "  Winpos center (x, y) = (1286.3, 666.0)\n",
      "Data length (Nx, Ny)=(85, 85)\n",
      "  Original center (x, y) = (1297.0, 645.3)\n",
      "  Winpos center (x, y) = (1297.5, 646.0)\n",
      "Data length (Nx, Ny)=(85, 85)\n",
      "  Original center (x, y) = (1163.2, 644.5)\n",
      "  Winpos center (x, y) = (1161.1, 648.1)\n",
      "Data length (Nx, Ny)=(85, 85)\n",
      "  Original center (x, y) = (1148.0, 654.7)\n",
      "  Winpos center (x, y) = (1145.9, 658.0)\n",
      "Data length (Nx, Ny)=(85, 85)\n"
     ]
    },
    {
     "name": "stderr",
     "output_type": "stream",
     "text": [
      "WARNING: FITSFixedWarning: 'datfix' made the change 'Set MJD-OBS to 60871.000000 from DATE-OBS.\n",
      "Set DATE-END to '2025-07-15T13:47:58.497' from MJD-END'. [astropy.wcs.wcs]\n",
      "WARNING: FITSFixedWarning: 'datfix' made the change 'Set MJD-OBS to 60871.000000 from DATE-OBS.\n",
      "Set DATE-END to '2025-07-15T14:38:19.196' from MJD-END'. [astropy.wcs.wcs]\n",
      "WARNING: FITSFixedWarning: 'datfix' made the change 'Set MJD-OBS to 60871.000000 from DATE-OBS.\n",
      "Set DATE-END to '2025-07-15T14:38:18.799' from MJD-END'. [astropy.wcs.wcs]\n",
      "WARNING: FITSFixedWarning: 'datfix' made the change 'Set MJD-OBS to 60871.000000 from DATE-OBS.\n",
      "Set DATE-END to '2025-07-15T14:38:18.997' from MJD-END'. [astropy.wcs.wcs]\n"
     ]
    },
    {
     "name": "stdout",
     "output_type": "stream",
     "text": [
      "  Original center (x, y) = (1157.4, 637.2)\n",
      "  Winpos center (x, y) = (1157.0, 637.5)\n",
      "Data length (Nx, Ny)=(85, 85)\n",
      "  Original center (x, y) = (947.6, 632.5)\n",
      "  Winpos center (x, y) = (946.8, 633.7)\n",
      "Data length (Nx, Ny)=(85, 85)\n",
      "  Original center (x, y) = (933.6, 641.4)\n",
      "  Winpos center (x, y) = (932.8, 642.2)\n",
      "Data length (Nx, Ny)=(85, 85)\n",
      "  Original center (x, y) = (944.7, 622.5)\n",
      "  Winpos center (x, y) = (944.1, 623.4)\n",
      "Data length (Nx, Ny)=(85, 85)\n"
     ]
    },
    {
     "name": "stderr",
     "output_type": "stream",
     "text": [
      "WARNING: FITSFixedWarning: 'datfix' made the change 'Set MJD-OBS to 60871.000000 from DATE-OBS.\n",
      "Set DATE-END to '2025-07-15T14:48:22.199' from MJD-END'. [astropy.wcs.wcs]\n",
      "WARNING: FITSFixedWarning: 'datfix' made the change 'Set MJD-OBS to 60871.000000 from DATE-OBS.\n",
      "Set DATE-END to '2025-07-15T14:48:21.802' from MJD-END'. [astropy.wcs.wcs]\n",
      "WARNING: FITSFixedWarning: 'datfix' made the change 'Set MJD-OBS to 60871.000000 from DATE-OBS.\n",
      "Set DATE-END to '2025-07-15T14:48:22' from MJD-END'. [astropy.wcs.wcs]\n",
      "WARNING: FITSFixedWarning: 'datfix' made the change 'Set MJD-OBS to 60871.000000 from DATE-OBS.\n",
      "Set DATE-END to '2025-07-15T14:58:25.003' from MJD-END'. [astropy.wcs.wcs]\n"
     ]
    },
    {
     "name": "stdout",
     "output_type": "stream",
     "text": [
      "  Original center (x, y) = (906.9, 637.1)\n",
      "  Winpos center (x, y) = (906.2, 637.2)\n",
      "Data length (Nx, Ny)=(85, 85)\n",
      "  Original center (x, y) = (892.8, 645.7)\n",
      "  Winpos center (x, y) = (892.2, 645.5)\n",
      "Data length (Nx, Ny)=(85, 85)\n",
      "  Original center (x, y) = (903.5, 626.7)\n",
      "  Winpos center (x, y) = (903.4, 626.7)\n",
      "Data length (Nx, Ny)=(85, 85)\n",
      "  Original center (x, y) = (867.9, 636.9)\n",
      "  Winpos center (x, y) = (867.6, 637.6)\n",
      "Data length (Nx, Ny)=(85, 85)\n"
     ]
    },
    {
     "name": "stderr",
     "output_type": "stream",
     "text": [
      "WARNING: FITSFixedWarning: 'datfix' made the change 'Set MJD-OBS to 60871.000000 from DATE-OBS.\n",
      "Set DATE-END to '2025-07-15T14:58:24.597' from MJD-END'. [astropy.wcs.wcs]\n",
      "WARNING: FITSFixedWarning: 'datfix' made the change 'Set MJD-OBS to 60871.000000 from DATE-OBS.\n",
      "Set DATE-END to '2025-07-15T14:58:24.796' from MJD-END'. [astropy.wcs.wcs]\n",
      "WARNING: FITSFixedWarning: 'datfix' made the change 'Set MJD-OBS to 60871.000000 from DATE-OBS.\n",
      "Set DATE-END to '2025-07-15T15:11:28.098' from MJD-END'. [astropy.wcs.wcs]\n",
      "WARNING: FITSFixedWarning: 'datfix' made the change 'Set MJD-OBS to 60871.000000 from DATE-OBS.\n",
      "Set DATE-END to '2025-07-15T15:11:27.701' from MJD-END'. [astropy.wcs.wcs]\n",
      "WARNING: FITSFixedWarning: 'datfix' made the change 'Set MJD-OBS to 60871.000000 from DATE-OBS.\n",
      "Set DATE-END to '2025-07-15T15:11:27.900' from MJD-END'. [astropy.wcs.wcs]\n"
     ]
    },
    {
     "name": "stdout",
     "output_type": "stream",
     "text": [
      "  Original center (x, y) = (854.0, 645.2)\n",
      "  Winpos center (x, y) = (853.7, 645.8)\n",
      "Data length (Nx, Ny)=(85, 85)\n",
      "  Original center (x, y) = (864.9, 626.4)\n",
      "  Winpos center (x, y) = (864.7, 627.2)\n",
      "Data length (Nx, Ny)=(85, 85)\n",
      "  Original center (x, y) = (817.0, 626.4)\n",
      "  Winpos center (x, y) = (816.8, 626.7)\n",
      "Data length (Nx, Ny)=(85, 85)\n",
      "  Original center (x, y) = (801.8, 634.4)\n",
      "  Winpos center (x, y) = (801.7, 634.7)\n",
      "Data length (Nx, Ny)=(85, 85)\n",
      "  Original center (x, y) = (814.0, 615.6)\n",
      "  Winpos center (x, y) = (814.0, 616.1)\n",
      "Data length (Nx, Ny)=(85, 85)\n"
     ]
    },
    {
     "name": "stderr",
     "output_type": "stream",
     "text": [
      "/var/folders/xv/z4qp4sf50z10cwc8tgxysssw0000gn/T/ipykernel_99592/108843714.py:32: FutureWarning: Setting an item of incompatible dtype is deprecated and will raise an error in a future version of pandas. Value '17.6658992767334' has dtype incompatible with int64, please explicitly cast to a compatible dtype first.\n",
      "  df_star.loc[df_star[\"band\"] == band, \"PSmag\"] = PSmag_band\n",
      "WARNING: FITSFixedWarning: 'datfix' made the change 'Set MJD-OBS to 60871.000000 from DATE-OBS.\n",
      "Set DATE-END to '2025-07-15T12:55:27.204' from MJD-END'. [astropy.wcs.wcs]\n",
      "WARNING: FITSFixedWarning: 'datfix' made the change 'Set MJD-OBS to 60871.000000 from DATE-OBS.\n",
      "Set DATE-END to '2025-07-15T12:55:26.797' from MJD-END'. [astropy.wcs.wcs]\n",
      "WARNING: FITSFixedWarning: 'datfix' made the change 'Set MJD-OBS to 60871.000000 from DATE-OBS.\n",
      "Set DATE-END to '2025-07-15T12:55:26.996' from MJD-END'. [astropy.wcs.wcs]\n",
      "WARNING: FITSFixedWarning: 'datfix' made the change 'Set MJD-OBS to 60871.000000 from DATE-OBS.\n",
      "Set DATE-END to '2025-07-15T13:27:32.602' from MJD-END'. [astropy.wcs.wcs]\n"
     ]
    },
    {
     "name": "stdout",
     "output_type": "stream",
     "text": [
      "  Original center (x, y) = (1388.3, 666.5)\n",
      "  Winpos center (x, y) = (1387.6, 667.8)\n",
      "Data length (Nx, Ny)=(85, 85)\n",
      "  Original center (x, y) = (1375.4, 678.0)\n",
      "  Winpos center (x, y) = (1372.4, 678.7)\n",
      "Data length (Nx, Ny)=(85, 85)\n",
      "  Original center (x, y) = (1384.1, 657.5)\n",
      "  Winpos center (x, y) = (1383.9, 658.0)\n",
      "Data length (Nx, Ny)=(85, 85)\n",
      "  Original center (x, y) = (1258.0, 659.5)\n",
      "  Winpos center (x, y) = (1255.9, 659.9)\n",
      "Data length (Nx, Ny)=(85, 85)\n"
     ]
    },
    {
     "name": "stderr",
     "output_type": "stream",
     "text": [
      "WARNING: FITSFixedWarning: 'datfix' made the change 'Set MJD-OBS to 60871.000000 from DATE-OBS.\n",
      "Set DATE-END to '2025-07-15T13:27:32.196' from MJD-END'. [astropy.wcs.wcs]\n",
      "WARNING: FITSFixedWarning: 'datfix' made the change 'Set MJD-OBS to 60871.000000 from DATE-OBS.\n",
      "Set DATE-END to '2025-07-15T13:27:32.403' from MJD-END'. [astropy.wcs.wcs]\n",
      "WARNING: FITSFixedWarning: 'datfix' made the change 'Set MJD-OBS to 60871.000000 from DATE-OBS.\n",
      "Set DATE-END to '2025-07-15T14:00:17.899' from MJD-END'. [astropy.wcs.wcs]\n",
      "WARNING: FITSFixedWarning: 'datfix' made the change 'Set MJD-OBS to 60871.000000 from DATE-OBS.\n",
      "Set DATE-END to '2025-07-15T14:00:17.502' from MJD-END'. [astropy.wcs.wcs]\n"
     ]
    },
    {
     "name": "stdout",
     "output_type": "stream",
     "text": [
      "  Original center (x, y) = (1242.2, 668.4)\n",
      "  Winpos center (x, y) = (1240.8, 670.6)\n",
      "Data length (Nx, Ny)=(85, 85)\n",
      "  Original center (x, y) = (1252.6, 649.6)\n",
      "  Winpos center (x, y) = (1252.0, 650.2)\n",
      "Data length (Nx, Ny)=(85, 85)\n",
      "  Original center (x, y) = (1114.7, 653.8)\n",
      "  Winpos center (x, y) = (1113.4, 653.4)\n",
      "Data length (Nx, Ny)=(85, 85)\n",
      "  Original center (x, y) = (1099.6, 663.7)\n",
      "  Winpos center (x, y) = (1098.3, 663.4)\n",
      "Data length (Nx, Ny)=(85, 85)\n"
     ]
    },
    {
     "name": "stderr",
     "output_type": "stream",
     "text": [
      "WARNING: FITSFixedWarning: 'datfix' made the change 'Set MJD-OBS to 60871.000000 from DATE-OBS.\n",
      "Set DATE-END to '2025-07-15T14:00:17.700' from MJD-END'. [astropy.wcs.wcs]\n",
      "WARNING: FITSFixedWarning: 'datfix' made the change 'Set MJD-OBS to 60871.000000 from DATE-OBS.\n",
      "Set DATE-END to '2025-07-15T14:14:10.596' from MJD-END'. [astropy.wcs.wcs]\n",
      "WARNING: FITSFixedWarning: 'datfix' made the change 'Set MJD-OBS to 60871.000000 from DATE-OBS.\n",
      "Set DATE-END to '2025-07-15T14:14:10.199' from MJD-END'. [astropy.wcs.wcs]\n",
      "WARNING: FITSFixedWarning: 'datfix' made the change 'Set MJD-OBS to 60871.000000 from DATE-OBS.\n",
      "Set DATE-END to '2025-07-15T14:14:10.398' from MJD-END'. [astropy.wcs.wcs]\n"
     ]
    },
    {
     "name": "stdout",
     "output_type": "stream",
     "text": [
      "  Original center (x, y) = (1110.0, 644.1)\n",
      "  Winpos center (x, y) = (1109.7, 643.7)\n",
      "Data length (Nx, Ny)=(85, 85)\n",
      "  Original center (x, y) = (1047.6, 640.3)\n",
      "  Winpos center (x, y) = (1046.1, 641.6)\n",
      "Data length (Nx, Ny)=(85, 85)\n",
      "  Original center (x, y) = (1032.1, 649.5)\n",
      "  Winpos center (x, y) = (1031.5, 651.1)\n",
      "Data length (Nx, Ny)=(85, 85)\n",
      "  Original center (x, y) = (1043.3, 629.9)\n",
      "  Winpos center (x, y) = (1042.8, 631.4)\n",
      "Data length (Nx, Ny)=(85, 85)\n",
      "  Original center (x, y) = (1004.7, 642.5)\n",
      "  Winpos center (x, y) = (1003.6, 643.8)\n",
      "Data length (Nx, Ny)=(85, 85)\n",
      "  Original center (x, y) = (990.3, 651.7)\n",
      "  Winpos center (x, y) = (989.4, 652.8)\n",
      "Data length (Nx, Ny)=(85, 85)\n",
      "  Original center (x, y) = (1000.7, 632.0)\n",
      "  Winpos center (x, y) = (1000.4, 633.3)\n",
      "Data length (Nx, Ny)=(85, 85)\n"
     ]
    },
    {
     "name": "stderr",
     "output_type": "stream",
     "text": [
      "WARNING: FITSFixedWarning: 'datfix' made the change 'Set MJD-OBS to 60871.000000 from DATE-OBS.\n",
      "Set DATE-END to '2025-07-15T14:24:13.504' from MJD-END'. [astropy.wcs.wcs]\n",
      "WARNING: FITSFixedWarning: 'datfix' made the change 'Set MJD-OBS to 60871.000000 from DATE-OBS.\n",
      "Set DATE-END to '2025-07-15T14:24:13.098' from MJD-END'. [astropy.wcs.wcs]\n",
      "WARNING: FITSFixedWarning: 'datfix' made the change 'Set MJD-OBS to 60871.000000 from DATE-OBS.\n",
      "Set DATE-END to '2025-07-15T14:24:13.297' from MJD-END'. [astropy.wcs.wcs]\n",
      "/var/folders/xv/z4qp4sf50z10cwc8tgxysssw0000gn/T/ipykernel_99592/108843714.py:52: FutureWarning: Setting an item of incompatible dtype is deprecated and will raise an error in a future version of pandas. Value '17.6658992767334' has dtype incompatible with int64, please explicitly cast to a compatible dtype first.\n",
      "  df_star.loc[df_star[\"band\"] == band, \"PSmag\"] = PSmag_band\n",
      "WARNING: FITSFixedWarning: 'datfix' made the change 'Set MJD-OBS to 60871.000000 from DATE-OBS.\n",
      "Set DATE-END to '2025-07-15T12:42:50.901' from MJD-END'. [astropy.wcs.wcs]\n",
      "WARNING: FITSFixedWarning: 'datfix' made the change 'Set MJD-OBS to 60871.000000 from DATE-OBS.\n",
      "Set DATE-END to '2025-07-15T12:42:50.599' from MJD-END'. [astropy.wcs.wcs]\n",
      "WARNING: FITSFixedWarning: 'datfix' made the change 'Set MJD-OBS to 60871.000000 from DATE-OBS.\n",
      "Set DATE-END to '2025-07-15T13:15:06.097' from MJD-END'. [astropy.wcs.wcs]\n",
      "WARNING: FITSFixedWarning: 'datfix' made the change 'Set MJD-OBS to 60871.000000 from DATE-OBS.\n",
      "Set DATE-END to '2025-07-15T13:15:05.700' from MJD-END'. [astropy.wcs.wcs]\n"
     ]
    },
    {
     "name": "stdout",
     "output_type": "stream",
     "text": [
      "  Original center (x, y) = (1446.3, 846.0)\n",
      "  Winpos center (x, y) = (1446.1, 846.1)\n",
      "Data length (Nx, Ny)=(85, 85)\n",
      "  Original center (x, y) = (1430.1, 857.5)\n",
      "  Winpos center (x, y) = (1429.5, 857.8)\n",
      "Data length (Nx, Ny)=(85, 85)\n",
      "  Original center (x, y) = (1441.6, 837.8)\n",
      "  Winpos center (x, y) = (1441.4, 837.1)\n",
      "Data length (Nx, Ny)=(85, 85)\n",
      "  Original center (x, y) = (1312.6, 832.9)\n",
      "  Winpos center (x, y) = (1313.3, 832.6)\n",
      "Data length (Nx, Ny)=(85, 85)\n",
      "  Original center (x, y) = (1296.3, 843.8)\n",
      "  Winpos center (x, y) = (1297.0, 843.4)\n",
      "Data length (Nx, Ny)=(85, 85)\n"
     ]
    },
    {
     "name": "stderr",
     "output_type": "stream",
     "text": [
      "WARNING: FITSFixedWarning: 'datfix' made the change 'Set MJD-OBS to 60871.000000 from DATE-OBS.\n",
      "Set DATE-END to '2025-07-15T13:15:05.898' from MJD-END'. [astropy.wcs.wcs]\n",
      "WARNING: FITSFixedWarning: 'datfix' made the change 'Set MJD-OBS to 60871.000000 from DATE-OBS.\n",
      "Set DATE-END to '2025-07-15T13:47:58.704' from MJD-END'. [astropy.wcs.wcs]\n",
      "WARNING: FITSFixedWarning: 'datfix' made the change 'Set MJD-OBS to 60871.000000 from DATE-OBS.\n",
      "Set DATE-END to '2025-07-15T13:47:58.298' from MJD-END'. [astropy.wcs.wcs]\n",
      "WARNING: FITSFixedWarning: 'datfix' made the change 'Set MJD-OBS to 60871.000000 from DATE-OBS.\n",
      "Set DATE-END to '2025-07-15T13:47:58.497' from MJD-END'. [astropy.wcs.wcs]\n",
      "WARNING: FITSFixedWarning: 'datfix' made the change 'Set MJD-OBS to 60871.000000 from DATE-OBS.\n",
      "Set DATE-END to '2025-07-15T14:38:19.196' from MJD-END'. [astropy.wcs.wcs]\n"
     ]
    },
    {
     "name": "stdout",
     "output_type": "stream",
     "text": [
      "  Original center (x, y) = (1308.0, 823.8)\n",
      "  Winpos center (x, y) = (1308.9, 823.5)\n",
      "Data length (Nx, Ny)=(85, 85)\n",
      "  Original center (x, y) = (1175.1, 823.6)\n",
      "  Winpos center (x, y) = (1172.8, 825.2)\n",
      "Data length (Nx, Ny)=(85, 85)\n",
      "  Original center (x, y) = (1158.9, 833.8)\n",
      "  Winpos center (x, y) = (1156.7, 835.4)\n",
      "Data length (Nx, Ny)=(85, 85)\n",
      "  Original center (x, y) = (1168.4, 815.7)\n",
      "  Winpos center (x, y) = (1168.3, 814.9)\n",
      "Data length (Nx, Ny)=(85, 85)\n",
      "  Original center (x, y) = (958.8, 810.6)\n",
      "  Winpos center (x, y) = (958.4, 810.8)\n",
      "Data length (Nx, Ny)=(85, 85)\n",
      "  Original center (x, y) = (943.8, 819.5)\n",
      "  Winpos center (x, y) = (943.5, 819.6)\n",
      "Data length (Nx, Ny)=(85, 85)\n",
      "  Original center (x, y) = (955.5, 800.7)\n",
      "  Winpos center (x, y) = (955.4, 800.8)\n",
      "Data length (Nx, Ny)=(85, 85)\n",
      "  Original center (x, y) = (918.1, 815.1)\n",
      "  Winpos center (x, y) = (917.7, 814.3)\n",
      "Data length (Nx, Ny)=(85, 85)\n"
     ]
    },
    {
     "name": "stderr",
     "output_type": "stream",
     "text": [
      "WARNING: FITSFixedWarning: 'datfix' made the change 'Set MJD-OBS to 60871.000000 from DATE-OBS.\n",
      "Set DATE-END to '2025-07-15T14:38:18.799' from MJD-END'. [astropy.wcs.wcs]\n",
      "WARNING: FITSFixedWarning: 'datfix' made the change 'Set MJD-OBS to 60871.000000 from DATE-OBS.\n",
      "Set DATE-END to '2025-07-15T14:38:18.997' from MJD-END'. [astropy.wcs.wcs]\n",
      "WARNING: FITSFixedWarning: 'datfix' made the change 'Set MJD-OBS to 60871.000000 from DATE-OBS.\n",
      "Set DATE-END to '2025-07-15T14:48:22.199' from MJD-END'. [astropy.wcs.wcs]\n",
      "WARNING: FITSFixedWarning: 'datfix' made the change 'Set MJD-OBS to 60871.000000 from DATE-OBS.\n",
      "Set DATE-END to '2025-07-15T14:48:21.802' from MJD-END'. [astropy.wcs.wcs]\n",
      "WARNING: FITSFixedWarning: 'datfix' made the change 'Set MJD-OBS to 60871.000000 from DATE-OBS.\n",
      "Set DATE-END to '2025-07-15T14:48:22' from MJD-END'. [astropy.wcs.wcs]\n"
     ]
    },
    {
     "name": "stdout",
     "output_type": "stream",
     "text": [
      "  Original center (x, y) = (903.1, 823.8)\n",
      "  Winpos center (x, y) = (902.9, 822.8)\n",
      "Data length (Nx, Ny)=(85, 85)\n",
      "  Original center (x, y) = (914.3, 805.0)\n",
      "  Winpos center (x, y) = (914.7, 804.1)\n",
      "Data length (Nx, Ny)=(85, 85)\n",
      "  Original center (x, y) = (879.1, 814.8)\n",
      "  Winpos center (x, y) = (879.2, 814.8)\n",
      "Data length (Nx, Ny)=(85, 85)\n",
      "  Original center (x, y) = (864.2, 823.2)\n",
      "  Winpos center (x, y) = (864.5, 823.2)\n",
      "Data length (Nx, Ny)=(85, 85)\n"
     ]
    },
    {
     "name": "stderr",
     "output_type": "stream",
     "text": [
      "WARNING: FITSFixedWarning: 'datfix' made the change 'Set MJD-OBS to 60871.000000 from DATE-OBS.\n",
      "Set DATE-END to '2025-07-15T14:58:25.003' from MJD-END'. [astropy.wcs.wcs]\n",
      "WARNING: FITSFixedWarning: 'datfix' made the change 'Set MJD-OBS to 60871.000000 from DATE-OBS.\n",
      "Set DATE-END to '2025-07-15T14:58:24.597' from MJD-END'. [astropy.wcs.wcs]\n",
      "WARNING: FITSFixedWarning: 'datfix' made the change 'Set MJD-OBS to 60871.000000 from DATE-OBS.\n",
      "Set DATE-END to '2025-07-15T14:58:24.796' from MJD-END'. [astropy.wcs.wcs]\n",
      "WARNING: FITSFixedWarning: 'datfix' made the change 'Set MJD-OBS to 60871.000000 from DATE-OBS.\n",
      "Set DATE-END to '2025-07-15T15:11:28.098' from MJD-END'. [astropy.wcs.wcs]\n"
     ]
    },
    {
     "name": "stdout",
     "output_type": "stream",
     "text": [
      "  Original center (x, y) = (875.6, 804.5)\n",
      "  Winpos center (x, y) = (876.1, 804.7)\n",
      "Data length (Nx, Ny)=(85, 85)\n",
      "  Original center (x, y) = (828.2, 804.2)\n",
      "  Winpos center (x, y) = (828.2, 803.9)\n",
      "Data length (Nx, Ny)=(85, 85)\n",
      "  Original center (x, y) = (812.1, 812.3)\n",
      "  Winpos center (x, y) = (812.3, 812.1)\n",
      "Data length (Nx, Ny)=(85, 85)\n",
      "  Original center (x, y) = (824.7, 793.6)\n",
      "  Winpos center (x, y) = (825.3, 793.6)\n",
      "Data length (Nx, Ny)=(85, 85)\n"
     ]
    },
    {
     "name": "stderr",
     "output_type": "stream",
     "text": [
      "WARNING: FITSFixedWarning: 'datfix' made the change 'Set MJD-OBS to 60871.000000 from DATE-OBS.\n",
      "Set DATE-END to '2025-07-15T15:11:27.701' from MJD-END'. [astropy.wcs.wcs]\n",
      "WARNING: FITSFixedWarning: 'datfix' made the change 'Set MJD-OBS to 60871.000000 from DATE-OBS.\n",
      "Set DATE-END to '2025-07-15T15:11:27.900' from MJD-END'. [astropy.wcs.wcs]\n",
      "/var/folders/xv/z4qp4sf50z10cwc8tgxysssw0000gn/T/ipykernel_99592/108843714.py:32: FutureWarning: Setting an item of incompatible dtype is deprecated and will raise an error in a future version of pandas. Value '17.647300720214844' has dtype incompatible with int64, please explicitly cast to a compatible dtype first.\n",
      "  df_star.loc[df_star[\"band\"] == band, \"PSmag\"] = PSmag_band\n",
      "WARNING: FITSFixedWarning: 'datfix' made the change 'Set MJD-OBS to 60871.000000 from DATE-OBS.\n",
      "Set DATE-END to '2025-07-15T12:55:27.204' from MJD-END'. [astropy.wcs.wcs]\n",
      "WARNING: FITSFixedWarning: 'datfix' made the change 'Set MJD-OBS to 60871.000000 from DATE-OBS.\n",
      "Set DATE-END to '2025-07-15T12:55:26.797' from MJD-END'. [astropy.wcs.wcs]\n",
      "WARNING: FITSFixedWarning: 'datfix' made the change 'Set MJD-OBS to 60871.000000 from DATE-OBS.\n",
      "Set DATE-END to '2025-07-15T12:55:26.996' from MJD-END'. [astropy.wcs.wcs]\n",
      "WARNING: FITSFixedWarning: 'datfix' made the change 'Set MJD-OBS to 60871.000000 from DATE-OBS.\n",
      "Set DATE-END to '2025-07-15T13:27:32.602' from MJD-END'. [astropy.wcs.wcs]\n"
     ]
    },
    {
     "name": "stdout",
     "output_type": "stream",
     "text": [
      "  Original center (x, y) = (1399.6, 844.5)\n",
      "  Winpos center (x, y) = (1399.2, 845.1)\n",
      "Data length (Nx, Ny)=(85, 85)\n",
      "  Original center (x, y) = (1385.6, 857.0)\n",
      "  Winpos center (x, y) = (1383.3, 856.3)\n",
      "Data length (Nx, Ny)=(85, 85)\n",
      "  Original center (x, y) = (1395.1, 835.8)\n",
      "  Winpos center (x, y) = (1395.3, 835.6)\n",
      "Data length (Nx, Ny)=(85, 85)\n",
      "  Original center (x, y) = (1269.2, 837.8)\n",
      "  Winpos center (x, y) = (1267.5, 837.1)\n",
      "Data length (Nx, Ny)=(85, 85)\n"
     ]
    },
    {
     "name": "stderr",
     "output_type": "stream",
     "text": [
      "WARNING: FITSFixedWarning: 'datfix' made the change 'Set MJD-OBS to 60871.000000 from DATE-OBS.\n",
      "Set DATE-END to '2025-07-15T13:27:32.196' from MJD-END'. [astropy.wcs.wcs]\n",
      "WARNING: FITSFixedWarning: 'datfix' made the change 'Set MJD-OBS to 60871.000000 from DATE-OBS.\n",
      "Set DATE-END to '2025-07-15T13:27:32.403' from MJD-END'. [astropy.wcs.wcs]\n",
      "WARNING: FITSFixedWarning: 'datfix' made the change 'Set MJD-OBS to 60871.000000 from DATE-OBS.\n",
      "Set DATE-END to '2025-07-15T14:00:17.899' from MJD-END'. [astropy.wcs.wcs]\n",
      "WARNING: FITSFixedWarning: 'datfix' made the change 'Set MJD-OBS to 60871.000000 from DATE-OBS.\n",
      "Set DATE-END to '2025-07-15T14:00:17.502' from MJD-END'. [astropy.wcs.wcs]\n",
      "WARNING: FITSFixedWarning: 'datfix' made the change 'Set MJD-OBS to 60871.000000 from DATE-OBS.\n",
      "Set DATE-END to '2025-07-15T14:00:17.700' from MJD-END'. [astropy.wcs.wcs]\n"
     ]
    },
    {
     "name": "stdout",
     "output_type": "stream",
     "text": [
      "  Original center (x, y) = (1253.0, 847.1)\n",
      "  Winpos center (x, y) = (1251.6, 848.0)\n",
      "Data length (Nx, Ny)=(85, 85)\n",
      "  Original center (x, y) = (1263.5, 828.0)\n",
      "  Winpos center (x, y) = (1263.4, 827.8)\n",
      "Data length (Nx, Ny)=(85, 85)\n",
      "  Original center (x, y) = (1125.8, 831.8)\n",
      "  Winpos center (x, y) = (1125.0, 831.0)\n",
      "Data length (Nx, Ny)=(85, 85)\n",
      "  Original center (x, y) = (1109.8, 841.7)\n",
      "  Winpos center (x, y) = (1109.1, 841.2)\n",
      "Data length (Nx, Ny)=(85, 85)\n",
      "  Original center (x, y) = (1120.9, 822.0)\n",
      "  Winpos center (x, y) = (1121.1, 821.6)\n",
      "Data length (Nx, Ny)=(85, 85)\n",
      "  Original center (x, y) = (1058.8, 818.8)\n",
      "  Winpos center (x, y) = (1057.7, 818.8)\n",
      "Data length (Nx, Ny)=(85, 85)\n",
      "  Original center (x, y) = (1042.2, 828.2)\n",
      "  Winpos center (x, y) = (1042.2, 828.5)\n",
      "Data length (Nx, Ny)=(85, 85)\n",
      "  Original center (x, y) = (1054.0, 808.8)\n",
      "  Winpos center (x, y) = (1054.1, 808.9)\n",
      "Data length (Nx, Ny)=(85, 85)\n"
     ]
    },
    {
     "name": "stderr",
     "output_type": "stream",
     "text": [
      "WARNING: FITSFixedWarning: 'datfix' made the change 'Set MJD-OBS to 60871.000000 from DATE-OBS.\n",
      "Set DATE-END to '2025-07-15T14:14:10.596' from MJD-END'. [astropy.wcs.wcs]\n",
      "WARNING: FITSFixedWarning: 'datfix' made the change 'Set MJD-OBS to 60871.000000 from DATE-OBS.\n",
      "Set DATE-END to '2025-07-15T14:14:10.199' from MJD-END'. [astropy.wcs.wcs]\n",
      "WARNING: FITSFixedWarning: 'datfix' made the change 'Set MJD-OBS to 60871.000000 from DATE-OBS.\n",
      "Set DATE-END to '2025-07-15T14:14:10.398' from MJD-END'. [astropy.wcs.wcs]\n",
      "WARNING: FITSFixedWarning: 'datfix' made the change 'Set MJD-OBS to 60871.000000 from DATE-OBS.\n",
      "Set DATE-END to '2025-07-15T14:24:13.504' from MJD-END'. [astropy.wcs.wcs]\n"
     ]
    },
    {
     "name": "stdout",
     "output_type": "stream",
     "text": [
      "  Original center (x, y) = (1015.9, 820.7)\n",
      "  Winpos center (x, y) = (1015.2, 820.9)\n",
      "Data length (Nx, Ny)=(85, 85)\n",
      "  Original center (x, y) = (1000.5, 830.1)\n",
      "  Winpos center (x, y) = (1000.1, 830.1)\n",
      "Data length (Nx, Ny)=(85, 85)\n",
      "  Original center (x, y) = (1011.4, 810.6)\n",
      "  Winpos center (x, y) = (1011.7, 810.9)\n",
      "Data length (Nx, Ny)=(85, 85)\n"
     ]
    },
    {
     "name": "stderr",
     "output_type": "stream",
     "text": [
      "WARNING: FITSFixedWarning: 'datfix' made the change 'Set MJD-OBS to 60871.000000 from DATE-OBS.\n",
      "Set DATE-END to '2025-07-15T14:24:13.098' from MJD-END'. [astropy.wcs.wcs]\n",
      "WARNING: FITSFixedWarning: 'datfix' made the change 'Set MJD-OBS to 60871.000000 from DATE-OBS.\n",
      "Set DATE-END to '2025-07-15T14:24:13.297' from MJD-END'. [astropy.wcs.wcs]\n",
      "/var/folders/xv/z4qp4sf50z10cwc8tgxysssw0000gn/T/ipykernel_99592/108843714.py:52: FutureWarning: Setting an item of incompatible dtype is deprecated and will raise an error in a future version of pandas. Value '17.647300720214844' has dtype incompatible with int64, please explicitly cast to a compatible dtype first.\n",
      "  df_star.loc[df_star[\"band\"] == band, \"PSmag\"] = PSmag_band\n",
      "WARNING: FITSFixedWarning: 'datfix' made the change 'Set MJD-OBS to 60871.000000 from DATE-OBS.\n",
      "Set DATE-END to '2025-07-15T12:42:50.901' from MJD-END'. [astropy.wcs.wcs]\n",
      "WARNING: FITSFixedWarning: 'datfix' made the change 'Set MJD-OBS to 60871.000000 from DATE-OBS.\n",
      "Set DATE-END to '2025-07-15T12:42:50.599' from MJD-END'. [astropy.wcs.wcs]\n",
      "WARNING: FITSFixedWarning: 'datfix' made the change 'Set MJD-OBS to 60871.000000 from DATE-OBS.\n",
      "Set DATE-END to '2025-07-15T13:15:06.097' from MJD-END'. [astropy.wcs.wcs]\n",
      "WARNING: FITSFixedWarning: 'datfix' made the change 'Set MJD-OBS to 60871.000000 from DATE-OBS.\n",
      "Set DATE-END to '2025-07-15T13:15:05.700' from MJD-END'. [astropy.wcs.wcs]\n"
     ]
    },
    {
     "name": "stdout",
     "output_type": "stream",
     "text": [
      "  Original center (x, y) = (1789.6, 962.6)\n",
      "  Winpos center (x, y) = (1790.4, 963.3)\n",
      "Data length (Nx, Ny)=(85, 85)\n",
      "  Original center (x, y) = (1773.2, 975.5)\n",
      "  Winpos center (x, y) = (1773.3, 976.9)\n",
      "Data length (Nx, Ny)=(85, 85)\n",
      "  Original center (x, y) = (1785.3, 955.1)\n",
      "  Winpos center (x, y) = (1785.3, 955.1)\n",
      "Data length (Nx, Ny)=(85, 85)\n",
      "  Original center (x, y) = (1656.7, 949.3)\n",
      "  Winpos center (x, y) = (1656.5, 949.5)\n",
      "Data length (Nx, Ny)=(85, 85)\n",
      "  Original center (x, y) = (1640.0, 962.1)\n",
      "  Winpos center (x, y) = (1639.7, 962.3)\n",
      "Data length (Nx, Ny)=(85, 85)\n",
      "  Original center (x, y) = (1652.2, 941.1)\n",
      "  Winpos center (x, y) = (1651.8, 941.1)\n",
      "Data length (Nx, Ny)=(85, 85)\n",
      "  Original center (x, y) = (1521.2, 939.8)\n",
      "  Winpos center (x, y) = (1515.2, 941.9)\n",
      "Data length (Nx, Ny)=(85, 85)\n",
      "  Original center (x, y) = (1504.4, 952.0)\n",
      "  Winpos center (x, y) = (1498.6, 954.0)\n",
      "Data length (Nx, Ny)=(85, 85)\n"
     ]
    },
    {
     "name": "stderr",
     "output_type": "stream",
     "text": [
      "WARNING: FITSFixedWarning: 'datfix' made the change 'Set MJD-OBS to 60871.000000 from DATE-OBS.\n",
      "Set DATE-END to '2025-07-15T13:15:05.898' from MJD-END'. [astropy.wcs.wcs]\n",
      "WARNING: FITSFixedWarning: 'datfix' made the change 'Set MJD-OBS to 60871.000000 from DATE-OBS.\n",
      "Set DATE-END to '2025-07-15T13:47:58.704' from MJD-END'. [astropy.wcs.wcs]\n",
      "WARNING: FITSFixedWarning: 'datfix' made the change 'Set MJD-OBS to 60871.000000 from DATE-OBS.\n",
      "Set DATE-END to '2025-07-15T13:47:58.298' from MJD-END'. [astropy.wcs.wcs]\n",
      "WARNING: FITSFixedWarning: 'datfix' made the change 'Set MJD-OBS to 60871.000000 from DATE-OBS.\n",
      "Set DATE-END to '2025-07-15T13:47:58.497' from MJD-END'. [astropy.wcs.wcs]\n"
     ]
    },
    {
     "name": "stdout",
     "output_type": "stream",
     "text": [
      "  Original center (x, y) = (1512.8, 933.2)\n",
      "  Winpos center (x, y) = (1510.6, 932.4)\n",
      "Data length (Nx, Ny)=(85, 85)\n",
      "  Original center (x, y) = (1302.5, 927.5)\n",
      "  Winpos center (x, y) = (1300.2, 927.2)\n",
      "Data length (Nx, Ny)=(85, 85)\n",
      "  Original center (x, y) = (1286.9, 938.2)\n",
      "  Winpos center (x, y) = (1285.0, 937.9)\n",
      "Data length (Nx, Ny)=(85, 85)\n",
      "  Original center (x, y) = (1299.0, 918.3)\n",
      "  Winpos center (x, y) = (1297.2, 918.1)\n",
      "Data length (Nx, Ny)=(85, 85)\n"
     ]
    },
    {
     "name": "stderr",
     "output_type": "stream",
     "text": [
      "WARNING: FITSFixedWarning: 'datfix' made the change 'Set MJD-OBS to 60871.000000 from DATE-OBS.\n",
      "Set DATE-END to '2025-07-15T14:38:19.196' from MJD-END'. [astropy.wcs.wcs]\n",
      "WARNING: FITSFixedWarning: 'datfix' made the change 'Set MJD-OBS to 60871.000000 from DATE-OBS.\n",
      "Set DATE-END to '2025-07-15T14:38:18.799' from MJD-END'. [astropy.wcs.wcs]\n",
      "WARNING: FITSFixedWarning: 'datfix' made the change 'Set MJD-OBS to 60871.000000 from DATE-OBS.\n",
      "Set DATE-END to '2025-07-15T14:38:18.997' from MJD-END'. [astropy.wcs.wcs]\n",
      "WARNING: FITSFixedWarning: 'datfix' made the change 'Set MJD-OBS to 60871.000000 from DATE-OBS.\n",
      "Set DATE-END to '2025-07-15T14:48:22.199' from MJD-END'. [astropy.wcs.wcs]\n",
      "WARNING: FITSFixedWarning: 'datfix' made the change 'Set MJD-OBS to 60871.000000 from DATE-OBS.\n",
      "Set DATE-END to '2025-07-15T14:48:21.802' from MJD-END'. [astropy.wcs.wcs]\n"
     ]
    },
    {
     "name": "stdout",
     "output_type": "stream",
     "text": [
      "  Original center (x, y) = (1261.6, 931.8)\n",
      "  Winpos center (x, y) = (1259.5, 930.8)\n",
      "Data length (Nx, Ny)=(85, 85)\n",
      "  Original center (x, y) = (1246.0, 942.3)\n",
      "  Winpos center (x, y) = (1244.3, 941.3)\n",
      "Data length (Nx, Ny)=(85, 85)\n",
      "  Original center (x, y) = (1257.9, 922.7)\n",
      "  Winpos center (x, y) = (1256.5, 921.5)\n",
      "Data length (Nx, Ny)=(85, 85)\n",
      "  Original center (x, y) = (1222.4, 931.4)\n",
      "  Winpos center (x, y) = (1220.9, 931.3)\n",
      "Data length (Nx, Ny)=(85, 85)\n"
     ]
    },
    {
     "name": "stderr",
     "output_type": "stream",
     "text": [
      "WARNING: FITSFixedWarning: 'datfix' made the change 'Set MJD-OBS to 60871.000000 from DATE-OBS.\n",
      "Set DATE-END to '2025-07-15T14:48:22' from MJD-END'. [astropy.wcs.wcs]\n",
      "WARNING: FITSFixedWarning: 'datfix' made the change 'Set MJD-OBS to 60871.000000 from DATE-OBS.\n",
      "Set DATE-END to '2025-07-15T14:58:25.003' from MJD-END'. [astropy.wcs.wcs]\n",
      "WARNING: FITSFixedWarning: 'datfix' made the change 'Set MJD-OBS to 60871.000000 from DATE-OBS.\n",
      "Set DATE-END to '2025-07-15T14:58:24.597' from MJD-END'. [astropy.wcs.wcs]\n",
      "WARNING: FITSFixedWarning: 'datfix' made the change 'Set MJD-OBS to 60871.000000 from DATE-OBS.\n",
      "Set DATE-END to '2025-07-15T14:58:24.796' from MJD-END'. [astropy.wcs.wcs]\n"
     ]
    },
    {
     "name": "stdout",
     "output_type": "stream",
     "text": [
      "  Original center (x, y) = (1207.0, 941.6)\n",
      "  Winpos center (x, y) = (1205.7, 941.6)\n",
      "Data length (Nx, Ny)=(85, 85)\n",
      "  Original center (x, y) = (1219.0, 922.2)\n",
      "  Winpos center (x, y) = (1217.8, 922.0)\n",
      "Data length (Nx, Ny)=(85, 85)\n",
      "  Original center (x, y) = (1171.4, 920.8)\n",
      "  Winpos center (x, y) = (1170.0, 920.4)\n",
      "Data length (Nx, Ny)=(85, 85)\n",
      "  Original center (x, y) = (1154.7, 930.7)\n",
      "  Winpos center (x, y) = (1153.6, 930.4)\n",
      "Data length (Nx, Ny)=(85, 85)\n"
     ]
    },
    {
     "name": "stderr",
     "output_type": "stream",
     "text": [
      "WARNING: FITSFixedWarning: 'datfix' made the change 'Set MJD-OBS to 60871.000000 from DATE-OBS.\n",
      "Set DATE-END to '2025-07-15T15:11:28.098' from MJD-END'. [astropy.wcs.wcs]\n",
      "WARNING: FITSFixedWarning: 'datfix' made the change 'Set MJD-OBS to 60871.000000 from DATE-OBS.\n",
      "Set DATE-END to '2025-07-15T15:11:27.701' from MJD-END'. [astropy.wcs.wcs]\n",
      "WARNING: FITSFixedWarning: 'datfix' made the change 'Set MJD-OBS to 60871.000000 from DATE-OBS.\n",
      "Set DATE-END to '2025-07-15T15:11:27.900' from MJD-END'. [astropy.wcs.wcs]\n"
     ]
    },
    {
     "name": "stdout",
     "output_type": "stream",
     "text": [
      "  Original center (x, y) = (1168.1, 911.3)\n",
      "  Winpos center (x, y) = (1167.1, 910.9)\n",
      "Data length (Nx, Ny)=(85, 85)\n"
     ]
    },
    {
     "name": "stderr",
     "output_type": "stream",
     "text": [
      "/var/folders/xv/z4qp4sf50z10cwc8tgxysssw0000gn/T/ipykernel_99592/108843714.py:32: FutureWarning: Setting an item of incompatible dtype is deprecated and will raise an error in a future version of pandas. Value '17.276899337768555' has dtype incompatible with int64, please explicitly cast to a compatible dtype first.\n",
      "  df_star.loc[df_star[\"band\"] == band, \"PSmag\"] = PSmag_band\n",
      "WARNING: FITSFixedWarning: 'datfix' made the change 'Set MJD-OBS to 60871.000000 from DATE-OBS.\n",
      "Set DATE-END to '2025-07-15T12:55:27.204' from MJD-END'. [astropy.wcs.wcs]\n",
      "WARNING: FITSFixedWarning: 'datfix' made the change 'Set MJD-OBS to 60871.000000 from DATE-OBS.\n",
      "Set DATE-END to '2025-07-15T12:55:26.797' from MJD-END'. [astropy.wcs.wcs]\n",
      "WARNING: FITSFixedWarning: 'datfix' made the change 'Set MJD-OBS to 60871.000000 from DATE-OBS.\n",
      "Set DATE-END to '2025-07-15T12:55:26.996' from MJD-END'. [astropy.wcs.wcs]\n"
     ]
    },
    {
     "name": "stdout",
     "output_type": "stream",
     "text": [
      "  Original center (x, y) = (1743.1, 960.9)\n",
      "  Winpos center (x, y) = (1743.3, 962.2)\n",
      "Data length (Nx, Ny)=(85, 85)\n",
      "  Original center (x, y) = (1730.2, 976.2)\n",
      "  Winpos center (x, y) = (1726.7, 975.3)\n",
      "Data length (Nx, Ny)=(85, 85)\n",
      "  Original center (x, y) = (1739.1, 953.1)\n",
      "  Winpos center (x, y) = (1739.0, 953.5)\n",
      "Data length (Nx, Ny)=(85, 85)\n",
      "  Original center (x, y) = (1613.3, 954.7)\n",
      "  Winpos center (x, y) = (1610.5, 953.9)\n",
      "Data length (Nx, Ny)=(85, 85)\n"
     ]
    },
    {
     "name": "stderr",
     "output_type": "stream",
     "text": [
      "WARNING: FITSFixedWarning: 'datfix' made the change 'Set MJD-OBS to 60871.000000 from DATE-OBS.\n",
      "Set DATE-END to '2025-07-15T13:27:32.602' from MJD-END'. [astropy.wcs.wcs]\n",
      "WARNING: FITSFixedWarning: 'datfix' made the change 'Set MJD-OBS to 60871.000000 from DATE-OBS.\n",
      "Set DATE-END to '2025-07-15T13:27:32.196' from MJD-END'. [astropy.wcs.wcs]\n",
      "WARNING: FITSFixedWarning: 'datfix' made the change 'Set MJD-OBS to 60871.000000 from DATE-OBS.\n",
      "Set DATE-END to '2025-07-15T13:27:32.403' from MJD-END'. [astropy.wcs.wcs]\n",
      "WARNING: FITSFixedWarning: 'datfix' made the change 'Set MJD-OBS to 60871.000000 from DATE-OBS.\n",
      "Set DATE-END to '2025-07-15T14:00:17.899' from MJD-END'. [astropy.wcs.wcs]\n"
     ]
    },
    {
     "name": "stdout",
     "output_type": "stream",
     "text": [
      "  Original center (x, y) = (1597.3, 965.1)\n",
      "  Winpos center (x, y) = (1594.0, 966.7)\n",
      "Data length (Nx, Ny)=(85, 85)\n",
      "  Original center (x, y) = (1607.5, 945.3)\n",
      "  Winpos center (x, y) = (1606.3, 945.4)\n",
      "Data length (Nx, Ny)=(85, 85)\n",
      "  Original center (x, y) = (1469.2, 948.5)\n",
      "  Winpos center (x, y) = (1467.2, 947.6)\n",
      "Data length (Nx, Ny)=(85, 85)\n",
      "  Original center (x, y) = (1452.7, 960.3)\n",
      "  Winpos center (x, y) = (1450.8, 959.8)\n",
      "Data length (Nx, Ny)=(85, 85)\n"
     ]
    },
    {
     "name": "stderr",
     "output_type": "stream",
     "text": [
      "WARNING: FITSFixedWarning: 'datfix' made the change 'Set MJD-OBS to 60871.000000 from DATE-OBS.\n",
      "Set DATE-END to '2025-07-15T14:00:17.502' from MJD-END'. [astropy.wcs.wcs]\n",
      "WARNING: FITSFixedWarning: 'datfix' made the change 'Set MJD-OBS to 60871.000000 from DATE-OBS.\n",
      "Set DATE-END to '2025-07-15T14:00:17.700' from MJD-END'. [astropy.wcs.wcs]\n",
      "WARNING: FITSFixedWarning: 'datfix' made the change 'Set MJD-OBS to 60871.000000 from DATE-OBS.\n",
      "Set DATE-END to '2025-07-15T14:14:10.596' from MJD-END'. [astropy.wcs.wcs]\n"
     ]
    },
    {
     "name": "stdout",
     "output_type": "stream",
     "text": [
      "  Original center (x, y) = (1464.0, 939.2)\n",
      "  Winpos center (x, y) = (1463.3, 939.0)\n",
      "Data length (Nx, Ny)=(85, 85)\n",
      "  Original center (x, y) = (1403.1, 935.9)\n",
      "  Winpos center (x, y) = (1399.7, 935.3)\n",
      "Data length (Nx, Ny)=(85, 85)\n",
      "  Original center (x, y) = (1386.3, 947.6)\n",
      "  Winpos center (x, y) = (1383.8, 946.9)\n",
      "Data length (Nx, Ny)=(85, 85)\n"
     ]
    },
    {
     "name": "stderr",
     "output_type": "stream",
     "text": [
      "WARNING: FITSFixedWarning: 'datfix' made the change 'Set MJD-OBS to 60871.000000 from DATE-OBS.\n",
      "Set DATE-END to '2025-07-15T14:14:10.199' from MJD-END'. [astropy.wcs.wcs]\n",
      "WARNING: FITSFixedWarning: 'datfix' made the change 'Set MJD-OBS to 60871.000000 from DATE-OBS.\n",
      "Set DATE-END to '2025-07-15T14:14:10.398' from MJD-END'. [astropy.wcs.wcs]\n",
      "WARNING: FITSFixedWarning: 'datfix' made the change 'Set MJD-OBS to 60871.000000 from DATE-OBS.\n",
      "Set DATE-END to '2025-07-15T14:24:13.504' from MJD-END'. [astropy.wcs.wcs]\n",
      "WARNING: FITSFixedWarning: 'datfix' made the change 'Set MJD-OBS to 60871.000000 from DATE-OBS.\n",
      "Set DATE-END to '2025-07-15T14:24:13.098' from MJD-END'. [astropy.wcs.wcs]\n"
     ]
    },
    {
     "name": "stdout",
     "output_type": "stream",
     "text": [
      "  Original center (x, y) = (1398.6, 927.1)\n",
      "  Winpos center (x, y) = (1396.3, 926.3)\n",
      "Data length (Nx, Ny)=(85, 85)\n",
      "  Original center (x, y) = (1360.0, 937.7)\n",
      "  Winpos center (x, y) = (1357.4, 937.3)\n",
      "Data length (Nx, Ny)=(85, 85)\n",
      "  Original center (x, y) = (1343.9, 948.8)\n",
      "  Winpos center (x, y) = (1341.8, 948.5)\n",
      "Data length (Nx, Ny)=(85, 85)\n",
      "  Original center (x, y) = (1355.8, 928.8)\n",
      "  Winpos center (x, y) = (1354.0, 928.2)\n",
      "Data length (Nx, Ny)=(85, 85)\n"
     ]
    },
    {
     "name": "stderr",
     "output_type": "stream",
     "text": [
      "WARNING: FITSFixedWarning: 'datfix' made the change 'Set MJD-OBS to 60871.000000 from DATE-OBS.\n",
      "Set DATE-END to '2025-07-15T14:24:13.297' from MJD-END'. [astropy.wcs.wcs]\n",
      "/var/folders/xv/z4qp4sf50z10cwc8tgxysssw0000gn/T/ipykernel_99592/108843714.py:52: FutureWarning: Setting an item of incompatible dtype is deprecated and will raise an error in a future version of pandas. Value '17.276899337768555' has dtype incompatible with int64, please explicitly cast to a compatible dtype first.\n",
      "  df_star.loc[df_star[\"band\"] == band, \"PSmag\"] = PSmag_band\n",
      "WARNING: FITSFixedWarning: 'datfix' made the change 'Set MJD-OBS to 60871.000000 from DATE-OBS.\n",
      "Set DATE-END to '2025-07-15T12:42:50.901' from MJD-END'. [astropy.wcs.wcs]\n",
      "WARNING: FITSFixedWarning: 'datfix' made the change 'Set MJD-OBS to 60871.000000 from DATE-OBS.\n",
      "Set DATE-END to '2025-07-15T12:42:50.599' from MJD-END'. [astropy.wcs.wcs]\n",
      "WARNING: FITSFixedWarning: 'datfix' made the change 'Set MJD-OBS to 60871.000000 from DATE-OBS.\n",
      "Set DATE-END to '2025-07-15T13:15:06.097' from MJD-END'. [astropy.wcs.wcs]\n",
      "WARNING: FITSFixedWarning: 'datfix' made the change 'Set MJD-OBS to 60871.000000 from DATE-OBS.\n",
      "Set DATE-END to '2025-07-15T13:15:05.700' from MJD-END'. [astropy.wcs.wcs]\n"
     ]
    },
    {
     "name": "stdout",
     "output_type": "stream",
     "text": [
      "  Original center (x, y) = (1695.6, 948.9)\n",
      "  Winpos center (x, y) = (1695.6, 948.8)\n",
      "Data length (Nx, Ny)=(85, 85)\n",
      "  Original center (x, y) = (1679.1, 961.4)\n",
      "  Winpos center (x, y) = (1678.6, 962.0)\n",
      "Data length (Nx, Ny)=(85, 85)\n",
      "  Original center (x, y) = (1691.1, 941.3)\n",
      "  Winpos center (x, y) = (1690.6, 940.7)\n",
      "Data length (Nx, Ny)=(85, 85)\n",
      "  Original center (x, y) = (1562.5, 935.7)\n",
      "  Winpos center (x, y) = (1562.2, 935.1)\n",
      "Data length (Nx, Ny)=(85, 85)\n",
      "  Original center (x, y) = (1545.8, 948.0)\n",
      "  Winpos center (x, y) = (1545.5, 947.6)\n",
      "Data length (Nx, Ny)=(85, 85)\n"
     ]
    },
    {
     "name": "stderr",
     "output_type": "stream",
     "text": [
      "WARNING: FITSFixedWarning: 'datfix' made the change 'Set MJD-OBS to 60871.000000 from DATE-OBS.\n",
      "Set DATE-END to '2025-07-15T13:15:05.898' from MJD-END'. [astropy.wcs.wcs]\n",
      "WARNING: FITSFixedWarning: 'datfix' made the change 'Set MJD-OBS to 60871.000000 from DATE-OBS.\n",
      "Set DATE-END to '2025-07-15T13:47:58.704' from MJD-END'. [astropy.wcs.wcs]\n",
      "WARNING: FITSFixedWarning: 'datfix' made the change 'Set MJD-OBS to 60871.000000 from DATE-OBS.\n",
      "Set DATE-END to '2025-07-15T13:47:58.298' from MJD-END'. [astropy.wcs.wcs]\n",
      "WARNING: FITSFixedWarning: 'datfix' made the change 'Set MJD-OBS to 60871.000000 from DATE-OBS.\n",
      "Set DATE-END to '2025-07-15T13:47:58.497' from MJD-END'. [astropy.wcs.wcs]\n"
     ]
    },
    {
     "name": "stdout",
     "output_type": "stream",
     "text": [
      "  Original center (x, y) = (1557.9, 927.2)\n",
      "  Winpos center (x, y) = (1557.5, 926.8)\n",
      "Data length (Nx, Ny)=(85, 85)\n",
      "  Original center (x, y) = (1426.5, 926.4)\n",
      "  Winpos center (x, y) = (1421.1, 927.6)\n",
      "Data length (Nx, Ny)=(85, 85)\n",
      "  Original center (x, y) = (1409.7, 938.0)\n",
      "  Winpos center (x, y) = (1404.6, 939.3)\n",
      "Data length (Nx, Ny)=(85, 85)\n",
      "  Original center (x, y) = (1418.5, 919.3)\n",
      "  Winpos center (x, y) = (1416.6, 918.2)\n",
      "Data length (Nx, Ny)=(85, 85)\n"
     ]
    },
    {
     "name": "stderr",
     "output_type": "stream",
     "text": [
      "WARNING: FITSFixedWarning: 'datfix' made the change 'Set MJD-OBS to 60871.000000 from DATE-OBS.\n",
      "Set DATE-END to '2025-07-15T14:38:19.196' from MJD-END'. [astropy.wcs.wcs]\n",
      "WARNING: FITSFixedWarning: 'datfix' made the change 'Set MJD-OBS to 60871.000000 from DATE-OBS.\n",
      "Set DATE-END to '2025-07-15T14:38:18.799' from MJD-END'. [astropy.wcs.wcs]\n",
      "WARNING: FITSFixedWarning: 'datfix' made the change 'Set MJD-OBS to 60871.000000 from DATE-OBS.\n",
      "Set DATE-END to '2025-07-15T14:38:18.997' from MJD-END'. [astropy.wcs.wcs]\n",
      "WARNING: FITSFixedWarning: 'datfix' made the change 'Set MJD-OBS to 60871.000000 from DATE-OBS.\n",
      "Set DATE-END to '2025-07-15T14:48:22.199' from MJD-END'. [astropy.wcs.wcs]\n",
      "WARNING: FITSFixedWarning: 'datfix' made the change 'Set MJD-OBS to 60871.000000 from DATE-OBS.\n",
      "Set DATE-END to '2025-07-15T14:48:21.802' from MJD-END'. [astropy.wcs.wcs]\n"
     ]
    },
    {
     "name": "stdout",
     "output_type": "stream",
     "text": [
      "  Original center (x, y) = (1208.4, 913.8)\n",
      "  Winpos center (x, y) = (1206.5, 913.0)\n",
      "Data length (Nx, Ny)=(85, 85)\n",
      "  Original center (x, y) = (1192.9, 924.0)\n",
      "  Winpos center (x, y) = (1191.2, 923.3)\n",
      "Data length (Nx, Ny)=(85, 85)\n",
      "  Original center (x, y) = (1204.9, 904.4)\n",
      "  Winpos center (x, y) = (1203.4, 903.9)\n",
      "Data length (Nx, Ny)=(85, 85)\n",
      "  Original center (x, y) = (1167.5, 918.1)\n",
      "  Winpos center (x, y) = (1165.8, 916.5)\n",
      "Data length (Nx, Ny)=(85, 85)\n",
      "  Original center (x, y) = (1152.0, 928.1)\n",
      "  Winpos center (x, y) = (1150.6, 926.8)\n",
      "Data length (Nx, Ny)=(85, 85)\n",
      "  Original center (x, y) = (1163.7, 908.8)\n",
      "  Winpos center (x, y) = (1162.7, 907.3)\n",
      "Data length (Nx, Ny)=(85, 85)\n",
      "  Original center (x, y) = (1128.4, 917.7)\n",
      "  Winpos center (x, y) = (1127.2, 917.0)\n",
      "Data length (Nx, Ny)=(85, 85)\n",
      "  Original center (x, y) = (1113.0, 927.5)\n",
      "  Winpos center (x, y) = (1112.0, 927.0)\n",
      "Data length (Nx, Ny)=(85, 85)\n"
     ]
    },
    {
     "name": "stderr",
     "output_type": "stream",
     "text": [
      "WARNING: FITSFixedWarning: 'datfix' made the change 'Set MJD-OBS to 60871.000000 from DATE-OBS.\n",
      "Set DATE-END to '2025-07-15T14:48:22' from MJD-END'. [astropy.wcs.wcs]\n",
      "WARNING: FITSFixedWarning: 'datfix' made the change 'Set MJD-OBS to 60871.000000 from DATE-OBS.\n",
      "Set DATE-END to '2025-07-15T14:58:25.003' from MJD-END'. [astropy.wcs.wcs]\n",
      "WARNING: FITSFixedWarning: 'datfix' made the change 'Set MJD-OBS to 60871.000000 from DATE-OBS.\n",
      "Set DATE-END to '2025-07-15T14:58:24.597' from MJD-END'. [astropy.wcs.wcs]\n",
      "WARNING: FITSFixedWarning: 'datfix' made the change 'Set MJD-OBS to 60871.000000 from DATE-OBS.\n",
      "Set DATE-END to '2025-07-15T14:58:24.796' from MJD-END'. [astropy.wcs.wcs]\n",
      "WARNING: FITSFixedWarning: 'datfix' made the change 'Set MJD-OBS to 60871.000000 from DATE-OBS.\n",
      "Set DATE-END to '2025-07-15T15:11:28.098' from MJD-END'. [astropy.wcs.wcs]\n"
     ]
    },
    {
     "name": "stdout",
     "output_type": "stream",
     "text": [
      "  Original center (x, y) = (1124.9, 908.2)\n",
      "  Winpos center (x, y) = (1124.0, 907.8)\n",
      "Data length (Nx, Ny)=(85, 85)\n",
      "  Original center (x, y) = (1077.4, 907.1)\n",
      "  Winpos center (x, y) = (1076.3, 906.1)\n",
      "Data length (Nx, Ny)=(85, 85)\n",
      "  Original center (x, y) = (1060.8, 916.6)\n",
      "  Winpos center (x, y) = (1059.9, 916.0)\n",
      "Data length (Nx, Ny)=(85, 85)\n",
      "  Original center (x, y) = (1074.0, 897.3)\n",
      "  Winpos center (x, y) = (1073.3, 896.7)\n",
      "Data length (Nx, Ny)=(85, 85)\n"
     ]
    },
    {
     "name": "stderr",
     "output_type": "stream",
     "text": [
      "WARNING: FITSFixedWarning: 'datfix' made the change 'Set MJD-OBS to 60871.000000 from DATE-OBS.\n",
      "Set DATE-END to '2025-07-15T15:11:27.701' from MJD-END'. [astropy.wcs.wcs]\n",
      "WARNING: FITSFixedWarning: 'datfix' made the change 'Set MJD-OBS to 60871.000000 from DATE-OBS.\n",
      "Set DATE-END to '2025-07-15T15:11:27.900' from MJD-END'. [astropy.wcs.wcs]\n",
      "/var/folders/xv/z4qp4sf50z10cwc8tgxysssw0000gn/T/ipykernel_99592/108843714.py:32: FutureWarning: Setting an item of incompatible dtype is deprecated and will raise an error in a future version of pandas. Value '17.927799224853516' has dtype incompatible with int64, please explicitly cast to a compatible dtype first.\n",
      "  df_star.loc[df_star[\"band\"] == band, \"PSmag\"] = PSmag_band\n",
      "WARNING: FITSFixedWarning: 'datfix' made the change 'Set MJD-OBS to 60871.000000 from DATE-OBS.\n",
      "Set DATE-END to '2025-07-15T12:55:27.204' from MJD-END'. [astropy.wcs.wcs]\n",
      "WARNING: FITSFixedWarning: 'datfix' made the change 'Set MJD-OBS to 60871.000000 from DATE-OBS.\n",
      "Set DATE-END to '2025-07-15T12:55:26.797' from MJD-END'. [astropy.wcs.wcs]\n",
      "WARNING: FITSFixedWarning: 'datfix' made the change 'Set MJD-OBS to 60871.000000 from DATE-OBS.\n",
      "Set DATE-END to '2025-07-15T12:55:26.996' from MJD-END'. [astropy.wcs.wcs]\n",
      "WARNING: FITSFixedWarning: 'datfix' made the change 'Set MJD-OBS to 60871.000000 from DATE-OBS.\n",
      "Set DATE-END to '2025-07-15T13:27:32.602' from MJD-END'. [astropy.wcs.wcs]\n"
     ]
    },
    {
     "name": "stdout",
     "output_type": "stream",
     "text": [
      "  Original center (x, y) = (1649.1, 947.3)\n",
      "  Winpos center (x, y) = (1648.7, 947.8)\n",
      "Data length (Nx, Ny)=(85, 85)\n",
      "  Original center (x, y) = (1635.8, 962.0)\n",
      "  Winpos center (x, y) = (1632.1, 960.6)\n",
      "Data length (Nx, Ny)=(85, 85)\n",
      "  Original center (x, y) = (1644.9, 939.2)\n",
      "  Winpos center (x, y) = (1644.4, 939.2)\n",
      "Data length (Nx, Ny)=(85, 85)\n",
      "  Original center (x, y) = (1519.1, 941.0)\n",
      "  Winpos center (x, y) = (1516.3, 939.6)\n",
      "Data length (Nx, Ny)=(85, 85)\n",
      "  Original center (x, y) = (1502.9, 951.1)\n",
      "  Winpos center (x, y) = (1499.9, 952.1)\n",
      "Data length (Nx, Ny)=(85, 85)\n"
     ]
    },
    {
     "name": "stderr",
     "output_type": "stream",
     "text": [
      "WARNING: FITSFixedWarning: 'datfix' made the change 'Set MJD-OBS to 60871.000000 from DATE-OBS.\n",
      "Set DATE-END to '2025-07-15T13:27:32.196' from MJD-END'. [astropy.wcs.wcs]\n",
      "WARNING: FITSFixedWarning: 'datfix' made the change 'Set MJD-OBS to 60871.000000 from DATE-OBS.\n",
      "Set DATE-END to '2025-07-15T13:27:32.403' from MJD-END'. [astropy.wcs.wcs]\n",
      "WARNING: FITSFixedWarning: 'datfix' made the change 'Set MJD-OBS to 60871.000000 from DATE-OBS.\n",
      "Set DATE-END to '2025-07-15T14:00:17.899' from MJD-END'. [astropy.wcs.wcs]\n",
      "WARNING: FITSFixedWarning: 'datfix' made the change 'Set MJD-OBS to 60871.000000 from DATE-OBS.\n",
      "Set DATE-END to '2025-07-15T14:00:17.502' from MJD-END'. [astropy.wcs.wcs]\n",
      "WARNING: FITSFixedWarning: 'datfix' made the change 'Set MJD-OBS to 60871.000000 from DATE-OBS.\n",
      "Set DATE-END to '2025-07-15T14:00:17.700' from MJD-END'. [astropy.wcs.wcs]\n"
     ]
    },
    {
     "name": "stdout",
     "output_type": "stream",
     "text": [
      "  Original center (x, y) = (1513.3, 931.5)\n",
      "  Winpos center (x, y) = (1512.1, 931.2)\n",
      "Data length (Nx, Ny)=(85, 85)\n",
      "  Original center (x, y) = (1375.1, 934.8)\n",
      "  Winpos center (x, y) = (1373.2, 933.3)\n",
      "Data length (Nx, Ny)=(85, 85)\n",
      "  Original center (x, y) = (1358.7, 946.1)\n",
      "  Winpos center (x, y) = (1356.8, 945.1)\n",
      "Data length (Nx, Ny)=(85, 85)\n",
      "  Original center (x, y) = (1370.0, 925.4)\n",
      "  Winpos center (x, y) = (1369.3, 924.8)\n",
      "Data length (Nx, Ny)=(85, 85)\n"
     ]
    },
    {
     "name": "stderr",
     "output_type": "stream",
     "text": [
      "WARNING: FITSFixedWarning: 'datfix' made the change 'Set MJD-OBS to 60871.000000 from DATE-OBS.\n",
      "Set DATE-END to '2025-07-15T14:14:10.596' from MJD-END'. [astropy.wcs.wcs]\n",
      "WARNING: FITSFixedWarning: 'datfix' made the change 'Set MJD-OBS to 60871.000000 from DATE-OBS.\n",
      "Set DATE-END to '2025-07-15T14:14:10.199' from MJD-END'. [astropy.wcs.wcs]\n",
      "WARNING: FITSFixedWarning: 'datfix' made the change 'Set MJD-OBS to 60871.000000 from DATE-OBS.\n",
      "Set DATE-END to '2025-07-15T14:14:10.398' from MJD-END'. [astropy.wcs.wcs]\n",
      "WARNING: FITSFixedWarning: 'datfix' made the change 'Set MJD-OBS to 60871.000000 from DATE-OBS.\n",
      "Set DATE-END to '2025-07-15T14:24:13.504' from MJD-END'. [astropy.wcs.wcs]\n"
     ]
    },
    {
     "name": "stdout",
     "output_type": "stream",
     "text": [
      "  Original center (x, y) = (1308.8, 922.1)\n",
      "  Winpos center (x, y) = (1305.9, 921.0)\n",
      "Data length (Nx, Ny)=(85, 85)\n",
      "  Original center (x, y) = (1291.9, 933.2)\n",
      "  Winpos center (x, y) = (1290.0, 932.4)\n",
      "Data length (Nx, Ny)=(85, 85)\n",
      "  Original center (x, y) = (1304.2, 913.0)\n",
      "  Winpos center (x, y) = (1302.4, 912.1)\n",
      "Data length (Nx, Ny)=(85, 85)\n",
      "  Original center (x, y) = (1265.8, 924.0)\n",
      "  Winpos center (x, y) = (1263.4, 923.2)\n",
      "Data length (Nx, Ny)=(85, 85)\n"
     ]
    },
    {
     "name": "stderr",
     "output_type": "stream",
     "text": [
      "WARNING: FITSFixedWarning: 'datfix' made the change 'Set MJD-OBS to 60871.000000 from DATE-OBS.\n",
      "Set DATE-END to '2025-07-15T14:24:13.098' from MJD-END'. [astropy.wcs.wcs]\n",
      "WARNING: FITSFixedWarning: 'datfix' made the change 'Set MJD-OBS to 60871.000000 from DATE-OBS.\n",
      "Set DATE-END to '2025-07-15T14:24:13.297' from MJD-END'. [astropy.wcs.wcs]\n"
     ]
    },
    {
     "name": "stdout",
     "output_type": "stream",
     "text": [
      "  Original center (x, y) = (1249.8, 934.6)\n",
      "  Winpos center (x, y) = (1247.8, 933.9)\n",
      "Data length (Nx, Ny)=(85, 85)\n",
      "  Original center (x, y) = (1261.4, 914.8)\n",
      "  Winpos center (x, y) = (1259.9, 914.0)\n",
      "Data length (Nx, Ny)=(85, 85)\n"
     ]
    },
    {
     "name": "stderr",
     "output_type": "stream",
     "text": [
      "/var/folders/xv/z4qp4sf50z10cwc8tgxysssw0000gn/T/ipykernel_99592/108843714.py:52: FutureWarning: Setting an item of incompatible dtype is deprecated and will raise an error in a future version of pandas. Value '17.927799224853516' has dtype incompatible with int64, please explicitly cast to a compatible dtype first.\n",
      "  df_star.loc[df_star[\"band\"] == band, \"PSmag\"] = PSmag_band\n",
      "WARNING: FITSFixedWarning: 'datfix' made the change 'Set MJD-OBS to 60871.000000 from DATE-OBS.\n",
      "Set DATE-END to '2025-07-15T12:42:50.901' from MJD-END'. [astropy.wcs.wcs]\n",
      "WARNING: FITSFixedWarning: 'datfix' made the change 'Set MJD-OBS to 60871.000000 from DATE-OBS.\n",
      "Set DATE-END to '2025-07-15T12:42:50.599' from MJD-END'. [astropy.wcs.wcs]\n",
      "WARNING: FITSFixedWarning: 'datfix' made the change 'Set MJD-OBS to 60871.000000 from DATE-OBS.\n",
      "Set DATE-END to '2025-07-15T13:15:06.097' from MJD-END'. [astropy.wcs.wcs]\n"
     ]
    },
    {
     "name": "stdout",
     "output_type": "stream",
     "text": [
      "  Original center (x, y) = (1594.7, 712.9)\n",
      "  Winpos center (x, y) = (1594.0, 713.3)\n",
      "Data length (Nx, Ny)=(85, 85)\n",
      "  Original center (x, y) = (1579.1, 724.9)\n",
      "  Winpos center (x, y) = (1578.0, 725.7)\n",
      "Data length (Nx, Ny)=(85, 85)\n",
      "  Original center (x, y) = (1590.5, 704.8)\n",
      "  Winpos center (x, y) = (1589.6, 704.6)\n",
      "Data length (Nx, Ny)=(85, 85)\n",
      "  Original center (x, y) = (1461.1, 699.4)\n",
      "  Winpos center (x, y) = (1460.8, 699.9)\n",
      "Data length (Nx, Ny)=(85, 85)\n"
     ]
    },
    {
     "name": "stderr",
     "output_type": "stream",
     "text": [
      "WARNING: FITSFixedWarning: 'datfix' made the change 'Set MJD-OBS to 60871.000000 from DATE-OBS.\n",
      "Set DATE-END to '2025-07-15T13:15:05.700' from MJD-END'. [astropy.wcs.wcs]\n",
      "WARNING: FITSFixedWarning: 'datfix' made the change 'Set MJD-OBS to 60871.000000 from DATE-OBS.\n",
      "Set DATE-END to '2025-07-15T13:15:05.898' from MJD-END'. [astropy.wcs.wcs]\n",
      "WARNING: FITSFixedWarning: 'datfix' made the change 'Set MJD-OBS to 60871.000000 from DATE-OBS.\n",
      "Set DATE-END to '2025-07-15T13:47:58.704' from MJD-END'. [astropy.wcs.wcs]\n",
      "WARNING: FITSFixedWarning: 'datfix' made the change 'Set MJD-OBS to 60871.000000 from DATE-OBS.\n",
      "Set DATE-END to '2025-07-15T13:47:58.298' from MJD-END'. [astropy.wcs.wcs]\n",
      "WARNING: FITSFixedWarning: 'datfix' made the change 'Set MJD-OBS to 60871.000000 from DATE-OBS.\n",
      "Set DATE-END to '2025-07-15T13:47:58.497' from MJD-END'. [astropy.wcs.wcs]\n"
     ]
    },
    {
     "name": "stdout",
     "output_type": "stream",
     "text": [
      "  Original center (x, y) = (1445.7, 711.1)\n",
      "  Winpos center (x, y) = (1445.4, 711.5)\n",
      "Data length (Nx, Ny)=(85, 85)\n",
      "  Original center (x, y) = (1457.1, 690.5)\n",
      "  Winpos center (x, y) = (1456.8, 690.9)\n",
      "Data length (Nx, Ny)=(85, 85)\n",
      "  Original center (x, y) = (1324.1, 689.1)\n",
      "  Winpos center (x, y) = (1320.2, 692.6)\n",
      "Data length (Nx, Ny)=(85, 85)\n",
      "  Original center (x, y) = (1308.6, 700.1)\n",
      "  Winpos center (x, y) = (1304.9, 703.4)\n",
      "Data length (Nx, Ny)=(85, 85)\n",
      "  Original center (x, y) = (1317.6, 682.4)\n",
      "  Winpos center (x, y) = (1316.2, 682.4)\n",
      "Data length (Nx, Ny)=(85, 85)\n",
      "  Original center (x, y) = (1107.5, 677.5)\n",
      "  Winpos center (x, y) = (1105.7, 678.1)\n",
      "Data length (Nx, Ny)=(85, 85)\n",
      "  Original center (x, y) = (1093.2, 687.2)\n",
      "  Winpos center (x, y) = (1091.7, 687.6)\n",
      "Data length (Nx, Ny)=(85, 85)\n",
      "  Original center (x, y) = (1104.5, 667.8)\n",
      "  Winpos center (x, y) = (1103.2, 668.3)\n",
      "Data length (Nx, Ny)=(85, 85)\n"
     ]
    },
    {
     "name": "stderr",
     "output_type": "stream",
     "text": [
      "WARNING: FITSFixedWarning: 'datfix' made the change 'Set MJD-OBS to 60871.000000 from DATE-OBS.\n",
      "Set DATE-END to '2025-07-15T14:38:19.196' from MJD-END'. [astropy.wcs.wcs]\n",
      "WARNING: FITSFixedWarning: 'datfix' made the change 'Set MJD-OBS to 60871.000000 from DATE-OBS.\n",
      "Set DATE-END to '2025-07-15T14:38:18.799' from MJD-END'. [astropy.wcs.wcs]\n",
      "WARNING: FITSFixedWarning: 'datfix' made the change 'Set MJD-OBS to 60871.000000 from DATE-OBS.\n",
      "Set DATE-END to '2025-07-15T14:38:18.997' from MJD-END'. [astropy.wcs.wcs]\n",
      "WARNING: FITSFixedWarning: 'datfix' made the change 'Set MJD-OBS to 60871.000000 from DATE-OBS.\n",
      "Set DATE-END to '2025-07-15T14:48:22.199' from MJD-END'. [astropy.wcs.wcs]\n",
      "WARNING: FITSFixedWarning: 'datfix' made the change 'Set MJD-OBS to 60871.000000 from DATE-OBS.\n",
      "Set DATE-END to '2025-07-15T14:48:21.802' from MJD-END'. [astropy.wcs.wcs]\n"
     ]
    },
    {
     "name": "stdout",
     "output_type": "stream",
     "text": [
      "  Original center (x, y) = (1066.6, 682.0)\n",
      "  Winpos center (x, y) = (1065.1, 681.6)\n",
      "Data length (Nx, Ny)=(85, 85)\n",
      "  Original center (x, y) = (1052.4, 691.4)\n",
      "  Winpos center (x, y) = (1051.1, 690.9)\n",
      "Data length (Nx, Ny)=(85, 85)\n",
      "  Original center (x, y) = (1063.4, 672.1)\n",
      "  Winpos center (x, y) = (1062.6, 671.7)\n",
      "Data length (Nx, Ny)=(85, 85)\n",
      "  Original center (x, y) = (1027.6, 681.7)\n",
      "  Winpos center (x, y) = (1026.5, 682.2)\n",
      "Data length (Nx, Ny)=(85, 85)\n"
     ]
    },
    {
     "name": "stderr",
     "output_type": "stream",
     "text": [
      "WARNING: FITSFixedWarning: 'datfix' made the change 'Set MJD-OBS to 60871.000000 from DATE-OBS.\n",
      "Set DATE-END to '2025-07-15T14:48:22' from MJD-END'. [astropy.wcs.wcs]\n",
      "WARNING: FITSFixedWarning: 'datfix' made the change 'Set MJD-OBS to 60871.000000 from DATE-OBS.\n",
      "Set DATE-END to '2025-07-15T14:58:25.003' from MJD-END'. [astropy.wcs.wcs]\n",
      "WARNING: FITSFixedWarning: 'datfix' made the change 'Set MJD-OBS to 60871.000000 from DATE-OBS.\n",
      "Set DATE-END to '2025-07-15T14:58:24.597' from MJD-END'. [astropy.wcs.wcs]\n",
      "WARNING: FITSFixedWarning: 'datfix' made the change 'Set MJD-OBS to 60871.000000 from DATE-OBS.\n",
      "Set DATE-END to '2025-07-15T14:58:24.796' from MJD-END'. [astropy.wcs.wcs]\n"
     ]
    },
    {
     "name": "stdout",
     "output_type": "stream",
     "text": [
      "  Original center (x, y) = (1013.4, 690.9)\n",
      "  Winpos center (x, y) = (1012.5, 691.3)\n",
      "Data length (Nx, Ny)=(85, 85)\n",
      "  Original center (x, y) = (1024.6, 671.7)\n",
      "  Winpos center (x, y) = (1023.9, 672.3)\n",
      "Data length (Nx, Ny)=(85, 85)\n",
      "  Original center (x, y) = (976.6, 671.2)\n",
      "  Winpos center (x, y) = (975.7, 671.2)\n",
      "Data length (Nx, Ny)=(85, 85)\n",
      "  Original center (x, y) = (961.2, 680.1)\n",
      "  Winpos center (x, y) = (960.6, 680.1)\n",
      "Data length (Nx, Ny)=(85, 85)\n"
     ]
    },
    {
     "name": "stderr",
     "output_type": "stream",
     "text": [
      "WARNING: FITSFixedWarning: 'datfix' made the change 'Set MJD-OBS to 60871.000000 from DATE-OBS.\n",
      "Set DATE-END to '2025-07-15T15:11:28.098' from MJD-END'. [astropy.wcs.wcs]\n",
      "WARNING: FITSFixedWarning: 'datfix' made the change 'Set MJD-OBS to 60871.000000 from DATE-OBS.\n",
      "Set DATE-END to '2025-07-15T15:11:27.701' from MJD-END'. [astropy.wcs.wcs]\n",
      "WARNING: FITSFixedWarning: 'datfix' made the change 'Set MJD-OBS to 60871.000000 from DATE-OBS.\n",
      "Set DATE-END to '2025-07-15T15:11:27.900' from MJD-END'. [astropy.wcs.wcs]\n"
     ]
    },
    {
     "name": "stdout",
     "output_type": "stream",
     "text": [
      "  Original center (x, y) = (973.7, 660.9)\n",
      "  Winpos center (x, y) = (973.3, 661.1)\n",
      "Data length (Nx, Ny)=(85, 85)\n"
     ]
    },
    {
     "name": "stderr",
     "output_type": "stream",
     "text": [
      "/var/folders/xv/z4qp4sf50z10cwc8tgxysssw0000gn/T/ipykernel_99592/108843714.py:32: FutureWarning: Setting an item of incompatible dtype is deprecated and will raise an error in a future version of pandas. Value '17.590299606323242' has dtype incompatible with int64, please explicitly cast to a compatible dtype first.\n",
      "  df_star.loc[df_star[\"band\"] == band, \"PSmag\"] = PSmag_band\n",
      "WARNING: FITSFixedWarning: 'datfix' made the change 'Set MJD-OBS to 60871.000000 from DATE-OBS.\n",
      "Set DATE-END to '2025-07-15T12:55:27.204' from MJD-END'. [astropy.wcs.wcs]\n",
      "WARNING: FITSFixedWarning: 'datfix' made the change 'Set MJD-OBS to 60871.000000 from DATE-OBS.\n",
      "Set DATE-END to '2025-07-15T12:55:26.797' from MJD-END'. [astropy.wcs.wcs]\n",
      "WARNING: FITSFixedWarning: 'datfix' made the change 'Set MJD-OBS to 60871.000000 from DATE-OBS.\n",
      "Set DATE-END to '2025-07-15T12:55:26.996' from MJD-END'. [astropy.wcs.wcs]\n",
      "WARNING: FITSFixedWarning: 'datfix' made the change 'Set MJD-OBS to 60871.000000 from DATE-OBS.\n",
      "Set DATE-END to '2025-07-15T13:27:32.602' from MJD-END'. [astropy.wcs.wcs]\n"
     ]
    },
    {
     "name": "stdout",
     "output_type": "stream",
     "text": [
      "  Original center (x, y) = (1548.1, 711.3)\n",
      "  Winpos center (x, y) = (1547.0, 712.3)\n",
      "Data length (Nx, Ny)=(85, 85)\n",
      "  Original center (x, y) = (1535.7, 724.0)\n",
      "  Winpos center (x, y) = (1531.7, 724.1)\n",
      "Data length (Nx, Ny)=(85, 85)\n",
      "  Original center (x, y) = (1544.1, 702.6)\n",
      "  Winpos center (x, y) = (1543.5, 703.0)\n",
      "Data length (Nx, Ny)=(85, 85)\n",
      "  Original center (x, y) = (1418.0, 704.5)\n",
      "  Winpos center (x, y) = (1415.1, 704.4)\n",
      "Data length (Nx, Ny)=(85, 85)\n"
     ]
    },
    {
     "name": "stderr",
     "output_type": "stream",
     "text": [
      "WARNING: FITSFixedWarning: 'datfix' made the change 'Set MJD-OBS to 60871.000000 from DATE-OBS.\n",
      "Set DATE-END to '2025-07-15T13:27:32.196' from MJD-END'. [astropy.wcs.wcs]\n",
      "WARNING: FITSFixedWarning: 'datfix' made the change 'Set MJD-OBS to 60871.000000 from DATE-OBS.\n",
      "Set DATE-END to '2025-07-15T13:27:32.403' from MJD-END'. [astropy.wcs.wcs]\n",
      "WARNING: FITSFixedWarning: 'datfix' made the change 'Set MJD-OBS to 60871.000000 from DATE-OBS.\n",
      "Set DATE-END to '2025-07-15T14:00:17.899' from MJD-END'. [astropy.wcs.wcs]\n",
      "WARNING: FITSFixedWarning: 'datfix' made the change 'Set MJD-OBS to 60871.000000 from DATE-OBS.\n",
      "Set DATE-END to '2025-07-15T14:00:17.502' from MJD-END'. [astropy.wcs.wcs]\n",
      "WARNING: FITSFixedWarning: 'datfix' made the change 'Set MJD-OBS to 60871.000000 from DATE-OBS.\n",
      "Set DATE-END to '2025-07-15T14:00:17.700' from MJD-END'. [astropy.wcs.wcs]\n"
     ]
    },
    {
     "name": "stdout",
     "output_type": "stream",
     "text": [
      "  Original center (x, y) = (1402.4, 713.9)\n",
      "  Winpos center (x, y) = (1399.9, 716.0)\n",
      "Data length (Nx, Ny)=(85, 85)\n",
      "  Original center (x, y) = (1412.5, 694.8)\n",
      "  Winpos center (x, y) = (1411.4, 695.2)\n",
      "Data length (Nx, Ny)=(85, 85)\n",
      "  Original center (x, y) = (1274.3, 698.7)\n",
      "  Winpos center (x, y) = (1272.4, 698.3)\n",
      "Data length (Nx, Ny)=(85, 85)\n",
      "  Original center (x, y) = (1259.1, 709.4)\n",
      "  Winpos center (x, y) = (1257.2, 709.3)\n",
      "Data length (Nx, Ny)=(85, 85)\n",
      "  Original center (x, y) = (1269.6, 689.2)\n",
      "  Winpos center (x, y) = (1268.9, 689.1)\n",
      "Data length (Nx, Ny)=(85, 85)\n",
      "  Original center (x, y) = (1207.7, 685.4)\n",
      "  Winpos center (x, y) = (1205.0, 686.0)\n",
      "Data length (Nx, Ny)=(85, 85)\n",
      "  Original center (x, y) = (1192.1, 695.6)\n",
      "  Winpos center (x, y) = (1190.4, 696.5)\n",
      "Data length (Nx, Ny)=(85, 85)\n",
      "  Original center (x, y) = (1203.6, 675.5)\n",
      "  Winpos center (x, y) = (1202.1, 676.4)\n",
      "Data length (Nx, Ny)=(85, 85)\n"
     ]
    },
    {
     "name": "stderr",
     "output_type": "stream",
     "text": [
      "WARNING: FITSFixedWarning: 'datfix' made the change 'Set MJD-OBS to 60871.000000 from DATE-OBS.\n",
      "Set DATE-END to '2025-07-15T14:14:10.596' from MJD-END'. [astropy.wcs.wcs]\n",
      "WARNING: FITSFixedWarning: 'datfix' made the change 'Set MJD-OBS to 60871.000000 from DATE-OBS.\n",
      "Set DATE-END to '2025-07-15T14:14:10.199' from MJD-END'. [astropy.wcs.wcs]\n",
      "WARNING: FITSFixedWarning: 'datfix' made the change 'Set MJD-OBS to 60871.000000 from DATE-OBS.\n",
      "Set DATE-END to '2025-07-15T14:14:10.398' from MJD-END'. [astropy.wcs.wcs]\n",
      "WARNING: FITSFixedWarning: 'datfix' made the change 'Set MJD-OBS to 60871.000000 from DATE-OBS.\n",
      "Set DATE-END to '2025-07-15T14:24:13.504' from MJD-END'. [astropy.wcs.wcs]\n"
     ]
    },
    {
     "name": "stdout",
     "output_type": "stream",
     "text": [
      "  Original center (x, y) = (1164.7, 687.4)\n",
      "  Winpos center (x, y) = (1162.6, 688.3)\n",
      "Data length (Nx, Ny)=(85, 85)\n",
      "  Original center (x, y) = (1150.0, 697.5)\n",
      "  Winpos center (x, y) = (1148.3, 698.1)\n",
      "Data length (Nx, Ny)=(85, 85)\n",
      "  Original center (x, y) = (1160.9, 677.5)\n",
      "  Winpos center (x, y) = (1159.6, 678.3)\n",
      "Data length (Nx, Ny)=(85, 85)\n"
     ]
    },
    {
     "name": "stderr",
     "output_type": "stream",
     "text": [
      "WARNING: FITSFixedWarning: 'datfix' made the change 'Set MJD-OBS to 60871.000000 from DATE-OBS.\n",
      "Set DATE-END to '2025-07-15T14:24:13.098' from MJD-END'. [astropy.wcs.wcs]\n",
      "WARNING: FITSFixedWarning: 'datfix' made the change 'Set MJD-OBS to 60871.000000 from DATE-OBS.\n",
      "Set DATE-END to '2025-07-15T14:24:13.297' from MJD-END'. [astropy.wcs.wcs]\n",
      "/var/folders/xv/z4qp4sf50z10cwc8tgxysssw0000gn/T/ipykernel_99592/108843714.py:52: FutureWarning: Setting an item of incompatible dtype is deprecated and will raise an error in a future version of pandas. Value '17.590299606323242' has dtype incompatible with int64, please explicitly cast to a compatible dtype first.\n",
      "  df_star.loc[df_star[\"band\"] == band, \"PSmag\"] = PSmag_band\n",
      "WARNING: FITSFixedWarning: 'datfix' made the change 'Set MJD-OBS to 60871.000000 from DATE-OBS.\n",
      "Set DATE-END to '2025-07-15T12:42:50.901' from MJD-END'. [astropy.wcs.wcs]\n",
      "WARNING: FITSFixedWarning: 'datfix' made the change 'Set MJD-OBS to 60871.000000 from DATE-OBS.\n",
      "Set DATE-END to '2025-07-15T12:42:50.599' from MJD-END'. [astropy.wcs.wcs]\n",
      "WARNING: FITSFixedWarning: 'datfix' made the change 'Set MJD-OBS to 60871.000000 from DATE-OBS.\n",
      "Set DATE-END to '2025-07-15T13:15:06.097' from MJD-END'. [astropy.wcs.wcs]\n"
     ]
    },
    {
     "name": "stdout",
     "output_type": "stream",
     "text": [
      "  Original center (x, y) = (1226.2, 537.1)\n",
      "  Winpos center (x, y) = (1225.8, 538.6)\n",
      "Data length (Nx, Ny)=(85, 85)\n",
      "  Original center (x, y) = (1211.0, 547.5)\n",
      "  Winpos center (x, y) = (1210.7, 548.9)\n",
      "Data length (Nx, Ny)=(85, 85)\n",
      "  Original center (x, y) = (1221.6, 528.1)\n",
      "  Winpos center (x, y) = (1221.7, 528.8)\n",
      "Data length (Nx, Ny)=(85, 85)\n",
      "  Original center (x, y) = (1091.6, 523.7)\n",
      "  Winpos center (x, y) = (1093.2, 525.2)\n",
      "Data length (Nx, Ny)=(85, 85)\n"
     ]
    },
    {
     "name": "stderr",
     "output_type": "stream",
     "text": [
      "WARNING: FITSFixedWarning: 'datfix' made the change 'Set MJD-OBS to 60871.000000 from DATE-OBS.\n",
      "Set DATE-END to '2025-07-15T13:15:05.700' from MJD-END'. [astropy.wcs.wcs]\n",
      "WARNING: FITSFixedWarning: 'datfix' made the change 'Set MJD-OBS to 60871.000000 from DATE-OBS.\n",
      "Set DATE-END to '2025-07-15T13:15:05.898' from MJD-END'. [astropy.wcs.wcs]\n",
      "WARNING: FITSFixedWarning: 'datfix' made the change 'Set MJD-OBS to 60871.000000 from DATE-OBS.\n",
      "Set DATE-END to '2025-07-15T13:47:58.704' from MJD-END'. [astropy.wcs.wcs]\n",
      "WARNING: FITSFixedWarning: 'datfix' made the change 'Set MJD-OBS to 60871.000000 from DATE-OBS.\n",
      "Set DATE-END to '2025-07-15T13:47:58.298' from MJD-END'. [astropy.wcs.wcs]\n",
      "WARNING: FITSFixedWarning: 'datfix' made the change 'Set MJD-OBS to 60871.000000 from DATE-OBS.\n",
      "Set DATE-END to '2025-07-15T13:47:58.497' from MJD-END'. [astropy.wcs.wcs]\n"
     ]
    },
    {
     "name": "stdout",
     "output_type": "stream",
     "text": [
      "  Original center (x, y) = (1077.0, 533.3)\n",
      "  Winpos center (x, y) = (1078.5, 534.7)\n",
      "Data length (Nx, Ny)=(85, 85)\n",
      "  Original center (x, y) = (1087.6, 513.7)\n",
      "  Winpos center (x, y) = (1089.3, 515.1)\n",
      "Data length (Nx, Ny)=(85, 85)\n",
      "  Original center (x, y) = (952.3, 513.3)\n",
      "  Winpos center (x, y) = (952.8, 517.9)\n",
      "Data length (Nx, Ny)=(85, 85)\n",
      "  Original center (x, y) = (937.8, 522.3)\n",
      "  Winpos center (x, y) = (938.2, 526.6)\n",
      "Data length (Nx, Ny)=(85, 85)\n",
      "  Original center (x, y) = (947.9, 505.4)\n",
      "  Winpos center (x, y) = (948.7, 506.6)\n",
      "Data length (Nx, Ny)=(85, 85)\n"
     ]
    },
    {
     "name": "stderr",
     "output_type": "stream",
     "text": [
      "WARNING: FITSFixedWarning: 'datfix' made the change 'Set MJD-OBS to 60871.000000 from DATE-OBS.\n",
      "Set DATE-END to '2025-07-15T14:38:19.196' from MJD-END'. [astropy.wcs.wcs]\n",
      "WARNING: FITSFixedWarning: 'datfix' made the change 'Set MJD-OBS to 60871.000000 from DATE-OBS.\n",
      "Set DATE-END to '2025-07-15T14:38:18.799' from MJD-END'. [astropy.wcs.wcs]\n",
      "WARNING: FITSFixedWarning: 'datfix' made the change 'Set MJD-OBS to 60871.000000 from DATE-OBS.\n",
      "Set DATE-END to '2025-07-15T14:38:18.997' from MJD-END'. [astropy.wcs.wcs]\n",
      "WARNING: FITSFixedWarning: 'datfix' made the change 'Set MJD-OBS to 60871.000000 from DATE-OBS.\n",
      "Set DATE-END to '2025-07-15T14:48:22.199' from MJD-END'. [astropy.wcs.wcs]\n"
     ]
    },
    {
     "name": "stdout",
     "output_type": "stream",
     "text": [
      "  Original center (x, y) = (738.5, 501.3)\n",
      "  Winpos center (x, y) = (738.3, 503.3)\n",
      "Data length (Nx, Ny)=(85, 85)\n",
      "  Original center (x, y) = (725.1, 509.0)\n",
      "  Winpos center (x, y) = (724.8, 510.7)\n",
      "Data length (Nx, Ny)=(85, 85)\n",
      "  Original center (x, y) = (735.8, 490.7)\n",
      "  Winpos center (x, y) = (735.5, 492.3)\n",
      "Data length (Nx, Ny)=(85, 85)\n",
      "  Original center (x, y) = (697.9, 506.0)\n",
      "  Winpos center (x, y) = (697.5, 506.7)\n",
      "Data length (Nx, Ny)=(85, 85)\n"
     ]
    },
    {
     "name": "stderr",
     "output_type": "stream",
     "text": [
      "WARNING: FITSFixedWarning: 'datfix' made the change 'Set MJD-OBS to 60871.000000 from DATE-OBS.\n",
      "Set DATE-END to '2025-07-15T14:48:21.802' from MJD-END'. [astropy.wcs.wcs]\n",
      "WARNING: FITSFixedWarning: 'datfix' made the change 'Set MJD-OBS to 60871.000000 from DATE-OBS.\n",
      "Set DATE-END to '2025-07-15T14:48:22' from MJD-END'. [astropy.wcs.wcs]\n",
      "WARNING: FITSFixedWarning: 'datfix' made the change 'Set MJD-OBS to 60871.000000 from DATE-OBS.\n",
      "Set DATE-END to '2025-07-15T14:58:25.003' from MJD-END'. [astropy.wcs.wcs]\n",
      "WARNING: FITSFixedWarning: 'datfix' made the change 'Set MJD-OBS to 60871.000000 from DATE-OBS.\n",
      "Set DATE-END to '2025-07-15T14:58:24.597' from MJD-END'. [astropy.wcs.wcs]\n"
     ]
    },
    {
     "name": "stdout",
     "output_type": "stream",
     "text": [
      "  Original center (x, y) = (684.5, 513.4)\n",
      "  Winpos center (x, y) = (684.2, 514.0)\n",
      "Data length (Nx, Ny)=(85, 85)\n",
      "  Original center (x, y) = (694.6, 494.9)\n",
      "  Winpos center (x, y) = (694.8, 495.6)\n",
      "Data length (Nx, Ny)=(85, 85)\n",
      "  Original center (x, y) = (659.0, 505.8)\n",
      "  Winpos center (x, y) = (658.7, 507.3)\n",
      "Data length (Nx, Ny)=(85, 85)\n",
      "  Original center (x, y) = (645.7, 513.0)\n",
      "  Winpos center (x, y) = (645.5, 514.3)\n",
      "Data length (Nx, Ny)=(85, 85)\n"
     ]
    },
    {
     "name": "stderr",
     "output_type": "stream",
     "text": [
      "WARNING: FITSFixedWarning: 'datfix' made the change 'Set MJD-OBS to 60871.000000 from DATE-OBS.\n",
      "Set DATE-END to '2025-07-15T14:58:24.796' from MJD-END'. [astropy.wcs.wcs]\n",
      "WARNING: FITSFixedWarning: 'datfix' made the change 'Set MJD-OBS to 60871.000000 from DATE-OBS.\n",
      "Set DATE-END to '2025-07-15T15:11:28.098' from MJD-END'. [astropy.wcs.wcs]\n",
      "WARNING: FITSFixedWarning: 'datfix' made the change 'Set MJD-OBS to 60871.000000 from DATE-OBS.\n",
      "Set DATE-END to '2025-07-15T15:11:27.701' from MJD-END'. [astropy.wcs.wcs]\n",
      "WARNING: FITSFixedWarning: 'datfix' made the change 'Set MJD-OBS to 60871.000000 from DATE-OBS.\n",
      "Set DATE-END to '2025-07-15T15:11:27.900' from MJD-END'. [astropy.wcs.wcs]\n"
     ]
    },
    {
     "name": "stdout",
     "output_type": "stream",
     "text": [
      "  Original center (x, y) = (656.0, 494.6)\n",
      "  Winpos center (x, y) = (656.0, 496.2)\n",
      "Data length (Nx, Ny)=(85, 85)\n",
      "  Original center (x, y) = (608.1, 495.4)\n",
      "  Winpos center (x, y) = (607.9, 496.2)\n",
      "Data length (Nx, Ny)=(85, 85)\n",
      "  Original center (x, y) = (593.7, 502.2)\n",
      "  Winpos center (x, y) = (593.4, 503.1)\n",
      "Data length (Nx, Ny)=(85, 85)\n",
      "  Original center (x, y) = (605.2, 483.9)\n",
      "  Winpos center (x, y) = (605.2, 484.9)\n",
      "Data length (Nx, Ny)=(85, 85)\n"
     ]
    },
    {
     "name": "stderr",
     "output_type": "stream",
     "text": [
      "/var/folders/xv/z4qp4sf50z10cwc8tgxysssw0000gn/T/ipykernel_99592/108843714.py:32: FutureWarning: Setting an item of incompatible dtype is deprecated and will raise an error in a future version of pandas. Value '17.896099090576172' has dtype incompatible with int64, please explicitly cast to a compatible dtype first.\n",
      "  df_star.loc[df_star[\"band\"] == band, \"PSmag\"] = PSmag_band\n",
      "WARNING: FITSFixedWarning: 'datfix' made the change 'Set MJD-OBS to 60871.000000 from DATE-OBS.\n",
      "Set DATE-END to '2025-07-15T12:55:27.204' from MJD-END'. [astropy.wcs.wcs]\n"
     ]
    },
    {
     "name": "stdout",
     "output_type": "stream",
     "text": [
      "  Original center (x, y) = (1179.3, 535.6)\n",
      "  Winpos center (x, y) = (1179.1, 537.6)\n",
      "Data length (Nx, Ny)=(85, 85)\n",
      "  Original center (x, y) = (1166.0, 545.0)\n",
      "  Winpos center (x, y) = (1164.6, 547.5)\n",
      "Data length (Nx, Ny)=(85, 85)\n",
      "  Original center (x, y) = (1174.9, 525.9)\n",
      "  Winpos center (x, y) = (1175.5, 527.1)\n",
      "Data length (Nx, Ny)=(85, 85)\n",
      "  Original center (x, y) = (1048.7, 528.1)\n",
      "  Winpos center (x, y) = (1047.6, 529.7)\n",
      "Data length (Nx, Ny)=(85, 85)\n"
     ]
    },
    {
     "name": "stderr",
     "output_type": "stream",
     "text": [
      "WARNING: FITSFixedWarning: 'datfix' made the change 'Set MJD-OBS to 60871.000000 from DATE-OBS.\n",
      "Set DATE-END to '2025-07-15T12:55:26.797' from MJD-END'. [astropy.wcs.wcs]\n",
      "WARNING: FITSFixedWarning: 'datfix' made the change 'Set MJD-OBS to 60871.000000 from DATE-OBS.\n",
      "Set DATE-END to '2025-07-15T12:55:26.996' from MJD-END'. [astropy.wcs.wcs]\n",
      "WARNING: FITSFixedWarning: 'datfix' made the change 'Set MJD-OBS to 60871.000000 from DATE-OBS.\n",
      "Set DATE-END to '2025-07-15T13:27:32.602' from MJD-END'. [astropy.wcs.wcs]\n",
      "WARNING: FITSFixedWarning: 'datfix' made the change 'Set MJD-OBS to 60871.000000 from DATE-OBS.\n",
      "Set DATE-END to '2025-07-15T13:27:32.196' from MJD-END'. [astropy.wcs.wcs]\n"
     ]
    },
    {
     "name": "stdout",
     "output_type": "stream",
     "text": [
      "  Original center (x, y) = (1032.9, 536.3)\n",
      "  Winpos center (x, y) = (1033.1, 539.2)\n",
      "Data length (Nx, Ny)=(85, 85)\n",
      "  Original center (x, y) = (1043.3, 518.0)\n",
      "  Winpos center (x, y) = (1043.7, 519.3)\n",
      "Data length (Nx, Ny)=(85, 85)\n",
      "  Original center (x, y) = (905.7, 522.7)\n",
      "  Winpos center (x, y) = (905.1, 523.6)\n",
      "Data length (Nx, Ny)=(85, 85)\n",
      "  Original center (x, y) = (891.2, 531.4)\n",
      "  Winpos center (x, y) = (890.6, 532.6)\n",
      "Data length (Nx, Ny)=(85, 85)\n"
     ]
    },
    {
     "name": "stderr",
     "output_type": "stream",
     "text": [
      "WARNING: FITSFixedWarning: 'datfix' made the change 'Set MJD-OBS to 60871.000000 from DATE-OBS.\n",
      "Set DATE-END to '2025-07-15T13:27:32.403' from MJD-END'. [astropy.wcs.wcs]\n",
      "WARNING: FITSFixedWarning: 'datfix' made the change 'Set MJD-OBS to 60871.000000 from DATE-OBS.\n",
      "Set DATE-END to '2025-07-15T14:00:17.899' from MJD-END'. [astropy.wcs.wcs]\n",
      "WARNING: FITSFixedWarning: 'datfix' made the change 'Set MJD-OBS to 60871.000000 from DATE-OBS.\n",
      "Set DATE-END to '2025-07-15T14:00:17.502' from MJD-END'. [astropy.wcs.wcs]\n",
      "WARNING: FITSFixedWarning: 'datfix' made the change 'Set MJD-OBS to 60871.000000 from DATE-OBS.\n",
      "Set DATE-END to '2025-07-15T14:00:17.700' from MJD-END'. [astropy.wcs.wcs]\n"
     ]
    },
    {
     "name": "stdout",
     "output_type": "stream",
     "text": [
      "  Original center (x, y) = (901.3, 512.7)\n",
      "  Winpos center (x, y) = (901.4, 513.2)\n",
      "Data length (Nx, Ny)=(85, 85)\n",
      "  Original center (x, y) = (838.1, 508.8)\n",
      "  Winpos center (x, y) = (837.7, 511.4)\n",
      "Data length (Nx, Ny)=(85, 85)\n",
      "  Original center (x, y) = (823.1, 516.5)\n",
      "  Winpos center (x, y) = (823.7, 519.8)\n",
      "Data length (Nx, Ny)=(85, 85)\n",
      "  Original center (x, y) = (833.8, 497.6)\n",
      "  Winpos center (x, y) = (834.4, 500.4)\n",
      "Data length (Nx, Ny)=(85, 85)\n"
     ]
    },
    {
     "name": "stderr",
     "output_type": "stream",
     "text": [
      "WARNING: FITSFixedWarning: 'datfix' made the change 'Set MJD-OBS to 60871.000000 from DATE-OBS.\n",
      "Set DATE-END to '2025-07-15T14:14:10.596' from MJD-END'. [astropy.wcs.wcs]\n",
      "WARNING: FITSFixedWarning: 'datfix' made the change 'Set MJD-OBS to 60871.000000 from DATE-OBS.\n",
      "Set DATE-END to '2025-07-15T14:14:10.199' from MJD-END'. [astropy.wcs.wcs]\n",
      "WARNING: FITSFixedWarning: 'datfix' made the change 'Set MJD-OBS to 60871.000000 from DATE-OBS.\n",
      "Set DATE-END to '2025-07-15T14:14:10.398' from MJD-END'. [astropy.wcs.wcs]\n",
      "WARNING: FITSFixedWarning: 'datfix' made the change 'Set MJD-OBS to 60871.000000 from DATE-OBS.\n",
      "Set DATE-END to '2025-07-15T14:24:13.504' from MJD-END'. [astropy.wcs.wcs]\n"
     ]
    },
    {
     "name": "stdout",
     "output_type": "stream",
     "text": [
      "  Original center (x, y) = (795.4, 511.1)\n",
      "  Winpos center (x, y) = (795.2, 513.5)\n",
      "Data length (Nx, Ny)=(85, 85)\n",
      "  Original center (x, y) = (781.6, 519.3)\n",
      "  Winpos center (x, y) = (781.6, 521.4)\n",
      "Data length (Nx, Ny)=(85, 85)\n",
      "  Original center (x, y) = (791.3, 499.8)\n",
      "  Winpos center (x, y) = (791.9, 502.3)\n",
      "Data length (Nx, Ny)=(85, 85)\n"
     ]
    },
    {
     "name": "stderr",
     "output_type": "stream",
     "text": [
      "WARNING: FITSFixedWarning: 'datfix' made the change 'Set MJD-OBS to 60871.000000 from DATE-OBS.\n",
      "Set DATE-END to '2025-07-15T14:24:13.098' from MJD-END'. [astropy.wcs.wcs]\n",
      "WARNING: FITSFixedWarning: 'datfix' made the change 'Set MJD-OBS to 60871.000000 from DATE-OBS.\n",
      "Set DATE-END to '2025-07-15T14:24:13.297' from MJD-END'. [astropy.wcs.wcs]\n",
      "/var/folders/xv/z4qp4sf50z10cwc8tgxysssw0000gn/T/ipykernel_99592/108843714.py:52: FutureWarning: Setting an item of incompatible dtype is deprecated and will raise an error in a future version of pandas. Value '17.896099090576172' has dtype incompatible with int64, please explicitly cast to a compatible dtype first.\n",
      "  df_star.loc[df_star[\"band\"] == band, \"PSmag\"] = PSmag_band\n",
      "WARNING: FITSFixedWarning: 'datfix' made the change 'Set MJD-OBS to 60871.000000 from DATE-OBS.\n",
      "Set DATE-END to '2025-07-15T12:42:50.901' from MJD-END'. [astropy.wcs.wcs]\n",
      "WARNING: FITSFixedWarning: 'datfix' made the change 'Set MJD-OBS to 60871.000000 from DATE-OBS.\n",
      "Set DATE-END to '2025-07-15T12:42:50.599' from MJD-END'. [astropy.wcs.wcs]\n",
      "WARNING: FITSFixedWarning: 'datfix' made the change 'Set MJD-OBS to 60871.000000 from DATE-OBS.\n",
      "Set DATE-END to '2025-07-15T13:15:06.097' from MJD-END'. [astropy.wcs.wcs]\n",
      "WARNING: FITSFixedWarning: 'datfix' made the change 'Set MJD-OBS to 60871.000000 from DATE-OBS.\n",
      "Set DATE-END to '2025-07-15T13:15:05.700' from MJD-END'. [astropy.wcs.wcs]\n"
     ]
    },
    {
     "name": "stdout",
     "output_type": "stream",
     "text": [
      "  Original center (x, y) = (1196.1, 442.9)\n",
      "  Winpos center (x, y) = (1195.5, 444.9)\n",
      "Data length (Nx, Ny)=(85, 85)\n",
      "  Original center (x, y) = (1181.3, 453.1)\n",
      "  Winpos center (x, y) = (1180.9, 454.9)\n",
      "Data length (Nx, Ny)=(85, 85)\n",
      "  Original center (x, y) = (1191.6, 433.7)\n",
      "  Winpos center (x, y) = (1191.6, 434.9)\n",
      "Data length (Nx, Ny)=(85, 85)\n",
      "  Original center (x, y) = (1061.3, 429.3)\n",
      "  Winpos center (x, y) = (1063.0, 431.5)\n",
      "Data length (Nx, Ny)=(85, 85)\n",
      "  Original center (x, y) = (1047.2, 438.8)\n",
      "  Winpos center (x, y) = (1048.7, 440.8)\n",
      "Data length (Nx, Ny)=(85, 85)\n",
      "  Original center (x, y) = (1057.5, 419.2)\n",
      "  Winpos center (x, y) = (1059.2, 421.3)\n",
      "Data length (Nx, Ny)=(85, 85)\n",
      "  Original center (x, y) = (921.7, 418.6)\n",
      "  Winpos center (x, y) = (922.5, 424.2)\n",
      "Data length (Nx, Ny)=(85, 85)\n",
      "  Original center (x, y) = (907.7, 427.4)\n",
      "  Winpos center (x, y) = (908.4, 432.7)\n",
      "Data length (Nx, Ny)=(85, 85)\n"
     ]
    },
    {
     "name": "stderr",
     "output_type": "stream",
     "text": [
      "WARNING: FITSFixedWarning: 'datfix' made the change 'Set MJD-OBS to 60871.000000 from DATE-OBS.\n",
      "Set DATE-END to '2025-07-15T13:15:05.898' from MJD-END'. [astropy.wcs.wcs]\n",
      "WARNING: FITSFixedWarning: 'datfix' made the change 'Set MJD-OBS to 60871.000000 from DATE-OBS.\n",
      "Set DATE-END to '2025-07-15T13:47:58.704' from MJD-END'. [astropy.wcs.wcs]\n",
      "WARNING: FITSFixedWarning: 'datfix' made the change 'Set MJD-OBS to 60871.000000 from DATE-OBS.\n",
      "Set DATE-END to '2025-07-15T13:47:58.298' from MJD-END'. [astropy.wcs.wcs]\n",
      "WARNING: FITSFixedWarning: 'datfix' made the change 'Set MJD-OBS to 60871.000000 from DATE-OBS.\n",
      "Set DATE-END to '2025-07-15T13:47:58.497' from MJD-END'. [astropy.wcs.wcs]\n",
      "WARNING: FITSFixedWarning: 'datfix' made the change 'Set MJD-OBS to 60871.000000 from DATE-OBS.\n",
      "Set DATE-END to '2025-07-15T14:38:19.196' from MJD-END'. [astropy.wcs.wcs]\n"
     ]
    },
    {
     "name": "stdout",
     "output_type": "stream",
     "text": [
      "  Original center (x, y) = (917.8, 410.9)\n",
      "  Winpos center (x, y) = (918.6, 412.7)\n",
      "Data length (Nx, Ny)=(85, 85)\n",
      "  Original center (x, y) = (708.4, 407.0)\n",
      "  Winpos center (x, y) = (707.8, 409.5)\n",
      "Data length (Nx, Ny)=(85, 85)\n",
      "  Original center (x, y) = (695.5, 414.5)\n",
      "  Winpos center (x, y) = (695.0, 416.6)\n",
      "Data length (Nx, Ny)=(85, 85)\n",
      "  Original center (x, y) = (705.9, 396.3)\n",
      "  Winpos center (x, y) = (705.3, 398.3)\n",
      "Data length (Nx, Ny)=(85, 85)\n"
     ]
    },
    {
     "name": "stderr",
     "output_type": "stream",
     "text": [
      "WARNING: FITSFixedWarning: 'datfix' made the change 'Set MJD-OBS to 60871.000000 from DATE-OBS.\n",
      "Set DATE-END to '2025-07-15T14:38:18.799' from MJD-END'. [astropy.wcs.wcs]\n",
      "WARNING: FITSFixedWarning: 'datfix' made the change 'Set MJD-OBS to 60871.000000 from DATE-OBS.\n",
      "Set DATE-END to '2025-07-15T14:38:18.997' from MJD-END'. [astropy.wcs.wcs]\n",
      "WARNING: FITSFixedWarning: 'datfix' made the change 'Set MJD-OBS to 60871.000000 from DATE-OBS.\n",
      "Set DATE-END to '2025-07-15T14:48:22.199' from MJD-END'. [astropy.wcs.wcs]\n",
      "WARNING: FITSFixedWarning: 'datfix' made the change 'Set MJD-OBS to 60871.000000 from DATE-OBS.\n",
      "Set DATE-END to '2025-07-15T14:48:21.802' from MJD-END'. [astropy.wcs.wcs]\n"
     ]
    },
    {
     "name": "stdout",
     "output_type": "stream",
     "text": [
      "  Original center (x, y) = (667.8, 411.7)\n",
      "  Winpos center (x, y) = (667.1, 412.9)\n",
      "Data length (Nx, Ny)=(85, 85)\n",
      "  Original center (x, y) = (654.9, 419.0)\n",
      "  Winpos center (x, y) = (654.2, 419.9)\n",
      "Data length (Nx, Ny)=(85, 85)\n",
      "  Original center (x, y) = (664.7, 400.4)\n",
      "  Winpos center (x, y) = (664.5, 401.6)\n",
      "Data length (Nx, Ny)=(85, 85)\n",
      "  Original center (x, y) = (628.9, 411.6)\n",
      "  Winpos center (x, y) = (628.3, 413.4)\n",
      "Data length (Nx, Ny)=(85, 85)\n"
     ]
    },
    {
     "name": "stderr",
     "output_type": "stream",
     "text": [
      "WARNING: FITSFixedWarning: 'datfix' made the change 'Set MJD-OBS to 60871.000000 from DATE-OBS.\n",
      "Set DATE-END to '2025-07-15T14:48:22' from MJD-END'. [astropy.wcs.wcs]\n",
      "WARNING: FITSFixedWarning: 'datfix' made the change 'Set MJD-OBS to 60871.000000 from DATE-OBS.\n",
      "Set DATE-END to '2025-07-15T14:58:25.003' from MJD-END'. [astropy.wcs.wcs]\n",
      "WARNING: FITSFixedWarning: 'datfix' made the change 'Set MJD-OBS to 60871.000000 from DATE-OBS.\n",
      "Set DATE-END to '2025-07-15T14:58:24.597' from MJD-END'. [astropy.wcs.wcs]\n",
      "WARNING: FITSFixedWarning: 'datfix' made the change 'Set MJD-OBS to 60871.000000 from DATE-OBS.\n",
      "Set DATE-END to '2025-07-15T14:58:24.796' from MJD-END'. [astropy.wcs.wcs]\n"
     ]
    },
    {
     "name": "stdout",
     "output_type": "stream",
     "text": [
      "  Original center (x, y) = (616.1, 418.6)\n",
      "  Winpos center (x, y) = (615.6, 420.2)\n",
      "Data length (Nx, Ny)=(85, 85)\n",
      "  Original center (x, y) = (626.2, 400.2)\n",
      "  Winpos center (x, y) = (625.7, 402.1)\n",
      "Data length (Nx, Ny)=(85, 85)\n",
      "  Original center (x, y) = (578.0, 401.3)\n",
      "  Winpos center (x, y) = (577.3, 402.4)\n",
      "Data length (Nx, Ny)=(85, 85)\n",
      "  Original center (x, y) = (564.1, 407.9)\n",
      "  Winpos center (x, y) = (563.4, 409.0)\n",
      "Data length (Nx, Ny)=(85, 85)\n"
     ]
    },
    {
     "name": "stderr",
     "output_type": "stream",
     "text": [
      "WARNING: FITSFixedWarning: 'datfix' made the change 'Set MJD-OBS to 60871.000000 from DATE-OBS.\n",
      "Set DATE-END to '2025-07-15T15:11:28.098' from MJD-END'. [astropy.wcs.wcs]\n",
      "WARNING: FITSFixedWarning: 'datfix' made the change 'Set MJD-OBS to 60871.000000 from DATE-OBS.\n",
      "Set DATE-END to '2025-07-15T15:11:27.701' from MJD-END'. [astropy.wcs.wcs]\n",
      "WARNING: FITSFixedWarning: 'datfix' made the change 'Set MJD-OBS to 60871.000000 from DATE-OBS.\n",
      "Set DATE-END to '2025-07-15T15:11:27.900' from MJD-END'. [astropy.wcs.wcs]\n"
     ]
    },
    {
     "name": "stdout",
     "output_type": "stream",
     "text": [
      "  Original center (x, y) = (575.3, 389.5)\n",
      "  Winpos center (x, y) = (574.9, 390.8)\n",
      "Data length (Nx, Ny)=(85, 85)\n"
     ]
    },
    {
     "name": "stderr",
     "output_type": "stream",
     "text": [
      "/var/folders/xv/z4qp4sf50z10cwc8tgxysssw0000gn/T/ipykernel_99592/108843714.py:32: FutureWarning: Setting an item of incompatible dtype is deprecated and will raise an error in a future version of pandas. Value '16.4822998046875' has dtype incompatible with int64, please explicitly cast to a compatible dtype first.\n",
      "  df_star.loc[df_star[\"band\"] == band, \"PSmag\"] = PSmag_band\n",
      "WARNING: FITSFixedWarning: 'datfix' made the change 'Set MJD-OBS to 60871.000000 from DATE-OBS.\n",
      "Set DATE-END to '2025-07-15T12:55:27.204' from MJD-END'. [astropy.wcs.wcs]\n",
      "WARNING: FITSFixedWarning: 'datfix' made the change 'Set MJD-OBS to 60871.000000 from DATE-OBS.\n",
      "Set DATE-END to '2025-07-15T12:55:26.797' from MJD-END'. [astropy.wcs.wcs]\n",
      "WARNING: FITSFixedWarning: 'datfix' made the change 'Set MJD-OBS to 60871.000000 from DATE-OBS.\n",
      "Set DATE-END to '2025-07-15T12:55:26.996' from MJD-END'. [astropy.wcs.wcs]\n"
     ]
    },
    {
     "name": "stdout",
     "output_type": "stream",
     "text": [
      "  Original center (x, y) = (1149.1, 441.3)\n",
      "  Winpos center (x, y) = (1148.9, 443.9)\n",
      "Data length (Nx, Ny)=(85, 85)\n",
      "  Original center (x, y) = (1136.3, 450.1)\n",
      "  Winpos center (x, y) = (1134.8, 453.5)\n",
      "Data length (Nx, Ny)=(85, 85)\n",
      "  Original center (x, y) = (1144.8, 431.5)\n",
      "  Winpos center (x, y) = (1145.4, 433.2)\n",
      "Data length (Nx, Ny)=(85, 85)\n",
      "  Original center (x, y) = (1018.5, 433.7)\n",
      "  Winpos center (x, y) = (1017.3, 436.1)\n",
      "Data length (Nx, Ny)=(85, 85)\n"
     ]
    },
    {
     "name": "stderr",
     "output_type": "stream",
     "text": [
      "WARNING: FITSFixedWarning: 'datfix' made the change 'Set MJD-OBS to 60871.000000 from DATE-OBS.\n",
      "Set DATE-END to '2025-07-15T13:27:32.602' from MJD-END'. [astropy.wcs.wcs]\n",
      "WARNING: FITSFixedWarning: 'datfix' made the change 'Set MJD-OBS to 60871.000000 from DATE-OBS.\n",
      "Set DATE-END to '2025-07-15T13:27:32.196' from MJD-END'. [astropy.wcs.wcs]\n",
      "WARNING: FITSFixedWarning: 'datfix' made the change 'Set MJD-OBS to 60871.000000 from DATE-OBS.\n",
      "Set DATE-END to '2025-07-15T13:27:32.403' from MJD-END'. [astropy.wcs.wcs]\n",
      "WARNING: FITSFixedWarning: 'datfix' made the change 'Set MJD-OBS to 60871.000000 from DATE-OBS.\n",
      "Set DATE-END to '2025-07-15T14:00:17.899' from MJD-END'. [astropy.wcs.wcs]\n"
     ]
    },
    {
     "name": "stdout",
     "output_type": "stream",
     "text": [
      "  Original center (x, y) = (1002.9, 441.7)\n",
      "  Winpos center (x, y) = (1003.3, 445.3)\n",
      "Data length (Nx, Ny)=(85, 85)\n",
      "  Original center (x, y) = (1013.3, 423.6)\n",
      "  Winpos center (x, y) = (1013.6, 425.4)\n",
      "Data length (Nx, Ny)=(85, 85)\n",
      "  Original center (x, y) = (875.6, 428.5)\n",
      "  Winpos center (x, y) = (874.8, 430.0)\n",
      "Data length (Nx, Ny)=(85, 85)\n",
      "  Original center (x, y) = (861.6, 437.0)\n",
      "  Winpos center (x, y) = (860.7, 438.7)\n",
      "Data length (Nx, Ny)=(85, 85)\n"
     ]
    },
    {
     "name": "stderr",
     "output_type": "stream",
     "text": [
      "WARNING: FITSFixedWarning: 'datfix' made the change 'Set MJD-OBS to 60871.000000 from DATE-OBS.\n",
      "Set DATE-END to '2025-07-15T14:00:17.502' from MJD-END'. [astropy.wcs.wcs]\n",
      "WARNING: FITSFixedWarning: 'datfix' made the change 'Set MJD-OBS to 60871.000000 from DATE-OBS.\n",
      "Set DATE-END to '2025-07-15T14:00:17.700' from MJD-END'. [astropy.wcs.wcs]\n",
      "WARNING: FITSFixedWarning: 'datfix' made the change 'Set MJD-OBS to 60871.000000 from DATE-OBS.\n",
      "Set DATE-END to '2025-07-15T14:14:10.596' from MJD-END'. [astropy.wcs.wcs]\n",
      "WARNING: FITSFixedWarning: 'datfix' made the change 'Set MJD-OBS to 60871.000000 from DATE-OBS.\n",
      "Set DATE-END to '2025-07-15T14:14:10.199' from MJD-END'. [astropy.wcs.wcs]\n"
     ]
    },
    {
     "name": "stdout",
     "output_type": "stream",
     "text": [
      "  Original center (x, y) = (871.3, 418.5)\n",
      "  Winpos center (x, y) = (871.2, 419.1)\n",
      "Data length (Nx, Ny)=(85, 85)\n",
      "  Original center (x, y) = (808.0, 414.4)\n",
      "  Winpos center (x, y) = (807.3, 417.7)\n",
      "Data length (Nx, Ny)=(85, 85)\n",
      "  Original center (x, y) = (793.4, 421.7)\n",
      "  Winpos center (x, y) = (793.8, 425.8)\n",
      "Data length (Nx, Ny)=(85, 85)\n",
      "  Original center (x, y) = (803.8, 402.8)\n",
      "  Winpos center (x, y) = (804.2, 406.4)\n",
      "Data length (Nx, Ny)=(85, 85)\n"
     ]
    },
    {
     "name": "stderr",
     "output_type": "stream",
     "text": [
      "WARNING: FITSFixedWarning: 'datfix' made the change 'Set MJD-OBS to 60871.000000 from DATE-OBS.\n",
      "Set DATE-END to '2025-07-15T14:14:10.398' from MJD-END'. [astropy.wcs.wcs]\n",
      "WARNING: FITSFixedWarning: 'datfix' made the change 'Set MJD-OBS to 60871.000000 from DATE-OBS.\n",
      "Set DATE-END to '2025-07-15T14:24:13.504' from MJD-END'. [astropy.wcs.wcs]\n",
      "WARNING: FITSFixedWarning: 'datfix' made the change 'Set MJD-OBS to 60871.000000 from DATE-OBS.\n",
      "Set DATE-END to '2025-07-15T14:24:13.098' from MJD-END'. [astropy.wcs.wcs]\n"
     ]
    },
    {
     "name": "stdout",
     "output_type": "stream",
     "text": [
      "  Original center (x, y) = (765.3, 416.7)\n",
      "  Winpos center (x, y) = (764.8, 419.8)\n",
      "Data length (Nx, Ny)=(85, 85)\n",
      "  Original center (x, y) = (752.0, 424.7)\n",
      "  Winpos center (x, y) = (751.7, 427.4)\n",
      "Data length (Nx, Ny)=(85, 85)\n",
      "  Original center (x, y) = (761.4, 405.1)\n",
      "  Winpos center (x, y) = (761.7, 408.3)\n",
      "Data length (Nx, Ny)=(85, 85)\n"
     ]
    },
    {
     "name": "stderr",
     "output_type": "stream",
     "text": [
      "WARNING: FITSFixedWarning: 'datfix' made the change 'Set MJD-OBS to 60871.000000 from DATE-OBS.\n",
      "Set DATE-END to '2025-07-15T14:24:13.297' from MJD-END'. [astropy.wcs.wcs]\n",
      "/var/folders/xv/z4qp4sf50z10cwc8tgxysssw0000gn/T/ipykernel_99592/108843714.py:52: FutureWarning: Setting an item of incompatible dtype is deprecated and will raise an error in a future version of pandas. Value '16.4822998046875' has dtype incompatible with int64, please explicitly cast to a compatible dtype first.\n",
      "  df_star.loc[df_star[\"band\"] == band, \"PSmag\"] = PSmag_band\n",
      "WARNING: FITSFixedWarning: 'datfix' made the change 'Set MJD-OBS to 60871.000000 from DATE-OBS.\n",
      "Set DATE-END to '2025-07-15T12:42:50.901' from MJD-END'. [astropy.wcs.wcs]\n",
      "WARNING: FITSFixedWarning: 'datfix' made the change 'Set MJD-OBS to 60871.000000 from DATE-OBS.\n",
      "Set DATE-END to '2025-07-15T12:42:50.599' from MJD-END'. [astropy.wcs.wcs]\n"
     ]
    },
    {
     "name": "stdout",
     "output_type": "stream",
     "text": [
      "  Original center (x, y) = (1009.3, 666.9)\n",
      "  Winpos center (x, y) = (1009.8, 668.1)\n",
      "Data length (Nx, Ny)=(85, 85)\n",
      "  Original center (x, y) = (993.4, 676.6)\n",
      "  Winpos center (x, y) = (994.0, 677.3)\n",
      "Data length (Nx, Ny)=(85, 85)\n",
      "  Original center (x, y) = (1004.1, 657.8)\n",
      "  Winpos center (x, y) = (1005.2, 658.0)\n",
      "Data length (Nx, Ny)=(85, 85)\n"
     ]
    },
    {
     "name": "stderr",
     "output_type": "stream",
     "text": [
      "WARNING: FITSFixedWarning: 'datfix' made the change 'Set MJD-OBS to 60871.000000 from DATE-OBS.\n",
      "Set DATE-END to '2025-07-15T13:15:06.097' from MJD-END'. [astropy.wcs.wcs]\n",
      "WARNING: FITSFixedWarning: 'datfix' made the change 'Set MJD-OBS to 60871.000000 from DATE-OBS.\n",
      "Set DATE-END to '2025-07-15T13:15:05.700' from MJD-END'. [astropy.wcs.wcs]\n",
      "WARNING: FITSFixedWarning: 'datfix' made the change 'Set MJD-OBS to 60871.000000 from DATE-OBS.\n",
      "Set DATE-END to '2025-07-15T13:15:05.898' from MJD-END'. [astropy.wcs.wcs]\n",
      "WARNING: FITSFixedWarning: 'datfix' made the change 'Set MJD-OBS to 60871.000000 from DATE-OBS.\n",
      "Set DATE-END to '2025-07-15T13:47:58.704' from MJD-END'. [astropy.wcs.wcs]\n"
     ]
    },
    {
     "name": "stdout",
     "output_type": "stream",
     "text": [
      "  Original center (x, y) = (874.4, 654.0)\n",
      "  Winpos center (x, y) = (877.2, 654.8)\n",
      "Data length (Nx, Ny)=(85, 85)\n",
      "  Original center (x, y) = (859.0, 662.6)\n",
      "  Winpos center (x, y) = (861.7, 663.2)\n",
      "Data length (Nx, Ny)=(85, 85)\n",
      "  Original center (x, y) = (869.9, 643.7)\n",
      "  Winpos center (x, y) = (872.7, 644.4)\n",
      "Data length (Nx, Ny)=(85, 85)\n",
      "  Original center (x, y) = (734.3, 644.8)\n",
      "  Winpos center (x, y) = (736.7, 647.5)\n",
      "Data length (Nx, Ny)=(85, 85)\n"
     ]
    },
    {
     "name": "stderr",
     "output_type": "stream",
     "text": [
      "WARNING: FITSFixedWarning: 'datfix' made the change 'Set MJD-OBS to 60871.000000 from DATE-OBS.\n",
      "Set DATE-END to '2025-07-15T13:47:58.298' from MJD-END'. [astropy.wcs.wcs]\n",
      "WARNING: FITSFixedWarning: 'datfix' made the change 'Set MJD-OBS to 60871.000000 from DATE-OBS.\n",
      "Set DATE-END to '2025-07-15T13:47:58.497' from MJD-END'. [astropy.wcs.wcs]\n",
      "WARNING: FITSFixedWarning: 'datfix' made the change 'Set MJD-OBS to 60871.000000 from DATE-OBS.\n",
      "Set DATE-END to '2025-07-15T14:38:19.196' from MJD-END'. [astropy.wcs.wcs]\n",
      "WARNING: FITSFixedWarning: 'datfix' made the change 'Set MJD-OBS to 60871.000000 from DATE-OBS.\n",
      "Set DATE-END to '2025-07-15T14:38:18.799' from MJD-END'. [astropy.wcs.wcs]\n"
     ]
    },
    {
     "name": "stdout",
     "output_type": "stream",
     "text": [
      "  Original center (x, y) = (719.1, 652.6)\n",
      "  Winpos center (x, y) = (721.2, 655.1)\n",
      "Data length (Nx, Ny)=(85, 85)\n",
      "  Original center (x, y) = (730.0, 635.5)\n",
      "  Winpos center (x, y) = (732.0, 635.8)\n",
      "Data length (Nx, Ny)=(85, 85)\n",
      "  Original center (x, y) = (521.2, 631.2)\n",
      "  Winpos center (x, y) = (521.4, 632.9)\n",
      "Data length (Nx, Ny)=(85, 85)\n",
      "  Original center (x, y) = (507.2, 637.8)\n",
      "  Winpos center (x, y) = (507.3, 639.2)\n",
      "Data length (Nx, Ny)=(85, 85)\n"
     ]
    },
    {
     "name": "stderr",
     "output_type": "stream",
     "text": [
      "WARNING: FITSFixedWarning: 'datfix' made the change 'Set MJD-OBS to 60871.000000 from DATE-OBS.\n",
      "Set DATE-END to '2025-07-15T14:38:18.997' from MJD-END'. [astropy.wcs.wcs]\n",
      "WARNING: FITSFixedWarning: 'datfix' made the change 'Set MJD-OBS to 60871.000000 from DATE-OBS.\n",
      "Set DATE-END to '2025-07-15T14:48:22.199' from MJD-END'. [astropy.wcs.wcs]\n",
      "WARNING: FITSFixedWarning: 'datfix' made the change 'Set MJD-OBS to 60871.000000 from DATE-OBS.\n",
      "Set DATE-END to '2025-07-15T14:48:21.802' from MJD-END'. [astropy.wcs.wcs]\n",
      "WARNING: FITSFixedWarning: 'datfix' made the change 'Set MJD-OBS to 60871.000000 from DATE-OBS.\n",
      "Set DATE-END to '2025-07-15T14:48:22' from MJD-END'. [astropy.wcs.wcs]\n"
     ]
    },
    {
     "name": "stdout",
     "output_type": "stream",
     "text": [
      "  Original center (x, y) = (518.2, 620.2)\n",
      "  Winpos center (x, y) = (518.2, 621.6)\n",
      "Data length (Nx, Ny)=(85, 85)\n",
      "  Original center (x, y) = (480.8, 635.9)\n",
      "  Winpos center (x, y) = (480.5, 636.3)\n",
      "Data length (Nx, Ny)=(85, 85)\n",
      "  Original center (x, y) = (466.7, 642.2)\n",
      "  Winpos center (x, y) = (466.4, 642.5)\n",
      "Data length (Nx, Ny)=(85, 85)\n",
      "  Original center (x, y) = (476.9, 624.3)\n",
      "  Winpos center (x, y) = (477.3, 624.9)\n",
      "Data length (Nx, Ny)=(85, 85)\n"
     ]
    },
    {
     "name": "stderr",
     "output_type": "stream",
     "text": [
      "WARNING: FITSFixedWarning: 'datfix' made the change 'Set MJD-OBS to 60871.000000 from DATE-OBS.\n",
      "Set DATE-END to '2025-07-15T14:58:25.003' from MJD-END'. [astropy.wcs.wcs]\n",
      "WARNING: FITSFixedWarning: 'datfix' made the change 'Set MJD-OBS to 60871.000000 from DATE-OBS.\n",
      "Set DATE-END to '2025-07-15T14:58:24.597' from MJD-END'. [astropy.wcs.wcs]\n",
      "WARNING: FITSFixedWarning: 'datfix' made the change 'Set MJD-OBS to 60871.000000 from DATE-OBS.\n",
      "Set DATE-END to '2025-07-15T14:58:24.796' from MJD-END'. [astropy.wcs.wcs]\n",
      "WARNING: FITSFixedWarning: 'datfix' made the change 'Set MJD-OBS to 60871.000000 from DATE-OBS.\n",
      "Set DATE-END to '2025-07-15T15:11:28.098' from MJD-END'. [astropy.wcs.wcs]\n"
     ]
    },
    {
     "name": "stdout",
     "output_type": "stream",
     "text": [
      "  Original center (x, y) = (442.1, 635.6)\n",
      "  Winpos center (x, y) = (441.6, 636.9)\n",
      "Data length (Nx, Ny)=(85, 85)\n",
      "  Original center (x, y) = (428.1, 641.7)\n",
      "  Winpos center (x, y) = (427.6, 642.9)\n",
      "Data length (Nx, Ny)=(85, 85)\n",
      "  Original center (x, y) = (438.5, 624.0)\n",
      "  Winpos center (x, y) = (438.2, 625.4)\n",
      "Data length (Nx, Ny)=(85, 85)\n",
      "  Original center (x, y) = (391.3, 625.2)\n",
      "  Winpos center (x, y) = (390.3, 625.9)\n",
      "Data length (Nx, Ny)=(85, 85)\n"
     ]
    },
    {
     "name": "stderr",
     "output_type": "stream",
     "text": [
      "WARNING: FITSFixedWarning: 'datfix' made the change 'Set MJD-OBS to 60871.000000 from DATE-OBS.\n",
      "Set DATE-END to '2025-07-15T15:11:27.701' from MJD-END'. [astropy.wcs.wcs]\n",
      "WARNING: FITSFixedWarning: 'datfix' made the change 'Set MJD-OBS to 60871.000000 from DATE-OBS.\n",
      "Set DATE-END to '2025-07-15T15:11:27.900' from MJD-END'. [astropy.wcs.wcs]\n"
     ]
    },
    {
     "name": "stdout",
     "output_type": "stream",
     "text": [
      "  Original center (x, y) = (376.0, 630.9)\n",
      "  Winpos center (x, y) = (375.1, 631.7)\n",
      "Data length (Nx, Ny)=(85, 85)\n",
      "  Original center (x, y) = (387.7, 613.3)\n",
      "  Winpos center (x, y) = (387.2, 614.2)\n",
      "Data length (Nx, Ny)=(85, 85)\n"
     ]
    },
    {
     "name": "stderr",
     "output_type": "stream",
     "text": [
      "/var/folders/xv/z4qp4sf50z10cwc8tgxysssw0000gn/T/ipykernel_99592/108843714.py:32: FutureWarning: Setting an item of incompatible dtype is deprecated and will raise an error in a future version of pandas. Value '16.293899536132812' has dtype incompatible with int64, please explicitly cast to a compatible dtype first.\n",
      "  df_star.loc[df_star[\"band\"] == band, \"PSmag\"] = PSmag_band\n",
      "WARNING: FITSFixedWarning: 'datfix' made the change 'Set MJD-OBS to 60871.000000 from DATE-OBS.\n",
      "Set DATE-END to '2025-07-15T12:55:27.204' from MJD-END'. [astropy.wcs.wcs]\n",
      "WARNING: FITSFixedWarning: 'datfix' made the change 'Set MJD-OBS to 60871.000000 from DATE-OBS.\n",
      "Set DATE-END to '2025-07-15T12:55:26.797' from MJD-END'. [astropy.wcs.wcs]\n",
      "WARNING: FITSFixedWarning: 'datfix' made the change 'Set MJD-OBS to 60871.000000 from DATE-OBS.\n",
      "Set DATE-END to '2025-07-15T12:55:26.996' from MJD-END'. [astropy.wcs.wcs]\n"
     ]
    },
    {
     "name": "stdout",
     "output_type": "stream",
     "text": [
      "  Original center (x, y) = (962.3, 665.5)\n",
      "  Winpos center (x, y) = (963.1, 667.2)\n",
      "Data length (Nx, Ny)=(85, 85)\n",
      "  Original center (x, y) = (947.1, 674.3)\n",
      "  Winpos center (x, y) = (947.8, 676.0)\n",
      "Data length (Nx, Ny)=(85, 85)\n",
      "  Original center (x, y) = (957.3, 655.8)\n",
      "  Winpos center (x, y) = (958.9, 656.4)\n",
      "Data length (Nx, Ny)=(85, 85)\n",
      "  Original center (x, y) = (831.2, 658.2)\n",
      "  Winpos center (x, y) = (831.5, 659.2)\n",
      "Data length (Nx, Ny)=(85, 85)\n"
     ]
    },
    {
     "name": "stderr",
     "output_type": "stream",
     "text": [
      "WARNING: FITSFixedWarning: 'datfix' made the change 'Set MJD-OBS to 60871.000000 from DATE-OBS.\n",
      "Set DATE-END to '2025-07-15T13:27:32.602' from MJD-END'. [astropy.wcs.wcs]\n",
      "WARNING: FITSFixedWarning: 'datfix' made the change 'Set MJD-OBS to 60871.000000 from DATE-OBS.\n",
      "Set DATE-END to '2025-07-15T13:27:32.196' from MJD-END'. [astropy.wcs.wcs]\n",
      "WARNING: FITSFixedWarning: 'datfix' made the change 'Set MJD-OBS to 60871.000000 from DATE-OBS.\n",
      "Set DATE-END to '2025-07-15T13:27:32.403' from MJD-END'. [astropy.wcs.wcs]\n",
      "WARNING: FITSFixedWarning: 'datfix' made the change 'Set MJD-OBS to 60871.000000 from DATE-OBS.\n",
      "Set DATE-END to '2025-07-15T14:00:17.899' from MJD-END'. [astropy.wcs.wcs]\n"
     ]
    },
    {
     "name": "stdout",
     "output_type": "stream",
     "text": [
      "  Original center (x, y) = (814.7, 666.0)\n",
      "  Winpos center (x, y) = (816.3, 667.7)\n",
      "Data length (Nx, Ny)=(85, 85)\n",
      "  Original center (x, y) = (825.7, 647.9)\n",
      "  Winpos center (x, y) = (827.0, 648.6)\n",
      "Data length (Nx, Ny)=(85, 85)\n",
      "  Original center (x, y) = (688.7, 652.5)\n",
      "  Winpos center (x, y) = (688.8, 653.2)\n",
      "Data length (Nx, Ny)=(85, 85)\n",
      "  Original center (x, y) = (673.4, 660.1)\n",
      "  Winpos center (x, y) = (673.5, 661.1)\n",
      "Data length (Nx, Ny)=(85, 85)\n"
     ]
    },
    {
     "name": "stderr",
     "output_type": "stream",
     "text": [
      "WARNING: FITSFixedWarning: 'datfix' made the change 'Set MJD-OBS to 60871.000000 from DATE-OBS.\n",
      "Set DATE-END to '2025-07-15T14:00:17.502' from MJD-END'. [astropy.wcs.wcs]\n",
      "WARNING: FITSFixedWarning: 'datfix' made the change 'Set MJD-OBS to 60871.000000 from DATE-OBS.\n",
      "Set DATE-END to '2025-07-15T14:00:17.700' from MJD-END'. [astropy.wcs.wcs]\n",
      "WARNING: FITSFixedWarning: 'datfix' made the change 'Set MJD-OBS to 60871.000000 from DATE-OBS.\n",
      "Set DATE-END to '2025-07-15T14:14:10.596' from MJD-END'. [astropy.wcs.wcs]\n",
      "WARNING: FITSFixedWarning: 'datfix' made the change 'Set MJD-OBS to 60871.000000 from DATE-OBS.\n",
      "Set DATE-END to '2025-07-15T14:14:10.199' from MJD-END'. [astropy.wcs.wcs]\n"
     ]
    },
    {
     "name": "stdout",
     "output_type": "stream",
     "text": [
      "  Original center (x, y) = (684.1, 642.2)\n",
      "  Winpos center (x, y) = (684.4, 642.4)\n",
      "Data length (Nx, Ny)=(85, 85)\n",
      "  Original center (x, y) = (620.5, 639.0)\n",
      "  Winpos center (x, y) = (621.2, 641.0)\n",
      "Data length (Nx, Ny)=(85, 85)\n",
      "  Original center (x, y) = (604.3, 645.5)\n",
      "  Winpos center (x, y) = (606.4, 648.3)\n",
      "Data length (Nx, Ny)=(85, 85)\n",
      "  Original center (x, y) = (615.3, 627.3)\n",
      "  Winpos center (x, y) = (617.3, 629.7)\n",
      "Data length (Nx, Ny)=(85, 85)\n"
     ]
    },
    {
     "name": "stderr",
     "output_type": "stream",
     "text": [
      "WARNING: FITSFixedWarning: 'datfix' made the change 'Set MJD-OBS to 60871.000000 from DATE-OBS.\n",
      "Set DATE-END to '2025-07-15T14:14:10.398' from MJD-END'. [astropy.wcs.wcs]\n",
      "WARNING: FITSFixedWarning: 'datfix' made the change 'Set MJD-OBS to 60871.000000 from DATE-OBS.\n",
      "Set DATE-END to '2025-07-15T14:24:13.504' from MJD-END'. [astropy.wcs.wcs]\n",
      "WARNING: FITSFixedWarning: 'datfix' made the change 'Set MJD-OBS to 60871.000000 from DATE-OBS.\n",
      "Set DATE-END to '2025-07-15T14:24:13.098' from MJD-END'. [astropy.wcs.wcs]\n",
      "WARNING: FITSFixedWarning: 'datfix' made the change 'Set MJD-OBS to 60871.000000 from DATE-OBS.\n",
      "Set DATE-END to '2025-07-15T14:24:13.297' from MJD-END'. [astropy.wcs.wcs]\n"
     ]
    },
    {
     "name": "stdout",
     "output_type": "stream",
     "text": [
      "  Original center (x, y) = (578.0, 641.2)\n",
      "  Winpos center (x, y) = (578.6, 643.1)\n",
      "Data length (Nx, Ny)=(85, 85)\n",
      "  Original center (x, y) = (563.5, 648.2)\n",
      "  Winpos center (x, y) = (564.2, 649.9)\n",
      "Data length (Nx, Ny)=(85, 85)\n",
      "  Original center (x, y) = (573.1, 629.5)\n",
      "  Winpos center (x, y) = (574.7, 631.6)\n",
      "Data length (Nx, Ny)=(85, 85)\n"
     ]
    },
    {
     "name": "stderr",
     "output_type": "stream",
     "text": [
      "/var/folders/xv/z4qp4sf50z10cwc8tgxysssw0000gn/T/ipykernel_99592/108843714.py:52: FutureWarning: Setting an item of incompatible dtype is deprecated and will raise an error in a future version of pandas. Value '16.293899536132812' has dtype incompatible with int64, please explicitly cast to a compatible dtype first.\n",
      "  df_star.loc[df_star[\"band\"] == band, \"PSmag\"] = PSmag_band\n",
      "WARNING: FITSFixedWarning: 'datfix' made the change 'Set MJD-OBS to 60871.000000 from DATE-OBS.\n",
      "Set DATE-END to '2025-07-15T12:42:50.901' from MJD-END'. [astropy.wcs.wcs]\n",
      "WARNING: FITSFixedWarning: 'datfix' made the change 'Set MJD-OBS to 60871.000000 from DATE-OBS.\n",
      "Set DATE-END to '2025-07-15T12:42:50.599' from MJD-END'. [astropy.wcs.wcs]\n",
      "WARNING: FITSFixedWarning: 'datfix' made the change 'Set MJD-OBS to 60871.000000 from DATE-OBS.\n",
      "Set DATE-END to '2025-07-15T13:15:06.097' from MJD-END'. [astropy.wcs.wcs]\n"
     ]
    },
    {
     "name": "stdout",
     "output_type": "stream",
     "text": [
      "  Original center (x, y) = (1111.8, 772.7)\n",
      "  Winpos center (x, y) = (1112.3, 773.2)\n",
      "Data length (Nx, Ny)=(85, 85)\n",
      "  Original center (x, y) = (1095.6, 782.9)\n",
      "  Winpos center (x, y) = (1095.9, 783.0)\n",
      "Data length (Nx, Ny)=(85, 85)\n",
      "  Original center (x, y) = (1106.6, 763.9)\n",
      "  Winpos center (x, y) = (1107.5, 763.4)\n",
      "Data length (Nx, Ny)=(85, 85)\n",
      "  Original center (x, y) = (977.3, 759.9)\n",
      "  Winpos center (x, y) = (979.8, 759.8)\n",
      "Data length (Nx, Ny)=(85, 85)\n"
     ]
    },
    {
     "name": "stderr",
     "output_type": "stream",
     "text": [
      "WARNING: FITSFixedWarning: 'datfix' made the change 'Set MJD-OBS to 60871.000000 from DATE-OBS.\n",
      "Set DATE-END to '2025-07-15T13:15:05.700' from MJD-END'. [astropy.wcs.wcs]\n",
      "WARNING: FITSFixedWarning: 'datfix' made the change 'Set MJD-OBS to 60871.000000 from DATE-OBS.\n",
      "Set DATE-END to '2025-07-15T13:15:05.898' from MJD-END'. [astropy.wcs.wcs]\n",
      "WARNING: FITSFixedWarning: 'datfix' made the change 'Set MJD-OBS to 60871.000000 from DATE-OBS.\n",
      "Set DATE-END to '2025-07-15T13:47:58.704' from MJD-END'. [astropy.wcs.wcs]\n",
      "WARNING: FITSFixedWarning: 'datfix' made the change 'Set MJD-OBS to 60871.000000 from DATE-OBS.\n",
      "Set DATE-END to '2025-07-15T13:47:58.298' from MJD-END'. [astropy.wcs.wcs]\n"
     ]
    },
    {
     "name": "stdout",
     "output_type": "stream",
     "text": [
      "  Original center (x, y) = (961.4, 769.0)\n",
      "  Winpos center (x, y) = (963.6, 768.8)\n",
      "Data length (Nx, Ny)=(85, 85)\n",
      "  Original center (x, y) = (972.7, 749.9)\n",
      "  Winpos center (x, y) = (975.1, 749.7)\n",
      "Data length (Nx, Ny)=(85, 85)\n",
      "  Original center (x, y) = (838.0, 751.0)\n",
      "  Winpos center (x, y) = (839.3, 752.5)\n",
      "Data length (Nx, Ny)=(85, 85)\n",
      "  Original center (x, y) = (822.2, 759.4)\n",
      "  Winpos center (x, y) = (823.3, 760.8)\n",
      "Data length (Nx, Ny)=(85, 85)\n"
     ]
    },
    {
     "name": "stderr",
     "output_type": "stream",
     "text": [
      "WARNING: FITSFixedWarning: 'datfix' made the change 'Set MJD-OBS to 60871.000000 from DATE-OBS.\n",
      "Set DATE-END to '2025-07-15T13:47:58.497' from MJD-END'. [astropy.wcs.wcs]\n",
      "WARNING: FITSFixedWarning: 'datfix' made the change 'Set MJD-OBS to 60871.000000 from DATE-OBS.\n",
      "Set DATE-END to '2025-07-15T14:38:19.196' from MJD-END'. [astropy.wcs.wcs]\n",
      "WARNING: FITSFixedWarning: 'datfix' made the change 'Set MJD-OBS to 60871.000000 from DATE-OBS.\n",
      "Set DATE-END to '2025-07-15T14:38:18.799' from MJD-END'. [astropy.wcs.wcs]\n",
      "WARNING: FITSFixedWarning: 'datfix' made the change 'Set MJD-OBS to 60871.000000 from DATE-OBS.\n",
      "Set DATE-END to '2025-07-15T14:38:18.997' from MJD-END'. [astropy.wcs.wcs]\n"
     ]
    },
    {
     "name": "stdout",
     "output_type": "stream",
     "text": [
      "  Original center (x, y) = (832.8, 741.8)\n",
      "  Winpos center (x, y) = (834.5, 741.2)\n",
      "Data length (Nx, Ny)=(85, 85)\n",
      "  Original center (x, y) = (623.9, 737.2)\n",
      "  Winpos center (x, y) = (624.4, 738.1)\n",
      "Data length (Nx, Ny)=(85, 85)\n",
      "  Original center (x, y) = (609.3, 744.3)\n",
      "  Winpos center (x, y) = (609.6, 745.0)\n",
      "Data length (Nx, Ny)=(85, 85)\n",
      "  Original center (x, y) = (620.6, 726.4)\n",
      "  Winpos center (x, y) = (621.1, 727.1)\n",
      "Data length (Nx, Ny)=(85, 85)\n"
     ]
    },
    {
     "name": "stderr",
     "output_type": "stream",
     "text": [
      "WARNING: FITSFixedWarning: 'datfix' made the change 'Set MJD-OBS to 60871.000000 from DATE-OBS.\n",
      "Set DATE-END to '2025-07-15T14:48:22.199' from MJD-END'. [astropy.wcs.wcs]\n",
      "WARNING: FITSFixedWarning: 'datfix' made the change 'Set MJD-OBS to 60871.000000 from DATE-OBS.\n",
      "Set DATE-END to '2025-07-15T14:48:21.802' from MJD-END'. [astropy.wcs.wcs]\n",
      "WARNING: FITSFixedWarning: 'datfix' made the change 'Set MJD-OBS to 60871.000000 from DATE-OBS.\n",
      "Set DATE-END to '2025-07-15T14:48:22' from MJD-END'. [astropy.wcs.wcs]\n",
      "WARNING: FITSFixedWarning: 'datfix' made the change 'Set MJD-OBS to 60871.000000 from DATE-OBS.\n",
      "Set DATE-END to '2025-07-15T14:58:25.003' from MJD-END'. [astropy.wcs.wcs]\n"
     ]
    },
    {
     "name": "stdout",
     "output_type": "stream",
     "text": [
      "  Original center (x, y) = (583.4, 741.7)\n",
      "  Winpos center (x, y) = (583.6, 741.6)\n",
      "Data length (Nx, Ny)=(85, 85)\n",
      "  Original center (x, y) = (568.7, 748.6)\n",
      "  Winpos center (x, y) = (568.9, 748.3)\n",
      "Data length (Nx, Ny)=(85, 85)\n",
      "  Original center (x, y) = (579.3, 730.6)\n",
      "  Winpos center (x, y) = (580.3, 730.4)\n",
      "Data length (Nx, Ny)=(85, 85)\n",
      "  Original center (x, y) = (544.6, 741.5)\n",
      "  Winpos center (x, y) = (544.9, 742.0)\n",
      "Data length (Nx, Ny)=(85, 85)\n"
     ]
    },
    {
     "name": "stderr",
     "output_type": "stream",
     "text": [
      "WARNING: FITSFixedWarning: 'datfix' made the change 'Set MJD-OBS to 60871.000000 from DATE-OBS.\n",
      "Set DATE-END to '2025-07-15T14:58:24.597' from MJD-END'. [astropy.wcs.wcs]\n",
      "WARNING: FITSFixedWarning: 'datfix' made the change 'Set MJD-OBS to 60871.000000 from DATE-OBS.\n",
      "Set DATE-END to '2025-07-15T14:58:24.796' from MJD-END'. [astropy.wcs.wcs]\n",
      "WARNING: FITSFixedWarning: 'datfix' made the change 'Set MJD-OBS to 60871.000000 from DATE-OBS.\n",
      "Set DATE-END to '2025-07-15T15:11:28.098' from MJD-END'. [astropy.wcs.wcs]\n",
      "WARNING: FITSFixedWarning: 'datfix' made the change 'Set MJD-OBS to 60871.000000 from DATE-OBS.\n",
      "Set DATE-END to '2025-07-15T15:11:27.701' from MJD-END'. [astropy.wcs.wcs]\n"
     ]
    },
    {
     "name": "stdout",
     "output_type": "stream",
     "text": [
      "  Original center (x, y) = (530.1, 748.1)\n",
      "  Winpos center (x, y) = (530.2, 748.7)\n",
      "Data length (Nx, Ny)=(85, 85)\n",
      "  Original center (x, y) = (540.9, 730.2)\n",
      "  Winpos center (x, y) = (541.4, 731.0)\n",
      "Data length (Nx, Ny)=(85, 85)\n",
      "  Original center (x, y) = (493.8, 731.0)\n",
      "  Winpos center (x, y) = (493.7, 731.2)\n",
      "Data length (Nx, Ny)=(85, 85)\n",
      "  Original center (x, y) = (478.0, 737.2)\n",
      "  Winpos center (x, y) = (477.9, 737.6)\n",
      "Data length (Nx, Ny)=(85, 85)\n"
     ]
    },
    {
     "name": "stderr",
     "output_type": "stream",
     "text": [
      "WARNING: FITSFixedWarning: 'datfix' made the change 'Set MJD-OBS to 60871.000000 from DATE-OBS.\n",
      "Set DATE-END to '2025-07-15T15:11:27.900' from MJD-END'. [astropy.wcs.wcs]\n"
     ]
    },
    {
     "name": "stdout",
     "output_type": "stream",
     "text": [
      "  Original center (x, y) = (490.1, 719.5)\n",
      "  Winpos center (x, y) = (490.5, 719.8)\n",
      "Data length (Nx, Ny)=(85, 85)\n"
     ]
    },
    {
     "name": "stderr",
     "output_type": "stream",
     "text": [
      "/var/folders/xv/z4qp4sf50z10cwc8tgxysssw0000gn/T/ipykernel_99592/108843714.py:32: FutureWarning: Setting an item of incompatible dtype is deprecated and will raise an error in a future version of pandas. Value '17.3572998046875' has dtype incompatible with int64, please explicitly cast to a compatible dtype first.\n",
      "  df_star.loc[df_star[\"band\"] == band, \"PSmag\"] = PSmag_band\n",
      "WARNING: FITSFixedWarning: 'datfix' made the change 'Set MJD-OBS to 60871.000000 from DATE-OBS.\n",
      "Set DATE-END to '2025-07-15T12:55:27.204' from MJD-END'. [astropy.wcs.wcs]\n",
      "WARNING: FITSFixedWarning: 'datfix' made the change 'Set MJD-OBS to 60871.000000 from DATE-OBS.\n",
      "Set DATE-END to '2025-07-15T12:55:26.797' from MJD-END'. [astropy.wcs.wcs]\n",
      "WARNING: FITSFixedWarning: 'datfix' made the change 'Set MJD-OBS to 60871.000000 from DATE-OBS.\n",
      "Set DATE-END to '2025-07-15T12:55:26.996' from MJD-END'. [astropy.wcs.wcs]\n"
     ]
    },
    {
     "name": "stdout",
     "output_type": "stream",
     "text": [
      "  Original center (x, y) = (1065.0, 771.3)\n",
      "  Winpos center (x, y) = (1065.6, 772.2)\n",
      "Data length (Nx, Ny)=(85, 85)\n",
      "  Original center (x, y) = (1049.6, 781.4)\n",
      "  Winpos center (x, y) = (1049.7, 781.6)\n",
      "Data length (Nx, Ny)=(85, 85)\n",
      "  Original center (x, y) = (1059.9, 761.9)\n",
      "  Winpos center (x, y) = (1061.3, 761.7)\n",
      "Data length (Nx, Ny)=(85, 85)\n",
      "  Original center (x, y) = (933.9, 764.3)\n",
      "  Winpos center (x, y) = (934.0, 764.3)\n",
      "Data length (Nx, Ny)=(85, 85)\n"
     ]
    },
    {
     "name": "stderr",
     "output_type": "stream",
     "text": [
      "WARNING: FITSFixedWarning: 'datfix' made the change 'Set MJD-OBS to 60871.000000 from DATE-OBS.\n",
      "Set DATE-END to '2025-07-15T13:27:32.602' from MJD-END'. [astropy.wcs.wcs]\n",
      "WARNING: FITSFixedWarning: 'datfix' made the change 'Set MJD-OBS to 60871.000000 from DATE-OBS.\n",
      "Set DATE-END to '2025-07-15T13:27:32.196' from MJD-END'. [astropy.wcs.wcs]\n",
      "WARNING: FITSFixedWarning: 'datfix' made the change 'Set MJD-OBS to 60871.000000 from DATE-OBS.\n",
      "Set DATE-END to '2025-07-15T13:27:32.403' from MJD-END'. [astropy.wcs.wcs]\n",
      "WARNING: FITSFixedWarning: 'datfix' made the change 'Set MJD-OBS to 60871.000000 from DATE-OBS.\n",
      "Set DATE-END to '2025-07-15T14:00:17.899' from MJD-END'. [astropy.wcs.wcs]\n"
     ]
    },
    {
     "name": "stdout",
     "output_type": "stream",
     "text": [
      "  Original center (x, y) = (917.3, 772.6)\n",
      "  Winpos center (x, y) = (918.2, 773.4)\n",
      "Data length (Nx, Ny)=(85, 85)\n",
      "  Original center (x, y) = (928.3, 754.1)\n",
      "  Winpos center (x, y) = (929.5, 754.0)\n",
      "Data length (Nx, Ny)=(85, 85)\n",
      "  Original center (x, y) = (791.3, 758.4)\n",
      "  Winpos center (x, y) = (791.7, 758.3)\n",
      "Data length (Nx, Ny)=(85, 85)\n",
      "  Original center (x, y) = (775.5, 766.6)\n",
      "  Winpos center (x, y) = (775.7, 766.8)\n",
      "Data length (Nx, Ny)=(85, 85)\n"
     ]
    },
    {
     "name": "stderr",
     "output_type": "stream",
     "text": [
      "WARNING: FITSFixedWarning: 'datfix' made the change 'Set MJD-OBS to 60871.000000 from DATE-OBS.\n",
      "Set DATE-END to '2025-07-15T14:00:17.502' from MJD-END'. [astropy.wcs.wcs]\n",
      "WARNING: FITSFixedWarning: 'datfix' made the change 'Set MJD-OBS to 60871.000000 from DATE-OBS.\n",
      "Set DATE-END to '2025-07-15T14:00:17.700' from MJD-END'. [astropy.wcs.wcs]\n",
      "WARNING: FITSFixedWarning: 'datfix' made the change 'Set MJD-OBS to 60871.000000 from DATE-OBS.\n",
      "Set DATE-END to '2025-07-15T14:14:10.596' from MJD-END'. [astropy.wcs.wcs]\n",
      "WARNING: FITSFixedWarning: 'datfix' made the change 'Set MJD-OBS to 60871.000000 from DATE-OBS.\n",
      "Set DATE-END to '2025-07-15T14:14:10.199' from MJD-END'. [astropy.wcs.wcs]\n"
     ]
    },
    {
     "name": "stdout",
     "output_type": "stream",
     "text": [
      "  Original center (x, y) = (786.5, 748.2)\n",
      "  Winpos center (x, y) = (787.1, 747.8)\n",
      "Data length (Nx, Ny)=(85, 85)\n",
      "  Original center (x, y) = (723.3, 745.1)\n",
      "  Winpos center (x, y) = (724.0, 746.0)\n",
      "Data length (Nx, Ny)=(85, 85)\n",
      "  Original center (x, y) = (706.6, 752.5)\n",
      "  Winpos center (x, y) = (708.6, 754.0)\n",
      "Data length (Nx, Ny)=(85, 85)\n",
      "  Original center (x, y) = (718.0, 734.0)\n",
      "  Winpos center (x, y) = (720.0, 735.2)\n",
      "Data length (Nx, Ny)=(85, 85)\n"
     ]
    },
    {
     "name": "stderr",
     "output_type": "stream",
     "text": [
      "WARNING: FITSFixedWarning: 'datfix' made the change 'Set MJD-OBS to 60871.000000 from DATE-OBS.\n",
      "Set DATE-END to '2025-07-15T14:14:10.398' from MJD-END'. [astropy.wcs.wcs]\n",
      "WARNING: FITSFixedWarning: 'datfix' made the change 'Set MJD-OBS to 60871.000000 from DATE-OBS.\n",
      "Set DATE-END to '2025-07-15T14:24:13.504' from MJD-END'. [astropy.wcs.wcs]\n",
      "WARNING: FITSFixedWarning: 'datfix' made the change 'Set MJD-OBS to 60871.000000 from DATE-OBS.\n",
      "Set DATE-END to '2025-07-15T14:24:13.098' from MJD-END'. [astropy.wcs.wcs]\n",
      "WARNING: FITSFixedWarning: 'datfix' made the change 'Set MJD-OBS to 60871.000000 from DATE-OBS.\n",
      "Set DATE-END to '2025-07-15T14:24:13.297' from MJD-END'. [astropy.wcs.wcs]\n"
     ]
    },
    {
     "name": "stdout",
     "output_type": "stream",
     "text": [
      "  Original center (x, y) = (680.7, 747.3)\n",
      "  Winpos center (x, y) = (681.5, 748.2)\n",
      "Data length (Nx, Ny)=(85, 85)\n",
      "  Original center (x, y) = (665.7, 754.8)\n",
      "  Winpos center (x, y) = (666.5, 755.6)\n",
      "Data length (Nx, Ny)=(85, 85)\n",
      "  Original center (x, y) = (675.7, 736.0)\n",
      "  Winpos center (x, y) = (677.5, 737.1)\n",
      "Data length (Nx, Ny)=(85, 85)\n"
     ]
    },
    {
     "name": "stderr",
     "output_type": "stream",
     "text": [
      "/var/folders/xv/z4qp4sf50z10cwc8tgxysssw0000gn/T/ipykernel_99592/108843714.py:52: FutureWarning: Setting an item of incompatible dtype is deprecated and will raise an error in a future version of pandas. Value '17.3572998046875' has dtype incompatible with int64, please explicitly cast to a compatible dtype first.\n",
      "  df_star.loc[df_star[\"band\"] == band, \"PSmag\"] = PSmag_band\n",
      "WARNING: FITSFixedWarning: 'datfix' made the change 'Set MJD-OBS to 60871.000000 from DATE-OBS.\n",
      "Set DATE-END to '2025-07-15T12:42:50.901' from MJD-END'. [astropy.wcs.wcs]\n",
      "WARNING: FITSFixedWarning: 'datfix' made the change 'Set MJD-OBS to 60871.000000 from DATE-OBS.\n",
      "Set DATE-END to '2025-07-15T12:42:50.599' from MJD-END'. [astropy.wcs.wcs]\n",
      "WARNING: FITSFixedWarning: 'datfix' made the change 'Set MJD-OBS to 60871.000000 from DATE-OBS.\n",
      "Set DATE-END to '2025-07-15T13:15:06.097' from MJD-END'. [astropy.wcs.wcs]\n"
     ]
    },
    {
     "name": "stdout",
     "output_type": "stream",
     "text": [
      "  Original center (x, y) = (920.3, 731.6)\n",
      "  Winpos center (x, y) = (921.1, 732.5)\n",
      "Data length (Nx, Ny)=(85, 85)\n",
      "  Original center (x, y) = (904.1, 741.0)\n",
      "  Winpos center (x, y) = (904.9, 741.2)\n",
      "Data length (Nx, Ny)=(85, 85)\n",
      "  Original center (x, y) = (914.9, 722.5)\n",
      "  Winpos center (x, y) = (916.1, 722.3)\n",
      "Data length (Nx, Ny)=(85, 85)\n",
      "  Original center (x, y) = (785.3, 719.0)\n",
      "  Winpos center (x, y) = (788.5, 719.1)\n",
      "Data length (Nx, Ny)=(85, 85)\n"
     ]
    },
    {
     "name": "stderr",
     "output_type": "stream",
     "text": [
      "WARNING: FITSFixedWarning: 'datfix' made the change 'Set MJD-OBS to 60871.000000 from DATE-OBS.\n",
      "Set DATE-END to '2025-07-15T13:15:05.700' from MJD-END'. [astropy.wcs.wcs]\n",
      "WARNING: FITSFixedWarning: 'datfix' made the change 'Set MJD-OBS to 60871.000000 from DATE-OBS.\n",
      "Set DATE-END to '2025-07-15T13:15:05.898' from MJD-END'. [astropy.wcs.wcs]\n",
      "WARNING: FITSFixedWarning: 'datfix' made the change 'Set MJD-OBS to 60871.000000 from DATE-OBS.\n",
      "Set DATE-END to '2025-07-15T13:47:58.704' from MJD-END'. [astropy.wcs.wcs]\n",
      "WARNING: FITSFixedWarning: 'datfix' made the change 'Set MJD-OBS to 60871.000000 from DATE-OBS.\n",
      "Set DATE-END to '2025-07-15T13:47:58.298' from MJD-END'. [astropy.wcs.wcs]\n"
     ]
    },
    {
     "name": "stdout",
     "output_type": "stream",
     "text": [
      "  Original center (x, y) = (769.6, 727.1)\n",
      "  Winpos center (x, y) = (772.5, 727.1)\n",
      "Data length (Nx, Ny)=(85, 85)\n",
      "  Original center (x, y) = (780.6, 708.5)\n",
      "  Winpos center (x, y) = (783.6, 708.6)\n",
      "Data length (Nx, Ny)=(85, 85)\n",
      "  Original center (x, y) = (644.9, 710.3)\n",
      "  Winpos center (x, y) = (647.7, 711.8)\n",
      "Data length (Nx, Ny)=(85, 85)\n",
      "  Original center (x, y) = (629.4, 717.6)\n",
      "  Winpos center (x, y) = (631.9, 719.1)\n",
      "Data length (Nx, Ny)=(85, 85)\n"
     ]
    },
    {
     "name": "stderr",
     "output_type": "stream",
     "text": [
      "WARNING: FITSFixedWarning: 'datfix' made the change 'Set MJD-OBS to 60871.000000 from DATE-OBS.\n",
      "Set DATE-END to '2025-07-15T13:47:58.497' from MJD-END'. [astropy.wcs.wcs]\n",
      "WARNING: FITSFixedWarning: 'datfix' made the change 'Set MJD-OBS to 60871.000000 from DATE-OBS.\n",
      "Set DATE-END to '2025-07-15T14:38:19.196' from MJD-END'. [astropy.wcs.wcs]\n",
      "WARNING: FITSFixedWarning: 'datfix' made the change 'Set MJD-OBS to 60871.000000 from DATE-OBS.\n",
      "Set DATE-END to '2025-07-15T14:38:18.799' from MJD-END'. [astropy.wcs.wcs]\n",
      "WARNING: FITSFixedWarning: 'datfix' made the change 'Set MJD-OBS to 60871.000000 from DATE-OBS.\n",
      "Set DATE-END to '2025-07-15T14:38:18.997' from MJD-END'. [astropy.wcs.wcs]\n"
     ]
    },
    {
     "name": "stdout",
     "output_type": "stream",
     "text": [
      "  Original center (x, y) = (640.7, 700.3)\n",
      "  Winpos center (x, y) = (642.7, 700.1)\n",
      "Data length (Nx, Ny)=(85, 85)\n",
      "  Original center (x, y) = (432.1, 696.1)\n",
      "  Winpos center (x, y) = (432.0, 697.3)\n",
      "Data length (Nx, Ny)=(85, 85)\n",
      "  Original center (x, y) = (417.7, 702.1)\n",
      "  Winpos center (x, y) = (417.5, 703.2)\n",
      "Data length (Nx, Ny)=(85, 85)\n",
      "  Original center (x, y) = (428.9, 684.8)\n",
      "  Winpos center (x, y) = (428.5, 685.9)\n",
      "Data length (Nx, Ny)=(85, 85)\n"
     ]
    },
    {
     "name": "stderr",
     "output_type": "stream",
     "text": [
      "WARNING: FITSFixedWarning: 'datfix' made the change 'Set MJD-OBS to 60871.000000 from DATE-OBS.\n",
      "Set DATE-END to '2025-07-15T14:48:22.199' from MJD-END'. [astropy.wcs.wcs]\n"
     ]
    },
    {
     "name": "stdout",
     "output_type": "stream",
     "text": [
      "  Original center (x, y) = (391.8, 700.6)\n",
      "  Winpos center (x, y) = (390.9, 700.7)\n",
      "Data length (Nx, Ny)=(85, 85)\n"
     ]
    },
    {
     "name": "stderr",
     "output_type": "stream",
     "text": [
      "WARNING: FITSFixedWarning: 'datfix' made the change 'Set MJD-OBS to 60871.000000 from DATE-OBS.\n",
      "Set DATE-END to '2025-07-15T14:48:21.802' from MJD-END'. [astropy.wcs.wcs]\n",
      "WARNING: FITSFixedWarning: 'datfix' made the change 'Set MJD-OBS to 60871.000000 from DATE-OBS.\n",
      "Set DATE-END to '2025-07-15T14:48:22' from MJD-END'. [astropy.wcs.wcs]\n",
      "WARNING: FITSFixedWarning: 'datfix' made the change 'Set MJD-OBS to 60871.000000 from DATE-OBS.\n",
      "Set DATE-END to '2025-07-15T14:58:25.003' from MJD-END'. [astropy.wcs.wcs]\n",
      "WARNING: FITSFixedWarning: 'datfix' made the change 'Set MJD-OBS to 60871.000000 from DATE-OBS.\n",
      "Set DATE-END to '2025-07-15T14:58:24.597' from MJD-END'. [astropy.wcs.wcs]\n"
     ]
    },
    {
     "name": "stdout",
     "output_type": "stream",
     "text": [
      "  Original center (x, y) = (377.3, 706.5)\n",
      "  Winpos center (x, y) = (376.5, 706.5)\n",
      "Data length (Nx, Ny)=(85, 85)\n",
      "  Original center (x, y) = (387.5, 689.0)\n",
      "  Winpos center (x, y) = (387.5, 689.2)\n",
      "Data length (Nx, Ny)=(85, 85)\n",
      "  Original center (x, y) = (353.1, 700.4)\n",
      "  Winpos center (x, y) = (351.8, 701.3)\n",
      "Data length (Nx, Ny)=(85, 85)\n",
      "  Original center (x, y) = (338.7, 706.0)\n",
      "  Winpos center (x, y) = (337.5, 706.9)\n",
      "Data length (Nx, Ny)=(85, 85)\n"
     ]
    },
    {
     "name": "stderr",
     "output_type": "stream",
     "text": [
      "WARNING: FITSFixedWarning: 'datfix' made the change 'Set MJD-OBS to 60871.000000 from DATE-OBS.\n",
      "Set DATE-END to '2025-07-15T14:58:24.796' from MJD-END'. [astropy.wcs.wcs]\n",
      "WARNING: FITSFixedWarning: 'datfix' made the change 'Set MJD-OBS to 60871.000000 from DATE-OBS.\n",
      "Set DATE-END to '2025-07-15T15:11:28.098' from MJD-END'. [astropy.wcs.wcs]\n",
      "WARNING: FITSFixedWarning: 'datfix' made the change 'Set MJD-OBS to 60871.000000 from DATE-OBS.\n",
      "Set DATE-END to '2025-07-15T15:11:27.701' from MJD-END'. [astropy.wcs.wcs]\n",
      "WARNING: FITSFixedWarning: 'datfix' made the change 'Set MJD-OBS to 60871.000000 from DATE-OBS.\n",
      "Set DATE-END to '2025-07-15T15:11:27.900' from MJD-END'. [astropy.wcs.wcs]\n"
     ]
    },
    {
     "name": "stdout",
     "output_type": "stream",
     "text": [
      "  Original center (x, y) = (349.2, 688.6)\n",
      "  Winpos center (x, y) = (348.3, 689.7)\n",
      "Data length (Nx, Ny)=(85, 85)\n",
      "  Original center (x, y) = (302.3, 690.0)\n",
      "  Winpos center (x, y) = (300.4, 690.4)\n",
      "Data length (Nx, Ny)=(85, 85)\n",
      "  Original center (x, y) = (286.7, 695.1)\n",
      "  Winpos center (x, y) = (284.8, 695.8)\n",
      "Data length (Nx, Ny)=(85, 85)\n",
      "  Original center (x, y) = (298.4, 677.9)\n",
      "  Winpos center (x, y) = (297.1, 678.6)\n",
      "Data length (Nx, Ny)=(85, 85)\n"
     ]
    },
    {
     "name": "stderr",
     "output_type": "stream",
     "text": [
      "/var/folders/xv/z4qp4sf50z10cwc8tgxysssw0000gn/T/ipykernel_99592/108843714.py:32: FutureWarning: Setting an item of incompatible dtype is deprecated and will raise an error in a future version of pandas. Value '16.5856990814209' has dtype incompatible with int64, please explicitly cast to a compatible dtype first.\n",
      "  df_star.loc[df_star[\"band\"] == band, \"PSmag\"] = PSmag_band\n",
      "WARNING: FITSFixedWarning: 'datfix' made the change 'Set MJD-OBS to 60871.000000 from DATE-OBS.\n",
      "Set DATE-END to '2025-07-15T12:55:27.204' from MJD-END'. [astropy.wcs.wcs]\n",
      "WARNING: FITSFixedWarning: 'datfix' made the change 'Set MJD-OBS to 60871.000000 from DATE-OBS.\n",
      "Set DATE-END to '2025-07-15T12:55:26.797' from MJD-END'. [astropy.wcs.wcs]\n",
      "WARNING: FITSFixedWarning: 'datfix' made the change 'Set MJD-OBS to 60871.000000 from DATE-OBS.\n",
      "Set DATE-END to '2025-07-15T12:55:26.996' from MJD-END'. [astropy.wcs.wcs]\n"
     ]
    },
    {
     "name": "stdout",
     "output_type": "stream",
     "text": [
      "  Original center (x, y) = (873.3, 730.4)\n",
      "  Winpos center (x, y) = (874.4, 731.5)\n",
      "Data length (Nx, Ny)=(85, 85)\n",
      "  Original center (x, y) = (857.2, 739.0)\n",
      "  Winpos center (x, y) = (858.7, 739.9)\n",
      "Data length (Nx, Ny)=(85, 85)\n",
      "  Original center (x, y) = (868.0, 720.6)\n",
      "  Winpos center (x, y) = (869.8, 720.7)\n",
      "Data length (Nx, Ny)=(85, 85)\n",
      "  Original center (x, y) = (742.0, 723.1)\n",
      "  Winpos center (x, y) = (742.7, 723.6)\n",
      "Data length (Nx, Ny)=(85, 85)\n"
     ]
    },
    {
     "name": "stderr",
     "output_type": "stream",
     "text": [
      "WARNING: FITSFixedWarning: 'datfix' made the change 'Set MJD-OBS to 60871.000000 from DATE-OBS.\n",
      "Set DATE-END to '2025-07-15T13:27:32.602' from MJD-END'. [astropy.wcs.wcs]\n",
      "WARNING: FITSFixedWarning: 'datfix' made the change 'Set MJD-OBS to 60871.000000 from DATE-OBS.\n",
      "Set DATE-END to '2025-07-15T13:27:32.196' from MJD-END'. [astropy.wcs.wcs]\n",
      "WARNING: FITSFixedWarning: 'datfix' made the change 'Set MJD-OBS to 60871.000000 from DATE-OBS.\n",
      "Set DATE-END to '2025-07-15T13:27:32.403' from MJD-END'. [astropy.wcs.wcs]\n",
      "WARNING: FITSFixedWarning: 'datfix' made the change 'Set MJD-OBS to 60871.000000 from DATE-OBS.\n",
      "Set DATE-END to '2025-07-15T14:00:17.899' from MJD-END'. [astropy.wcs.wcs]\n"
     ]
    },
    {
     "name": "stdout",
     "output_type": "stream",
     "text": [
      "  Original center (x, y) = (725.2, 730.8)\n",
      "  Winpos center (x, y) = (727.0, 731.7)\n",
      "Data length (Nx, Ny)=(85, 85)\n",
      "  Original center (x, y) = (736.4, 712.6)\n",
      "  Winpos center (x, y) = (737.8, 712.9)\n",
      "Data length (Nx, Ny)=(85, 85)\n",
      "  Original center (x, y) = (599.7, 717.3)\n",
      "  Winpos center (x, y) = (599.8, 717.6)\n",
      "Data length (Nx, Ny)=(85, 85)\n",
      "  Original center (x, y) = (584.1, 724.4)\n",
      "  Winpos center (x, y) = (584.1, 725.0)\n",
      "Data length (Nx, Ny)=(85, 85)\n"
     ]
    },
    {
     "name": "stderr",
     "output_type": "stream",
     "text": [
      "WARNING: FITSFixedWarning: 'datfix' made the change 'Set MJD-OBS to 60871.000000 from DATE-OBS.\n",
      "Set DATE-END to '2025-07-15T14:00:17.502' from MJD-END'. [astropy.wcs.wcs]\n",
      "WARNING: FITSFixedWarning: 'datfix' made the change 'Set MJD-OBS to 60871.000000 from DATE-OBS.\n",
      "Set DATE-END to '2025-07-15T14:00:17.700' from MJD-END'. [astropy.wcs.wcs]\n",
      "WARNING: FITSFixedWarning: 'datfix' made the change 'Set MJD-OBS to 60871.000000 from DATE-OBS.\n",
      "Set DATE-END to '2025-07-15T14:14:10.596' from MJD-END'. [astropy.wcs.wcs]\n",
      "WARNING: FITSFixedWarning: 'datfix' made the change 'Set MJD-OBS to 60871.000000 from DATE-OBS.\n",
      "Set DATE-END to '2025-07-15T14:14:10.199' from MJD-END'. [astropy.wcs.wcs]\n"
     ]
    },
    {
     "name": "stdout",
     "output_type": "stream",
     "text": [
      "  Original center (x, y) = (595.0, 706.8)\n",
      "  Winpos center (x, y) = (595.0, 706.7)\n",
      "Data length (Nx, Ny)=(85, 85)\n",
      "  Original center (x, y) = (531.2, 703.9)\n",
      "  Winpos center (x, y) = (532.0, 705.3)\n",
      "Data length (Nx, Ny)=(85, 85)\n",
      "  Original center (x, y) = (514.5, 710.0)\n",
      "  Winpos center (x, y) = (516.8, 712.3)\n",
      "Data length (Nx, Ny)=(85, 85)\n",
      "  Original center (x, y) = (525.7, 692.1)\n",
      "  Winpos center (x, y) = (527.7, 694.0)\n",
      "Data length (Nx, Ny)=(85, 85)\n"
     ]
    },
    {
     "name": "stderr",
     "output_type": "stream",
     "text": [
      "WARNING: FITSFixedWarning: 'datfix' made the change 'Set MJD-OBS to 60871.000000 from DATE-OBS.\n",
      "Set DATE-END to '2025-07-15T14:14:10.398' from MJD-END'. [astropy.wcs.wcs]\n",
      "WARNING: FITSFixedWarning: 'datfix' made the change 'Set MJD-OBS to 60871.000000 from DATE-OBS.\n",
      "Set DATE-END to '2025-07-15T14:24:13.504' from MJD-END'. [astropy.wcs.wcs]\n",
      "WARNING: FITSFixedWarning: 'datfix' made the change 'Set MJD-OBS to 60871.000000 from DATE-OBS.\n",
      "Set DATE-END to '2025-07-15T14:24:13.098' from MJD-END'. [astropy.wcs.wcs]\n",
      "WARNING: FITSFixedWarning: 'datfix' made the change 'Set MJD-OBS to 60871.000000 from DATE-OBS.\n",
      "Set DATE-END to '2025-07-15T14:24:13.297' from MJD-END'. [astropy.wcs.wcs]\n"
     ]
    },
    {
     "name": "stdout",
     "output_type": "stream",
     "text": [
      "  Original center (x, y) = (488.8, 706.1)\n",
      "  Winpos center (x, y) = (489.4, 707.5)\n",
      "Data length (Nx, Ny)=(85, 85)\n",
      "  Original center (x, y) = (474.0, 712.6)\n",
      "  Winpos center (x, y) = (474.5, 713.8)\n",
      "Data length (Nx, Ny)=(85, 85)\n",
      "  Original center (x, y) = (483.5, 694.2)\n",
      "  Winpos center (x, y) = (485.1, 696.0)\n",
      "Data length (Nx, Ny)=(85, 85)\n"
     ]
    },
    {
     "name": "stderr",
     "output_type": "stream",
     "text": [
      "/var/folders/xv/z4qp4sf50z10cwc8tgxysssw0000gn/T/ipykernel_99592/108843714.py:52: FutureWarning: Setting an item of incompatible dtype is deprecated and will raise an error in a future version of pandas. Value '16.5856990814209' has dtype incompatible with int64, please explicitly cast to a compatible dtype first.\n",
      "  df_star.loc[df_star[\"band\"] == band, \"PSmag\"] = PSmag_band\n",
      "WARNING: FITSFixedWarning: 'datfix' made the change 'Set MJD-OBS to 60871.000000 from DATE-OBS.\n",
      "Set DATE-END to '2025-07-15T12:42:50.901' from MJD-END'. [astropy.wcs.wcs]\n",
      "WARNING: FITSFixedWarning: 'datfix' made the change 'Set MJD-OBS to 60871.000000 from DATE-OBS.\n",
      "Set DATE-END to '2025-07-15T12:42:50.599' from MJD-END'. [astropy.wcs.wcs]\n",
      "WARNING: FITSFixedWarning: 'datfix' made the change 'Set MJD-OBS to 60871.000000 from DATE-OBS.\n",
      "Set DATE-END to '2025-07-15T13:15:06.097' from MJD-END'. [astropy.wcs.wcs]\n",
      "WARNING: FITSFixedWarning: 'datfix' made the change 'Set MJD-OBS to 60871.000000 from DATE-OBS.\n",
      "Set DATE-END to '2025-07-15T13:15:05.700' from MJD-END'. [astropy.wcs.wcs]\n"
     ]
    },
    {
     "name": "stdout",
     "output_type": "stream",
     "text": [
      "  Original center (x, y) = (846.4, 686.2)\n",
      "  Winpos center (x, y) = (847.6, 687.3)\n",
      "Data length (Nx, Ny)=(85, 85)\n",
      "  Original center (x, y) = (830.3, 695.3)\n",
      "  Winpos center (x, y) = (831.5, 695.6)\n",
      "Data length (Nx, Ny)=(85, 85)\n",
      "  Original center (x, y) = (840.9, 676.9)\n",
      "  Winpos center (x, y) = (842.6, 676.8)\n",
      "Data length (Nx, Ny)=(85, 85)\n",
      "  Original center (x, y) = (711.2, 673.6)\n",
      "  Winpos center (x, y) = (714.8, 673.9)\n",
      "Data length (Nx, Ny)=(85, 85)\n",
      "  Original center (x, y) = (695.7, 681.3)\n",
      "  Winpos center (x, y) = (699.0, 681.5)\n",
      "Data length (Nx, Ny)=(85, 85)\n",
      "  Original center (x, y) = (706.5, 662.9)\n",
      "  Winpos center (x, y) = (709.9, 663.2)\n",
      "Data length (Nx, Ny)=(85, 85)\n",
      "  Original center (x, y) = (570.3, 664.9)\n",
      "  Winpos center (x, y) = (573.9, 666.5)\n",
      "Data length (Nx, Ny)=(85, 85)\n",
      "  Original center (x, y) = (555.0, 671.7)\n",
      "  Winpos center (x, y) = (558.3, 673.4)\n",
      "Data length (Nx, Ny)=(85, 85)\n"
     ]
    },
    {
     "name": "stderr",
     "output_type": "stream",
     "text": [
      "WARNING: FITSFixedWarning: 'datfix' made the change 'Set MJD-OBS to 60871.000000 from DATE-OBS.\n",
      "Set DATE-END to '2025-07-15T13:15:05.898' from MJD-END'. [astropy.wcs.wcs]\n",
      "WARNING: FITSFixedWarning: 'datfix' made the change 'Set MJD-OBS to 60871.000000 from DATE-OBS.\n",
      "Set DATE-END to '2025-07-15T13:47:58.704' from MJD-END'. [astropy.wcs.wcs]\n",
      "WARNING: FITSFixedWarning: 'datfix' made the change 'Set MJD-OBS to 60871.000000 from DATE-OBS.\n",
      "Set DATE-END to '2025-07-15T13:47:58.298' from MJD-END'. [astropy.wcs.wcs]\n",
      "WARNING: FITSFixedWarning: 'datfix' made the change 'Set MJD-OBS to 60871.000000 from DATE-OBS.\n",
      "Set DATE-END to '2025-07-15T13:47:58.497' from MJD-END'. [astropy.wcs.wcs]\n"
     ]
    },
    {
     "name": "stdout",
     "output_type": "stream",
     "text": [
      "  Original center (x, y) = (566.5, 654.7)\n",
      "  Winpos center (x, y) = (568.9, 654.6)\n",
      "Data length (Nx, Ny)=(85, 85)\n",
      "  Original center (x, y) = (358.1, 650.6)\n",
      "  Winpos center (x, y) = (357.8, 652.0)\n",
      "Data length (Nx, Ny)=(85, 85)\n",
      "  Original center (x, y) = (344.0, 656.3)\n",
      "  Winpos center (x, y) = (343.4, 657.5)\n",
      "Data length (Nx, Ny)=(85, 85)\n",
      "  Original center (x, y) = (354.9, 639.1)\n",
      "  Winpos center (x, y) = (354.2, 640.3)\n",
      "Data length (Nx, Ny)=(85, 85)\n"
     ]
    },
    {
     "name": "stderr",
     "output_type": "stream",
     "text": [
      "WARNING: FITSFixedWarning: 'datfix' made the change 'Set MJD-OBS to 60871.000000 from DATE-OBS.\n",
      "Set DATE-END to '2025-07-15T14:38:19.196' from MJD-END'. [astropy.wcs.wcs]\n",
      "WARNING: FITSFixedWarning: 'datfix' made the change 'Set MJD-OBS to 60871.000000 from DATE-OBS.\n",
      "Set DATE-END to '2025-07-15T14:38:18.799' from MJD-END'. [astropy.wcs.wcs]\n",
      "WARNING: FITSFixedWarning: 'datfix' made the change 'Set MJD-OBS to 60871.000000 from DATE-OBS.\n",
      "Set DATE-END to '2025-07-15T14:38:18.997' from MJD-END'. [astropy.wcs.wcs]\n",
      "WARNING: FITSFixedWarning: 'datfix' made the change 'Set MJD-OBS to 60871.000000 from DATE-OBS.\n",
      "Set DATE-END to '2025-07-15T14:48:22.199' from MJD-END'. [astropy.wcs.wcs]\n"
     ]
    },
    {
     "name": "stdout",
     "output_type": "stream",
     "text": [
      "  Original center (x, y) = (317.8, 655.2)\n",
      "  Winpos center (x, y) = (316.5, 655.4)\n",
      "Data length (Nx, Ny)=(85, 85)\n",
      "  Original center (x, y) = (303.5, 660.7)\n",
      "  Winpos center (x, y) = (302.3, 660.8)\n",
      "Data length (Nx, Ny)=(85, 85)\n",
      "  Original center (x, y) = (313.6, 643.3)\n",
      "  Winpos center (x, y) = (313.1, 643.6)\n",
      "Data length (Nx, Ny)=(85, 85)\n",
      "  Original center (x, y) = (279.2, 655.0)\n",
      "  Winpos center (x, y) = (277.2, 655.9)\n",
      "Data length (Nx, Ny)=(85, 85)\n"
     ]
    },
    {
     "name": "stderr",
     "output_type": "stream",
     "text": [
      "WARNING: FITSFixedWarning: 'datfix' made the change 'Set MJD-OBS to 60871.000000 from DATE-OBS.\n",
      "Set DATE-END to '2025-07-15T14:48:21.802' from MJD-END'. [astropy.wcs.wcs]\n",
      "WARNING: FITSFixedWarning: 'datfix' made the change 'Set MJD-OBS to 60871.000000 from DATE-OBS.\n",
      "Set DATE-END to '2025-07-15T14:48:22' from MJD-END'. [astropy.wcs.wcs]\n",
      "WARNING: FITSFixedWarning: 'datfix' made the change 'Set MJD-OBS to 60871.000000 from DATE-OBS.\n",
      "Set DATE-END to '2025-07-15T14:58:25.003' from MJD-END'. [astropy.wcs.wcs]\n",
      "WARNING: FITSFixedWarning: 'datfix' made the change 'Set MJD-OBS to 60871.000000 from DATE-OBS.\n",
      "Set DATE-END to '2025-07-15T14:58:24.597' from MJD-END'. [astropy.wcs.wcs]\n"
     ]
    },
    {
     "name": "stdout",
     "output_type": "stream",
     "text": [
      "  Original center (x, y) = (265.0, 660.1)\n",
      "  Winpos center (x, y) = (263.1, 661.1)\n",
      "Data length (Nx, Ny)=(85, 85)\n",
      "  Original center (x, y) = (275.3, 642.9)\n",
      "  Winpos center (x, y) = (273.8, 644.1)\n",
      "Data length (Nx, Ny)=(85, 85)\n",
      "  Original center (x, y) = (228.4, 644.6)\n",
      "  Winpos center (x, y) = (225.6, 645.0)\n",
      "Data length (Nx, Ny)=(85, 85)\n",
      "  Original center (x, y) = (213.1, 649.3)\n",
      "  Winpos center (x, y) = (210.3, 650.0)\n",
      "Data length (Nx, Ny)=(85, 85)\n"
     ]
    },
    {
     "name": "stderr",
     "output_type": "stream",
     "text": [
      "WARNING: FITSFixedWarning: 'datfix' made the change 'Set MJD-OBS to 60871.000000 from DATE-OBS.\n",
      "Set DATE-END to '2025-07-15T14:58:24.796' from MJD-END'. [astropy.wcs.wcs]\n",
      "WARNING: FITSFixedWarning: 'datfix' made the change 'Set MJD-OBS to 60871.000000 from DATE-OBS.\n",
      "Set DATE-END to '2025-07-15T15:11:28.098' from MJD-END'. [astropy.wcs.wcs]\n",
      "WARNING: FITSFixedWarning: 'datfix' made the change 'Set MJD-OBS to 60871.000000 from DATE-OBS.\n",
      "Set DATE-END to '2025-07-15T15:11:27.701' from MJD-END'. [astropy.wcs.wcs]\n",
      "WARNING: FITSFixedWarning: 'datfix' made the change 'Set MJD-OBS to 60871.000000 from DATE-OBS.\n",
      "Set DATE-END to '2025-07-15T15:11:27.900' from MJD-END'. [astropy.wcs.wcs]\n"
     ]
    },
    {
     "name": "stdout",
     "output_type": "stream",
     "text": [
      "  Original center (x, y) = (224.6, 632.2)\n",
      "  Winpos center (x, y) = (222.3, 632.9)\n",
      "Data length (Nx, Ny)=(85, 85)\n"
     ]
    },
    {
     "name": "stderr",
     "output_type": "stream",
     "text": [
      "/var/folders/xv/z4qp4sf50z10cwc8tgxysssw0000gn/T/ipykernel_99592/108843714.py:32: FutureWarning: Setting an item of incompatible dtype is deprecated and will raise an error in a future version of pandas. Value '16.395000457763672' has dtype incompatible with int64, please explicitly cast to a compatible dtype first.\n",
      "  df_star.loc[df_star[\"band\"] == band, \"PSmag\"] = PSmag_band\n",
      "WARNING: FITSFixedWarning: 'datfix' made the change 'Set MJD-OBS to 60871.000000 from DATE-OBS.\n",
      "Set DATE-END to '2025-07-15T12:55:27.204' from MJD-END'. [astropy.wcs.wcs]\n",
      "WARNING: FITSFixedWarning: 'datfix' made the change 'Set MJD-OBS to 60871.000000 from DATE-OBS.\n",
      "Set DATE-END to '2025-07-15T12:55:26.797' from MJD-END'. [astropy.wcs.wcs]\n",
      "WARNING: FITSFixedWarning: 'datfix' made the change 'Set MJD-OBS to 60871.000000 from DATE-OBS.\n",
      "Set DATE-END to '2025-07-15T12:55:26.996' from MJD-END'. [astropy.wcs.wcs]\n",
      "WARNING: FITSFixedWarning: 'datfix' made the change 'Set MJD-OBS to 60871.000000 from DATE-OBS.\n",
      "Set DATE-END to '2025-07-15T13:27:32.602' from MJD-END'. [astropy.wcs.wcs]\n"
     ]
    },
    {
     "name": "stdout",
     "output_type": "stream",
     "text": [
      "  Original center (x, y) = (799.3, 685.0)\n",
      "  Winpos center (x, y) = (800.9, 686.3)\n",
      "Data length (Nx, Ny)=(85, 85)\n",
      "  Original center (x, y) = (783.1, 692.9)\n",
      "  Winpos center (x, y) = (785.3, 694.3)\n",
      "Data length (Nx, Ny)=(85, 85)\n",
      "  Original center (x, y) = (794.0, 675.0)\n",
      "  Winpos center (x, y) = (796.2, 675.3)\n",
      "Data length (Nx, Ny)=(85, 85)\n",
      "  Original center (x, y) = (667.9, 677.5)\n",
      "  Winpos center (x, y) = (669.1, 678.4)\n",
      "Data length (Nx, Ny)=(85, 85)\n"
     ]
    },
    {
     "name": "stderr",
     "output_type": "stream",
     "text": [
      "WARNING: FITSFixedWarning: 'datfix' made the change 'Set MJD-OBS to 60871.000000 from DATE-OBS.\n",
      "Set DATE-END to '2025-07-15T13:27:32.196' from MJD-END'. [astropy.wcs.wcs]\n",
      "WARNING: FITSFixedWarning: 'datfix' made the change 'Set MJD-OBS to 60871.000000 from DATE-OBS.\n",
      "Set DATE-END to '2025-07-15T13:27:32.403' from MJD-END'. [astropy.wcs.wcs]\n",
      "WARNING: FITSFixedWarning: 'datfix' made the change 'Set MJD-OBS to 60871.000000 from DATE-OBS.\n",
      "Set DATE-END to '2025-07-15T14:00:17.899' from MJD-END'. [astropy.wcs.wcs]\n",
      "WARNING: FITSFixedWarning: 'datfix' made the change 'Set MJD-OBS to 60871.000000 from DATE-OBS.\n",
      "Set DATE-END to '2025-07-15T14:00:17.502' from MJD-END'. [astropy.wcs.wcs]\n"
     ]
    },
    {
     "name": "stdout",
     "output_type": "stream",
     "text": [
      "  Original center (x, y) = (651.1, 685.0)\n",
      "  Winpos center (x, y) = (653.5, 686.0)\n",
      "Data length (Nx, Ny)=(85, 85)\n",
      "  Original center (x, y) = (662.3, 667.0)\n",
      "  Winpos center (x, y) = (664.1, 667.4)\n",
      "Data length (Nx, Ny)=(85, 85)\n",
      "  Original center (x, y) = (525.7, 671.9)\n",
      "  Winpos center (x, y) = (526.0, 672.3)\n",
      "Data length (Nx, Ny)=(85, 85)\n",
      "  Original center (x, y) = (510.3, 678.6)\n",
      "  Winpos center (x, y) = (510.4, 679.3)\n",
      "Data length (Nx, Ny)=(85, 85)\n"
     ]
    },
    {
     "name": "stderr",
     "output_type": "stream",
     "text": [
      "WARNING: FITSFixedWarning: 'datfix' made the change 'Set MJD-OBS to 60871.000000 from DATE-OBS.\n",
      "Set DATE-END to '2025-07-15T14:00:17.700' from MJD-END'. [astropy.wcs.wcs]\n",
      "WARNING: FITSFixedWarning: 'datfix' made the change 'Set MJD-OBS to 60871.000000 from DATE-OBS.\n",
      "Set DATE-END to '2025-07-15T14:14:10.596' from MJD-END'. [astropy.wcs.wcs]\n",
      "WARNING: FITSFixedWarning: 'datfix' made the change 'Set MJD-OBS to 60871.000000 from DATE-OBS.\n",
      "Set DATE-END to '2025-07-15T14:14:10.199' from MJD-END'. [astropy.wcs.wcs]\n",
      "WARNING: FITSFixedWarning: 'datfix' made the change 'Set MJD-OBS to 60871.000000 from DATE-OBS.\n",
      "Set DATE-END to '2025-07-15T14:14:10.398' from MJD-END'. [astropy.wcs.wcs]\n"
     ]
    },
    {
     "name": "stdout",
     "output_type": "stream",
     "text": [
      "  Original center (x, y) = (521.2, 661.3)\n",
      "  Winpos center (x, y) = (521.1, 661.2)\n",
      "Data length (Nx, Ny)=(85, 85)\n",
      "  Original center (x, y) = (457.1, 658.3)\n",
      "  Winpos center (x, y) = (458.0, 660.0)\n",
      "Data length (Nx, Ny)=(85, 85)\n",
      "  Original center (x, y) = (440.5, 663.9)\n",
      "  Winpos center (x, y) = (443.0, 666.6)\n",
      "Data length (Nx, Ny)=(85, 85)\n",
      "  Original center (x, y) = (451.5, 646.2)\n",
      "  Winpos center (x, y) = (453.7, 648.5)\n",
      "Data length (Nx, Ny)=(85, 85)\n"
     ]
    },
    {
     "name": "stderr",
     "output_type": "stream",
     "text": [
      "WARNING: FITSFixedWarning: 'datfix' made the change 'Set MJD-OBS to 60871.000000 from DATE-OBS.\n",
      "Set DATE-END to '2025-07-15T14:24:13.504' from MJD-END'. [astropy.wcs.wcs]\n",
      "WARNING: FITSFixedWarning: 'datfix' made the change 'Set MJD-OBS to 60871.000000 from DATE-OBS.\n",
      "Set DATE-END to '2025-07-15T14:24:13.098' from MJD-END'. [astropy.wcs.wcs]\n",
      "WARNING: FITSFixedWarning: 'datfix' made the change 'Set MJD-OBS to 60871.000000 from DATE-OBS.\n",
      "Set DATE-END to '2025-07-15T14:24:13.297' from MJD-END'. [astropy.wcs.wcs]\n"
     ]
    },
    {
     "name": "stdout",
     "output_type": "stream",
     "text": [
      "  Original center (x, y) = (414.7, 660.5)\n",
      "  Winpos center (x, y) = (415.3, 662.1)\n",
      "Data length (Nx, Ny)=(85, 85)\n",
      "  Original center (x, y) = (400.1, 666.7)\n",
      "  Winpos center (x, y) = (400.6, 668.1)\n",
      "Data length (Nx, Ny)=(85, 85)\n",
      "  Original center (x, y) = (409.4, 648.4)\n",
      "  Winpos center (x, y) = (411.0, 650.4)\n",
      "Data length (Nx, Ny)=(85, 85)\n"
     ]
    },
    {
     "name": "stderr",
     "output_type": "stream",
     "text": [
      "/var/folders/xv/z4qp4sf50z10cwc8tgxysssw0000gn/T/ipykernel_99592/108843714.py:52: FutureWarning: Setting an item of incompatible dtype is deprecated and will raise an error in a future version of pandas. Value '16.395000457763672' has dtype incompatible with int64, please explicitly cast to a compatible dtype first.\n",
      "  df_star.loc[df_star[\"band\"] == band, \"PSmag\"] = PSmag_band\n",
      "WARNING: FITSFixedWarning: 'datfix' made the change 'Set MJD-OBS to 60871.000000 from DATE-OBS.\n",
      "Set DATE-END to '2025-07-15T12:42:50.901' from MJD-END'. [astropy.wcs.wcs]\n",
      "WARNING: FITSFixedWarning: 'datfix' made the change 'Set MJD-OBS to 60871.000000 from DATE-OBS.\n",
      "Set DATE-END to '2025-07-15T12:42:50.599' from MJD-END'. [astropy.wcs.wcs]\n",
      "WARNING: FITSFixedWarning: 'datfix' made the change 'Set MJD-OBS to 60871.000000 from DATE-OBS.\n",
      "Set DATE-END to '2025-07-15T13:15:06.097' from MJD-END'. [astropy.wcs.wcs]\n",
      "WARNING: FITSFixedWarning: 'datfix' made the change 'Set MJD-OBS to 60871.000000 from DATE-OBS.\n",
      "Set DATE-END to '2025-07-15T13:15:05.700' from MJD-END'. [astropy.wcs.wcs]\n"
     ]
    },
    {
     "name": "stdout",
     "output_type": "stream",
     "text": [
      "  Original center (x, y) = (1272.8, 855.8)\n",
      "  Winpos center (x, y) = (1272.9, 856.1)\n",
      "Data length (Nx, Ny)=(85, 85)\n",
      "  Original center (x, y) = (1256.4, 866.7)\n",
      "  Winpos center (x, y) = (1256.1, 866.8)\n",
      "Data length (Nx, Ny)=(85, 85)\n",
      "  Original center (x, y) = (1267.7, 847.5)\n",
      "  Winpos center (x, y) = (1267.9, 846.8)\n",
      "Data length (Nx, Ny)=(85, 85)\n",
      "  Original center (x, y) = (1138.7, 843.0)\n",
      "  Winpos center (x, y) = (1140.2, 842.6)\n",
      "Data length (Nx, Ny)=(85, 85)\n",
      "  Original center (x, y) = (1122.4, 853.0)\n",
      "  Winpos center (x, y) = (1123.7, 852.6)\n",
      "Data length (Nx, Ny)=(85, 85)\n",
      "  Original center (x, y) = (1134.0, 833.5)\n",
      "  Winpos center (x, y) = (1135.5, 833.1)\n",
      "Data length (Nx, Ny)=(85, 85)\n",
      "  Original center (x, y) = (1000.3, 834.2)\n",
      "  Winpos center (x, y) = (999.8, 835.3)\n",
      "Data length (Nx, Ny)=(85, 85)\n",
      "  Original center (x, y) = (984.1, 843.4)\n",
      "  Winpos center (x, y) = (983.4, 844.6)\n",
      "Data length (Nx, Ny)=(85, 85)\n"
     ]
    },
    {
     "name": "stderr",
     "output_type": "stream",
     "text": [
      "WARNING: FITSFixedWarning: 'datfix' made the change 'Set MJD-OBS to 60871.000000 from DATE-OBS.\n",
      "Set DATE-END to '2025-07-15T13:15:05.898' from MJD-END'. [astropy.wcs.wcs]\n",
      "WARNING: FITSFixedWarning: 'datfix' made the change 'Set MJD-OBS to 60871.000000 from DATE-OBS.\n",
      "Set DATE-END to '2025-07-15T13:47:58.704' from MJD-END'. [astropy.wcs.wcs]\n",
      "WARNING: FITSFixedWarning: 'datfix' made the change 'Set MJD-OBS to 60871.000000 from DATE-OBS.\n",
      "Set DATE-END to '2025-07-15T13:47:58.298' from MJD-END'. [astropy.wcs.wcs]\n",
      "WARNING: FITSFixedWarning: 'datfix' made the change 'Set MJD-OBS to 60871.000000 from DATE-OBS.\n",
      "Set DATE-END to '2025-07-15T13:47:58.497' from MJD-END'. [astropy.wcs.wcs]\n"
     ]
    },
    {
     "name": "stdout",
     "output_type": "stream",
     "text": [
      "  Original center (x, y) = (994.3, 825.4)\n",
      "  Winpos center (x, y) = (994.9, 824.6)\n",
      "Data length (Nx, Ny)=(85, 85)\n",
      "  Original center (x, y) = (785.0, 820.5)\n",
      "  Winpos center (x, y) = (785.3, 820.9)\n",
      "Data length (Nx, Ny)=(85, 85)\n",
      "  Original center (x, y) = (770.0, 828.5)\n",
      "  Winpos center (x, y) = (770.1, 828.8)\n",
      "Data length (Nx, Ny)=(85, 85)\n",
      "  Original center (x, y) = (781.6, 810.1)\n",
      "  Winpos center (x, y) = (781.8, 810.5)\n",
      "Data length (Nx, Ny)=(85, 85)\n"
     ]
    },
    {
     "name": "stderr",
     "output_type": "stream",
     "text": [
      "WARNING: FITSFixedWarning: 'datfix' made the change 'Set MJD-OBS to 60871.000000 from DATE-OBS.\n",
      "Set DATE-END to '2025-07-15T14:38:19.196' from MJD-END'. [astropy.wcs.wcs]\n",
      "WARNING: FITSFixedWarning: 'datfix' made the change 'Set MJD-OBS to 60871.000000 from DATE-OBS.\n",
      "Set DATE-END to '2025-07-15T14:38:18.799' from MJD-END'. [astropy.wcs.wcs]\n",
      "WARNING: FITSFixedWarning: 'datfix' made the change 'Set MJD-OBS to 60871.000000 from DATE-OBS.\n",
      "Set DATE-END to '2025-07-15T14:38:18.997' from MJD-END'. [astropy.wcs.wcs]\n",
      "WARNING: FITSFixedWarning: 'datfix' made the change 'Set MJD-OBS to 60871.000000 from DATE-OBS.\n",
      "Set DATE-END to '2025-07-15T14:48:22.199' from MJD-END'. [astropy.wcs.wcs]\n"
     ]
    },
    {
     "name": "stdout",
     "output_type": "stream",
     "text": [
      "  Original center (x, y) = (744.4, 825.0)\n",
      "  Winpos center (x, y) = (744.6, 824.4)\n",
      "Data length (Nx, Ny)=(85, 85)\n",
      "  Original center (x, y) = (729.4, 832.7)\n",
      "  Winpos center (x, y) = (729.5, 832.2)\n",
      "Data length (Nx, Ny)=(85, 85)\n",
      "  Original center (x, y) = (740.4, 814.4)\n",
      "  Winpos center (x, y) = (741.1, 813.9)\n",
      "Data length (Nx, Ny)=(85, 85)\n",
      "  Original center (x, y) = (705.6, 824.6)\n",
      "  Winpos center (x, y) = (706.0, 824.9)\n",
      "Data length (Nx, Ny)=(85, 85)\n"
     ]
    },
    {
     "name": "stderr",
     "output_type": "stream",
     "text": [
      "WARNING: FITSFixedWarning: 'datfix' made the change 'Set MJD-OBS to 60871.000000 from DATE-OBS.\n",
      "Set DATE-END to '2025-07-15T14:48:21.802' from MJD-END'. [astropy.wcs.wcs]\n",
      "WARNING: FITSFixedWarning: 'datfix' made the change 'Set MJD-OBS to 60871.000000 from DATE-OBS.\n",
      "Set DATE-END to '2025-07-15T14:48:22' from MJD-END'. [astropy.wcs.wcs]\n",
      "WARNING: FITSFixedWarning: 'datfix' made the change 'Set MJD-OBS to 60871.000000 from DATE-OBS.\n",
      "Set DATE-END to '2025-07-15T14:58:25.003' from MJD-END'. [astropy.wcs.wcs]\n",
      "WARNING: FITSFixedWarning: 'datfix' made the change 'Set MJD-OBS to 60871.000000 from DATE-OBS.\n",
      "Set DATE-END to '2025-07-15T14:58:24.597' from MJD-END'. [astropy.wcs.wcs]\n"
     ]
    },
    {
     "name": "stdout",
     "output_type": "stream",
     "text": [
      "  Original center (x, y) = (690.6, 832.1)\n",
      "  Winpos center (x, y) = (690.9, 832.4)\n",
      "Data length (Nx, Ny)=(85, 85)\n",
      "  Original center (x, y) = (701.8, 813.9)\n",
      "  Winpos center (x, y) = (702.3, 814.4)\n",
      "Data length (Nx, Ny)=(85, 85)\n",
      "  Original center (x, y) = (654.7, 814.1)\n",
      "  Winpos center (x, y) = (655.0, 814.1)\n",
      "Data length (Nx, Ny)=(85, 85)\n",
      "  Original center (x, y) = (638.5, 821.2)\n",
      "  Winpos center (x, y) = (638.7, 821.4)\n",
      "Data length (Nx, Ny)=(85, 85)\n"
     ]
    },
    {
     "name": "stderr",
     "output_type": "stream",
     "text": [
      "WARNING: FITSFixedWarning: 'datfix' made the change 'Set MJD-OBS to 60871.000000 from DATE-OBS.\n",
      "Set DATE-END to '2025-07-15T14:58:24.796' from MJD-END'. [astropy.wcs.wcs]\n",
      "WARNING: FITSFixedWarning: 'datfix' made the change 'Set MJD-OBS to 60871.000000 from DATE-OBS.\n",
      "Set DATE-END to '2025-07-15T15:11:28.098' from MJD-END'. [astropy.wcs.wcs]\n",
      "WARNING: FITSFixedWarning: 'datfix' made the change 'Set MJD-OBS to 60871.000000 from DATE-OBS.\n",
      "Set DATE-END to '2025-07-15T15:11:27.701' from MJD-END'. [astropy.wcs.wcs]\n",
      "WARNING: FITSFixedWarning: 'datfix' made the change 'Set MJD-OBS to 60871.000000 from DATE-OBS.\n",
      "Set DATE-END to '2025-07-15T15:11:27.900' from MJD-END'. [astropy.wcs.wcs]\n"
     ]
    },
    {
     "name": "stdout",
     "output_type": "stream",
     "text": [
      "  Original center (x, y) = (651.0, 803.1)\n",
      "  Winpos center (x, y) = (651.5, 803.3)\n",
      "Data length (Nx, Ny)=(85, 85)\n"
     ]
    },
    {
     "name": "stderr",
     "output_type": "stream",
     "text": [
      "/var/folders/xv/z4qp4sf50z10cwc8tgxysssw0000gn/T/ipykernel_99592/108843714.py:32: FutureWarning: Setting an item of incompatible dtype is deprecated and will raise an error in a future version of pandas. Value '17.199899673461914' has dtype incompatible with int64, please explicitly cast to a compatible dtype first.\n",
      "  df_star.loc[df_star[\"band\"] == band, \"PSmag\"] = PSmag_band\n",
      "WARNING: FITSFixedWarning: 'datfix' made the change 'Set MJD-OBS to 60871.000000 from DATE-OBS.\n",
      "Set DATE-END to '2025-07-15T12:55:27.204' from MJD-END'. [astropy.wcs.wcs]\n",
      "WARNING: FITSFixedWarning: 'datfix' made the change 'Set MJD-OBS to 60871.000000 from DATE-OBS.\n",
      "Set DATE-END to '2025-07-15T12:55:26.797' from MJD-END'. [astropy.wcs.wcs]\n"
     ]
    },
    {
     "name": "stdout",
     "output_type": "stream",
     "text": [
      "  Original center (x, y) = (1226.0, 854.5)\n",
      "  Winpos center (x, y) = (1226.2, 855.1)\n",
      "Data length (Nx, Ny)=(85, 85)\n",
      "  Original center (x, y) = (1211.0, 865.9)\n",
      "  Winpos center (x, y) = (1209.9, 865.4)\n",
      "Data length (Nx, Ny)=(85, 85)\n"
     ]
    },
    {
     "name": "stderr",
     "output_type": "stream",
     "text": [
      "WARNING: FITSFixedWarning: 'datfix' made the change 'Set MJD-OBS to 60871.000000 from DATE-OBS.\n",
      "Set DATE-END to '2025-07-15T12:55:26.996' from MJD-END'. [astropy.wcs.wcs]\n",
      "WARNING: FITSFixedWarning: 'datfix' made the change 'Set MJD-OBS to 60871.000000 from DATE-OBS.\n",
      "Set DATE-END to '2025-07-15T13:27:32.602' from MJD-END'. [astropy.wcs.wcs]\n",
      "WARNING: FITSFixedWarning: 'datfix' made the change 'Set MJD-OBS to 60871.000000 from DATE-OBS.\n",
      "Set DATE-END to '2025-07-15T13:27:32.196' from MJD-END'. [astropy.wcs.wcs]\n",
      "WARNING: FITSFixedWarning: 'datfix' made the change 'Set MJD-OBS to 60871.000000 from DATE-OBS.\n",
      "Set DATE-END to '2025-07-15T13:27:32.403' from MJD-END'. [astropy.wcs.wcs]\n"
     ]
    },
    {
     "name": "stdout",
     "output_type": "stream",
     "text": [
      "  Original center (x, y) = (1221.2, 845.5)\n",
      "  Winpos center (x, y) = (1221.7, 845.2)\n",
      "Data length (Nx, Ny)=(85, 85)\n",
      "  Original center (x, y) = (1095.3, 847.7)\n",
      "  Winpos center (x, y) = (1094.5, 847.1)\n",
      "Data length (Nx, Ny)=(85, 85)\n",
      "  Original center (x, y) = (1078.7, 856.5)\n",
      "  Winpos center (x, y) = (1078.3, 857.1)\n",
      "Data length (Nx, Ny)=(85, 85)\n",
      "  Original center (x, y) = (1089.6, 837.6)\n",
      "  Winpos center (x, y) = (1090.0, 837.4)\n",
      "Data length (Nx, Ny)=(85, 85)\n"
     ]
    },
    {
     "name": "stderr",
     "output_type": "stream",
     "text": [
      "WARNING: FITSFixedWarning: 'datfix' made the change 'Set MJD-OBS to 60871.000000 from DATE-OBS.\n",
      "Set DATE-END to '2025-07-15T14:00:17.899' from MJD-END'. [astropy.wcs.wcs]\n",
      "WARNING: FITSFixedWarning: 'datfix' made the change 'Set MJD-OBS to 60871.000000 from DATE-OBS.\n",
      "Set DATE-END to '2025-07-15T14:00:17.502' from MJD-END'. [astropy.wcs.wcs]\n",
      "WARNING: FITSFixedWarning: 'datfix' made the change 'Set MJD-OBS to 60871.000000 from DATE-OBS.\n",
      "Set DATE-END to '2025-07-15T14:00:17.700' from MJD-END'. [astropy.wcs.wcs]\n",
      "WARNING: FITSFixedWarning: 'datfix' made the change 'Set MJD-OBS to 60871.000000 from DATE-OBS.\n",
      "Set DATE-END to '2025-07-15T14:14:10.596' from MJD-END'. [astropy.wcs.wcs]\n"
     ]
    },
    {
     "name": "stdout",
     "output_type": "stream",
     "text": [
      "  Original center (x, y) = (952.2, 841.6)\n",
      "  Winpos center (x, y) = (952.1, 841.1)\n",
      "Data length (Nx, Ny)=(85, 85)\n",
      "  Original center (x, y) = (936.1, 850.7)\n",
      "  Winpos center (x, y) = (935.8, 850.5)\n",
      "Data length (Nx, Ny)=(85, 85)\n",
      "  Original center (x, y) = (947.3, 831.6)\n",
      "  Winpos center (x, y) = (947.6, 831.3)\n",
      "Data length (Nx, Ny)=(85, 85)\n",
      "  Original center (x, y) = (884.7, 828.6)\n",
      "  Winpos center (x, y) = (884.7, 828.8)\n",
      "Data length (Nx, Ny)=(85, 85)\n"
     ]
    },
    {
     "name": "stderr",
     "output_type": "stream",
     "text": [
      "WARNING: FITSFixedWarning: 'datfix' made the change 'Set MJD-OBS to 60871.000000 from DATE-OBS.\n",
      "Set DATE-END to '2025-07-15T14:14:10.199' from MJD-END'. [astropy.wcs.wcs]\n",
      "WARNING: FITSFixedWarning: 'datfix' made the change 'Set MJD-OBS to 60871.000000 from DATE-OBS.\n",
      "Set DATE-END to '2025-07-15T14:14:10.398' from MJD-END'. [astropy.wcs.wcs]\n",
      "WARNING: FITSFixedWarning: 'datfix' made the change 'Set MJD-OBS to 60871.000000 from DATE-OBS.\n",
      "Set DATE-END to '2025-07-15T14:24:13.504' from MJD-END'. [astropy.wcs.wcs]\n",
      "WARNING: FITSFixedWarning: 'datfix' made the change 'Set MJD-OBS to 60871.000000 from DATE-OBS.\n",
      "Set DATE-END to '2025-07-15T14:24:13.098' from MJD-END'. [astropy.wcs.wcs]\n"
     ]
    },
    {
     "name": "stdout",
     "output_type": "stream",
     "text": [
      "  Original center (x, y) = (867.8, 837.1)\n",
      "  Winpos center (x, y) = (868.9, 837.7)\n",
      "Data length (Nx, Ny)=(85, 85)\n",
      "  Original center (x, y) = (879.5, 818.1)\n",
      "  Winpos center (x, y) = (880.6, 818.6)\n",
      "Data length (Nx, Ny)=(85, 85)\n",
      "  Original center (x, y) = (842.0, 830.6)\n",
      "  Winpos center (x, y) = (842.3, 831.0)\n",
      "Data length (Nx, Ny)=(85, 85)\n",
      "  Original center (x, y) = (826.5, 839.0)\n",
      "  Winpos center (x, y) = (826.8, 839.4)\n",
      "Data length (Nx, Ny)=(85, 85)\n"
     ]
    },
    {
     "name": "stderr",
     "output_type": "stream",
     "text": [
      "WARNING: FITSFixedWarning: 'datfix' made the change 'Set MJD-OBS to 60871.000000 from DATE-OBS.\n",
      "Set DATE-END to '2025-07-15T14:24:13.297' from MJD-END'. [astropy.wcs.wcs]\n"
     ]
    },
    {
     "name": "stdout",
     "output_type": "stream",
     "text": [
      "  Original center (x, y) = (837.1, 820.0)\n",
      "  Winpos center (x, y) = (838.2, 820.6)\n",
      "Data length (Nx, Ny)=(85, 85)\n"
     ]
    },
    {
     "name": "stderr",
     "output_type": "stream",
     "text": [
      "/var/folders/xv/z4qp4sf50z10cwc8tgxysssw0000gn/T/ipykernel_99592/108843714.py:52: FutureWarning: Setting an item of incompatible dtype is deprecated and will raise an error in a future version of pandas. Value '17.199899673461914' has dtype incompatible with int64, please explicitly cast to a compatible dtype first.\n",
      "  df_star.loc[df_star[\"band\"] == band, \"PSmag\"] = PSmag_band\n",
      "WARNING: FITSFixedWarning: 'datfix' made the change 'Set MJD-OBS to 60871.000000 from DATE-OBS.\n",
      "Set DATE-END to '2025-07-15T12:42:50.901' from MJD-END'. [astropy.wcs.wcs]\n",
      "WARNING: FITSFixedWarning: 'datfix' made the change 'Set MJD-OBS to 60871.000000 from DATE-OBS.\n",
      "Set DATE-END to '2025-07-15T12:42:50.599' from MJD-END'. [astropy.wcs.wcs]\n",
      "WARNING: FITSFixedWarning: 'datfix' made the change 'Set MJD-OBS to 60871.000000 from DATE-OBS.\n",
      "Set DATE-END to '2025-07-15T13:15:06.097' from MJD-END'. [astropy.wcs.wcs]\n"
     ]
    },
    {
     "name": "stdout",
     "output_type": "stream",
     "text": [
      "  Original center (x, y) = (1378.5, 902.3)\n",
      "  Winpos center (x, y) = (1378.0, 902.4)\n",
      "Data length (Nx, Ny)=(85, 85)\n",
      "  Original center (x, y) = (1362.0, 913.6)\n",
      "  Winpos center (x, y) = (1361.2, 913.7)\n",
      "Data length (Nx, Ny)=(85, 85)\n",
      "  Original center (x, y) = (1373.6, 894.2)\n",
      "  Winpos center (x, y) = (1373.2, 893.4)\n",
      "Data length (Nx, Ny)=(85, 85)\n",
      "  Original center (x, y) = (1244.7, 889.4)\n",
      "  Winpos center (x, y) = (1245.3, 888.9)\n",
      "Data length (Nx, Ny)=(85, 85)\n"
     ]
    },
    {
     "name": "stderr",
     "output_type": "stream",
     "text": [
      "WARNING: FITSFixedWarning: 'datfix' made the change 'Set MJD-OBS to 60871.000000 from DATE-OBS.\n",
      "Set DATE-END to '2025-07-15T13:15:05.700' from MJD-END'. [astropy.wcs.wcs]\n",
      "WARNING: FITSFixedWarning: 'datfix' made the change 'Set MJD-OBS to 60871.000000 from DATE-OBS.\n",
      "Set DATE-END to '2025-07-15T13:15:05.898' from MJD-END'. [astropy.wcs.wcs]\n",
      "WARNING: FITSFixedWarning: 'datfix' made the change 'Set MJD-OBS to 60871.000000 from DATE-OBS.\n",
      "Set DATE-END to '2025-07-15T13:47:58.704' from MJD-END'. [astropy.wcs.wcs]\n",
      "WARNING: FITSFixedWarning: 'datfix' made the change 'Set MJD-OBS to 60871.000000 from DATE-OBS.\n",
      "Set DATE-END to '2025-07-15T13:47:58.298' from MJD-END'. [astropy.wcs.wcs]\n"
     ]
    },
    {
     "name": "stdout",
     "output_type": "stream",
     "text": [
      "  Original center (x, y) = (1228.2, 900.0)\n",
      "  Winpos center (x, y) = (1228.7, 899.5)\n",
      "Data length (Nx, Ny)=(85, 85)\n",
      "  Original center (x, y) = (1240.0, 880.2)\n",
      "  Winpos center (x, y) = (1240.7, 879.7)\n",
      "Data length (Nx, Ny)=(85, 85)\n",
      "  Original center (x, y) = (1107.0, 880.6)\n",
      "  Winpos center (x, y) = (1104.8, 881.6)\n",
      "Data length (Nx, Ny)=(85, 85)\n",
      "  Original center (x, y) = (1090.5, 890.4)\n",
      "  Winpos center (x, y) = (1088.4, 891.4)\n",
      "Data length (Nx, Ny)=(85, 85)\n"
     ]
    },
    {
     "name": "stderr",
     "output_type": "stream",
     "text": [
      "WARNING: FITSFixedWarning: 'datfix' made the change 'Set MJD-OBS to 60871.000000 from DATE-OBS.\n",
      "Set DATE-END to '2025-07-15T13:47:58.497' from MJD-END'. [astropy.wcs.wcs]\n",
      "WARNING: FITSFixedWarning: 'datfix' made the change 'Set MJD-OBS to 60871.000000 from DATE-OBS.\n",
      "Set DATE-END to '2025-07-15T14:38:19.196' from MJD-END'. [astropy.wcs.wcs]\n",
      "WARNING: FITSFixedWarning: 'datfix' made the change 'Set MJD-OBS to 60871.000000 from DATE-OBS.\n",
      "Set DATE-END to '2025-07-15T14:38:18.799' from MJD-END'. [astropy.wcs.wcs]\n"
     ]
    },
    {
     "name": "stdout",
     "output_type": "stream",
     "text": [
      "  Original center (x, y) = (1100.3, 872.2)\n",
      "  Winpos center (x, y) = (1100.1, 871.2)\n",
      "Data length (Nx, Ny)=(85, 85)\n",
      "  Original center (x, y) = (890.9, 867.0)\n",
      "  Winpos center (x, y) = (890.4, 867.1)\n",
      "Data length (Nx, Ny)=(85, 85)\n",
      "  Original center (x, y) = (875.6, 875.6)\n",
      "  Winpos center (x, y) = (875.2, 875.6)\n",
      "Data length (Nx, Ny)=(85, 85)\n"
     ]
    },
    {
     "name": "stderr",
     "output_type": "stream",
     "text": [
      "WARNING: FITSFixedWarning: 'datfix' made the change 'Set MJD-OBS to 60871.000000 from DATE-OBS.\n",
      "Set DATE-END to '2025-07-15T14:38:18.997' from MJD-END'. [astropy.wcs.wcs]\n",
      "WARNING: FITSFixedWarning: 'datfix' made the change 'Set MJD-OBS to 60871.000000 from DATE-OBS.\n",
      "Set DATE-END to '2025-07-15T14:48:22.199' from MJD-END'. [astropy.wcs.wcs]\n",
      "WARNING: FITSFixedWarning: 'datfix' made the change 'Set MJD-OBS to 60871.000000 from DATE-OBS.\n",
      "Set DATE-END to '2025-07-15T14:48:21.802' from MJD-END'. [astropy.wcs.wcs]\n",
      "WARNING: FITSFixedWarning: 'datfix' made the change 'Set MJD-OBS to 60871.000000 from DATE-OBS.\n",
      "Set DATE-END to '2025-07-15T14:48:22' from MJD-END'. [astropy.wcs.wcs]\n"
     ]
    },
    {
     "name": "stdout",
     "output_type": "stream",
     "text": [
      "  Original center (x, y) = (887.4, 856.9)\n",
      "  Winpos center (x, y) = (887.1, 857.0)\n",
      "Data length (Nx, Ny)=(85, 85)\n",
      "  Original center (x, y) = (850.3, 871.5)\n",
      "  Winpos center (x, y) = (849.7, 870.7)\n",
      "Data length (Nx, Ny)=(85, 85)\n",
      "  Original center (x, y) = (835.0, 879.8)\n",
      "  Winpos center (x, y) = (834.6, 879.0)\n",
      "Data length (Nx, Ny)=(85, 85)\n",
      "  Original center (x, y) = (846.2, 861.2)\n",
      "  Winpos center (x, y) = (846.5, 860.5)\n",
      "Data length (Nx, Ny)=(85, 85)\n"
     ]
    },
    {
     "name": "stderr",
     "output_type": "stream",
     "text": [
      "WARNING: FITSFixedWarning: 'datfix' made the change 'Set MJD-OBS to 60871.000000 from DATE-OBS.\n",
      "Set DATE-END to '2025-07-15T14:58:25.003' from MJD-END'. [astropy.wcs.wcs]\n",
      "WARNING: FITSFixedWarning: 'datfix' made the change 'Set MJD-OBS to 60871.000000 from DATE-OBS.\n",
      "Set DATE-END to '2025-07-15T14:58:24.597' from MJD-END'. [astropy.wcs.wcs]\n",
      "WARNING: FITSFixedWarning: 'datfix' made the change 'Set MJD-OBS to 60871.000000 from DATE-OBS.\n",
      "Set DATE-END to '2025-07-15T14:58:24.796' from MJD-END'. [astropy.wcs.wcs]\n",
      "WARNING: FITSFixedWarning: 'datfix' made the change 'Set MJD-OBS to 60871.000000 from DATE-OBS.\n",
      "Set DATE-END to '2025-07-15T15:11:28.098' from MJD-END'. [astropy.wcs.wcs]\n"
     ]
    },
    {
     "name": "stdout",
     "output_type": "stream",
     "text": [
      "  Original center (x, y) = (811.3, 871.1)\n",
      "  Winpos center (x, y) = (811.1, 871.2)\n",
      "Data length (Nx, Ny)=(85, 85)\n",
      "  Original center (x, y) = (796.1, 879.1)\n",
      "  Winpos center (x, y) = (796.0, 879.3)\n",
      "Data length (Nx, Ny)=(85, 85)\n",
      "  Original center (x, y) = (807.6, 860.7)\n",
      "  Winpos center (x, y) = (807.7, 861.0)\n",
      "Data length (Nx, Ny)=(85, 85)\n",
      "  Original center (x, y) = (760.4, 860.6)\n",
      "  Winpos center (x, y) = (760.1, 860.4)\n",
      "Data length (Nx, Ny)=(85, 85)\n"
     ]
    },
    {
     "name": "stderr",
     "output_type": "stream",
     "text": [
      "WARNING: FITSFixedWarning: 'datfix' made the change 'Set MJD-OBS to 60871.000000 from DATE-OBS.\n",
      "Set DATE-END to '2025-07-15T15:11:27.701' from MJD-END'. [astropy.wcs.wcs]\n",
      "WARNING: FITSFixedWarning: 'datfix' made the change 'Set MJD-OBS to 60871.000000 from DATE-OBS.\n",
      "Set DATE-END to '2025-07-15T15:11:27.900' from MJD-END'. [astropy.wcs.wcs]\n"
     ]
    },
    {
     "name": "stdout",
     "output_type": "stream",
     "text": [
      "  Original center (x, y) = (744.0, 868.3)\n",
      "  Winpos center (x, y) = (743.9, 868.3)\n",
      "Data length (Nx, Ny)=(85, 85)\n",
      "  Original center (x, y) = (756.7, 849.9)\n",
      "  Winpos center (x, y) = (756.9, 849.9)\n",
      "Data length (Nx, Ny)=(85, 85)\n"
     ]
    },
    {
     "name": "stderr",
     "output_type": "stream",
     "text": [
      "/var/folders/xv/z4qp4sf50z10cwc8tgxysssw0000gn/T/ipykernel_99592/108843714.py:32: FutureWarning: Setting an item of incompatible dtype is deprecated and will raise an error in a future version of pandas. Value '17.1968994140625' has dtype incompatible with int64, please explicitly cast to a compatible dtype first.\n",
      "  df_star.loc[df_star[\"band\"] == band, \"PSmag\"] = PSmag_band\n",
      "WARNING: FITSFixedWarning: 'datfix' made the change 'Set MJD-OBS to 60871.000000 from DATE-OBS.\n",
      "Set DATE-END to '2025-07-15T12:55:27.204' from MJD-END'. [astropy.wcs.wcs]\n",
      "WARNING: FITSFixedWarning: 'datfix' made the change 'Set MJD-OBS to 60871.000000 from DATE-OBS.\n",
      "Set DATE-END to '2025-07-15T12:55:26.797' from MJD-END'. [astropy.wcs.wcs]\n",
      "WARNING: FITSFixedWarning: 'datfix' made the change 'Set MJD-OBS to 60871.000000 from DATE-OBS.\n",
      "Set DATE-END to '2025-07-15T12:55:26.996' from MJD-END'. [astropy.wcs.wcs]\n",
      "WARNING: FITSFixedWarning: 'datfix' made the change 'Set MJD-OBS to 60871.000000 from DATE-OBS.\n",
      "Set DATE-END to '2025-07-15T13:27:32.602' from MJD-END'. [astropy.wcs.wcs]\n"
     ]
    },
    {
     "name": "stdout",
     "output_type": "stream",
     "text": [
      "  Original center (x, y) = (1331.9, 900.9)\n",
      "  Winpos center (x, y) = (1331.3, 901.4)\n",
      "Data length (Nx, Ny)=(85, 85)\n",
      "  Original center (x, y) = (1317.1, 913.3)\n",
      "  Winpos center (x, y) = (1314.9, 912.3)\n",
      "Data length (Nx, Ny)=(85, 85)\n",
      "  Original center (x, y) = (1327.1, 892.2)\n",
      "  Winpos center (x, y) = (1327.0, 891.9)\n",
      "Data length (Nx, Ny)=(85, 85)\n",
      "  Original center (x, y) = (1201.3, 894.2)\n",
      "  Winpos center (x, y) = (1199.6, 893.3)\n",
      "Data length (Nx, Ny)=(85, 85)\n"
     ]
    },
    {
     "name": "stderr",
     "output_type": "stream",
     "text": [
      "WARNING: FITSFixedWarning: 'datfix' made the change 'Set MJD-OBS to 60871.000000 from DATE-OBS.\n",
      "Set DATE-END to '2025-07-15T13:27:32.196' from MJD-END'. [astropy.wcs.wcs]\n",
      "WARNING: FITSFixedWarning: 'datfix' made the change 'Set MJD-OBS to 60871.000000 from DATE-OBS.\n",
      "Set DATE-END to '2025-07-15T13:27:32.403' from MJD-END'. [astropy.wcs.wcs]\n",
      "WARNING: FITSFixedWarning: 'datfix' made the change 'Set MJD-OBS to 60871.000000 from DATE-OBS.\n",
      "Set DATE-END to '2025-07-15T14:00:17.899' from MJD-END'. [astropy.wcs.wcs]\n",
      "WARNING: FITSFixedWarning: 'datfix' made the change 'Set MJD-OBS to 60871.000000 from DATE-OBS.\n",
      "Set DATE-END to '2025-07-15T14:00:17.502' from MJD-END'. [astropy.wcs.wcs]\n"
     ]
    },
    {
     "name": "stdout",
     "output_type": "stream",
     "text": [
      "  Original center (x, y) = (1184.8, 903.4)\n",
      "  Winpos center (x, y) = (1183.3, 904.0)\n",
      "Data length (Nx, Ny)=(85, 85)\n",
      "  Original center (x, y) = (1195.5, 884.4)\n",
      "  Winpos center (x, y) = (1195.2, 884.0)\n",
      "Data length (Nx, Ny)=(85, 85)\n",
      "  Original center (x, y) = (1058.0, 888.1)\n",
      "  Winpos center (x, y) = (1057.1, 887.4)\n",
      "Data length (Nx, Ny)=(85, 85)\n",
      "  Original center (x, y) = (1041.7, 897.7)\n",
      "  Winpos center (x, y) = (1040.8, 897.3)\n",
      "Data length (Nx, Ny)=(85, 85)\n"
     ]
    },
    {
     "name": "stderr",
     "output_type": "stream",
     "text": [
      "WARNING: FITSFixedWarning: 'datfix' made the change 'Set MJD-OBS to 60871.000000 from DATE-OBS.\n",
      "Set DATE-END to '2025-07-15T14:00:17.700' from MJD-END'. [astropy.wcs.wcs]\n",
      "WARNING: FITSFixedWarning: 'datfix' made the change 'Set MJD-OBS to 60871.000000 from DATE-OBS.\n",
      "Set DATE-END to '2025-07-15T14:14:10.596' from MJD-END'. [astropy.wcs.wcs]\n",
      "WARNING: FITSFixedWarning: 'datfix' made the change 'Set MJD-OBS to 60871.000000 from DATE-OBS.\n",
      "Set DATE-END to '2025-07-15T14:14:10.199' from MJD-END'. [astropy.wcs.wcs]\n",
      "WARNING: FITSFixedWarning: 'datfix' made the change 'Set MJD-OBS to 60871.000000 from DATE-OBS.\n",
      "Set DATE-END to '2025-07-15T14:14:10.398' from MJD-END'. [astropy.wcs.wcs]\n"
     ]
    },
    {
     "name": "stdout",
     "output_type": "stream",
     "text": [
      "  Original center (x, y) = (1053.0, 878.2)\n",
      "  Winpos center (x, y) = (1052.9, 877.9)\n",
      "Data length (Nx, Ny)=(85, 85)\n",
      "  Original center (x, y) = (990.8, 875.2)\n",
      "  Winpos center (x, y) = (989.7, 875.1)\n",
      "Data length (Nx, Ny)=(85, 85)\n",
      "  Original center (x, y) = (973.7, 884.4)\n",
      "  Winpos center (x, y) = (973.9, 884.5)\n",
      "Data length (Nx, Ny)=(85, 85)\n",
      "  Original center (x, y) = (985.7, 865.2)\n",
      "  Winpos center (x, y) = (985.9, 865.2)\n",
      "Data length (Nx, Ny)=(85, 85)\n"
     ]
    },
    {
     "name": "stderr",
     "output_type": "stream",
     "text": [
      "WARNING: FITSFixedWarning: 'datfix' made the change 'Set MJD-OBS to 60871.000000 from DATE-OBS.\n",
      "Set DATE-END to '2025-07-15T14:24:13.504' from MJD-END'. [astropy.wcs.wcs]\n",
      "WARNING: FITSFixedWarning: 'datfix' made the change 'Set MJD-OBS to 60871.000000 from DATE-OBS.\n",
      "Set DATE-END to '2025-07-15T14:24:13.098' from MJD-END'. [astropy.wcs.wcs]\n",
      "WARNING: FITSFixedWarning: 'datfix' made the change 'Set MJD-OBS to 60871.000000 from DATE-OBS.\n",
      "Set DATE-END to '2025-07-15T14:24:13.297' from MJD-END'. [astropy.wcs.wcs]\n"
     ]
    },
    {
     "name": "stdout",
     "output_type": "stream",
     "text": [
      "  Original center (x, y) = (948.0, 877.2)\n",
      "  Winpos center (x, y) = (947.3, 877.3)\n",
      "Data length (Nx, Ny)=(85, 85)\n",
      "  Original center (x, y) = (932.3, 886.1)\n",
      "  Winpos center (x, y) = (931.8, 886.2)\n",
      "Data length (Nx, Ny)=(85, 85)\n",
      "  Original center (x, y) = (943.2, 867.0)\n",
      "  Winpos center (x, y) = (943.4, 867.2)\n",
      "Data length (Nx, Ny)=(85, 85)\n"
     ]
    },
    {
     "name": "stderr",
     "output_type": "stream",
     "text": [
      "/var/folders/xv/z4qp4sf50z10cwc8tgxysssw0000gn/T/ipykernel_99592/108843714.py:52: FutureWarning: Setting an item of incompatible dtype is deprecated and will raise an error in a future version of pandas. Value '17.1968994140625' has dtype incompatible with int64, please explicitly cast to a compatible dtype first.\n",
      "  df_star.loc[df_star[\"band\"] == band, \"PSmag\"] = PSmag_band\n"
     ]
    }
   ],
   "source": [
    "# 2025-07-15\n",
    "# Save all results and concatnate later\n",
    "df_star_list = []\n",
    "\n",
    "for idx, (ra_star, dec_star) in enumerate(zip(ra1_list, dec1_list)):\n",
    "\n",
    "    df_PS = query_ps(ra_star, dec_star, radius=radec_rad, magmin=PSmagmin, magmax=PSmagmax)\n",
    "    assert len(df_PS)==1, df_PS\n",
    "     \n",
    "    g_PS, r_PS, i_PS = df_PS[\"gMeanPSFMag\"][0], df_PS[\"rMeanPSFMag\"][0], df_PS[\"iMeanPSFMag\"][0]\n",
    "\n",
    "    ra_cat, dec_cat = df_PS[\"raMean\"][0], df_PS[\"decMean\"][0]\n",
    "    objid = df_PS[\"objID\"][0]\n",
    "\n",
    "    # gri 7 sets\n",
    "    bands = [\"g\", \"r\", \"i\"]\n",
    "    fi_lists = []\n",
    "    for i in range(7):\n",
    "        f_g = f\"/Users/beniyama/research/Seimei_3I/Seimei202507_3I/20250715/3I_gri/shift_600s_{stack}/sid_3I_gri_600s_0_00{i+1}.fits\"\n",
    "        f_r = f\"/Users/beniyama/research/Seimei_3I/Seimei202507_3I/20250715/3I_gri/shift_600s_{stack}/sid_3I_gri_600s_1_00{i+1}.fits\"\n",
    "        f_i = f\"/Users/beniyama/research/Seimei_3I/Seimei202507_3I/20250715/3I_gri/shift_600s_{stack}/sid_3I_gri_600s_2_00{i+1}.fits\"\n",
    "        fi_lists.append([f_g, f_r, f_i])\n",
    "\n",
    "\n",
    "    out = f\"fig/PSstar{idx+1:02d}_20250715_gri_{stack}_600s_7sets.jpg\"\n",
    "    df_star = make_cutout_star(objid, fi_lists, ra_cat, dec_cat, bands, rad_list=rad_list, fov_arcsec=fov_arcsec, sig_min=sig_min, sig_max=sig_max, out=out)\n",
    "\n",
    "    # Add catalog mag\n",
    "    df_star[\"PSmag\"] = 0\n",
    "    for band in bands:\n",
    "        PSmag_band = df_PS[f\"{band}MeanPSFMag\"][0]\n",
    "        df_star.loc[df_star[\"band\"] == band, \"PSmag\"] = PSmag_band\n",
    "\n",
    "    df_star_list.append(df_star)\n",
    "\n",
    "    # grz 5 sets\n",
    "    bands = [\"g\", \"r\", \"z\"]\n",
    "    fi_lists = []\n",
    "    for i in range(5):\n",
    "        f_g = f\"/Users/beniyama/research/Seimei_3I/Seimei202507_3I/20250715/3I_grz/shift_600s_mean/sid_3I_grz_600s_0_00{i+1}.fits\"\n",
    "        f_r = f\"/Users/beniyama/research/Seimei_3I/Seimei202507_3I/20250715/3I_grz/shift_600s_mean/sid_3I_grz_600s_1_00{i+1}.fits\"\n",
    "        f_z = f\"/Users/beniyama/research/Seimei_3I/Seimei202507_3I/20250715/3I_grz/shift_600s_mean/sid_3I_grz_600s_2_00{i+1}.fits\"\n",
    "        fi_lists.append([f_g, f_r, f_z])\n",
    "\n",
    "    out = f\"fig/PSstar{idx+1:02d}_20250715_grz_{stack}_600s_5sets.jpg\"\n",
    "    df_star = make_cutout_star(objid, fi_lists, ra_cat, dec_cat, bands, rad_list=rad_list, fov_arcsec=fov_arcsec, sig_min=sig_min, sig_max=sig_max, out=out)\n",
    "\n",
    "    # Add catalog mag\n",
    "    df_star[\"PSmag\"] = 0\n",
    "    for band in bands:\n",
    "        PSmag_band = df_PS[f\"{band}MeanPSFMag\"][0]\n",
    "        df_star.loc[df_star[\"band\"] == band, \"PSmag\"] = PSmag_band\n",
    "        \n",
    "    df_star_list.append(df_star)\n",
    "\n",
    "\n",
    "# Check photometry of stars\n",
    "df_ref = pd.concat(df_star_list)\n",
    "jd_min = np.min(df_ref[\"jd\"])\n",
    "df_ref[\"instmag\"] = -2.5*np.log10(df_ref[\"flux\"])\n",
    "df_ref[\"instmagerr\"] = 2.5*log10err(df_ref[\"flux\"], df_ref[\"fluxerr\"])\n",
    "df_ref[\"elapsed_min\"] = (df_ref[\"jd\"] - jd_min)*24.*60.\n",
    "\n",
    "df_ref.to_csv(f\"{outdir}/photres_ref_{stack}_600s_20250715.txt\", sep=\" \")\n"
   ]
  },
  {
   "cell_type": "markdown",
   "id": "b75d3bc1",
   "metadata": {},
   "source": [
    "## Popescu (120 s)"
   ]
  },
  {
   "cell_type": "code",
   "execution_count": 16,
   "id": "bef459f4",
   "metadata": {},
   "outputs": [
    {
     "name": "stdout",
     "output_type": "stream",
     "text": [
      "Set 1\n",
      "  g-band\n",
      "    Original center (x0, y0) = (1102.0, 650.0)\n",
      "    Winpos center (x1, y1) = (1100.9, 649.1)\n",
      "Data length (Nx, Ny)=(85, 85)\n",
      "  r-band\n",
      "    Original center (x0, y0) = (1086.0, 660.0)\n",
      "    Winpos center (x1, y1) = (1085.5, 658.9)\n",
      "Data length (Nx, Ny)=(85, 85)\n",
      "  i-band\n",
      "    Original center (x0, y0) = (1097.0, 641.0)\n",
      "    Winpos center (x1, y1) = (1096.6, 639.3)\n",
      "Data length (Nx, Ny)=(85, 85)\n",
      "Set 2\n",
      "  g-band\n",
      "    Original center (x0, y0) = (1103.0, 650.0)\n",
      "    Winpos center (x1, y1) = (1100.3, 651.2)\n",
      "Data length (Nx, Ny)=(85, 85)\n",
      "  r-band\n",
      "    Original center (x0, y0) = (1088.0, 659.0)\n",
      "    Winpos center (x1, y1) = (1085.0, 660.9)\n",
      "Data length (Nx, Ny)=(85, 85)\n",
      "  i-band\n",
      "    Original center (x0, y0) = (1098.0, 641.0)\n",
      "    Winpos center (x1, y1) = (1096.3, 641.5)\n",
      "Data length (Nx, Ny)=(85, 85)\n",
      "Set 1\n",
      "  g-band\n",
      "    Original center (x0, y0) = (1099.0, 650.0)\n",
      "    Winpos center (x1, y1) = (1098.3, 648.7)\n",
      "Data length (Nx, Ny)=(85, 85)\n",
      "  r-band\n",
      "    Original center (x0, y0) = (1085.0, 660.0)\n",
      "    Winpos center (x1, y1) = (1082.8, 658.4)\n",
      "Data length (Nx, Ny)=(85, 85)\n",
      "  z-band\n",
      "    Original center (x0, y0) = (1096.0, 641.0)\n",
      "    Winpos center (x1, y1) = (1093.9, 638.5)\n",
      "Data length (Nx, Ny)=(85, 85)\n",
      "Set 2\n",
      "  g-band\n",
      "    Original center (x0, y0) = (1100.0, 649.0)\n",
      "    Winpos center (x1, y1) = (1098.1, 647.9)\n",
      "Data length (Nx, Ny)=(85, 85)\n",
      "  r-band\n",
      "    Original center (x0, y0) = (1087.0, 659.0)\n",
      "    Winpos center (x1, y1) = (1082.9, 657.6)\n",
      "Data length (Nx, Ny)=(85, 85)\n",
      "  z-band\n",
      "    Original center (x0, y0) = (1097.0, 640.0)\n",
      "    Winpos center (x1, y1) = (1094.2, 637.8)\n",
      "Data length (Nx, Ny)=(85, 85)\n"
     ]
    }
   ],
   "source": [
    "# 2025-07-15 gri 2 set\n",
    "bands = [\"g\", \"r\", \"i\"]\n",
    "center_lists = [\n",
    "    [(1102, 650), (1086, 660), (1097, 641)],\n",
    "    [(1103, 650), (1088, 659), (1098, 641)],\n",
    "    [(1101, 652), (1085, 662), (1097, 642)],\n",
    "    [(1101, 652), (1085, 662), (1097, 642)],\n",
    "]\n",
    "\n",
    "fi_lists = []\n",
    "for i in range(2):\n",
    "    f_g = f\"/Users/beniyama/research/Seimei_3I/Seimei202507_3I/20250715/Popescu_gri/shift_120s_{stack}/nonsid_Popescu_gri_120s_0_00{i+1}.fits\"\n",
    "    f_r = f\"/Users/beniyama/research/Seimei_3I/Seimei202507_3I/20250715/Popescu_gri/shift_120s_{stack}/nonsid_Popescu_gri_120s_1_00{i+1}.fits\"\n",
    "    f_i = f\"/Users/beniyama/research/Seimei_3I/Seimei202507_3I/20250715/Popescu_gri/shift_120s_{stack}/nonsid_Popescu_gri_120s_2_00{i+1}.fits\"\n",
    "    fi_lists.append([f_g, f_r, f_i])\n",
    "\n",
    "out = f\"fig/Popsecu_20250715_gri_{stack}_120s_2sets.jpg\"\n",
    "df_P_gri = make_cutout_sssb(\"Popescu\", fi_lists, center_lists, bands, rad_list=rad_list, fov_arcsec=fov_arcsec, out=out)\n",
    "\n",
    "\n",
    "# 2025-07-15 grz 2 set\n",
    "bands = [\"g\", \"r\", \"z\"]\n",
    "center_lists = [\n",
    "    [(1099, 650), (1085, 660), (1096, 641)],\n",
    "    [(1100, 649), (1087, 659), (1097, 640)],\n",
    "    [(1099, 651), (1085, 660), (1096, 640)],\n",
    "    [(1099, 651), (1085, 661), (1096, 640)],\n",
    "]\n",
    "\n",
    "fi_lists = []\n",
    "for i in range(2):\n",
    "    f_g = f\"/Users/beniyama/research/Seimei_3I/Seimei202507_3I/20250715/Popescu_grz/shift_120s_{stack}/nonsid_Popescu_grz_120s_0_00{i+1}.fits\"\n",
    "    f_r = f\"/Users/beniyama/research/Seimei_3I/Seimei202507_3I/20250715/Popescu_grz/shift_120s_{stack}/nonsid_Popescu_grz_120s_1_00{i+1}.fits\"\n",
    "    f_z = f\"/Users/beniyama/research/Seimei_3I/Seimei202507_3I/20250715/Popescu_grz/shift_120s_{stack}/nonsid_Popescu_grz_120s_2_00{i+1}.fits\"\n",
    "    fi_lists.append([f_g, f_r, f_z])\n",
    "\n",
    "out = f\"fig/Popsecu_20250715_grz_{stack}_120s_2sets.jpg\"\n",
    "df_P_grz = make_cutout_sssb(\"Popescu\", fi_lists, center_lists, bands, rad_list=rad_list, fov_arcsec=fov_arcsec, out=out)\n",
    "\n",
    "\n",
    "df_P = pd.concat([df_P_gri, df_P_grz])\n",
    "df_P = df_P.reset_index(drop=True)\n",
    "\n",
    "jd_min = np.min(df_P[\"jd\"])\n",
    "df_P[\"instmag\"] = -2.5*np.log10(df_P[\"flux\"])\n",
    "df_P[\"instmagerr\"] = 2.5*log10err(df_P[\"flux\"], df_P[\"fluxerr\"])\n",
    "df_P[\"elapsed_min\"] = (df_P[\"jd\"] - jd_min)*24.*60.\n",
    "\n",
    "df_P.to_csv(f\"{outdir}/photres_Popescu_{stack}_120s_20250715.txt\", sep=\" \")"
   ]
  },
  {
   "cell_type": "markdown",
   "id": "db454e08",
   "metadata": {},
   "source": [
    "## Stars in Popescu field (120 s)"
   ]
  },
  {
   "cell_type": "code",
   "execution_count": 17,
   "id": "ce217486",
   "metadata": {},
   "outputs": [
    {
     "name": "stdout",
     "output_type": "stream",
     "text": [
      "1-th, (ra, dec) = (263.654, -17.1456)\n",
      "  g-r is too red (1.3)\n",
      "  Do not use 1-th star\n",
      "\n",
      "2-th, (ra, dec) = (263.625, -17.1557)\n",
      "  Use 2-th star\n",
      "\n",
      "3-th, (ra, dec) = (263.6564, -17.1594)\n",
      "  g-r is too red (1.1)\n",
      "  Do not use 3-th star\n",
      "\n",
      "4-th, (ra, dec) = (263.666, -17.1547)\n",
      "  Use 4-th star\n",
      "\n",
      "5-th, (ra, dec) = (263.6117, -17.1589)\n",
      "  Use 5-th star\n",
      "\n",
      "6-th, (ra, dec) = (263.6241, -17.1459)\n",
      "  Use 6-th star\n",
      "\n",
      "7-th, (ra, dec) = (263.6121, -17.1347)\n",
      "  g-r is too red (1.4)\n",
      "  Do not use 7-th star\n",
      "\n",
      "8-th, (ra, dec) = (263.6117, -17.1248)\n",
      "  Use 8-th star\n",
      "\n",
      "9-th, (ra, dec) = (263.6035, -17.1461)\n",
      "  Use 9-th star\n",
      "\n",
      "10-th, (ra, dec) = (263.5742, -17.1272)\n",
      "  Use 10-th star\n",
      "\n",
      "11-th, (ra, dec) = (263.5775, -17.1364)\n",
      "  Use 11-th star\n",
      "\n",
      "12-th, (ra, dec) = (263.5886, -17.1563)\n",
      "  g-r is too red (1.3)\n",
      "  Do not use 12-th star\n",
      "\n",
      "13-th, (ra, dec) = (263.6019, -17.136)\n",
      "  g-r is too red (1.3)\n",
      "  Do not use 13-th star\n",
      "\n",
      "14-th, (ra, dec) = (263.6274, -17.1658)\n",
      "  g-r is too red (1.4)\n",
      "  Do not use 14-th star\n",
      "\n",
      "15-th, (ra, dec) = (263.6509, -17.1497)\n",
      "  g-r is too red (1.9)\n",
      "  Do not use 15-th star\n",
      "\n",
      "16-th, (ra, dec) = (263.6406, -17.141557)\n",
      "  No stars found. (maybe ghost image)\n",
      "  Do not use 16-th star\n",
      "\n",
      "17-th, (ra, dec) = (263.5997, -17.1203)\n"
     ]
    },
    {
     "name": "stderr",
     "output_type": "stream",
     "text": [
      "WARNING: NoResultsWarning: Query returned no results. [astroquery.mast.services]\n"
     ]
    },
    {
     "name": "stdout",
     "output_type": "stream",
     "text": [
      "  Use 17-th star\n",
      "\n",
      "18-th, (ra, dec) = (263.6693, -17.1264)\n",
      "  Use 18-th star\n",
      "\n",
      "19-th, (ra, dec) = (263.6944, -17.1353)\n",
      "  Use 19-th star\n",
      "\n",
      "20-th, (ra, dec) = (263.6679, -17.1688)\n",
      "  Use 20-th star\n",
      "\n",
      "21-th, (ra, dec) = (263.6407, -17.1678)\n",
      "  g-r is too red (1.1)\n",
      "  Do not use 21-th star\n",
      "\n",
      "22-th, (ra, dec) = (263.623, -17.1748)\n",
      "  Use 22-th star\n",
      "\n",
      "23-th, (ra, dec) = (263.6427, -17.1754)\n",
      "  g-r is too red (1.2)\n",
      "  Do not use 23-th star\n",
      "\n",
      "24-th, (ra, dec) = (263.5962, -17.1755)\n",
      "  g-r is too red (1.2)\n",
      "  Do not use 24-th star\n",
      "\n",
      "25-th, (ra, dec) = (263.6802, -17.1806)\n",
      "  i/zFlags is 16777496\n",
      "  Do not use 25-th star\n",
      "\n",
      "  Use 25-th star\n",
      "\n",
      "\n",
      "-> Selected N=14\n",
      "--ra 263.6248806102392 263.6663239404475 263.611564934402 263.624055023923 263.611610216147 263.6034272620103 263.57422114796594 263.57750134897134 263.5996181284078 263.66944117676593 263.6945731543876 263.6680872122373 263.62294264338243 263.6802939305236 --dec -17.15573235082032 -17.15467184573923 -17.158812135454838 -17.145839555135403 -17.124607110548137 -17.14599888158143 -17.127121615910873 -17.13644820936217 -17.120238558398146 -17.126241892513963 -17.13523178561279 -17.168797122678612 -17.1749093984003 -17.180790710608154\n"
     ]
    }
   ],
   "source": [
    "# Stars\n",
    "# Avoid red stars (check i and z bands)\n",
    "bands = [\"g\", \"r\", \"i\"]\n",
    "# RA and Dec in deg\n",
    "ra1, dec1 = 263.6540, -17.1456\n",
    "ra2, dec2 = 263.625, -17.1557\n",
    "ra3, dec3 = 263.6564, -17.1594\n",
    "ra4, dec4 = 263.666, -17.1547\n",
    "ra5, dec5 = 263.6117, -17.1589\n",
    "ra6, dec6 = 263.6241, -17.1459\n",
    "ra7, dec7 = 263.6121, -17.1347\n",
    "ra8, dec8 = 263.6117, -17.1248\n",
    "ra9, dec9 = 263.6035, -17.1461\n",
    "ra10, dec10 = 263.5742, -17.1272\n",
    "\n",
    "ra11, dec11 = 263.5775, -17.1364\n",
    "ra12, dec12 = 263.5886, -17.1563\n",
    "ra13, dec13 = 263.6019, -17.1360\n",
    "ra14, dec14 = 263.6274, -17.1658\n",
    "ra15, dec15 = 263.6509, -17.1497\n",
    "\n",
    "ra16, dec16 = 263.6406, -17.141557\n",
    "ra17, dec17 = 263.5997, -17.1203\n",
    "ra18, dec18 = 263.6693, -17.1264\n",
    "ra19, dec19 = 263.6944, -17.1353\n",
    "ra20, dec20 = 263.6679, -17.1688\n",
    "\n",
    "ra21, dec21 = 263.6407, -17.1678\n",
    "ra22, dec22 = 263.6230, -17.1748\n",
    "ra23, dec23 = 263.6427, -17.1754\n",
    "ra24, dec24 = 263.5962, -17.1755\n",
    "ra25, dec25 = 263.6802, -17.1806\n",
    "\n",
    "ra0_list =[\n",
    "    ra1, ra2, ra3, ra4, ra5, \n",
    "    ra6, ra7, ra8, ra9, ra10, \n",
    "    ra11, ra12, ra13, ra14, ra15, \n",
    "    ra16, ra17, ra18, ra19, ra20, \n",
    "    ra21, ra22, ra23, ra24, ra25, \n",
    "    ]\n",
    "dec0_list =[\n",
    "    dec1, dec2, dec3, dec4, dec5, \n",
    "    dec6, dec7, dec8, dec9, dec10, \n",
    "    dec11, dec12, dec13, dec14, dec15, \n",
    "    dec16, dec17, dec18, dec19, dec20, \n",
    "    dec21, dec22, dec23, dec24, dec25, \n",
    "    ]\n",
    "\n",
    "# 30 arcsec = 0.0083 deg\n",
    "# 10 arcsec = 0.0027 deg\n",
    "#  5 arcsec = 0.0014 deg\n",
    "radec_rad = 0.0014\n",
    "PSmagmin, PSmagmax = 11, 18\n",
    "\n",
    "\n",
    "# Selection of stars\n",
    "ds9_region = f\"/Users/beniyama/research/Seimei_3I/Seimei202507_3I/20250715/Popescu_gri/shift_120s_{stack}/ds9_PSstars.reg\"\n",
    "ra1_list, dec1_list = phot_PSstars(ra0_list, dec0_list, radec_rad, PSmagmin, PSmagmax, bands, out_region=ds9_region)\n"
   ]
  },
  {
   "cell_type": "code",
   "execution_count": 18,
   "id": "9459c53f",
   "metadata": {},
   "outputs": [
    {
     "name": "stderr",
     "output_type": "stream",
     "text": [
      "WARNING: FITSFixedWarning: 'datfix' made the change 'Set MJD-OBS to 60871.000000 from DATE-OBS.\n",
      "Set DATE-END to '2025-07-15T13:02:05.404' from MJD-END'. [astropy.wcs.wcs]\n",
      "WARNING: FITSFixedWarning: 'datfix' made the change 'Set MJD-OBS to 60871.000000 from DATE-OBS.\n",
      "Set DATE-END to '2025-07-15T13:02:04.998' from MJD-END'. [astropy.wcs.wcs]\n",
      "WARNING: FITSFixedWarning: 'datfix' made the change 'Set MJD-OBS to 60871.000000 from DATE-OBS.\n",
      "Set DATE-END to '2025-07-15T13:02:05.196' from MJD-END'. [astropy.wcs.wcs]\n",
      "WARNING: FITSFixedWarning: 'datfix' made the change 'Set MJD-OBS to 60871.000000 from DATE-OBS.\n",
      "Set DATE-END to '2025-07-15T13:34:25.602' from MJD-END'. [astropy.wcs.wcs]\n"
     ]
    },
    {
     "name": "stdout",
     "output_type": "stream",
     "text": [
      "  Original center (x, y) = (1256.4, 647.2)\n",
      "  Winpos center (x, y) = (1255.2, 647.3)\n",
      "Data length (Nx, Ny)=(85, 85)\n",
      "  Original center (x, y) = (1241.0, 658.0)\n",
      "  Winpos center (x, y) = (1239.9, 657.8)\n",
      "Data length (Nx, Ny)=(85, 85)\n",
      "  Original center (x, y) = (1252.0, 637.9)\n",
      "  Winpos center (x, y) = (1251.2, 637.8)\n",
      "Data length (Nx, Ny)=(85, 85)\n",
      "  Original center (x, y) = (1223.7, 655.6)\n",
      "  Winpos center (x, y) = (1222.2, 655.8)\n",
      "Data length (Nx, Ny)=(85, 85)\n",
      "  Original center (x, y) = (1208.4, 666.1)\n",
      "  Winpos center (x, y) = (1207.1, 666.1)\n",
      "Data length (Nx, Ny)=(85, 85)\n",
      "  Original center (x, y) = (1219.5, 646.2)\n",
      "  Winpos center (x, y) = (1218.6, 646.3)\n",
      "Data length (Nx, Ny)=(85, 85)\n"
     ]
    },
    {
     "name": "stderr",
     "output_type": "stream",
     "text": [
      "WARNING: FITSFixedWarning: 'datfix' made the change 'Set MJD-OBS to 60871.000000 from DATE-OBS.\n",
      "Set DATE-END to '2025-07-15T13:34:25.101' from MJD-END'. [astropy.wcs.wcs]\n",
      "WARNING: FITSFixedWarning: 'datfix' made the change 'Set MJD-OBS to 60871.000000 from DATE-OBS.\n",
      "Set DATE-END to '2025-07-15T13:34:25.404' from MJD-END'. [astropy.wcs.wcs]\n",
      "/var/folders/xv/z4qp4sf50z10cwc8tgxysssw0000gn/T/ipykernel_99592/1169616324.py:32: FutureWarning: Setting an item of incompatible dtype is deprecated and will raise an error in a future version of pandas. Value '17.135499954223633' has dtype incompatible with int64, please explicitly cast to a compatible dtype first.\n",
      "  df_star.loc[df_star[\"band\"] == band, \"PSmag\"] = PSmag_band\n",
      "WARNING: FITSFixedWarning: 'datfix' made the change 'Set MJD-OBS to 60871.000000 from DATE-OBS.\n",
      "Set DATE-END to '2025-07-15T12:59:13.001' from MJD-END'. [astropy.wcs.wcs]\n",
      "WARNING: FITSFixedWarning: 'datfix' made the change 'Set MJD-OBS to 60871.000000 from DATE-OBS.\n",
      "Set DATE-END to '2025-07-15T12:59:12.500' from MJD-END'. [astropy.wcs.wcs]\n",
      "WARNING: FITSFixedWarning: 'datfix' made the change 'Set MJD-OBS to 60871.000000 from DATE-OBS.\n",
      "Set DATE-END to '2025-07-15T12:59:12.803' from MJD-END'. [astropy.wcs.wcs]\n"
     ]
    },
    {
     "name": "stdout",
     "output_type": "stream",
     "text": [
      "  Original center (x, y) = (1256.4, 646.7)\n",
      "  Winpos center (x, y) = (1255.4, 646.3)\n",
      "Data length (Nx, Ny)=(85, 85)\n",
      "  Original center (x, y) = (1241.0, 657.4)\n",
      "  Winpos center (x, y) = (1240.1, 656.9)\n",
      "Data length (Nx, Ny)=(85, 85)\n",
      "  Original center (x, y) = (1251.3, 636.8)\n",
      "  Winpos center (x, y) = (1251.5, 636.4)\n",
      "Data length (Nx, Ny)=(85, 85)\n"
     ]
    },
    {
     "name": "stderr",
     "output_type": "stream",
     "text": [
      "WARNING: FITSFixedWarning: 'datfix' made the change 'Set MJD-OBS to 60871.000000 from DATE-OBS.\n",
      "Set DATE-END to '2025-07-15T13:31:27.204' from MJD-END'. [astropy.wcs.wcs]\n",
      "WARNING: FITSFixedWarning: 'datfix' made the change 'Set MJD-OBS to 60871.000000 from DATE-OBS.\n",
      "Set DATE-END to '2025-07-15T13:31:26.797' from MJD-END'. [astropy.wcs.wcs]\n",
      "WARNING: FITSFixedWarning: 'datfix' made the change 'Set MJD-OBS to 60871.000000 from DATE-OBS.\n",
      "Set DATE-END to '2025-07-15T13:31:26.996' from MJD-END'. [astropy.wcs.wcs]\n"
     ]
    },
    {
     "name": "stdout",
     "output_type": "stream",
     "text": [
      "  Original center (x, y) = (1224.8, 651.6)\n",
      "  Winpos center (x, y) = (1223.5, 651.4)\n",
      "Data length (Nx, Ny)=(85, 85)\n",
      "  Original center (x, y) = (1209.5, 662.1)\n",
      "  Winpos center (x, y) = (1208.5, 662.2)\n",
      "Data length (Nx, Ny)=(85, 85)\n",
      "  Original center (x, y) = (1220.8, 641.9)\n",
      "  Winpos center (x, y) = (1220.0, 642.0)\n",
      "Data length (Nx, Ny)=(85, 85)\n"
     ]
    },
    {
     "name": "stderr",
     "output_type": "stream",
     "text": [
      "/var/folders/xv/z4qp4sf50z10cwc8tgxysssw0000gn/T/ipykernel_99592/1169616324.py:52: FutureWarning: Setting an item of incompatible dtype is deprecated and will raise an error in a future version of pandas. Value '17.135499954223633' has dtype incompatible with int64, please explicitly cast to a compatible dtype first.\n",
      "  df_star.loc[df_star[\"band\"] == band, \"PSmag\"] = PSmag_band\n",
      "WARNING: FITSFixedWarning: 'datfix' made the change 'Set MJD-OBS to 60871.000000 from DATE-OBS.\n",
      "Set DATE-END to '2025-07-15T13:02:05.404' from MJD-END'. [astropy.wcs.wcs]\n",
      "WARNING: FITSFixedWarning: 'datfix' made the change 'Set MJD-OBS to 60871.000000 from DATE-OBS.\n",
      "Set DATE-END to '2025-07-15T13:02:04.998' from MJD-END'. [astropy.wcs.wcs]\n",
      "WARNING: FITSFixedWarning: 'datfix' made the change 'Set MJD-OBS to 60871.000000 from DATE-OBS.\n",
      "Set DATE-END to '2025-07-15T13:02:05.196' from MJD-END'. [astropy.wcs.wcs]\n",
      "WARNING: FITSFixedWarning: 'datfix' made the change 'Set MJD-OBS to 60871.000000 from DATE-OBS.\n",
      "Set DATE-END to '2025-07-15T13:34:25.602' from MJD-END'. [astropy.wcs.wcs]\n",
      "WARNING: FITSFixedWarning: 'datfix' made the change 'Set MJD-OBS to 60871.000000 from DATE-OBS.\n",
      "Set DATE-END to '2025-07-15T13:34:25.101' from MJD-END'. [astropy.wcs.wcs]\n"
     ]
    },
    {
     "name": "stdout",
     "output_type": "stream",
     "text": [
      "  Original center (x, y) = (850.8, 661.7)\n",
      "  Winpos center (x, y) = (851.2, 661.6)\n",
      "Data length (Nx, Ny)=(85, 85)\n",
      "  Original center (x, y) = (835.2, 670.2)\n",
      "  Winpos center (x, y) = (835.5, 670.1)\n",
      "Data length (Nx, Ny)=(85, 85)\n",
      "  Original center (x, y) = (846.2, 651.4)\n",
      "  Winpos center (x, y) = (846.5, 651.3)\n",
      "Data length (Nx, Ny)=(85, 85)\n",
      "  Original center (x, y) = (818.3, 669.9)\n",
      "  Winpos center (x, y) = (818.2, 670.1)\n",
      "Data length (Nx, Ny)=(85, 85)\n",
      "  Original center (x, y) = (802.8, 678.2)\n",
      "  Winpos center (x, y) = (802.7, 678.4)\n",
      "Data length (Nx, Ny)=(85, 85)\n"
     ]
    },
    {
     "name": "stderr",
     "output_type": "stream",
     "text": [
      "WARNING: FITSFixedWarning: 'datfix' made the change 'Set MJD-OBS to 60871.000000 from DATE-OBS.\n",
      "Set DATE-END to '2025-07-15T13:34:25.404' from MJD-END'. [astropy.wcs.wcs]\n"
     ]
    },
    {
     "name": "stdout",
     "output_type": "stream",
     "text": [
      "  Original center (x, y) = (813.9, 659.6)\n",
      "  Winpos center (x, y) = (813.8, 659.8)\n",
      "Data length (Nx, Ny)=(85, 85)\n"
     ]
    },
    {
     "name": "stderr",
     "output_type": "stream",
     "text": [
      "/var/folders/xv/z4qp4sf50z10cwc8tgxysssw0000gn/T/ipykernel_99592/1169616324.py:32: FutureWarning: Setting an item of incompatible dtype is deprecated and will raise an error in a future version of pandas. Value '17.311100006103516' has dtype incompatible with int64, please explicitly cast to a compatible dtype first.\n",
      "  df_star.loc[df_star[\"band\"] == band, \"PSmag\"] = PSmag_band\n",
      "WARNING: FITSFixedWarning: 'datfix' made the change 'Set MJD-OBS to 60871.000000 from DATE-OBS.\n",
      "Set DATE-END to '2025-07-15T12:59:13.001' from MJD-END'. [astropy.wcs.wcs]\n",
      "WARNING: FITSFixedWarning: 'datfix' made the change 'Set MJD-OBS to 60871.000000 from DATE-OBS.\n",
      "Set DATE-END to '2025-07-15T12:59:12.500' from MJD-END'. [astropy.wcs.wcs]\n",
      "WARNING: FITSFixedWarning: 'datfix' made the change 'Set MJD-OBS to 60871.000000 from DATE-OBS.\n",
      "Set DATE-END to '2025-07-15T12:59:12.803' from MJD-END'. [astropy.wcs.wcs]\n",
      "WARNING: FITSFixedWarning: 'datfix' made the change 'Set MJD-OBS to 60871.000000 from DATE-OBS.\n",
      "Set DATE-END to '2025-07-15T13:31:27.204' from MJD-END'. [astropy.wcs.wcs]\n"
     ]
    },
    {
     "name": "stdout",
     "output_type": "stream",
     "text": [
      "  Original center (x, y) = (850.8, 661.1)\n",
      "  Winpos center (x, y) = (851.3, 660.7)\n",
      "Data length (Nx, Ny)=(85, 85)\n",
      "  Original center (x, y) = (835.2, 669.6)\n",
      "  Winpos center (x, y) = (835.7, 669.2)\n",
      "Data length (Nx, Ny)=(85, 85)\n",
      "  Original center (x, y) = (845.0, 650.2)\n",
      "  Winpos center (x, y) = (846.6, 650.0)\n",
      "Data length (Nx, Ny)=(85, 85)\n",
      "  Original center (x, y) = (819.3, 665.9)\n",
      "  Winpos center (x, y) = (819.5, 665.8)\n",
      "Data length (Nx, Ny)=(85, 85)\n"
     ]
    },
    {
     "name": "stderr",
     "output_type": "stream",
     "text": [
      "WARNING: FITSFixedWarning: 'datfix' made the change 'Set MJD-OBS to 60871.000000 from DATE-OBS.\n",
      "Set DATE-END to '2025-07-15T13:31:26.797' from MJD-END'. [astropy.wcs.wcs]\n",
      "WARNING: FITSFixedWarning: 'datfix' made the change 'Set MJD-OBS to 60871.000000 from DATE-OBS.\n",
      "Set DATE-END to '2025-07-15T13:31:26.996' from MJD-END'. [astropy.wcs.wcs]\n"
     ]
    },
    {
     "name": "stdout",
     "output_type": "stream",
     "text": [
      "  Original center (x, y) = (803.8, 674.3)\n",
      "  Winpos center (x, y) = (804.0, 674.5)\n",
      "Data length (Nx, Ny)=(85, 85)\n",
      "  Original center (x, y) = (814.8, 655.3)\n",
      "  Winpos center (x, y) = (815.0, 655.5)\n",
      "Data length (Nx, Ny)=(85, 85)\n"
     ]
    },
    {
     "name": "stderr",
     "output_type": "stream",
     "text": [
      "/var/folders/xv/z4qp4sf50z10cwc8tgxysssw0000gn/T/ipykernel_99592/1169616324.py:52: FutureWarning: Setting an item of incompatible dtype is deprecated and will raise an error in a future version of pandas. Value '17.311100006103516' has dtype incompatible with int64, please explicitly cast to a compatible dtype first.\n",
      "  df_star.loc[df_star[\"band\"] == band, \"PSmag\"] = PSmag_band\n",
      "WARNING: FITSFixedWarning: 'datfix' made the change 'Set MJD-OBS to 60871.000000 from DATE-OBS.\n",
      "Set DATE-END to '2025-07-15T13:02:05.404' from MJD-END'. [astropy.wcs.wcs]\n",
      "WARNING: FITSFixedWarning: 'datfix' made the change 'Set MJD-OBS to 60871.000000 from DATE-OBS.\n",
      "Set DATE-END to '2025-07-15T13:02:04.998' from MJD-END'. [astropy.wcs.wcs]\n",
      "WARNING: FITSFixedWarning: 'datfix' made the change 'Set MJD-OBS to 60871.000000 from DATE-OBS.\n",
      "Set DATE-END to '2025-07-15T13:02:05.196' from MJD-END'. [astropy.wcs.wcs]\n",
      "WARNING: FITSFixedWarning: 'datfix' made the change 'Set MJD-OBS to 60871.000000 from DATE-OBS.\n",
      "Set DATE-END to '2025-07-15T13:34:25.602' from MJD-END'. [astropy.wcs.wcs]\n"
     ]
    },
    {
     "name": "stdout",
     "output_type": "stream",
     "text": [
      "  Original center (x, y) = (1386.5, 614.5)\n",
      "  Winpos center (x, y) = (1385.0, 614.6)\n",
      "Data length (Nx, Ny)=(85, 85)\n",
      "  Original center (x, y) = (1371.2, 626.0)\n",
      "  Winpos center (x, y) = (1370.0, 625.9)\n",
      "Data length (Nx, Ny)=(85, 85)\n",
      "  Original center (x, y) = (1382.2, 605.5)\n",
      "  Winpos center (x, y) = (1381.1, 605.5)\n",
      "Data length (Nx, Ny)=(85, 85)\n",
      "  Original center (x, y) = (1353.7, 622.9)\n",
      "  Winpos center (x, y) = (1352.0, 623.2)\n",
      "Data length (Nx, Ny)=(85, 85)\n"
     ]
    },
    {
     "name": "stderr",
     "output_type": "stream",
     "text": [
      "WARNING: FITSFixedWarning: 'datfix' made the change 'Set MJD-OBS to 60871.000000 from DATE-OBS.\n",
      "Set DATE-END to '2025-07-15T13:34:25.101' from MJD-END'. [astropy.wcs.wcs]\n",
      "WARNING: FITSFixedWarning: 'datfix' made the change 'Set MJD-OBS to 60871.000000 from DATE-OBS.\n",
      "Set DATE-END to '2025-07-15T13:34:25.404' from MJD-END'. [astropy.wcs.wcs]\n"
     ]
    },
    {
     "name": "stdout",
     "output_type": "stream",
     "text": [
      "  Original center (x, y) = (1338.6, 634.1)\n",
      "  Winpos center (x, y) = (1337.1, 634.3)\n",
      "Data length (Nx, Ny)=(85, 85)\n",
      "  Original center (x, y) = (1349.7, 613.8)\n",
      "  Winpos center (x, y) = (1348.4, 614.1)\n",
      "Data length (Nx, Ny)=(85, 85)\n"
     ]
    },
    {
     "name": "stderr",
     "output_type": "stream",
     "text": [
      "/var/folders/xv/z4qp4sf50z10cwc8tgxysssw0000gn/T/ipykernel_99592/1169616324.py:32: FutureWarning: Setting an item of incompatible dtype is deprecated and will raise an error in a future version of pandas. Value '17.112199783325195' has dtype incompatible with int64, please explicitly cast to a compatible dtype first.\n",
      "  df_star.loc[df_star[\"band\"] == band, \"PSmag\"] = PSmag_band\n",
      "WARNING: FITSFixedWarning: 'datfix' made the change 'Set MJD-OBS to 60871.000000 from DATE-OBS.\n",
      "Set DATE-END to '2025-07-15T12:59:13.001' from MJD-END'. [astropy.wcs.wcs]\n",
      "WARNING: FITSFixedWarning: 'datfix' made the change 'Set MJD-OBS to 60871.000000 from DATE-OBS.\n",
      "Set DATE-END to '2025-07-15T12:59:12.500' from MJD-END'. [astropy.wcs.wcs]\n",
      "WARNING: FITSFixedWarning: 'datfix' made the change 'Set MJD-OBS to 60871.000000 from DATE-OBS.\n",
      "Set DATE-END to '2025-07-15T12:59:12.803' from MJD-END'. [astropy.wcs.wcs]\n",
      "WARNING: FITSFixedWarning: 'datfix' made the change 'Set MJD-OBS to 60871.000000 from DATE-OBS.\n",
      "Set DATE-END to '2025-07-15T13:31:27.204' from MJD-END'. [astropy.wcs.wcs]\n"
     ]
    },
    {
     "name": "stdout",
     "output_type": "stream",
     "text": [
      "  Original center (x, y) = (1386.5, 613.9)\n",
      "  Winpos center (x, y) = (1385.1, 613.7)\n",
      "Data length (Nx, Ny)=(85, 85)\n",
      "  Original center (x, y) = (1371.2, 625.4)\n",
      "  Winpos center (x, y) = (1370.1, 625.0)\n",
      "Data length (Nx, Ny)=(85, 85)\n",
      "  Original center (x, y) = (1381.7, 604.4)\n",
      "  Winpos center (x, y) = (1381.4, 604.2)\n",
      "Data length (Nx, Ny)=(85, 85)\n",
      "  Original center (x, y) = (1354.8, 618.9)\n",
      "  Winpos center (x, y) = (1353.4, 618.8)\n",
      "Data length (Nx, Ny)=(85, 85)\n",
      "  Original center (x, y) = (1339.7, 630.2)\n",
      "  Winpos center (x, y) = (1338.5, 630.4)\n",
      "Data length (Nx, Ny)=(85, 85)\n"
     ]
    },
    {
     "name": "stderr",
     "output_type": "stream",
     "text": [
      "WARNING: FITSFixedWarning: 'datfix' made the change 'Set MJD-OBS to 60871.000000 from DATE-OBS.\n",
      "Set DATE-END to '2025-07-15T13:31:26.797' from MJD-END'. [astropy.wcs.wcs]\n",
      "WARNING: FITSFixedWarning: 'datfix' made the change 'Set MJD-OBS to 60871.000000 from DATE-OBS.\n",
      "Set DATE-END to '2025-07-15T13:31:26.996' from MJD-END'. [astropy.wcs.wcs]\n"
     ]
    },
    {
     "name": "stdout",
     "output_type": "stream",
     "text": [
      "  Original center (x, y) = (1351.1, 609.4)\n",
      "  Winpos center (x, y) = (1350.0, 609.8)\n",
      "Data length (Nx, Ny)=(85, 85)\n"
     ]
    },
    {
     "name": "stderr",
     "output_type": "stream",
     "text": [
      "/var/folders/xv/z4qp4sf50z10cwc8tgxysssw0000gn/T/ipykernel_99592/1169616324.py:52: FutureWarning: Setting an item of incompatible dtype is deprecated and will raise an error in a future version of pandas. Value '17.112199783325195' has dtype incompatible with int64, please explicitly cast to a compatible dtype first.\n",
      "  df_star.loc[df_star[\"band\"] == band, \"PSmag\"] = PSmag_band\n",
      "WARNING: FITSFixedWarning: 'datfix' made the change 'Set MJD-OBS to 60871.000000 from DATE-OBS.\n",
      "Set DATE-END to '2025-07-15T13:02:05.404' from MJD-END'. [astropy.wcs.wcs]\n",
      "WARNING: FITSFixedWarning: 'datfix' made the change 'Set MJD-OBS to 60871.000000 from DATE-OBS.\n",
      "Set DATE-END to '2025-07-15T13:02:04.998' from MJD-END'. [astropy.wcs.wcs]\n",
      "WARNING: FITSFixedWarning: 'datfix' made the change 'Set MJD-OBS to 60871.000000 from DATE-OBS.\n",
      "Set DATE-END to '2025-07-15T13:02:05.196' from MJD-END'. [astropy.wcs.wcs]\n",
      "WARNING: FITSFixedWarning: 'datfix' made the change 'Set MJD-OBS to 60871.000000 from DATE-OBS.\n",
      "Set DATE-END to '2025-07-15T13:34:25.602' from MJD-END'. [astropy.wcs.wcs]\n"
     ]
    },
    {
     "name": "stdout",
     "output_type": "stream",
     "text": [
      "  Original center (x, y) = (1265.4, 748.5)\n",
      "  Winpos center (x, y) = (1264.3, 748.2)\n",
      "Data length (Nx, Ny)=(85, 85)\n",
      "  Original center (x, y) = (1249.4, 759.3)\n",
      "  Winpos center (x, y) = (1248.4, 758.9)\n",
      "Data length (Nx, Ny)=(85, 85)\n",
      "  Original center (x, y) = (1260.7, 739.3)\n",
      "  Winpos center (x, y) = (1259.9, 739.0)\n",
      "Data length (Nx, Ny)=(85, 85)\n",
      "  Original center (x, y) = (1232.7, 756.8)\n",
      "  Winpos center (x, y) = (1231.3, 756.7)\n",
      "Data length (Nx, Ny)=(85, 85)\n"
     ]
    },
    {
     "name": "stderr",
     "output_type": "stream",
     "text": [
      "WARNING: FITSFixedWarning: 'datfix' made the change 'Set MJD-OBS to 60871.000000 from DATE-OBS.\n",
      "Set DATE-END to '2025-07-15T13:34:25.101' from MJD-END'. [astropy.wcs.wcs]\n",
      "WARNING: FITSFixedWarning: 'datfix' made the change 'Set MJD-OBS to 60871.000000 from DATE-OBS.\n",
      "Set DATE-END to '2025-07-15T13:34:25.404' from MJD-END'. [astropy.wcs.wcs]\n"
     ]
    },
    {
     "name": "stdout",
     "output_type": "stream",
     "text": [
      "  Original center (x, y) = (1216.8, 767.4)\n",
      "  Winpos center (x, y) = (1215.6, 767.2)\n",
      "Data length (Nx, Ny)=(85, 85)\n",
      "  Original center (x, y) = (1228.3, 747.5)\n",
      "  Winpos center (x, y) = (1227.3, 747.4)\n",
      "Data length (Nx, Ny)=(85, 85)\n"
     ]
    },
    {
     "name": "stderr",
     "output_type": "stream",
     "text": [
      "/var/folders/xv/z4qp4sf50z10cwc8tgxysssw0000gn/T/ipykernel_99592/1169616324.py:32: FutureWarning: Setting an item of incompatible dtype is deprecated and will raise an error in a future version of pandas. Value '17.002399444580078' has dtype incompatible with int64, please explicitly cast to a compatible dtype first.\n",
      "  df_star.loc[df_star[\"band\"] == band, \"PSmag\"] = PSmag_band\n",
      "WARNING: FITSFixedWarning: 'datfix' made the change 'Set MJD-OBS to 60871.000000 from DATE-OBS.\n",
      "Set DATE-END to '2025-07-15T12:59:13.001' from MJD-END'. [astropy.wcs.wcs]\n",
      "WARNING: FITSFixedWarning: 'datfix' made the change 'Set MJD-OBS to 60871.000000 from DATE-OBS.\n",
      "Set DATE-END to '2025-07-15T12:59:12.500' from MJD-END'. [astropy.wcs.wcs]\n",
      "WARNING: FITSFixedWarning: 'datfix' made the change 'Set MJD-OBS to 60871.000000 from DATE-OBS.\n",
      "Set DATE-END to '2025-07-15T12:59:12.803' from MJD-END'. [astropy.wcs.wcs]\n",
      "WARNING: FITSFixedWarning: 'datfix' made the change 'Set MJD-OBS to 60871.000000 from DATE-OBS.\n",
      "Set DATE-END to '2025-07-15T13:31:27.204' from MJD-END'. [astropy.wcs.wcs]\n"
     ]
    },
    {
     "name": "stdout",
     "output_type": "stream",
     "text": [
      "  Original center (x, y) = (1265.4, 747.9)\n",
      "  Winpos center (x, y) = (1264.5, 747.2)\n",
      "Data length (Nx, Ny)=(85, 85)\n",
      "  Original center (x, y) = (1249.4, 758.8)\n",
      "  Winpos center (x, y) = (1248.6, 758.0)\n",
      "Data length (Nx, Ny)=(85, 85)\n",
      "  Original center (x, y) = (1260.1, 738.3)\n",
      "  Winpos center (x, y) = (1260.2, 737.7)\n",
      "Data length (Nx, Ny)=(85, 85)\n",
      "  Original center (x, y) = (1233.7, 752.8)\n",
      "  Winpos center (x, y) = (1232.6, 752.4)\n",
      "Data length (Nx, Ny)=(85, 85)\n"
     ]
    },
    {
     "name": "stderr",
     "output_type": "stream",
     "text": [
      "WARNING: FITSFixedWarning: 'datfix' made the change 'Set MJD-OBS to 60871.000000 from DATE-OBS.\n",
      "Set DATE-END to '2025-07-15T13:31:26.797' from MJD-END'. [astropy.wcs.wcs]\n",
      "WARNING: FITSFixedWarning: 'datfix' made the change 'Set MJD-OBS to 60871.000000 from DATE-OBS.\n",
      "Set DATE-END to '2025-07-15T13:31:26.996' from MJD-END'. [astropy.wcs.wcs]\n"
     ]
    },
    {
     "name": "stdout",
     "output_type": "stream",
     "text": [
      "  Original center (x, y) = (1217.9, 763.5)\n",
      "  Winpos center (x, y) = (1216.9, 763.4)\n",
      "Data length (Nx, Ny)=(85, 85)\n",
      "  Original center (x, y) = (1229.6, 743.2)\n",
      "  Winpos center (x, y) = (1228.8, 743.3)\n",
      "Data length (Nx, Ny)=(85, 85)\n"
     ]
    },
    {
     "name": "stderr",
     "output_type": "stream",
     "text": [
      "/var/folders/xv/z4qp4sf50z10cwc8tgxysssw0000gn/T/ipykernel_99592/1169616324.py:52: FutureWarning: Setting an item of incompatible dtype is deprecated and will raise an error in a future version of pandas. Value '17.002399444580078' has dtype incompatible with int64, please explicitly cast to a compatible dtype first.\n",
      "  df_star.loc[df_star[\"band\"] == band, \"PSmag\"] = PSmag_band\n",
      "WARNING: FITSFixedWarning: 'datfix' made the change 'Set MJD-OBS to 60871.000000 from DATE-OBS.\n",
      "Set DATE-END to '2025-07-15T13:02:05.404' from MJD-END'. [astropy.wcs.wcs]\n",
      "WARNING: FITSFixedWarning: 'datfix' made the change 'Set MJD-OBS to 60871.000000 from DATE-OBS.\n",
      "Set DATE-END to '2025-07-15T13:02:04.998' from MJD-END'. [astropy.wcs.wcs]\n",
      "WARNING: FITSFixedWarning: 'datfix' made the change 'Set MJD-OBS to 60871.000000 from DATE-OBS.\n",
      "Set DATE-END to '2025-07-15T13:02:05.196' from MJD-END'. [astropy.wcs.wcs]\n",
      "WARNING: FITSFixedWarning: 'datfix' made the change 'Set MJD-OBS to 60871.000000 from DATE-OBS.\n",
      "Set DATE-END to '2025-07-15T13:34:25.602' from MJD-END'. [astropy.wcs.wcs]\n"
     ]
    },
    {
     "name": "stdout",
     "output_type": "stream",
     "text": [
      "  Original center (x, y) = (1389.2, 965.0)\n",
      "  Winpos center (x, y) = (1387.5, 964.1)\n",
      "Data length (Nx, Ny)=(85, 85)\n",
      "  Original center (x, y) = (1372.0, 976.5)\n",
      "  Winpos center (x, y) = (1370.6, 975.7)\n",
      "Data length (Nx, Ny)=(85, 85)\n",
      "  Original center (x, y) = (1384.0, 956.1)\n",
      "  Winpos center (x, y) = (1382.7, 955.4)\n",
      "Data length (Nx, Ny)=(85, 85)\n",
      "  Original center (x, y) = (1356.4, 973.1)\n",
      "  Winpos center (x, y) = (1354.5, 972.6)\n",
      "Data length (Nx, Ny)=(85, 85)\n"
     ]
    },
    {
     "name": "stderr",
     "output_type": "stream",
     "text": [
      "WARNING: FITSFixedWarning: 'datfix' made the change 'Set MJD-OBS to 60871.000000 from DATE-OBS.\n",
      "Set DATE-END to '2025-07-15T13:34:25.101' from MJD-END'. [astropy.wcs.wcs]\n",
      "WARNING: FITSFixedWarning: 'datfix' made the change 'Set MJD-OBS to 60871.000000 from DATE-OBS.\n",
      "Set DATE-END to '2025-07-15T13:34:25.404' from MJD-END'. [astropy.wcs.wcs]\n"
     ]
    },
    {
     "name": "stdout",
     "output_type": "stream",
     "text": [
      "  Original center (x, y) = (1339.3, 984.4)\n",
      "  Winpos center (x, y) = (1337.7, 984.0)\n",
      "Data length (Nx, Ny)=(85, 85)\n",
      "  Original center (x, y) = (1351.5, 964.3)\n",
      "  Winpos center (x, y) = (1350.0, 963.9)\n",
      "Data length (Nx, Ny)=(85, 85)\n"
     ]
    },
    {
     "name": "stderr",
     "output_type": "stream",
     "text": [
      "/var/folders/xv/z4qp4sf50z10cwc8tgxysssw0000gn/T/ipykernel_99592/1169616324.py:32: FutureWarning: Setting an item of incompatible dtype is deprecated and will raise an error in a future version of pandas. Value '16.690500259399414' has dtype incompatible with int64, please explicitly cast to a compatible dtype first.\n",
      "  df_star.loc[df_star[\"band\"] == band, \"PSmag\"] = PSmag_band\n",
      "WARNING: FITSFixedWarning: 'datfix' made the change 'Set MJD-OBS to 60871.000000 from DATE-OBS.\n",
      "Set DATE-END to '2025-07-15T12:59:13.001' from MJD-END'. [astropy.wcs.wcs]\n",
      "WARNING: FITSFixedWarning: 'datfix' made the change 'Set MJD-OBS to 60871.000000 from DATE-OBS.\n",
      "Set DATE-END to '2025-07-15T12:59:12.500' from MJD-END'. [astropy.wcs.wcs]\n",
      "WARNING: FITSFixedWarning: 'datfix' made the change 'Set MJD-OBS to 60871.000000 from DATE-OBS.\n",
      "Set DATE-END to '2025-07-15T12:59:12.803' from MJD-END'. [astropy.wcs.wcs]\n",
      "WARNING: FITSFixedWarning: 'datfix' made the change 'Set MJD-OBS to 60871.000000 from DATE-OBS.\n",
      "Set DATE-END to '2025-07-15T13:31:27.204' from MJD-END'. [astropy.wcs.wcs]\n"
     ]
    },
    {
     "name": "stdout",
     "output_type": "stream",
     "text": [
      "  Original center (x, y) = (1389.2, 964.4)\n",
      "  Winpos center (x, y) = (1387.7, 963.1)\n",
      "Data length (Nx, Ny)=(85, 85)\n",
      "  Original center (x, y) = (1372.0, 975.9)\n",
      "  Winpos center (x, y) = (1370.8, 974.7)\n",
      "Data length (Nx, Ny)=(85, 85)\n",
      "  Original center (x, y) = (1383.5, 955.4)\n",
      "  Winpos center (x, y) = (1383.0, 954.2)\n",
      "Data length (Nx, Ny)=(85, 85)\n",
      "  Original center (x, y) = (1357.4, 969.2)\n",
      "  Winpos center (x, y) = (1355.9, 968.3)\n",
      "Data length (Nx, Ny)=(85, 85)\n",
      "  Original center (x, y) = (1340.5, 980.6)\n"
     ]
    },
    {
     "name": "stderr",
     "output_type": "stream",
     "text": [
      "WARNING: FITSFixedWarning: 'datfix' made the change 'Set MJD-OBS to 60871.000000 from DATE-OBS.\n",
      "Set DATE-END to '2025-07-15T13:31:26.797' from MJD-END'. [astropy.wcs.wcs]\n",
      "WARNING: FITSFixedWarning: 'datfix' made the change 'Set MJD-OBS to 60871.000000 from DATE-OBS.\n",
      "Set DATE-END to '2025-07-15T13:31:26.996' from MJD-END'. [astropy.wcs.wcs]\n"
     ]
    },
    {
     "name": "stdout",
     "output_type": "stream",
     "text": [
      "  Winpos center (x, y) = (1339.1, 980.2)\n",
      "Data length (Nx, Ny)=(85, 85)\n",
      "  Original center (x, y) = (1352.9, 960.2)\n",
      "  Winpos center (x, y) = (1351.6, 959.9)\n",
      "Data length (Nx, Ny)=(85, 85)\n"
     ]
    },
    {
     "name": "stderr",
     "output_type": "stream",
     "text": [
      "/var/folders/xv/z4qp4sf50z10cwc8tgxysssw0000gn/T/ipykernel_99592/1169616324.py:52: FutureWarning: Setting an item of incompatible dtype is deprecated and will raise an error in a future version of pandas. Value '16.690500259399414' has dtype incompatible with int64, please explicitly cast to a compatible dtype first.\n",
      "  df_star.loc[df_star[\"band\"] == band, \"PSmag\"] = PSmag_band\n",
      "WARNING: FITSFixedWarning: 'datfix' made the change 'Set MJD-OBS to 60871.000000 from DATE-OBS.\n",
      "Set DATE-END to '2025-07-15T13:02:05.404' from MJD-END'. [astropy.wcs.wcs]\n",
      "WARNING: FITSFixedWarning: 'datfix' made the change 'Set MJD-OBS to 60871.000000 from DATE-OBS.\n",
      "Set DATE-END to '2025-07-15T13:02:04.998' from MJD-END'. [astropy.wcs.wcs]\n",
      "WARNING: FITSFixedWarning: 'datfix' made the change 'Set MJD-OBS to 60871.000000 from DATE-OBS.\n",
      "Set DATE-END to '2025-07-15T13:02:05.196' from MJD-END'. [astropy.wcs.wcs]\n",
      "WARNING: FITSFixedWarning: 'datfix' made the change 'Set MJD-OBS to 60871.000000 from DATE-OBS.\n",
      "Set DATE-END to '2025-07-15T13:34:25.602' from MJD-END'. [astropy.wcs.wcs]\n",
      "WARNING: FITSFixedWarning: 'datfix' made the change 'Set MJD-OBS to 60871.000000 from DATE-OBS.\n",
      "Set DATE-END to '2025-07-15T13:34:25.101' from MJD-END'. [astropy.wcs.wcs]\n"
     ]
    },
    {
     "name": "stdout",
     "output_type": "stream",
     "text": [
      "  Original center (x, y) = (1467.3, 745.1)\n",
      "  Winpos center (x, y) = (1465.5, 745.1)\n",
      "Data length (Nx, Ny)=(85, 85)\n",
      "  Original center (x, y) = (1451.4, 757.0)\n",
      "  Winpos center (x, y) = (1449.7, 756.9)\n",
      "Data length (Nx, Ny)=(85, 85)\n",
      "  Original center (x, y) = (1462.8, 736.3)\n",
      "  Winpos center (x, y) = (1461.3, 736.2)\n",
      "Data length (Nx, Ny)=(85, 85)\n",
      "  Original center (x, y) = (1434.5, 753.4)\n",
      "  Winpos center (x, y) = (1432.4, 753.7)\n",
      "Data length (Nx, Ny)=(85, 85)\n",
      "  Original center (x, y) = (1418.7, 765.1)\n",
      "  Winpos center (x, y) = (1416.8, 765.1)\n",
      "Data length (Nx, Ny)=(85, 85)\n"
     ]
    },
    {
     "name": "stderr",
     "output_type": "stream",
     "text": [
      "WARNING: FITSFixedWarning: 'datfix' made the change 'Set MJD-OBS to 60871.000000 from DATE-OBS.\n",
      "Set DATE-END to '2025-07-15T13:34:25.404' from MJD-END'. [astropy.wcs.wcs]\n"
     ]
    },
    {
     "name": "stdout",
     "output_type": "stream",
     "text": [
      "  Original center (x, y) = (1430.2, 744.6)\n",
      "  Winpos center (x, y) = (1428.6, 744.7)\n",
      "Data length (Nx, Ny)=(85, 85)\n"
     ]
    },
    {
     "name": "stderr",
     "output_type": "stream",
     "text": [
      "/var/folders/xv/z4qp4sf50z10cwc8tgxysssw0000gn/T/ipykernel_99592/1169616324.py:32: FutureWarning: Setting an item of incompatible dtype is deprecated and will raise an error in a future version of pandas. Value '17.264999389648438' has dtype incompatible with int64, please explicitly cast to a compatible dtype first.\n",
      "  df_star.loc[df_star[\"band\"] == band, \"PSmag\"] = PSmag_band\n",
      "WARNING: FITSFixedWarning: 'datfix' made the change 'Set MJD-OBS to 60871.000000 from DATE-OBS.\n",
      "Set DATE-END to '2025-07-15T12:59:13.001' from MJD-END'. [astropy.wcs.wcs]\n",
      "WARNING: FITSFixedWarning: 'datfix' made the change 'Set MJD-OBS to 60871.000000 from DATE-OBS.\n",
      "Set DATE-END to '2025-07-15T12:59:12.500' from MJD-END'. [astropy.wcs.wcs]\n",
      "WARNING: FITSFixedWarning: 'datfix' made the change 'Set MJD-OBS to 60871.000000 from DATE-OBS.\n",
      "Set DATE-END to '2025-07-15T12:59:12.803' from MJD-END'. [astropy.wcs.wcs]\n",
      "WARNING: FITSFixedWarning: 'datfix' made the change 'Set MJD-OBS to 60871.000000 from DATE-OBS.\n",
      "Set DATE-END to '2025-07-15T13:31:27.204' from MJD-END'. [astropy.wcs.wcs]\n"
     ]
    },
    {
     "name": "stdout",
     "output_type": "stream",
     "text": [
      "  Original center (x, y) = (1467.3, 744.5)\n",
      "  Winpos center (x, y) = (1465.7, 744.1)\n",
      "Data length (Nx, Ny)=(85, 85)\n",
      "  Original center (x, y) = (1451.4, 756.4)\n",
      "  Winpos center (x, y) = (1449.9, 755.9)\n",
      "Data length (Nx, Ny)=(85, 85)\n",
      "  Original center (x, y) = (1462.4, 735.4)\n",
      "  Winpos center (x, y) = (1461.6, 735.0)\n",
      "Data length (Nx, Ny)=(85, 85)\n",
      "  Original center (x, y) = (1435.6, 749.4)\n",
      "  Winpos center (x, y) = (1433.8, 749.3)\n",
      "Data length (Nx, Ny)=(85, 85)\n"
     ]
    },
    {
     "name": "stderr",
     "output_type": "stream",
     "text": [
      "WARNING: FITSFixedWarning: 'datfix' made the change 'Set MJD-OBS to 60871.000000 from DATE-OBS.\n",
      "Set DATE-END to '2025-07-15T13:31:26.797' from MJD-END'. [astropy.wcs.wcs]\n",
      "WARNING: FITSFixedWarning: 'datfix' made the change 'Set MJD-OBS to 60871.000000 from DATE-OBS.\n",
      "Set DATE-END to '2025-07-15T13:31:26.996' from MJD-END'. [astropy.wcs.wcs]\n"
     ]
    },
    {
     "name": "stdout",
     "output_type": "stream",
     "text": [
      "  Original center (x, y) = (1419.8, 761.2)\n",
      "  Winpos center (x, y) = (1418.2, 761.3)\n",
      "Data length (Nx, Ny)=(85, 85)\n",
      "  Original center (x, y) = (1431.7, 740.3)\n",
      "  Winpos center (x, y) = (1430.2, 740.6)\n",
      "Data length (Nx, Ny)=(85, 85)\n"
     ]
    },
    {
     "name": "stderr",
     "output_type": "stream",
     "text": [
      "/var/folders/xv/z4qp4sf50z10cwc8tgxysssw0000gn/T/ipykernel_99592/1169616324.py:52: FutureWarning: Setting an item of incompatible dtype is deprecated and will raise an error in a future version of pandas. Value '17.264999389648438' has dtype incompatible with int64, please explicitly cast to a compatible dtype first.\n",
      "  df_star.loc[df_star[\"band\"] == band, \"PSmag\"] = PSmag_band\n",
      "WARNING: FITSFixedWarning: 'datfix' made the change 'Set MJD-OBS to 60871.000000 from DATE-OBS.\n",
      "Set DATE-END to '2025-07-15T13:02:05.404' from MJD-END'. [astropy.wcs.wcs]\n",
      "WARNING: FITSFixedWarning: 'datfix' made the change 'Set MJD-OBS to 60871.000000 from DATE-OBS.\n",
      "Set DATE-END to '2025-07-15T13:02:04.998' from MJD-END'. [astropy.wcs.wcs]\n",
      "WARNING: FITSFixedWarning: 'datfix' made the change 'Set MJD-OBS to 60871.000000 from DATE-OBS.\n",
      "Set DATE-END to '2025-07-15T13:02:05.196' from MJD-END'. [astropy.wcs.wcs]\n",
      "WARNING: FITSFixedWarning: 'datfix' made the change 'Set MJD-OBS to 60871.000000 from DATE-OBS.\n",
      "Set DATE-END to '2025-07-15T13:34:25.602' from MJD-END'. [astropy.wcs.wcs]\n",
      "WARNING: FITSFixedWarning: 'datfix' made the change 'Set MJD-OBS to 60871.000000 from DATE-OBS.\n",
      "Set DATE-END to '2025-07-15T13:34:25.101' from MJD-END'. [astropy.wcs.wcs]\n"
     ]
    },
    {
     "name": "stdout",
     "output_type": "stream",
     "text": [
      "  Original center (x, y) = (1755.0, 935.9)\n",
      "  Winpos center (x, y) = (1754.4, 935.8)\n",
      "Data length (Nx, Ny)=(85, 85)\n",
      "  Original center (x, y) = (1738.1, 949.4)\n",
      "  Winpos center (x, y) = (1737.7, 949.3)\n",
      "Data length (Nx, Ny)=(85, 85)\n",
      "  Original center (x, y) = (1750.1, 927.9)\n",
      "  Winpos center (x, y) = (1749.6, 927.7)\n",
      "Data length (Nx, Ny)=(85, 85)\n",
      "  Original center (x, y) = (1722.0, 944.1)\n",
      "  Winpos center (x, y) = (1721.1, 944.4)\n",
      "Data length (Nx, Ny)=(85, 85)\n",
      "  Original center (x, y) = (1705.2, 957.4)\n",
      "  Winpos center (x, y) = (1704.5, 957.6)\n",
      "Data length (Nx, Ny)=(85, 85)\n",
      "  Original center (x, y) = (1717.4, 936.1)\n",
      "  Winpos center (x, y) = (1716.7, 936.3)\n",
      "Data length (Nx, Ny)=(85, 85)\n"
     ]
    },
    {
     "name": "stderr",
     "output_type": "stream",
     "text": [
      "WARNING: FITSFixedWarning: 'datfix' made the change 'Set MJD-OBS to 60871.000000 from DATE-OBS.\n",
      "Set DATE-END to '2025-07-15T13:34:25.404' from MJD-END'. [astropy.wcs.wcs]\n",
      "/var/folders/xv/z4qp4sf50z10cwc8tgxysssw0000gn/T/ipykernel_99592/1169616324.py:32: FutureWarning: Setting an item of incompatible dtype is deprecated and will raise an error in a future version of pandas. Value '16.198299407958984' has dtype incompatible with int64, please explicitly cast to a compatible dtype first.\n",
      "  df_star.loc[df_star[\"band\"] == band, \"PSmag\"] = PSmag_band\n",
      "WARNING: FITSFixedWarning: 'datfix' made the change 'Set MJD-OBS to 60871.000000 from DATE-OBS.\n",
      "Set DATE-END to '2025-07-15T12:59:13.001' from MJD-END'. [astropy.wcs.wcs]\n",
      "WARNING: FITSFixedWarning: 'datfix' made the change 'Set MJD-OBS to 60871.000000 from DATE-OBS.\n",
      "Set DATE-END to '2025-07-15T12:59:12.500' from MJD-END'. [astropy.wcs.wcs]\n",
      "WARNING: FITSFixedWarning: 'datfix' made the change 'Set MJD-OBS to 60871.000000 from DATE-OBS.\n",
      "Set DATE-END to '2025-07-15T12:59:12.803' from MJD-END'. [astropy.wcs.wcs]\n",
      "WARNING: FITSFixedWarning: 'datfix' made the change 'Set MJD-OBS to 60871.000000 from DATE-OBS.\n",
      "Set DATE-END to '2025-07-15T13:31:27.204' from MJD-END'. [astropy.wcs.wcs]\n"
     ]
    },
    {
     "name": "stdout",
     "output_type": "stream",
     "text": [
      "  Original center (x, y) = (1755.0, 935.3)\n",
      "  Winpos center (x, y) = (1754.5, 934.9)\n",
      "Data length (Nx, Ny)=(85, 85)\n",
      "  Original center (x, y) = (1738.1, 948.9)\n",
      "  Winpos center (x, y) = (1737.8, 948.3)\n",
      "Data length (Nx, Ny)=(85, 85)\n",
      "  Original center (x, y) = (1750.0, 927.2)\n",
      "  Winpos center (x, y) = (1750.0, 926.5)\n",
      "Data length (Nx, Ny)=(85, 85)\n",
      "  Original center (x, y) = (1723.1, 940.2)\n",
      "  Winpos center (x, y) = (1722.6, 940.0)\n",
      "Data length (Nx, Ny)=(85, 85)\n"
     ]
    },
    {
     "name": "stderr",
     "output_type": "stream",
     "text": [
      "WARNING: FITSFixedWarning: 'datfix' made the change 'Set MJD-OBS to 60871.000000 from DATE-OBS.\n",
      "Set DATE-END to '2025-07-15T13:31:26.797' from MJD-END'. [astropy.wcs.wcs]\n",
      "WARNING: FITSFixedWarning: 'datfix' made the change 'Set MJD-OBS to 60871.000000 from DATE-OBS.\n",
      "Set DATE-END to '2025-07-15T13:31:26.996' from MJD-END'. [astropy.wcs.wcs]\n"
     ]
    },
    {
     "name": "stdout",
     "output_type": "stream",
     "text": [
      "  Original center (x, y) = (1706.5, 953.6)\n",
      "  Winpos center (x, y) = (1706.1, 953.8)\n",
      "Data length (Nx, Ny)=(85, 85)\n",
      "  Original center (x, y) = (1719.1, 932.0)\n",
      "  Winpos center (x, y) = (1718.5, 932.2)\n",
      "Data length (Nx, Ny)=(85, 85)\n"
     ]
    },
    {
     "name": "stderr",
     "output_type": "stream",
     "text": [
      "/var/folders/xv/z4qp4sf50z10cwc8tgxysssw0000gn/T/ipykernel_99592/1169616324.py:52: FutureWarning: Setting an item of incompatible dtype is deprecated and will raise an error in a future version of pandas. Value '16.198299407958984' has dtype incompatible with int64, please explicitly cast to a compatible dtype first.\n",
      "  df_star.loc[df_star[\"band\"] == band, \"PSmag\"] = PSmag_band\n",
      "WARNING: FITSFixedWarning: 'datfix' made the change 'Set MJD-OBS to 60871.000000 from DATE-OBS.\n",
      "Set DATE-END to '2025-07-15T13:02:05.404' from MJD-END'. [astropy.wcs.wcs]\n",
      "WARNING: FITSFixedWarning: 'datfix' made the change 'Set MJD-OBS to 60871.000000 from DATE-OBS.\n",
      "Set DATE-END to '2025-07-15T13:02:04.998' from MJD-END'. [astropy.wcs.wcs]\n",
      "WARNING: FITSFixedWarning: 'datfix' made the change 'Set MJD-OBS to 60871.000000 from DATE-OBS.\n",
      "Set DATE-END to '2025-07-15T13:02:05.196' from MJD-END'. [astropy.wcs.wcs]\n",
      "WARNING: FITSFixedWarning: 'datfix' made the change 'Set MJD-OBS to 60871.000000 from DATE-OBS.\n",
      "Set DATE-END to '2025-07-15T13:34:25.602' from MJD-END'. [astropy.wcs.wcs]\n"
     ]
    },
    {
     "name": "stdout",
     "output_type": "stream",
     "text": [
      "  Original center (x, y) = (1722.0, 840.6)\n",
      "  Winpos center (x, y) = (1721.3, 840.6)\n",
      "Data length (Nx, Ny)=(85, 85)\n",
      "  Original center (x, y) = (1705.6, 853.9)\n",
      "  Winpos center (x, y) = (1705.2, 853.9)\n",
      "Data length (Nx, Ny)=(85, 85)\n",
      "  Original center (x, y) = (1717.3, 832.5)\n",
      "  Winpos center (x, y) = (1716.9, 832.5)\n",
      "Data length (Nx, Ny)=(85, 85)\n",
      "  Original center (x, y) = (1689.0, 848.9)\n",
      "  Winpos center (x, y) = (1688.1, 849.2)\n",
      "Data length (Nx, Ny)=(85, 85)\n"
     ]
    },
    {
     "name": "stderr",
     "output_type": "stream",
     "text": [
      "WARNING: FITSFixedWarning: 'datfix' made the change 'Set MJD-OBS to 60871.000000 from DATE-OBS.\n",
      "Set DATE-END to '2025-07-15T13:34:25.101' from MJD-END'. [astropy.wcs.wcs]\n",
      "WARNING: FITSFixedWarning: 'datfix' made the change 'Set MJD-OBS to 60871.000000 from DATE-OBS.\n",
      "Set DATE-END to '2025-07-15T13:34:25.404' from MJD-END'. [astropy.wcs.wcs]\n"
     ]
    },
    {
     "name": "stdout",
     "output_type": "stream",
     "text": [
      "  Original center (x, y) = (1672.8, 862.0)\n",
      "  Winpos center (x, y) = (1672.0, 862.2)\n",
      "Data length (Nx, Ny)=(85, 85)\n",
      "  Original center (x, y) = (1684.7, 840.8)\n",
      "  Winpos center (x, y) = (1684.0, 840.9)\n",
      "Data length (Nx, Ny)=(85, 85)\n"
     ]
    },
    {
     "name": "stderr",
     "output_type": "stream",
     "text": [
      "/var/folders/xv/z4qp4sf50z10cwc8tgxysssw0000gn/T/ipykernel_99592/1169616324.py:32: FutureWarning: Setting an item of incompatible dtype is deprecated and will raise an error in a future version of pandas. Value '16.094900131225586' has dtype incompatible with int64, please explicitly cast to a compatible dtype first.\n",
      "  df_star.loc[df_star[\"band\"] == band, \"PSmag\"] = PSmag_band\n",
      "WARNING: FITSFixedWarning: 'datfix' made the change 'Set MJD-OBS to 60871.000000 from DATE-OBS.\n",
      "Set DATE-END to '2025-07-15T12:59:13.001' from MJD-END'. [astropy.wcs.wcs]\n",
      "WARNING: FITSFixedWarning: 'datfix' made the change 'Set MJD-OBS to 60871.000000 from DATE-OBS.\n",
      "Set DATE-END to '2025-07-15T12:59:12.500' from MJD-END'. [astropy.wcs.wcs]\n",
      "WARNING: FITSFixedWarning: 'datfix' made the change 'Set MJD-OBS to 60871.000000 from DATE-OBS.\n",
      "Set DATE-END to '2025-07-15T12:59:12.803' from MJD-END'. [astropy.wcs.wcs]\n",
      "WARNING: FITSFixedWarning: 'datfix' made the change 'Set MJD-OBS to 60871.000000 from DATE-OBS.\n",
      "Set DATE-END to '2025-07-15T13:31:27.204' from MJD-END'. [astropy.wcs.wcs]\n"
     ]
    },
    {
     "name": "stdout",
     "output_type": "stream",
     "text": [
      "  Original center (x, y) = (1722.0, 840.0)\n",
      "  Winpos center (x, y) = (1721.5, 839.6)\n",
      "Data length (Nx, Ny)=(85, 85)\n",
      "  Original center (x, y) = (1705.6, 853.4)\n",
      "  Winpos center (x, y) = (1705.3, 852.9)\n",
      "Data length (Nx, Ny)=(85, 85)\n",
      "  Original center (x, y) = (1717.2, 831.7)\n",
      "  Winpos center (x, y) = (1717.3, 831.2)\n",
      "Data length (Nx, Ny)=(85, 85)\n",
      "  Original center (x, y) = (1690.2, 845.0)\n",
      "  Winpos center (x, y) = (1689.6, 844.9)\n",
      "Data length (Nx, Ny)=(85, 85)\n",
      "  Original center (x, y) = (1674.0, 858.1)\n",
      "  Winpos center (x, y) = (1673.5, 858.4)\n",
      "Data length (Nx, Ny)=(85, 85)\n"
     ]
    },
    {
     "name": "stderr",
     "output_type": "stream",
     "text": [
      "WARNING: FITSFixedWarning: 'datfix' made the change 'Set MJD-OBS to 60871.000000 from DATE-OBS.\n",
      "Set DATE-END to '2025-07-15T13:31:26.797' from MJD-END'. [astropy.wcs.wcs]\n",
      "WARNING: FITSFixedWarning: 'datfix' made the change 'Set MJD-OBS to 60871.000000 from DATE-OBS.\n",
      "Set DATE-END to '2025-07-15T13:31:26.996' from MJD-END'. [astropy.wcs.wcs]\n"
     ]
    },
    {
     "name": "stdout",
     "output_type": "stream",
     "text": [
      "  Original center (x, y) = (1686.3, 836.6)\n",
      "  Winpos center (x, y) = (1685.8, 836.9)\n",
      "Data length (Nx, Ny)=(85, 85)\n"
     ]
    },
    {
     "name": "stderr",
     "output_type": "stream",
     "text": [
      "/var/folders/xv/z4qp4sf50z10cwc8tgxysssw0000gn/T/ipykernel_99592/1169616324.py:52: FutureWarning: Setting an item of incompatible dtype is deprecated and will raise an error in a future version of pandas. Value '16.094900131225586' has dtype incompatible with int64, please explicitly cast to a compatible dtype first.\n",
      "  df_star.loc[df_star[\"band\"] == band, \"PSmag\"] = PSmag_band\n",
      "WARNING: FITSFixedWarning: 'datfix' made the change 'Set MJD-OBS to 60871.000000 from DATE-OBS.\n",
      "Set DATE-END to '2025-07-15T13:02:05.404' from MJD-END'. [astropy.wcs.wcs]\n",
      "WARNING: FITSFixedWarning: 'datfix' made the change 'Set MJD-OBS to 60871.000000 from DATE-OBS.\n",
      "Set DATE-END to '2025-07-15T13:02:04.998' from MJD-END'. [astropy.wcs.wcs]\n",
      "WARNING: FITSFixedWarning: 'datfix' made the change 'Set MJD-OBS to 60871.000000 from DATE-OBS.\n",
      "Set DATE-END to '2025-07-15T13:02:05.196' from MJD-END'. [astropy.wcs.wcs]\n",
      "WARNING: FITSFixedWarning: 'datfix' made the change 'Set MJD-OBS to 60871.000000 from DATE-OBS.\n",
      "Set DATE-END to '2025-07-15T13:34:25.602' from MJD-END'. [astropy.wcs.wcs]\n",
      "WARNING: FITSFixedWarning: 'datfix' made the change 'Set MJD-OBS to 60871.000000 from DATE-OBS.\n",
      "Set DATE-END to '2025-07-15T13:34:25.101' from MJD-END'. [astropy.wcs.wcs]\n"
     ]
    },
    {
     "name": "stdout",
     "output_type": "stream",
     "text": [
      "  Original center (x, y) = (1507.0, 1008.7)\n",
      "  Winpos center (x, y) = (1505.7, 1007.9)\n",
      "Data length (Nx, Ny)=(85, 85)\n",
      "  Original center (x, y) = (1489.6, 1020.8)\n",
      "  Winpos center (x, y) = (1488.6, 1020.1)\n",
      "Data length (Nx, Ny)=(85, 85)\n",
      "  Original center (x, y) = (1501.8, 1000.1)\n",
      "  Winpos center (x, y) = (1500.9, 999.4)\n",
      "Data length (Nx, Ny)=(85, 85)\n",
      "  Original center (x, y) = (1474.1, 1016.8)\n",
      "  Winpos center (x, y) = (1472.5, 1016.5)\n",
      "Data length (Nx, Ny)=(85, 85)\n",
      "  Original center (x, y) = (1456.9, 1028.8)\n",
      "  Winpos center (x, y) = (1455.6, 1028.5)\n",
      "Data length (Nx, Ny)=(85, 85)\n"
     ]
    },
    {
     "name": "stderr",
     "output_type": "stream",
     "text": [
      "WARNING: FITSFixedWarning: 'datfix' made the change 'Set MJD-OBS to 60871.000000 from DATE-OBS.\n",
      "Set DATE-END to '2025-07-15T13:34:25.404' from MJD-END'. [astropy.wcs.wcs]\n"
     ]
    },
    {
     "name": "stdout",
     "output_type": "stream",
     "text": [
      "  Original center (x, y) = (1469.2, 1008.3)\n",
      "  Winpos center (x, y) = (1468.1, 1007.9)\n",
      "Data length (Nx, Ny)=(85, 85)\n"
     ]
    },
    {
     "name": "stderr",
     "output_type": "stream",
     "text": [
      "/var/folders/xv/z4qp4sf50z10cwc8tgxysssw0000gn/T/ipykernel_99592/1169616324.py:32: FutureWarning: Setting an item of incompatible dtype is deprecated and will raise an error in a future version of pandas. Value '17.834299087524414' has dtype incompatible with int64, please explicitly cast to a compatible dtype first.\n",
      "  df_star.loc[df_star[\"band\"] == band, \"PSmag\"] = PSmag_band\n",
      "WARNING: FITSFixedWarning: 'datfix' made the change 'Set MJD-OBS to 60871.000000 from DATE-OBS.\n",
      "Set DATE-END to '2025-07-15T12:59:13.001' from MJD-END'. [astropy.wcs.wcs]\n",
      "WARNING: FITSFixedWarning: 'datfix' made the change 'Set MJD-OBS to 60871.000000 from DATE-OBS.\n",
      "Set DATE-END to '2025-07-15T12:59:12.500' from MJD-END'. [astropy.wcs.wcs]\n",
      "WARNING: FITSFixedWarning: 'datfix' made the change 'Set MJD-OBS to 60871.000000 from DATE-OBS.\n",
      "Set DATE-END to '2025-07-15T12:59:12.803' from MJD-END'. [astropy.wcs.wcs]\n",
      "WARNING: FITSFixedWarning: 'datfix' made the change 'Set MJD-OBS to 60871.000000 from DATE-OBS.\n",
      "Set DATE-END to '2025-07-15T13:31:27.204' from MJD-END'. [astropy.wcs.wcs]\n"
     ]
    },
    {
     "name": "stdout",
     "output_type": "stream",
     "text": [
      "  Original center (x, y) = (1507.0, 1008.1)\n",
      "  Winpos center (x, y) = (1505.8, 1007.0)\n",
      "Data length (Nx, Ny)=(85, 85)\n",
      "  Original center (x, y) = (1489.6, 1020.3)\n",
      "  Winpos center (x, y) = (1488.7, 1019.2)\n",
      "Data length (Nx, Ny)=(85, 85)\n",
      "  Original center (x, y) = (1501.4, 999.5)\n",
      "  Winpos center (x, y) = (1501.2, 998.2)\n",
      "Data length (Nx, Ny)=(85, 85)\n",
      "  Original center (x, y) = (1475.2, 1012.9)\n",
      "  Winpos center (x, y) = (1474.0, 1012.2)\n",
      "Data length (Nx, Ny)=(85, 85)\n"
     ]
    },
    {
     "name": "stderr",
     "output_type": "stream",
     "text": [
      "WARNING: FITSFixedWarning: 'datfix' made the change 'Set MJD-OBS to 60871.000000 from DATE-OBS.\n",
      "Set DATE-END to '2025-07-15T13:31:26.797' from MJD-END'. [astropy.wcs.wcs]\n",
      "WARNING: FITSFixedWarning: 'datfix' made the change 'Set MJD-OBS to 60871.000000 from DATE-OBS.\n",
      "Set DATE-END to '2025-07-15T13:31:26.996' from MJD-END'. [astropy.wcs.wcs]\n"
     ]
    },
    {
     "name": "stdout",
     "output_type": "stream",
     "text": [
      "  Original center (x, y) = (1458.0, 1025.0)\n",
      "  Winpos center (x, y) = (1457.1, 1024.7)\n",
      "Data length (Nx, Ny)=(85, 85)\n",
      "  Original center (x, y) = (1470.7, 1004.2)\n",
      "  Winpos center (x, y) = (1469.8, 1003.9)\n",
      "Data length (Nx, Ny)=(85, 85)\n"
     ]
    },
    {
     "name": "stderr",
     "output_type": "stream",
     "text": [
      "/var/folders/xv/z4qp4sf50z10cwc8tgxysssw0000gn/T/ipykernel_99592/1169616324.py:52: FutureWarning: Setting an item of incompatible dtype is deprecated and will raise an error in a future version of pandas. Value '17.834299087524414' has dtype incompatible with int64, please explicitly cast to a compatible dtype first.\n",
      "  df_star.loc[df_star[\"band\"] == band, \"PSmag\"] = PSmag_band\n",
      "WARNING: FITSFixedWarning: 'datfix' made the change 'Set MJD-OBS to 60871.000000 from DATE-OBS.\n",
      "Set DATE-END to '2025-07-15T13:02:05.404' from MJD-END'. [astropy.wcs.wcs]\n",
      "WARNING: FITSFixedWarning: 'datfix' made the change 'Set MJD-OBS to 60871.000000 from DATE-OBS.\n",
      "Set DATE-END to '2025-07-15T13:02:04.998' from MJD-END'. [astropy.wcs.wcs]\n",
      "WARNING: FITSFixedWarning: 'datfix' made the change 'Set MJD-OBS to 60871.000000 from DATE-OBS.\n",
      "Set DATE-END to '2025-07-15T13:02:05.196' from MJD-END'. [astropy.wcs.wcs]\n",
      "WARNING: FITSFixedWarning: 'datfix' made the change 'Set MJD-OBS to 60871.000000 from DATE-OBS.\n",
      "Set DATE-END to '2025-07-15T13:34:25.602' from MJD-END'. [astropy.wcs.wcs]\n",
      "WARNING: FITSFixedWarning: 'datfix' made the change 'Set MJD-OBS to 60871.000000 from DATE-OBS.\n",
      "Set DATE-END to '2025-07-15T13:34:25.101' from MJD-END'. [astropy.wcs.wcs]\n"
     ]
    },
    {
     "name": "stdout",
     "output_type": "stream",
     "text": [
      "  Original center (x, y) = (822.9, 953.2)\n",
      "  Winpos center (x, y) = (823.2, 952.0)\n",
      "Data length (Nx, Ny)=(85, 85)\n",
      "  Original center (x, y) = (805.7, 961.7)\n",
      "  Winpos center (x, y) = (806.0, 960.6)\n",
      "Data length (Nx, Ny)=(85, 85)\n",
      "  Original center (x, y) = (817.5, 942.9)\n",
      "  Winpos center (x, y) = (817.8, 942.0)\n",
      "Data length (Nx, Ny)=(85, 85)\n",
      "  Original center (x, y) = (790.3, 961.3)\n",
      "  Winpos center (x, y) = (790.2, 960.6)\n",
      "Data length (Nx, Ny)=(85, 85)\n",
      "  Original center (x, y) = (773.2, 969.5)\n",
      "  Winpos center (x, y) = (773.1, 968.9)\n",
      "Data length (Nx, Ny)=(85, 85)\n",
      "  Original center (x, y) = (785.1, 951.1)\n",
      "  Winpos center (x, y) = (785.1, 950.5)\n",
      "Data length (Nx, Ny)=(85, 85)\n"
     ]
    },
    {
     "name": "stderr",
     "output_type": "stream",
     "text": [
      "WARNING: FITSFixedWarning: 'datfix' made the change 'Set MJD-OBS to 60871.000000 from DATE-OBS.\n",
      "Set DATE-END to '2025-07-15T13:34:25.404' from MJD-END'. [astropy.wcs.wcs]\n",
      "/var/folders/xv/z4qp4sf50z10cwc8tgxysssw0000gn/T/ipykernel_99592/1169616324.py:32: FutureWarning: Setting an item of incompatible dtype is deprecated and will raise an error in a future version of pandas. Value '16.76180076599121' has dtype incompatible with int64, please explicitly cast to a compatible dtype first.\n",
      "  df_star.loc[df_star[\"band\"] == band, \"PSmag\"] = PSmag_band\n",
      "WARNING: FITSFixedWarning: 'datfix' made the change 'Set MJD-OBS to 60871.000000 from DATE-OBS.\n",
      "Set DATE-END to '2025-07-15T12:59:13.001' from MJD-END'. [astropy.wcs.wcs]\n",
      "WARNING: FITSFixedWarning: 'datfix' made the change 'Set MJD-OBS to 60871.000000 from DATE-OBS.\n",
      "Set DATE-END to '2025-07-15T12:59:12.500' from MJD-END'. [astropy.wcs.wcs]\n",
      "WARNING: FITSFixedWarning: 'datfix' made the change 'Set MJD-OBS to 60871.000000 from DATE-OBS.\n",
      "Set DATE-END to '2025-07-15T12:59:12.803' from MJD-END'. [astropy.wcs.wcs]\n"
     ]
    },
    {
     "name": "stdout",
     "output_type": "stream",
     "text": [
      "  Original center (x, y) = (822.8, 952.6)\n",
      "  Winpos center (x, y) = (823.4, 951.0)\n",
      "Data length (Nx, Ny)=(85, 85)\n",
      "  Original center (x, y) = (805.6, 961.0)\n",
      "  Winpos center (x, y) = (806.2, 959.6)\n",
      "Data length (Nx, Ny)=(85, 85)\n",
      "  Original center (x, y) = (816.2, 942.2)\n",
      "  Winpos center (x, y) = (817.9, 940.9)\n",
      "Data length (Nx, Ny)=(85, 85)\n"
     ]
    },
    {
     "name": "stderr",
     "output_type": "stream",
     "text": [
      "WARNING: FITSFixedWarning: 'datfix' made the change 'Set MJD-OBS to 60871.000000 from DATE-OBS.\n",
      "Set DATE-END to '2025-07-15T13:31:27.204' from MJD-END'. [astropy.wcs.wcs]\n",
      "WARNING: FITSFixedWarning: 'datfix' made the change 'Set MJD-OBS to 60871.000000 from DATE-OBS.\n",
      "Set DATE-END to '2025-07-15T13:31:26.797' from MJD-END'. [astropy.wcs.wcs]\n",
      "WARNING: FITSFixedWarning: 'datfix' made the change 'Set MJD-OBS to 60871.000000 from DATE-OBS.\n",
      "Set DATE-END to '2025-07-15T13:31:26.996' from MJD-END'. [astropy.wcs.wcs]\n"
     ]
    },
    {
     "name": "stdout",
     "output_type": "stream",
     "text": [
      "  Original center (x, y) = (791.2, 957.3)\n",
      "  Winpos center (x, y) = (791.5, 956.2)\n",
      "Data length (Nx, Ny)=(85, 85)\n",
      "  Original center (x, y) = (774.2, 965.7)\n",
      "  Winpos center (x, y) = (774.4, 965.1)\n",
      "Data length (Nx, Ny)=(85, 85)\n",
      "  Original center (x, y) = (786.1, 947.0)\n",
      "  Winpos center (x, y) = (786.3, 946.5)\n",
      "Data length (Nx, Ny)=(85, 85)\n"
     ]
    },
    {
     "name": "stderr",
     "output_type": "stream",
     "text": [
      "/var/folders/xv/z4qp4sf50z10cwc8tgxysssw0000gn/T/ipykernel_99592/1169616324.py:52: FutureWarning: Setting an item of incompatible dtype is deprecated and will raise an error in a future version of pandas. Value '16.76180076599121' has dtype incompatible with int64, please explicitly cast to a compatible dtype first.\n",
      "  df_star.loc[df_star[\"band\"] == band, \"PSmag\"] = PSmag_band\n",
      "WARNING: FITSFixedWarning: 'datfix' made the change 'Set MJD-OBS to 60871.000000 from DATE-OBS.\n",
      "Set DATE-END to '2025-07-15T13:02:05.404' from MJD-END'. [astropy.wcs.wcs]\n",
      "WARNING: FITSFixedWarning: 'datfix' made the change 'Set MJD-OBS to 60871.000000 from DATE-OBS.\n",
      "Set DATE-END to '2025-07-15T13:02:04.998' from MJD-END'. [astropy.wcs.wcs]\n",
      "WARNING: FITSFixedWarning: 'datfix' made the change 'Set MJD-OBS to 60871.000000 from DATE-OBS.\n",
      "Set DATE-END to '2025-07-15T13:02:05.196' from MJD-END'. [astropy.wcs.wcs]\n",
      "WARNING: FITSFixedWarning: 'datfix' made the change 'Set MJD-OBS to 60871.000000 from DATE-OBS.\n",
      "Set DATE-END to '2025-07-15T13:34:25.602' from MJD-END'. [astropy.wcs.wcs]\n",
      "WARNING: FITSFixedWarning: 'datfix' made the change 'Set MJD-OBS to 60871.000000 from DATE-OBS.\n",
      "Set DATE-END to '2025-07-15T13:34:25.101' from MJD-END'. [astropy.wcs.wcs]\n"
     ]
    },
    {
     "name": "stdout",
     "output_type": "stream",
     "text": [
      "  Original center (x, y) = (576.0, 863.2)\n",
      "  Winpos center (x, y) = (576.6, 862.7)\n",
      "Data length (Nx, Ny)=(85, 85)\n",
      "  Original center (x, y) = (559.3, 870.3)\n",
      "  Winpos center (x, y) = (559.7, 869.9)\n",
      "Data length (Nx, Ny)=(85, 85)\n",
      "  Original center (x, y) = (570.7, 852.3)\n",
      "  Winpos center (x, y) = (571.0, 852.1)\n",
      "Data length (Nx, Ny)=(85, 85)\n",
      "  Original center (x, y) = (543.6, 871.4)\n",
      "  Winpos center (x, y) = (543.4, 871.3)\n",
      "Data length (Nx, Ny)=(85, 85)\n",
      "  Original center (x, y) = (526.9, 878.2)\n",
      "  Winpos center (x, y) = (526.6, 878.3)\n",
      "Data length (Nx, Ny)=(85, 85)\n"
     ]
    },
    {
     "name": "stderr",
     "output_type": "stream",
     "text": [
      "WARNING: FITSFixedWarning: 'datfix' made the change 'Set MJD-OBS to 60871.000000 from DATE-OBS.\n",
      "Set DATE-END to '2025-07-15T13:34:25.404' from MJD-END'. [astropy.wcs.wcs]\n"
     ]
    },
    {
     "name": "stdout",
     "output_type": "stream",
     "text": [
      "  Original center (x, y) = (538.5, 860.4)\n",
      "  Winpos center (x, y) = (538.2, 860.6)\n",
      "Data length (Nx, Ny)=(85, 85)\n"
     ]
    },
    {
     "name": "stderr",
     "output_type": "stream",
     "text": [
      "/var/folders/xv/z4qp4sf50z10cwc8tgxysssw0000gn/T/ipykernel_99592/1169616324.py:32: FutureWarning: Setting an item of incompatible dtype is deprecated and will raise an error in a future version of pandas. Value '17.128599166870117' has dtype incompatible with int64, please explicitly cast to a compatible dtype first.\n",
      "  df_star.loc[df_star[\"band\"] == band, \"PSmag\"] = PSmag_band\n",
      "WARNING: FITSFixedWarning: 'datfix' made the change 'Set MJD-OBS to 60871.000000 from DATE-OBS.\n",
      "Set DATE-END to '2025-07-15T12:59:13.001' from MJD-END'. [astropy.wcs.wcs]\n",
      "WARNING: FITSFixedWarning: 'datfix' made the change 'Set MJD-OBS to 60871.000000 from DATE-OBS.\n",
      "Set DATE-END to '2025-07-15T12:59:12.500' from MJD-END'. [astropy.wcs.wcs]\n",
      "WARNING: FITSFixedWarning: 'datfix' made the change 'Set MJD-OBS to 60871.000000 from DATE-OBS.\n",
      "Set DATE-END to '2025-07-15T12:59:12.803' from MJD-END'. [astropy.wcs.wcs]\n",
      "WARNING: FITSFixedWarning: 'datfix' made the change 'Set MJD-OBS to 60871.000000 from DATE-OBS.\n",
      "Set DATE-END to '2025-07-15T13:31:27.204' from MJD-END'. [astropy.wcs.wcs]\n"
     ]
    },
    {
     "name": "stdout",
     "output_type": "stream",
     "text": [
      "  Original center (x, y) = (576.0, 862.6)\n",
      "  Winpos center (x, y) = (576.8, 861.8)\n",
      "Data length (Nx, Ny)=(85, 85)\n",
      "  Original center (x, y) = (559.2, 869.7)\n",
      "  Winpos center (x, y) = (559.9, 869.0)\n",
      "Data length (Nx, Ny)=(85, 85)\n",
      "  Original center (x, y) = (569.2, 851.4)\n",
      "  Winpos center (x, y) = (571.0, 850.8)\n",
      "Data length (Nx, Ny)=(85, 85)\n",
      "  Original center (x, y) = (544.5, 867.3)\n",
      "  Winpos center (x, y) = (544.8, 866.8)\n",
      "Data length (Nx, Ny)=(85, 85)\n"
     ]
    },
    {
     "name": "stderr",
     "output_type": "stream",
     "text": [
      "WARNING: FITSFixedWarning: 'datfix' made the change 'Set MJD-OBS to 60871.000000 from DATE-OBS.\n",
      "Set DATE-END to '2025-07-15T13:31:26.797' from MJD-END'. [astropy.wcs.wcs]\n",
      "WARNING: FITSFixedWarning: 'datfix' made the change 'Set MJD-OBS to 60871.000000 from DATE-OBS.\n",
      "Set DATE-END to '2025-07-15T13:31:26.996' from MJD-END'. [astropy.wcs.wcs]\n"
     ]
    },
    {
     "name": "stdout",
     "output_type": "stream",
     "text": [
      "  Original center (x, y) = (527.9, 874.3)\n",
      "  Winpos center (x, y) = (527.9, 874.4)\n",
      "Data length (Nx, Ny)=(85, 85)\n",
      "  Original center (x, y) = (539.3, 856.3)\n",
      "  Winpos center (x, y) = (539.2, 856.4)\n",
      "Data length (Nx, Ny)=(85, 85)\n"
     ]
    },
    {
     "name": "stderr",
     "output_type": "stream",
     "text": [
      "/var/folders/xv/z4qp4sf50z10cwc8tgxysssw0000gn/T/ipykernel_99592/1169616324.py:52: FutureWarning: Setting an item of incompatible dtype is deprecated and will raise an error in a future version of pandas. Value '17.128599166870117' has dtype incompatible with int64, please explicitly cast to a compatible dtype first.\n",
      "  df_star.loc[df_star[\"band\"] == band, \"PSmag\"] = PSmag_band\n",
      "WARNING: FITSFixedWarning: 'datfix' made the change 'Set MJD-OBS to 60871.000000 from DATE-OBS.\n",
      "Set DATE-END to '2025-07-15T13:02:05.404' from MJD-END'. [astropy.wcs.wcs]\n",
      "WARNING: FITSFixedWarning: 'datfix' made the change 'Set MJD-OBS to 60871.000000 from DATE-OBS.\n",
      "Set DATE-END to '2025-07-15T13:02:04.998' from MJD-END'. [astropy.wcs.wcs]\n",
      "WARNING: FITSFixedWarning: 'datfix' made the change 'Set MJD-OBS to 60871.000000 from DATE-OBS.\n",
      "Set DATE-END to '2025-07-15T13:02:05.196' from MJD-END'. [astropy.wcs.wcs]\n",
      "WARNING: FITSFixedWarning: 'datfix' made the change 'Set MJD-OBS to 60871.000000 from DATE-OBS.\n",
      "Set DATE-END to '2025-07-15T13:34:25.602' from MJD-END'. [astropy.wcs.wcs]\n"
     ]
    },
    {
     "name": "stdout",
     "output_type": "stream",
     "text": [
      "  Original center (x, y) = (832.3, 517.1)\n",
      "  Winpos center (x, y) = (832.8, 517.7)\n",
      "Data length (Nx, Ny)=(85, 85)\n",
      "  Original center (x, y) = (817.5, 525.5)\n",
      "  Winpos center (x, y) = (817.9, 525.9)\n",
      "Data length (Nx, Ny)=(85, 85)\n",
      "  Original center (x, y) = (828.0, 506.7)\n",
      "  Winpos center (x, y) = (828.4, 507.1)\n",
      "Data length (Nx, Ny)=(85, 85)\n",
      "  Original center (x, y) = (799.8, 525.5)\n",
      "  Winpos center (x, y) = (799.7, 526.1)\n",
      "Data length (Nx, Ny)=(85, 85)\n"
     ]
    },
    {
     "name": "stderr",
     "output_type": "stream",
     "text": [
      "WARNING: FITSFixedWarning: 'datfix' made the change 'Set MJD-OBS to 60871.000000 from DATE-OBS.\n",
      "Set DATE-END to '2025-07-15T13:34:25.101' from MJD-END'. [astropy.wcs.wcs]\n",
      "WARNING: FITSFixedWarning: 'datfix' made the change 'Set MJD-OBS to 60871.000000 from DATE-OBS.\n",
      "Set DATE-END to '2025-07-15T13:34:25.404' from MJD-END'. [astropy.wcs.wcs]\n"
     ]
    },
    {
     "name": "stdout",
     "output_type": "stream",
     "text": [
      "  Original center (x, y) = (785.1, 533.6)\n",
      "  Winpos center (x, y) = (785.0, 534.1)\n",
      "Data length (Nx, Ny)=(85, 85)\n",
      "  Original center (x, y) = (795.7, 515.0)\n",
      "  Winpos center (x, y) = (795.6, 515.5)\n",
      "Data length (Nx, Ny)=(85, 85)\n"
     ]
    },
    {
     "name": "stderr",
     "output_type": "stream",
     "text": [
      "/var/folders/xv/z4qp4sf50z10cwc8tgxysssw0000gn/T/ipykernel_99592/1169616324.py:32: FutureWarning: Setting an item of incompatible dtype is deprecated and will raise an error in a future version of pandas. Value '16.44849967956543' has dtype incompatible with int64, please explicitly cast to a compatible dtype first.\n",
      "  df_star.loc[df_star[\"band\"] == band, \"PSmag\"] = PSmag_band\n",
      "WARNING: FITSFixedWarning: 'datfix' made the change 'Set MJD-OBS to 60871.000000 from DATE-OBS.\n",
      "Set DATE-END to '2025-07-15T12:59:13.001' from MJD-END'. [astropy.wcs.wcs]\n",
      "WARNING: FITSFixedWarning: 'datfix' made the change 'Set MJD-OBS to 60871.000000 from DATE-OBS.\n",
      "Set DATE-END to '2025-07-15T12:59:12.500' from MJD-END'. [astropy.wcs.wcs]\n",
      "WARNING: FITSFixedWarning: 'datfix' made the change 'Set MJD-OBS to 60871.000000 from DATE-OBS.\n",
      "Set DATE-END to '2025-07-15T12:59:12.803' from MJD-END'. [astropy.wcs.wcs]\n",
      "WARNING: FITSFixedWarning: 'datfix' made the change 'Set MJD-OBS to 60871.000000 from DATE-OBS.\n",
      "Set DATE-END to '2025-07-15T13:31:27.204' from MJD-END'. [astropy.wcs.wcs]\n"
     ]
    },
    {
     "name": "stdout",
     "output_type": "stream",
     "text": [
      "  Original center (x, y) = (832.3, 516.5)\n",
      "  Winpos center (x, y) = (832.9, 516.7)\n",
      "Data length (Nx, Ny)=(85, 85)\n",
      "  Original center (x, y) = (817.5, 524.9)\n",
      "  Winpos center (x, y) = (818.1, 525.0)\n",
      "Data length (Nx, Ny)=(85, 85)\n",
      "  Original center (x, y) = (826.9, 505.4)\n",
      "  Winpos center (x, y) = (828.4, 505.7)\n",
      "Data length (Nx, Ny)=(85, 85)\n",
      "  Original center (x, y) = (800.8, 521.4)\n",
      "  Winpos center (x, y) = (801.0, 521.7)\n",
      "Data length (Nx, Ny)=(85, 85)\n",
      "  Original center (x, y) = (786.1, 529.6)\n",
      "  Winpos center (x, y) = (786.3, 530.3)\n",
      "Data length (Nx, Ny)=(85, 85)\n"
     ]
    },
    {
     "name": "stderr",
     "output_type": "stream",
     "text": [
      "WARNING: FITSFixedWarning: 'datfix' made the change 'Set MJD-OBS to 60871.000000 from DATE-OBS.\n",
      "Set DATE-END to '2025-07-15T13:31:26.797' from MJD-END'. [astropy.wcs.wcs]\n",
      "WARNING: FITSFixedWarning: 'datfix' made the change 'Set MJD-OBS to 60871.000000 from DATE-OBS.\n",
      "Set DATE-END to '2025-07-15T13:31:26.996' from MJD-END'. [astropy.wcs.wcs]\n"
     ]
    },
    {
     "name": "stdout",
     "output_type": "stream",
     "text": [
      "  Original center (x, y) = (796.7, 510.5)\n",
      "  Winpos center (x, y) = (796.8, 511.2)\n",
      "Data length (Nx, Ny)=(85, 85)\n"
     ]
    },
    {
     "name": "stderr",
     "output_type": "stream",
     "text": [
      "/var/folders/xv/z4qp4sf50z10cwc8tgxysssw0000gn/T/ipykernel_99592/1169616324.py:52: FutureWarning: Setting an item of incompatible dtype is deprecated and will raise an error in a future version of pandas. Value '16.44849967956543' has dtype incompatible with int64, please explicitly cast to a compatible dtype first.\n",
      "  df_star.loc[df_star[\"band\"] == band, \"PSmag\"] = PSmag_band\n",
      "WARNING: FITSFixedWarning: 'datfix' made the change 'Set MJD-OBS to 60871.000000 from DATE-OBS.\n",
      "Set DATE-END to '2025-07-15T13:02:05.404' from MJD-END'. [astropy.wcs.wcs]\n",
      "WARNING: FITSFixedWarning: 'datfix' made the change 'Set MJD-OBS to 60871.000000 from DATE-OBS.\n",
      "Set DATE-END to '2025-07-15T13:02:04.998' from MJD-END'. [astropy.wcs.wcs]\n",
      "WARNING: FITSFixedWarning: 'datfix' made the change 'Set MJD-OBS to 60871.000000 from DATE-OBS.\n",
      "Set DATE-END to '2025-07-15T13:02:05.196' from MJD-END'. [astropy.wcs.wcs]\n",
      "WARNING: FITSFixedWarning: 'datfix' made the change 'Set MJD-OBS to 60871.000000 from DATE-OBS.\n",
      "Set DATE-END to '2025-07-15T13:34:25.602' from MJD-END'. [astropy.wcs.wcs]\n",
      "WARNING: FITSFixedWarning: 'datfix' made the change 'Set MJD-OBS to 60871.000000 from DATE-OBS.\n",
      "Set DATE-END to '2025-07-15T13:34:25.101' from MJD-END'. [astropy.wcs.wcs]\n"
     ]
    },
    {
     "name": "stdout",
     "output_type": "stream",
     "text": [
      "  Original center (x, y) = (1273.7, 450.6)\n",
      "  Winpos center (x, y) = (1272.2, 451.4)\n",
      "Data length (Nx, Ny)=(85, 85)\n",
      "  Original center (x, y) = (1259.3, 461.4)\n",
      "  Winpos center (x, y) = (1257.9, 462.0)\n",
      "Data length (Nx, Ny)=(85, 85)\n",
      "  Original center (x, y) = (1269.7, 441.2)\n",
      "  Winpos center (x, y) = (1268.6, 441.8)\n",
      "Data length (Nx, Ny)=(85, 85)\n",
      "  Original center (x, y) = (1240.9, 459.0)\n",
      "  Winpos center (x, y) = (1239.2, 460.0)\n",
      "Data length (Nx, Ny)=(85, 85)\n",
      "  Original center (x, y) = (1226.7, 469.6)\n",
      "  Winpos center (x, y) = (1225.1, 470.3)\n",
      "Data length (Nx, Ny)=(85, 85)\n"
     ]
    },
    {
     "name": "stderr",
     "output_type": "stream",
     "text": [
      "WARNING: FITSFixedWarning: 'datfix' made the change 'Set MJD-OBS to 60871.000000 from DATE-OBS.\n",
      "Set DATE-END to '2025-07-15T13:34:25.404' from MJD-END'. [astropy.wcs.wcs]\n"
     ]
    },
    {
     "name": "stdout",
     "output_type": "stream",
     "text": [
      "  Original center (x, y) = (1237.3, 449.6)\n",
      "  Winpos center (x, y) = (1235.9, 450.4)\n",
      "Data length (Nx, Ny)=(85, 85)\n"
     ]
    },
    {
     "name": "stderr",
     "output_type": "stream",
     "text": [
      "/var/folders/xv/z4qp4sf50z10cwc8tgxysssw0000gn/T/ipykernel_99592/1169616324.py:32: FutureWarning: Setting an item of incompatible dtype is deprecated and will raise an error in a future version of pandas. Value '17.161100387573242' has dtype incompatible with int64, please explicitly cast to a compatible dtype first.\n",
      "  df_star.loc[df_star[\"band\"] == band, \"PSmag\"] = PSmag_band\n",
      "WARNING: FITSFixedWarning: 'datfix' made the change 'Set MJD-OBS to 60871.000000 from DATE-OBS.\n",
      "Set DATE-END to '2025-07-15T12:59:13.001' from MJD-END'. [astropy.wcs.wcs]\n",
      "WARNING: FITSFixedWarning: 'datfix' made the change 'Set MJD-OBS to 60871.000000 from DATE-OBS.\n",
      "Set DATE-END to '2025-07-15T12:59:12.500' from MJD-END'. [astropy.wcs.wcs]\n",
      "WARNING: FITSFixedWarning: 'datfix' made the change 'Set MJD-OBS to 60871.000000 from DATE-OBS.\n",
      "Set DATE-END to '2025-07-15T12:59:12.803' from MJD-END'. [astropy.wcs.wcs]\n",
      "WARNING: FITSFixedWarning: 'datfix' made the change 'Set MJD-OBS to 60871.000000 from DATE-OBS.\n",
      "Set DATE-END to '2025-07-15T13:31:27.204' from MJD-END'. [astropy.wcs.wcs]\n"
     ]
    },
    {
     "name": "stdout",
     "output_type": "stream",
     "text": [
      "  Original center (x, y) = (1273.6, 450.0)\n",
      "  Winpos center (x, y) = (1272.4, 450.6)\n",
      "Data length (Nx, Ny)=(85, 85)\n",
      "  Original center (x, y) = (1259.3, 460.8)\n",
      "  Winpos center (x, y) = (1258.1, 461.2)\n",
      "Data length (Nx, Ny)=(85, 85)\n",
      "  Original center (x, y) = (1269.1, 439.9)\n",
      "  Winpos center (x, y) = (1268.9, 440.5)\n",
      "Data length (Nx, Ny)=(85, 85)\n",
      "  Original center (x, y) = (1242.0, 455.0)\n",
      "  Winpos center (x, y) = (1240.5, 455.6)\n",
      "Data length (Nx, Ny)=(85, 85)\n",
      "  Original center (x, y) = (1227.8, 465.6)\n",
      "  Winpos center (x, y) = (1226.4, 466.5)\n",
      "Data length (Nx, Ny)=(85, 85)\n"
     ]
    },
    {
     "name": "stderr",
     "output_type": "stream",
     "text": [
      "WARNING: FITSFixedWarning: 'datfix' made the change 'Set MJD-OBS to 60871.000000 from DATE-OBS.\n",
      "Set DATE-END to '2025-07-15T13:31:26.797' from MJD-END'. [astropy.wcs.wcs]\n",
      "WARNING: FITSFixedWarning: 'datfix' made the change 'Set MJD-OBS to 60871.000000 from DATE-OBS.\n",
      "Set DATE-END to '2025-07-15T13:31:26.996' from MJD-END'. [astropy.wcs.wcs]\n"
     ]
    },
    {
     "name": "stdout",
     "output_type": "stream",
     "text": [
      "  Original center (x, y) = (1238.6, 445.1)\n",
      "  Winpos center (x, y) = (1237.3, 446.0)\n",
      "Data length (Nx, Ny)=(85, 85)\n"
     ]
    },
    {
     "name": "stderr",
     "output_type": "stream",
     "text": [
      "/var/folders/xv/z4qp4sf50z10cwc8tgxysssw0000gn/T/ipykernel_99592/1169616324.py:52: FutureWarning: Setting an item of incompatible dtype is deprecated and will raise an error in a future version of pandas. Value '17.161100387573242' has dtype incompatible with int64, please explicitly cast to a compatible dtype first.\n",
      "  df_star.loc[df_star[\"band\"] == band, \"PSmag\"] = PSmag_band\n",
      "WARNING: FITSFixedWarning: 'datfix' made the change 'Set MJD-OBS to 60871.000000 from DATE-OBS.\n",
      "Set DATE-END to '2025-07-15T13:02:05.404' from MJD-END'. [astropy.wcs.wcs]\n",
      "WARNING: FITSFixedWarning: 'datfix' made the change 'Set MJD-OBS to 60871.000000 from DATE-OBS.\n",
      "Set DATE-END to '2025-07-15T13:02:04.998' from MJD-END'. [astropy.wcs.wcs]\n",
      "WARNING: FITSFixedWarning: 'datfix' made the change 'Set MJD-OBS to 60871.000000 from DATE-OBS.\n",
      "Set DATE-END to '2025-07-15T13:02:05.196' from MJD-END'. [astropy.wcs.wcs]\n",
      "WARNING: FITSFixedWarning: 'datfix' made the change 'Set MJD-OBS to 60871.000000 from DATE-OBS.\n",
      "Set DATE-END to '2025-07-15T13:34:25.602' from MJD-END'. [astropy.wcs.wcs]\n",
      "WARNING: FITSFixedWarning: 'datfix' made the change 'Set MJD-OBS to 60871.000000 from DATE-OBS.\n",
      "Set DATE-END to '2025-07-15T13:34:25.101' from MJD-END'. [astropy.wcs.wcs]\n"
     ]
    },
    {
     "name": "stdout",
     "output_type": "stream",
     "text": [
      "  Original center (x, y) = (711.8, 395.3)\n",
      "  Winpos center (x, y) = (712.7, 396.2)\n",
      "Data length (Nx, Ny)=(85, 85)\n",
      "  Original center (x, y) = (697.6, 403.0)\n",
      "  Winpos center (x, y) = (698.4, 403.9)\n",
      "Data length (Nx, Ny)=(85, 85)\n",
      "  Original center (x, y) = (707.7, 384.5)\n",
      "  Winpos center (x, y) = (708.4, 385.2)\n",
      "Data length (Nx, Ny)=(85, 85)\n",
      "  Original center (x, y) = (679.4, 403.7)\n",
      "  Winpos center (x, y) = (679.7, 404.8)\n",
      "Data length (Nx, Ny)=(85, 85)\n",
      "  Original center (x, y) = (665.3, 411.1)\n",
      "  Winpos center (x, y) = (665.4, 412.1)\n",
      "Data length (Nx, Ny)=(85, 85)\n"
     ]
    },
    {
     "name": "stderr",
     "output_type": "stream",
     "text": [
      "WARNING: FITSFixedWarning: 'datfix' made the change 'Set MJD-OBS to 60871.000000 from DATE-OBS.\n",
      "Set DATE-END to '2025-07-15T13:34:25.404' from MJD-END'. [astropy.wcs.wcs]\n"
     ]
    },
    {
     "name": "stdout",
     "output_type": "stream",
     "text": [
      "  Original center (x, y) = (675.5, 392.8)\n",
      "  Winpos center (x, y) = (675.6, 393.6)\n",
      "Data length (Nx, Ny)=(85, 85)\n"
     ]
    },
    {
     "name": "stderr",
     "output_type": "stream",
     "text": [
      "/var/folders/xv/z4qp4sf50z10cwc8tgxysssw0000gn/T/ipykernel_99592/1169616324.py:32: FutureWarning: Setting an item of incompatible dtype is deprecated and will raise an error in a future version of pandas. Value '17.44379997253418' has dtype incompatible with int64, please explicitly cast to a compatible dtype first.\n",
      "  df_star.loc[df_star[\"band\"] == band, \"PSmag\"] = PSmag_band\n",
      "WARNING: FITSFixedWarning: 'datfix' made the change 'Set MJD-OBS to 60871.000000 from DATE-OBS.\n",
      "Set DATE-END to '2025-07-15T12:59:13.001' from MJD-END'. [astropy.wcs.wcs]\n",
      "WARNING: FITSFixedWarning: 'datfix' made the change 'Set MJD-OBS to 60871.000000 from DATE-OBS.\n",
      "Set DATE-END to '2025-07-15T12:59:12.500' from MJD-END'. [astropy.wcs.wcs]\n",
      "WARNING: FITSFixedWarning: 'datfix' made the change 'Set MJD-OBS to 60871.000000 from DATE-OBS.\n",
      "Set DATE-END to '2025-07-15T12:59:12.803' from MJD-END'. [astropy.wcs.wcs]\n",
      "WARNING: FITSFixedWarning: 'datfix' made the change 'Set MJD-OBS to 60871.000000 from DATE-OBS.\n",
      "Set DATE-END to '2025-07-15T13:31:27.204' from MJD-END'. [astropy.wcs.wcs]\n"
     ]
    },
    {
     "name": "stdout",
     "output_type": "stream",
     "text": [
      "  Original center (x, y) = (711.8, 394.7)\n",
      "  Winpos center (x, y) = (712.8, 395.4)\n",
      "Data length (Nx, Ny)=(85, 85)\n",
      "  Original center (x, y) = (697.6, 402.4)\n",
      "  Winpos center (x, y) = (698.6, 402.9)\n",
      "Data length (Nx, Ny)=(85, 85)\n",
      "  Original center (x, y) = (706.4, 383.0)\n",
      "  Winpos center (x, y) = (708.4, 383.8)\n",
      "Data length (Nx, Ny)=(85, 85)\n",
      "  Original center (x, y) = (680.4, 399.5)\n",
      "  Winpos center (x, y) = (680.9, 400.4)\n",
      "Data length (Nx, Ny)=(85, 85)\n",
      "  Original center (x, y) = (666.3, 407.1)\n",
      "  Winpos center (x, y) = (666.7, 408.2)\n",
      "Data length (Nx, Ny)=(85, 85)\n"
     ]
    },
    {
     "name": "stderr",
     "output_type": "stream",
     "text": [
      "WARNING: FITSFixedWarning: 'datfix' made the change 'Set MJD-OBS to 60871.000000 from DATE-OBS.\n",
      "Set DATE-END to '2025-07-15T13:31:26.797' from MJD-END'. [astropy.wcs.wcs]\n",
      "WARNING: FITSFixedWarning: 'datfix' made the change 'Set MJD-OBS to 60871.000000 from DATE-OBS.\n",
      "Set DATE-END to '2025-07-15T13:31:26.996' from MJD-END'. [astropy.wcs.wcs]\n"
     ]
    },
    {
     "name": "stdout",
     "output_type": "stream",
     "text": [
      "  Original center (x, y) = (676.3, 388.3)\n",
      "  Winpos center (x, y) = (676.7, 389.2)\n",
      "Data length (Nx, Ny)=(85, 85)\n"
     ]
    },
    {
     "name": "stderr",
     "output_type": "stream",
     "text": [
      "/var/folders/xv/z4qp4sf50z10cwc8tgxysssw0000gn/T/ipykernel_99592/1169616324.py:52: FutureWarning: Setting an item of incompatible dtype is deprecated and will raise an error in a future version of pandas. Value '17.44379997253418' has dtype incompatible with int64, please explicitly cast to a compatible dtype first.\n",
      "  df_star.loc[df_star[\"band\"] == band, \"PSmag\"] = PSmag_band\n"
     ]
    }
   ],
   "source": [
    "# 2025-07-15\n",
    "# Save all results and concatnate later\n",
    "df_star_list = []\n",
    "\n",
    "for idx, (ra_star, dec_star) in enumerate(zip(ra1_list, dec1_list)):\n",
    "\n",
    "    df_PS = query_ps(ra_star, dec_star, radius=radec_rad, magmin=PSmagmin, magmax=PSmagmax)\n",
    "    assert len(df_PS)==1, df_PS\n",
    "     \n",
    "    g_PS, r_PS, i_PS = df_PS[\"gMeanPSFMag\"][0], df_PS[\"rMeanPSFMag\"][0], df_PS[\"iMeanPSFMag\"][0]\n",
    "\n",
    "    ra_cat, dec_cat = df_PS[\"raMean\"][0], df_PS[\"decMean\"][0]\n",
    "    objid = df_PS[\"objID\"][0]\n",
    "\n",
    "    # gri 2 sets\n",
    "    bands = [\"g\", \"r\", \"i\"]\n",
    "    fi_lists = []\n",
    "    for i in range(2):\n",
    "        f_g = f\"/Users/beniyama/research/Seimei_3I/Seimei202507_3I/20250715/Popescu_gri/shift_120s_{stack}/sid_Popescu_gri_120s_0_00{i+1}.fits\"\n",
    "        f_r = f\"/Users/beniyama/research/Seimei_3I/Seimei202507_3I/20250715/Popescu_gri/shift_120s_{stack}/sid_Popescu_gri_120s_1_00{i+1}.fits\"\n",
    "        f_i = f\"/Users/beniyama/research/Seimei_3I/Seimei202507_3I/20250715/Popescu_gri/shift_120s_{stack}/sid_Popescu_gri_120s_2_00{i+1}.fits\" \n",
    "        fi_lists.append([f_g, f_r, f_i])\n",
    "\n",
    "\n",
    "    out = f\"fig/PSstar{idx+1:02d}_20250715_{stack}_gri_120s_2sets.jpg\"\n",
    "    df_star = make_cutout_star(objid, fi_lists, ra_cat, dec_cat, bands, rad_list=rad_list, fov_arcsec=fov_arcsec, out=out)\n",
    "\n",
    "    # Add catalog mag\n",
    "    df_star[\"PSmag\"] = 0\n",
    "    for band in bands:\n",
    "        PSmag_band = df_PS[f\"{band}MeanPSFMag\"][0]\n",
    "        df_star.loc[df_star[\"band\"] == band, \"PSmag\"] = PSmag_band\n",
    "\n",
    "    df_star_list.append(df_star)\n",
    "\n",
    "    # grz 2 sets\n",
    "    bands = [\"g\", \"r\", \"z\"]\n",
    "    fi_lists = []\n",
    "    for i in range(2):\n",
    "        f_g = f\"/Users/beniyama/research/Seimei_3I/Seimei202507_3I/20250715/Popescu_grz/shift_120s_{stack}/sid_Popescu_grz_120s_0_00{i+1}.fits\"\n",
    "        f_r = f\"/Users/beniyama/research/Seimei_3I/Seimei202507_3I/20250715/Popescu_grz/shift_120s_{stack}/sid_Popescu_grz_120s_1_00{i+1}.fits\"\n",
    "        f_z = f\"/Users/beniyama/research/Seimei_3I/Seimei202507_3I/20250715/Popescu_grz/shift_120s_{stack}/sid_Popescu_grz_120s_2_00{i+1}.fits\" \n",
    "        fi_lists.append([f_g, f_r, f_z])\n",
    "\n",
    "    out = f\"fig/PSstar{idx+1:02d}_20250715_grz_{stack}_120s_2sets.jpg\"\n",
    "    df_star = make_cutout_star(objid, fi_lists, ra_cat, dec_cat, bands, rad_list=rad_list, fov_arcsec=fov_arcsec, out=out)\n",
    "\n",
    "    # Add catalog mag\n",
    "    df_star[\"PSmag\"] = 0\n",
    "    for band in bands:\n",
    "        PSmag_band = df_PS[f\"{band}MeanPSFMag\"][0]\n",
    "        df_star.loc[df_star[\"band\"] == band, \"PSmag\"] = PSmag_band\n",
    "        \n",
    "    df_star_list.append(df_star)\n",
    "\n",
    "\n",
    "# Check photometry of stars\n",
    "df_ref = pd.concat(df_star_list)\n",
    "jd_min = np.min(df_ref[\"jd\"])\n",
    "df_ref[\"instmag\"] = -2.5*np.log10(df_ref[\"flux\"])\n",
    "df_ref[\"instmagerr\"] = 2.5*log10err(df_ref[\"flux\"], df_ref[\"fluxerr\"])\n",
    "df_ref[\"elapsed_min\"] = (df_ref[\"jd\"] - jd_min)*24.*60.\n",
    "\n",
    "df_ref.to_csv(f\"{outdir}/photres_ref_{stack}_120s_20250715.txt\", sep=\" \")\n"
   ]
  },
  {
   "cell_type": "markdown",
   "id": "5f969fae",
   "metadata": {},
   "source": []
  }
 ],
 "metadata": {
  "kernelspec": {
   "display_name": "Python 3",
   "language": "python",
   "name": "python3"
  },
  "language_info": {
   "codemirror_mode": {
    "name": "ipython",
    "version": 3
   },
   "file_extension": ".py",
   "mimetype": "text/x-python",
   "name": "python",
   "nbconvert_exporter": "python",
   "pygments_lexer": "ipython3",
   "version": "3.9.6"
  }
 },
 "nbformat": 4,
 "nbformat_minor": 5
}
